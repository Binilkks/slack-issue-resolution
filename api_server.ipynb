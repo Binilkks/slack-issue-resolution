{
 "cells": [
  {
   "cell_type": "code",
   "execution_count": null,
   "id": "edc26b11-455f-4457-a795-752c55df2340",
   "metadata": {},
   "outputs": [
    {
     "name": "stdout",
     "output_type": "stream",
     "text": [
      " * Serving Flask app '__main__'\n",
      " * Debug mode: off\n"
     ]
    },
    {
     "name": "stderr",
     "output_type": "stream",
     "text": [
      "\u001b[31m\u001b[1mWARNING: This is a development server. Do not use it in a production deployment. Use a production WSGI server instead.\u001b[0m\n",
      " * Running on http://127.0.0.1:5001\n",
      "\u001b[33mPress CTRL+C to quit\u001b[0m\n"
     ]
    },
    {
     "name": "stdout",
     "output_type": "stream",
     "text": [
      "Received Slack event: {'token': 'vcOktFRX27KKXwM6mDwo1R9u', 'team_id': 'T08GLQ3HC07', 'context_team_id': 'T08GLQ3HC07', 'context_enterprise_id': 'None', 'api_app_id': 'A08H0C26BEZ', 'event': {'user': 'U08GLQ3JKGX', 'type': 'message', 'ts': '1741635490.564199', 'client_msg_id': 'b33e1972-15c5-4b71-a966-641b48be624e', 'text': 'raise an incident with high severity', 'team': 'T08GLQ3HC07', 'blocks': [{'type': 'rich_text', 'block_id': 'rBoqc', 'elements': [{'type': 'rich_text_section', 'elements': [{'type': 'text', 'text': 'test from vg ops'}]}]}], 'channel': 'C08H54N6B6G', 'event_ts': '1741635490.564199', 'channel_type': 'channel'}, 'type': 'event_callback', 'event_id': 'Ev08H62YCTEY', 'event_time': 1741635490, 'authorizations': [{'enterprise_id': 'None', 'team_id': 'T08GLQ3HC07', 'user_id': 'U08H42J6JQ3', 'is_bot': 'True', 'is_enterprise_install': 'False'}], 'is_ext_shared_channel': 'False', 'event_context': '4-eyJldCI6Im1lc3NhZ2UiLCJ0aWQiOiJUMDhHTFEzSEMwNyIsImFpZCI6IkEwOEgwQzI2QkVaIiwiY2lkIjoiQzA4SDU0TjZCNkcifQ'}\n",
      "Entities: [('raise', 'RAISE_INCIDENT'), ('high', 'SEVERITY')]\n"
     ]
    },
    {
     "name": "stderr",
     "output_type": "stream",
     "text": [
      "127.0.0.1 - - [11/Mar/2025 16:07:05] \"POST /slack/events HTTP/1.1\" 200 -\n",
      "127.0.0.1 - - [11/Mar/2025 16:07:48] \"POST /slack/events HTTP/1.1\" 200 -\n"
     ]
    },
    {
     "name": "stdout",
     "output_type": "stream",
     "text": [
      "Received Slack event: {'token': 'vcOktFRX27KKXwM6mDwo1R9u', 'challenge': 's42S2dGPzP5ynlNSUWysdiBpoCzg3iGk7ofwh8pJXhtWAYxpEwyO', 'type': 'url_verification'}\n",
      "Received Slack event: {'token': 'vcOktFRX27KKXwM6mDwo1R9u', 'team_id': 'T08GLQ3HC07', 'context_team_id': 'T08GLQ3HC07', 'context_enterprise_id': None, 'api_app_id': 'A08H0C26BEZ', 'event': {'user': 'U08GLQ3JKGX', 'type': 'message', 'ts': '1741723678.218029', 'client_msg_id': '6b6b0f03-0b9a-402c-889c-9bd969ed3ae0', 'text': 'Offer not loading', 'team': 'T08GLQ3HC07', 'blocks': [{'type': 'rich_text', 'block_id': 'eBuex', 'elements': [{'type': 'rich_text_section', 'elements': [{'type': 'text', 'text': 'Offer not loading'}]}]}], 'channel': 'C08H54N6B6G', 'event_ts': '1741723678.218029', 'channel_type': 'channel'}, 'type': 'event_callback', 'event_id': 'Ev08HL612517', 'event_time': 1741723678, 'authorizations': [{'enterprise_id': None, 'team_id': 'T08GLQ3HC07', 'user_id': 'U08H42J6JQ3', 'is_bot': True, 'is_enterprise_install': False}], 'is_ext_shared_channel': False, 'event_context': '4-eyJldCI6Im1lc3NhZ2UiLCJ0aWQiOiJUMDhHTFEzSEMwNyIsImFpZCI6IkEwOEgwQzI2QkVaIiwiY2lkIjoiQzA4SDU0TjZCNkcifQ'}\n",
      "Entities: []\n"
     ]
    },
    {
     "name": "stderr",
     "output_type": "stream",
     "text": [
      "127.0.0.1 - - [11/Mar/2025 16:08:00] \"POST /slack/events HTTP/1.1\" 200 -\n",
      "127.0.0.1 - - [11/Mar/2025 16:08:01] \"POST /slack/events HTTP/1.1\" 200 -\n"
     ]
    },
    {
     "name": "stdout",
     "output_type": "stream",
     "text": [
      "Received Slack event: {'token': 'vcOktFRX27KKXwM6mDwo1R9u', 'team_id': 'T08GLQ3HC07', 'context_team_id': 'T08GLQ3HC07', 'context_enterprise_id': None, 'api_app_id': 'A08H0C26BEZ', 'event': {'user': 'U08H42J6JQ3', 'type': 'message', 'ts': '1741723679.911649', 'bot_id': 'B08H42J4LGK', 'app_id': 'A08H0C26BEZ', 'text': \"*Sorry, I couldn't determine the issue:* I'm unable to determine the issue from your message. Could you please provide more details or clarify the problem? :thinking_face: If needed, I can escalate this to a support team member for further assistance. :telephone_receiver:\", 'team': 'T08GLQ3HC07', 'bot_profile': {'id': 'B08H42J4LGK', 'deleted': False, 'name': 'ResolveBotAI', 'updated': 1741723243, 'app_id': 'A08H0C26BEZ', 'icons': {'image_36': 'https://a.slack-edge.com/80588/img/plugins/app/bot_36.png', 'image_48': 'https://a.slack-edge.com/80588/img/plugins/app/bot_48.png', 'image_72': 'https://a.slack-edge.com/80588/img/plugins/app/service_72.png'}, 'team_id': 'T08GLQ3HC07'}, 'thread_ts': '1741723678.218029', 'parent_user_id': 'U08GLQ3JKGX', 'blocks': [{'type': 'rich_text', 'block_id': 'Meb', 'elements': [{'type': 'rich_text_section', 'elements': [{'type': 'text', 'text': \"Sorry, I couldn't determine the issue:\", 'style': {'bold': True}}, {'type': 'text', 'text': \" I'm unable to determine the issue from your message. Could you please provide more details or clarify the problem? \"}, {'type': 'emoji', 'name': 'thinking_face', 'unicode': '1f914'}, {'type': 'text', 'text': ' If needed, I can escalate this to a support team member for further assistance. '}, {'type': 'emoji', 'name': 'telephone_receiver', 'unicode': '1f4de'}]}]}], 'channel': 'C08H54N6B6G', 'event_ts': '1741723679.911649', 'channel_type': 'channel'}, 'type': 'event_callback', 'event_id': 'Ev08HCS46UJY', 'event_time': 1741723679, 'authorizations': [{'enterprise_id': None, 'team_id': 'T08GLQ3HC07', 'user_id': 'U08H42J6JQ3', 'is_bot': True, 'is_enterprise_install': False}], 'is_ext_shared_channel': False, 'event_context': '4-eyJldCI6Im1lc3NhZ2UiLCJ0aWQiOiJUMDhHTFEzSEMwNyIsImFpZCI6IkEwOEgwQzI2QkVaIiwiY2lkIjoiQzA4SDU0TjZCNkcifQ'}\n"
     ]
    },
    {
     "name": "stderr",
     "output_type": "stream",
     "text": [
      "127.0.0.1 - - [11/Mar/2025 16:08:08] \"POST /slack/events HTTP/1.1\" 200 -\n"
     ]
    },
    {
     "name": "stdout",
     "output_type": "stream",
     "text": [
      "Received Slack event: {'token': 'vcOktFRX27KKXwM6mDwo1R9u', 'team_id': 'T08GLQ3HC07', 'context_team_id': 'T08GLQ3HC07', 'context_enterprise_id': None, 'api_app_id': 'A08H0C26BEZ', 'event': {'user': 'U08H42J6JQ3', 'type': 'message', 'ts': '1741723625.142559', 'bot_id': 'B08H42J4LGK', 'app_id': 'A08H0C26BEZ', 'text': '*Incident Raised:* Your incident has been successfully raised and marked as *high* priority. :warning: \\n\\nThe *Site Reliability Engineering (SRE)* team will address it as soon as possible to ensure a swift resolution. :rocket:\\n\\nThank you for your patience!', 'team': 'T08GLQ3HC07', 'bot_profile': {'id': 'B08H42J4LGK', 'deleted': False, 'name': 'ResolveBotAI', 'updated': 1741723243, 'app_id': 'A08H0C26BEZ', 'icons': {'image_36': 'https://a.slack-edge.com/80588/img/plugins/app/bot_36.png', 'image_48': 'https://a.slack-edge.com/80588/img/plugins/app/bot_48.png', 'image_72': 'https://a.slack-edge.com/80588/img/plugins/app/service_72.png'}, 'team_id': 'T08GLQ3HC07'}, 'thread_ts': '1741635490.564199', 'parent_user_id': 'U08GLQ3JKGX', 'blocks': [{'type': 'rich_text', 'block_id': '6Ia=f', 'elements': [{'type': 'rich_text_section', 'elements': [{'type': 'text', 'text': 'Incident Raised:', 'style': {'bold': True}}, {'type': 'text', 'text': ' Your incident has been successfully raised and marked as '}, {'type': 'text', 'text': 'high', 'style': {'bold': True}}, {'type': 'text', 'text': ' priority. '}, {'type': 'emoji', 'name': 'warning', 'unicode': '26a0-fe0f'}, {'type': 'text', 'text': ' \\n\\nThe '}, {'type': 'text', 'text': 'Site Reliability Engineering (SRE)', 'style': {'bold': True}}, {'type': 'text', 'text': ' team will address it as soon as possible to ensure a swift resolution. '}, {'type': 'emoji', 'name': 'rocket', 'unicode': '1f680'}, {'type': 'text', 'text': '\\n\\nThank you for your patience!'}]}]}], 'channel': 'C08H54N6B6G', 'event_ts': '1741723625.142559', 'channel_type': 'channel'}, 'type': 'event_callback', 'event_id': 'Ev08HL5WMN8H', 'event_time': 1741723625, 'authorizations': [{'enterprise_id': None, 'team_id': 'T08GLQ3HC07', 'user_id': 'U08H42J6JQ3', 'is_bot': True, 'is_enterprise_install': False}], 'is_ext_shared_channel': False, 'event_context': '4-eyJldCI6Im1lc3NhZ2UiLCJ0aWQiOiJUMDhHTFEzSEMwNyIsImFpZCI6IkEwOEgwQzI2QkVaIiwiY2lkIjoiQzA4SDU0TjZCNkcifQ'}\n",
      "Received Slack event: {'token': 'vcOktFRX27KKXwM6mDwo1R9u', 'team_id': 'T08GLQ3HC07', 'context_team_id': 'T08GLQ3HC07', 'context_enterprise_id': None, 'api_app_id': 'A08H0C26BEZ', 'event': {'subtype': 'channel_join', 'user': 'U08H42J6JQ3', 'text': '<@U08H42J6JQ3> has joined the channel', 'inviter': 'U08GLQ3JKGX', 'type': 'message', 'ts': '1741723900.277039', 'channel': 'C08GLQ3TNBH', 'event_ts': '1741723900.277039', 'channel_type': 'channel'}, 'type': 'event_callback', 'event_id': 'Ev08HB1BUP2P', 'event_time': 1741723900, 'authorizations': [{'enterprise_id': None, 'team_id': 'T08GLQ3HC07', 'user_id': 'U08H42J6JQ3', 'is_bot': True, 'is_enterprise_install': False}], 'is_ext_shared_channel': False, 'event_context': '4-eyJldCI6Im1lc3NhZ2UiLCJ0aWQiOiJUMDhHTFEzSEMwNyIsImFpZCI6IkEwOEgwQzI2QkVaIiwiY2lkIjoiQzA4R0xRM1ROQkgifQ'}\n",
      "Entities: [('has', 'SEVERITY'), ('the', 'SEVERITY')]\n"
     ]
    },
    {
     "name": "stderr",
     "output_type": "stream",
     "text": [
      "127.0.0.1 - - [11/Mar/2025 16:11:42] \"POST /slack/events HTTP/1.1\" 200 -\n"
     ]
    },
    {
     "name": "stdout",
     "output_type": "stream",
     "text": [
      "Received Slack event: {'token': 'vcOktFRX27KKXwM6mDwo1R9u', 'team_id': 'T08GLQ3HC07', 'context_team_id': 'T08GLQ3HC07', 'context_enterprise_id': None, 'api_app_id': 'A08H0C26BEZ', 'event': {'user': 'U08GLQ3JKGX', 'type': 'message', 'ts': '1741723911.051489', 'client_msg_id': 'ea4209a7-1a68-443f-9326-3d34b1fb9323', 'text': 'offers not loading', 'team': 'T08GLQ3HC07', 'blocks': [{'type': 'rich_text', 'block_id': 'cXvGc', 'elements': [{'type': 'rich_text_section', 'elements': [{'type': 'text', 'text': 'offers not loading'}]}]}], 'channel': 'C08GLQ3TNBH', 'event_ts': '1741723911.051489', 'channel_type': 'channel'}, 'type': 'event_callback', 'event_id': 'Ev08H7JHB90V', 'event_time': 1741723911, 'authorizations': [{'enterprise_id': None, 'team_id': 'T08GLQ3HC07', 'user_id': 'U08H42J6JQ3', 'is_bot': True, 'is_enterprise_install': False}], 'is_ext_shared_channel': False, 'event_context': '4-eyJldCI6Im1lc3NhZ2UiLCJ0aWQiOiJUMDhHTFEzSEMwNyIsImFpZCI6IkEwOEgwQzI2QkVaIiwiY2lkIjoiQzA4R0xRM1ROQkgifQ'}\n",
      "Entities: [('not', 'SEVERITY')]\n"
     ]
    },
    {
     "name": "stderr",
     "output_type": "stream",
     "text": [
      "127.0.0.1 - - [11/Mar/2025 16:11:52] \"POST /slack/events HTTP/1.1\" 200 -\n",
      "127.0.0.1 - - [11/Mar/2025 16:11:54] \"POST /slack/events HTTP/1.1\" 200 -\n"
     ]
    },
    {
     "name": "stdout",
     "output_type": "stream",
     "text": [
      "Received Slack event: {'token': 'vcOktFRX27KKXwM6mDwo1R9u', 'team_id': 'T08GLQ3HC07', 'context_team_id': 'T08GLQ3HC07', 'context_enterprise_id': None, 'api_app_id': 'A08H0C26BEZ', 'event': {'user': 'U08H42J6JQ3', 'type': 'message', 'ts': '1741723912.316369', 'bot_id': 'B08H42J4LGK', 'app_id': 'A08H0C26BEZ', 'text': \"*Sorry, I couldn't determine the issue:* I'm unable to determine the issue from your message. Could you please provide more details or clarify the problem? :thinking_face: If needed, I can escalate this to a support team member for further assistance. :telephone_receiver:\", 'team': 'T08GLQ3HC07', 'bot_profile': {'id': 'B08H42J4LGK', 'deleted': False, 'name': 'ResolveBotAI', 'updated': 1741723243, 'app_id': 'A08H0C26BEZ', 'icons': {'image_36': 'https://a.slack-edge.com/80588/img/plugins/app/bot_36.png', 'image_48': 'https://a.slack-edge.com/80588/img/plugins/app/bot_48.png', 'image_72': 'https://a.slack-edge.com/80588/img/plugins/app/service_72.png'}, 'team_id': 'T08GLQ3HC07'}, 'thread_ts': '1741723911.051489', 'parent_user_id': 'U08GLQ3JKGX', 'blocks': [{'type': 'rich_text', 'block_id': '==jum', 'elements': [{'type': 'rich_text_section', 'elements': [{'type': 'text', 'text': \"Sorry, I couldn't determine the issue:\", 'style': {'bold': True}}, {'type': 'text', 'text': \" I'm unable to determine the issue from your message. Could you please provide more details or clarify the problem? \"}, {'type': 'emoji', 'name': 'thinking_face', 'unicode': '1f914'}, {'type': 'text', 'text': ' If needed, I can escalate this to a support team member for further assistance. '}, {'type': 'emoji', 'name': 'telephone_receiver', 'unicode': '1f4de'}]}]}], 'channel': 'C08GLQ3TNBH', 'event_ts': '1741723912.316369', 'channel_type': 'channel'}, 'type': 'event_callback', 'event_id': 'Ev08H9TYMX0S', 'event_time': 1741723912, 'authorizations': [{'enterprise_id': None, 'team_id': 'T08GLQ3HC07', 'user_id': 'U08H42J6JQ3', 'is_bot': True, 'is_enterprise_install': False}], 'is_ext_shared_channel': False, 'event_context': '4-eyJldCI6Im1lc3NhZ2UiLCJ0aWQiOiJUMDhHTFEzSEMwNyIsImFpZCI6IkEwOEgwQzI2QkVaIiwiY2lkIjoiQzA4R0xRM1ROQkgifQ'}\n",
      "Received Slack event: {'token': 'vcOktFRX27KKXwM6mDwo1R9u', 'team_id': 'T08GLQ3HC07', 'context_team_id': 'T08GLQ3HC07', 'context_enterprise_id': None, 'api_app_id': 'A08H0C26BEZ', 'event': {'user': 'U08GLQ3JKGX', 'type': 'message', 'ts': '1741724013.082079', 'client_msg_id': '0d6dbb14-0d01-41ba-9a66-20fc8e67bea4', 'text': 'Offer not loading', 'team': 'T08GLQ3HC07', 'blocks': [{'type': 'rich_text', 'block_id': 'eBuex', 'elements': [{'type': 'rich_text_section', 'elements': [{'type': 'text', 'text': 'Offer not loading'}]}]}], 'channel': 'C08H54N6B6G', 'event_ts': '1741724013.082079', 'channel_type': 'channel'}, 'type': 'event_callback', 'event_id': 'Ev08HXK013FS', 'event_time': 1741724013, 'authorizations': [{'enterprise_id': None, 'team_id': 'T08GLQ3HC07', 'user_id': 'U08H42J6JQ3', 'is_bot': True, 'is_enterprise_install': False}], 'is_ext_shared_channel': False, 'event_context': '4-eyJldCI6Im1lc3NhZ2UiLCJ0aWQiOiJUMDhHTFEzSEMwNyIsImFpZCI6IkEwOEgwQzI2QkVaIiwiY2lkIjoiQzA4SDU0TjZCNkcifQ'}\n",
      "Entities: []\n"
     ]
    },
    {
     "name": "stderr",
     "output_type": "stream",
     "text": [
      "127.0.0.1 - - [11/Mar/2025 16:13:35] \"POST /slack/events HTTP/1.1\" 200 -\n",
      "127.0.0.1 - - [11/Mar/2025 16:13:36] \"POST /slack/events HTTP/1.1\" 200 -\n"
     ]
    },
    {
     "name": "stdout",
     "output_type": "stream",
     "text": [
      "Received Slack event: {'token': 'vcOktFRX27KKXwM6mDwo1R9u', 'team_id': 'T08GLQ3HC07', 'context_team_id': 'T08GLQ3HC07', 'context_enterprise_id': None, 'api_app_id': 'A08H0C26BEZ', 'event': {'user': 'U08H42J6JQ3', 'type': 'message', 'ts': '1741724015.542649', 'bot_id': 'B08H42J4LGK', 'app_id': 'A08H0C26BEZ', 'text': \"*Sorry, I couldn't determine the issue:* I'm unable to determine the issue from your message. Could you please provide more details or clarify the problem? :thinking_face: If needed, I can escalate this to a support team member for further assistance. :telephone_receiver:\", 'team': 'T08GLQ3HC07', 'bot_profile': {'id': 'B08H42J4LGK', 'deleted': False, 'name': 'ResolveBotAI', 'updated': 1741723243, 'app_id': 'A08H0C26BEZ', 'icons': {'image_36': 'https://a.slack-edge.com/80588/img/plugins/app/bot_36.png', 'image_48': 'https://a.slack-edge.com/80588/img/plugins/app/bot_48.png', 'image_72': 'https://a.slack-edge.com/80588/img/plugins/app/service_72.png'}, 'team_id': 'T08GLQ3HC07'}, 'thread_ts': '1741724013.082079', 'parent_user_id': 'U08GLQ3JKGX', 'blocks': [{'type': 'rich_text', 'block_id': 'vDXHu', 'elements': [{'type': 'rich_text_section', 'elements': [{'type': 'text', 'text': \"Sorry, I couldn't determine the issue:\", 'style': {'bold': True}}, {'type': 'text', 'text': \" I'm unable to determine the issue from your message. Could you please provide more details or clarify the problem? \"}, {'type': 'emoji', 'name': 'thinking_face', 'unicode': '1f914'}, {'type': 'text', 'text': ' If needed, I can escalate this to a support team member for further assistance. '}, {'type': 'emoji', 'name': 'telephone_receiver', 'unicode': '1f4de'}]}]}], 'channel': 'C08H54N6B6G', 'event_ts': '1741724015.542649', 'channel_type': 'channel'}, 'type': 'event_callback', 'event_id': 'Ev08HXK0MR3J', 'event_time': 1741724015, 'authorizations': [{'enterprise_id': None, 'team_id': 'T08GLQ3HC07', 'user_id': 'U08H42J6JQ3', 'is_bot': True, 'is_enterprise_install': False}], 'is_ext_shared_channel': False, 'event_context': '4-eyJldCI6Im1lc3NhZ2UiLCJ0aWQiOiJUMDhHTFEzSEMwNyIsImFpZCI6IkEwOEgwQzI2QkVaIiwiY2lkIjoiQzA4SDU0TjZCNkcifQ'}\n",
      "Received Slack event: {'token': 'vcOktFRX27KKXwM6mDwo1R9u', 'team_id': 'T08GLQ3HC07', 'context_team_id': 'T08GLQ3HC07', 'context_enterprise_id': None, 'api_app_id': 'A08H0C26BEZ', 'event': {'user': 'U08GLQ3JKGX', 'type': 'message', 'ts': '1741724310.347729', 'client_msg_id': '1fc7e2b5-eb4b-4884-aa0c-f9c43e3ffd86', 'text': 'Offer not loading', 'team': 'T08GLQ3HC07', 'blocks': [{'type': 'rich_text', 'block_id': 'eBuex', 'elements': [{'type': 'rich_text_section', 'elements': [{'type': 'text', 'text': 'Offer not loading'}]}]}], 'channel': 'C08H54N6B6G', 'event_ts': '1741724310.347729', 'channel_type': 'channel'}, 'type': 'event_callback', 'event_id': 'Ev08GU8TMXJB', 'event_time': 1741724310, 'authorizations': [{'enterprise_id': None, 'team_id': 'T08GLQ3HC07', 'user_id': 'U08H42J6JQ3', 'is_bot': True, 'is_enterprise_install': False}], 'is_ext_shared_channel': False, 'event_context': '4-eyJldCI6Im1lc3NhZ2UiLCJ0aWQiOiJUMDhHTFEzSEMwNyIsImFpZCI6IkEwOEgwQzI2QkVaIiwiY2lkIjoiQzA4SDU0TjZCNkcifQ'}\n",
      "Entities: []\n"
     ]
    },
    {
     "name": "stderr",
     "output_type": "stream",
     "text": [
      "127.0.0.1 - - [11/Mar/2025 16:18:32] \"POST /slack/events HTTP/1.1\" 200 -\n",
      "127.0.0.1 - - [11/Mar/2025 16:18:33] \"POST /slack/events HTTP/1.1\" 200 -\n"
     ]
    },
    {
     "name": "stdout",
     "output_type": "stream",
     "text": [
      "Received Slack event: {'token': 'vcOktFRX27KKXwM6mDwo1R9u', 'team_id': 'T08GLQ3HC07', 'context_team_id': 'T08GLQ3HC07', 'context_enterprise_id': None, 'api_app_id': 'A08H0C26BEZ', 'event': {'user': 'U08H42J6JQ3', 'type': 'message', 'ts': '1741724312.362839', 'bot_id': 'B08H42J4LGK', 'app_id': 'A08H0C26BEZ', 'text': \"*Sorry, I couldn't determine the issue:* I'm unable to determine the issue from your message. Could you please provide more details or clarify the problem? :thinking_face: If needed, I can escalate this to a support team member for further assistance. :telephone_receiver:\", 'team': 'T08GLQ3HC07', 'bot_profile': {'id': 'B08H42J4LGK', 'deleted': False, 'name': 'ResolveBotAI', 'updated': 1741724274, 'app_id': 'A08H0C26BEZ', 'icons': {'image_36': 'https://avatars.slack-edge.com/2025-03-11/8598251960609_3c2d1ae37c97719d8575_36.webp', 'image_48': 'https://avatars.slack-edge.com/2025-03-11/8598251960609_3c2d1ae37c97719d8575_48.webp', 'image_72': 'https://avatars.slack-edge.com/2025-03-11/8598251960609_3c2d1ae37c97719d8575_72.webp'}, 'team_id': 'T08GLQ3HC07'}, 'thread_ts': '1741724310.347729', 'parent_user_id': 'U08GLQ3JKGX', 'blocks': [{'type': 'rich_text', 'block_id': 'K7/tu', 'elements': [{'type': 'rich_text_section', 'elements': [{'type': 'text', 'text': \"Sorry, I couldn't determine the issue:\", 'style': {'bold': True}}, {'type': 'text', 'text': \" I'm unable to determine the issue from your message. Could you please provide more details or clarify the problem? \"}, {'type': 'emoji', 'name': 'thinking_face', 'unicode': '1f914'}, {'type': 'text', 'text': ' If needed, I can escalate this to a support team member for further assistance. '}, {'type': 'emoji', 'name': 'telephone_receiver', 'unicode': '1f4de'}]}]}], 'channel': 'C08H54N6B6G', 'event_ts': '1741724312.362839', 'channel_type': 'channel'}, 'type': 'event_callback', 'event_id': 'Ev08H7KG7RSR', 'event_time': 1741724312, 'authorizations': [{'enterprise_id': None, 'team_id': 'T08GLQ3HC07', 'user_id': 'U08H42J6JQ3', 'is_bot': True, 'is_enterprise_install': False}], 'is_ext_shared_channel': False, 'event_context': '4-eyJldCI6Im1lc3NhZ2UiLCJ0aWQiOiJUMDhHTFEzSEMwNyIsImFpZCI6IkEwOEgwQzI2QkVaIiwiY2lkIjoiQzA4SDU0TjZCNkcifQ'}\n",
      "Received Slack event: {'token': 'vcOktFRX27KKXwM6mDwo1R9u', 'team_id': 'T08GLQ3HC07', 'context_team_id': 'T08GLQ3HC07', 'context_enterprise_id': None, 'api_app_id': 'A08H0C26BEZ', 'event': {'user': 'U08GLQ3JKGX', 'type': 'message', 'ts': '1741724330.378379', 'client_msg_id': 'cedc00ce-c32b-4348-aff4-67432b5f3c69', 'text': 'test', 'team': 'T08GLQ3HC07', 'blocks': [{'type': 'rich_text', 'block_id': 'gB9fq', 'elements': [{'type': 'rich_text_section', 'elements': [{'type': 'text', 'text': 'test'}]}]}], 'channel': 'C08GLQ3TNBH', 'event_ts': '1741724330.378379', 'channel_type': 'channel'}, 'type': 'event_callback', 'event_id': 'Ev08HCTPMZ44', 'event_time': 1741724330, 'authorizations': [{'enterprise_id': None, 'team_id': 'T08GLQ3HC07', 'user_id': 'U08H42J6JQ3', 'is_bot': True, 'is_enterprise_install': False}], 'is_ext_shared_channel': False, 'event_context': '4-eyJldCI6Im1lc3NhZ2UiLCJ0aWQiOiJUMDhHTFEzSEMwNyIsImFpZCI6IkEwOEgwQzI2QkVaIiwiY2lkIjoiQzA4R0xRM1ROQkgifQ'}\n",
      "Entities: []\n"
     ]
    },
    {
     "name": "stderr",
     "output_type": "stream",
     "text": [
      "127.0.0.1 - - [11/Mar/2025 16:18:52] \"POST /slack/events HTTP/1.1\" 200 -\n",
      "127.0.0.1 - - [11/Mar/2025 16:18:54] \"POST /slack/events HTTP/1.1\" 200 -\n"
     ]
    },
    {
     "name": "stdout",
     "output_type": "stream",
     "text": [
      "Received Slack event: {'token': 'vcOktFRX27KKXwM6mDwo1R9u', 'team_id': 'T08GLQ3HC07', 'context_team_id': 'T08GLQ3HC07', 'context_enterprise_id': None, 'api_app_id': 'A08H0C26BEZ', 'event': {'user': 'U08H42J6JQ3', 'type': 'message', 'ts': '1741724332.404789', 'bot_id': 'B08H42J4LGK', 'app_id': 'A08H0C26BEZ', 'text': \"*Access Issue:* The Customer Care Professional doesn't have the required access to manage the offer. To enable the user to service the offer, an access request needs to be raised. :lock: Would you like me to initiate the request for you? :bar_chart:\", 'team': 'T08GLQ3HC07', 'bot_profile': {'id': 'B08H42J4LGK', 'deleted': False, 'name': 'ResolveBotAI', 'updated': 1741724274, 'app_id': 'A08H0C26BEZ', 'icons': {'image_36': 'https://avatars.slack-edge.com/2025-03-11/8598251960609_3c2d1ae37c97719d8575_36.webp', 'image_48': 'https://avatars.slack-edge.com/2025-03-11/8598251960609_3c2d1ae37c97719d8575_48.webp', 'image_72': 'https://avatars.slack-edge.com/2025-03-11/8598251960609_3c2d1ae37c97719d8575_72.webp'}, 'team_id': 'T08GLQ3HC07'}, 'thread_ts': '1741724330.378379', 'parent_user_id': 'U08GLQ3JKGX', 'blocks': [{'type': 'rich_text', 'block_id': '0kQta', 'elements': [{'type': 'rich_text_section', 'elements': [{'type': 'text', 'text': 'Access Issue:', 'style': {'bold': True}}, {'type': 'text', 'text': \" The Customer Care Professional doesn't have the required access to manage the offer. To enable the user to service the offer, an access request needs to be raised. \"}, {'type': 'emoji', 'name': 'lock', 'unicode': '1f512'}, {'type': 'text', 'text': ' Would you like me to initiate the request for you? '}, {'type': 'emoji', 'name': 'bar_chart', 'unicode': '1f4ca'}]}]}], 'channel': 'C08GLQ3TNBH', 'event_ts': '1741724332.404789', 'channel_type': 'channel'}, 'type': 'event_callback', 'event_id': 'Ev08H9V08XB4', 'event_time': 1741724332, 'authorizations': [{'enterprise_id': None, 'team_id': 'T08GLQ3HC07', 'user_id': 'U08H42J6JQ3', 'is_bot': True, 'is_enterprise_install': False}], 'is_ext_shared_channel': False, 'event_context': '4-eyJldCI6Im1lc3NhZ2UiLCJ0aWQiOiJUMDhHTFEzSEMwNyIsImFpZCI6IkEwOEgwQzI2QkVaIiwiY2lkIjoiQzA4R0xRM1ROQkgifQ'}\n",
      "Received Slack event: {'token': 'vcOktFRX27KKXwM6mDwo1R9u', 'team_id': 'T08GLQ3HC07', 'context_team_id': 'T08GLQ3HC07', 'context_enterprise_id': None, 'api_app_id': 'A08H0C26BEZ', 'event': {'user': 'U08GLQ3JKGX', 'type': 'message', 'ts': '1741724390.355529', 'client_msg_id': '6b86c161-3f31-4abf-8636-0e8ba233cc0d', 'text': 'Offer not loading', 'team': 'T08GLQ3HC07', 'blocks': [{'type': 'rich_text', 'block_id': 'eBuex', 'elements': [{'type': 'rich_text_section', 'elements': [{'type': 'text', 'text': 'Offer not loading'}]}]}], 'channel': 'C08H54N6B6G', 'event_ts': '1741724390.355529', 'channel_type': 'channel'}, 'type': 'event_callback', 'event_id': 'Ev08H7KNPDUM', 'event_time': 1741724390, 'authorizations': [{'enterprise_id': None, 'team_id': 'T08GLQ3HC07', 'user_id': 'U08H42J6JQ3', 'is_bot': True, 'is_enterprise_install': False}], 'is_ext_shared_channel': False, 'event_context': '4-eyJldCI6Im1lc3NhZ2UiLCJ0aWQiOiJUMDhHTFEzSEMwNyIsImFpZCI6IkEwOEgwQzI2QkVaIiwiY2lkIjoiQzA4SDU0TjZCNkcifQ'}\n",
      "Entities: []\n"
     ]
    },
    {
     "name": "stderr",
     "output_type": "stream",
     "text": [
      "127.0.0.1 - - [11/Mar/2025 16:19:51] \"POST /slack/events HTTP/1.1\" 200 -\n",
      "127.0.0.1 - - [11/Mar/2025 16:19:53] \"POST /slack/events HTTP/1.1\" 200 -\n"
     ]
    },
    {
     "name": "stdout",
     "output_type": "stream",
     "text": [
      "Received Slack event: {'token': 'vcOktFRX27KKXwM6mDwo1R9u', 'team_id': 'T08GLQ3HC07', 'context_team_id': 'T08GLQ3HC07', 'context_enterprise_id': None, 'api_app_id': 'A08H0C26BEZ', 'event': {'user': 'U08H42J6JQ3', 'type': 'message', 'ts': '1741724391.480019', 'bot_id': 'B08H42J4LGK', 'app_id': 'A08H0C26BEZ', 'text': \"*Sorry, I couldn't determine the issue:* I'm unable to determine the issue from your message. Could you please provide more details or clarify the problem? :thinking_face: If needed, I can escalate this to a support team member for further assistance. :telephone_receiver:\", 'team': 'T08GLQ3HC07', 'bot_profile': {'id': 'B08H42J4LGK', 'deleted': False, 'name': 'ResolveBotAI', 'updated': 1741724274, 'app_id': 'A08H0C26BEZ', 'icons': {'image_36': 'https://avatars.slack-edge.com/2025-03-11/8598251960609_3c2d1ae37c97719d8575_36.webp', 'image_48': 'https://avatars.slack-edge.com/2025-03-11/8598251960609_3c2d1ae37c97719d8575_48.webp', 'image_72': 'https://avatars.slack-edge.com/2025-03-11/8598251960609_3c2d1ae37c97719d8575_72.webp'}, 'team_id': 'T08GLQ3HC07'}, 'thread_ts': '1741724390.355529', 'parent_user_id': 'U08GLQ3JKGX', 'blocks': [{'type': 'rich_text', 'block_id': 'WXAWx', 'elements': [{'type': 'rich_text_section', 'elements': [{'type': 'text', 'text': \"Sorry, I couldn't determine the issue:\", 'style': {'bold': True}}, {'type': 'text', 'text': \" I'm unable to determine the issue from your message. Could you please provide more details or clarify the problem? \"}, {'type': 'emoji', 'name': 'thinking_face', 'unicode': '1f914'}, {'type': 'text', 'text': ' If needed, I can escalate this to a support team member for further assistance. '}, {'type': 'emoji', 'name': 'telephone_receiver', 'unicode': '1f4de'}]}]}], 'channel': 'C08H54N6B6G', 'event_ts': '1741724391.480019', 'channel_type': 'channel'}, 'type': 'event_callback', 'event_id': 'Ev08GU8ZDKEK', 'event_time': 1741724391, 'authorizations': [{'enterprise_id': None, 'team_id': 'T08GLQ3HC07', 'user_id': 'U08H42J6JQ3', 'is_bot': True, 'is_enterprise_install': False}], 'is_ext_shared_channel': False, 'event_context': '4-eyJldCI6Im1lc3NhZ2UiLCJ0aWQiOiJUMDhHTFEzSEMwNyIsImFpZCI6IkEwOEgwQzI2QkVaIiwiY2lkIjoiQzA4SDU0TjZCNkcifQ'}\n",
      "Received Slack event: {'token': 'vcOktFRX27KKXwM6mDwo1R9u', 'team_id': 'T08GLQ3HC07', 'context_team_id': 'T08GLQ3HC07', 'context_enterprise_id': None, 'api_app_id': 'A08H0C26BEZ', 'event': {'user': 'U08GLQ3JKGX', 'type': 'message', 'ts': '1741724431.756719', 'client_msg_id': '46fd8182-7734-4efa-9acd-3a3dac6ba866', 'text': 'getting customer opted out', 'team': 'T08GLQ3HC07', 'blocks': [{'type': 'rich_text', 'block_id': 'sgPEp', 'elements': [{'type': 'rich_text_section', 'elements': [{'type': 'text', 'text': 'getting customer opted out'}]}]}], 'channel': 'C08H54N6B6G', 'event_ts': '1741724431.756719', 'channel_type': 'channel'}, 'type': 'event_callback', 'event_id': 'Ev08GU91QMAB', 'event_time': 1741724431, 'authorizations': [{'enterprise_id': None, 'team_id': 'T08GLQ3HC07', 'user_id': 'U08H42J6JQ3', 'is_bot': True, 'is_enterprise_install': False}], 'is_ext_shared_channel': False, 'event_context': '4-eyJldCI6Im1lc3NhZ2UiLCJ0aWQiOiJUMDhHTFEzSEMwNyIsImFpZCI6IkEwOEgwQzI2QkVaIiwiY2lkIjoiQzA4SDU0TjZCNkcifQ'}\n",
      "Entities: [('out', 'SEVERITY')]\n"
     ]
    },
    {
     "name": "stderr",
     "output_type": "stream",
     "text": [
      "127.0.0.1 - - [11/Mar/2025 16:20:41] \"POST /slack/events HTTP/1.1\" 200 -\n",
      "127.0.0.1 - - [11/Mar/2025 16:20:46] \"POST /slack/events HTTP/1.1\" 200 -\n"
     ]
    },
    {
     "name": "stdout",
     "output_type": "stream",
     "text": [
      "Received Slack event: {'token': 'vcOktFRX27KKXwM6mDwo1R9u', 'team_id': 'T08GLQ3HC07', 'context_team_id': 'T08GLQ3HC07', 'context_enterprise_id': None, 'api_app_id': 'A08H0C26BEZ', 'event': {'user': 'U08H42J6JQ3', 'type': 'message', 'ts': '1741724441.022469', 'bot_id': 'B08H42J4LGK', 'app_id': 'A08H0C26BEZ', 'text': '*Offer Not Displayed:* The offer is not displayed because the customer has opted out of solicitation, making them ineligible for any offers. :x: However, if you are not satisfied with this response, I can escalate the issue by raising an incident so a support representative can review it further. Would you like me to raise it? :raised_hands:', 'team': 'T08GLQ3HC07', 'bot_profile': {'id': 'B08H42J4LGK', 'deleted': False, 'name': 'ResolveBotAI', 'updated': 1741724274, 'app_id': 'A08H0C26BEZ', 'icons': {'image_36': 'https://avatars.slack-edge.com/2025-03-11/8598251960609_3c2d1ae37c97719d8575_36.webp', 'image_48': 'https://avatars.slack-edge.com/2025-03-11/8598251960609_3c2d1ae37c97719d8575_48.webp', 'image_72': 'https://avatars.slack-edge.com/2025-03-11/8598251960609_3c2d1ae37c97719d8575_72.webp'}, 'team_id': 'T08GLQ3HC07'}, 'thread_ts': '1741724431.756719', 'parent_user_id': 'U08GLQ3JKGX', 'blocks': [{'type': 'rich_text', 'block_id': 'mXmz', 'elements': [{'type': 'rich_text_section', 'elements': [{'type': 'text', 'text': 'Offer Not Displayed:', 'style': {'bold': True}}, {'type': 'text', 'text': ' The offer is not displayed because the customer has opted out of solicitation, making them ineligible for any offers. '}, {'type': 'emoji', 'name': 'x', 'unicode': '274c'}, {'type': 'text', 'text': ' However, if you are not satisfied with this response, I can escalate the issue by raising an incident so a support representative can review it further. Would you like me to raise it? '}, {'type': 'emoji', 'name': 'raised_hands', 'unicode': '1f64c'}]}]}], 'channel': 'C08H54N6B6G', 'event_ts': '1741724441.022469', 'channel_type': 'channel'}, 'type': 'event_callback', 'event_id': 'Ev08HB2LQN4T', 'event_time': 1741724441, 'authorizations': [{'enterprise_id': None, 'team_id': 'T08GLQ3HC07', 'user_id': 'U08H42J6JQ3', 'is_bot': True, 'is_enterprise_install': False}], 'is_ext_shared_channel': False, 'event_context': '4-eyJldCI6Im1lc3NhZ2UiLCJ0aWQiOiJUMDhHTFEzSEMwNyIsImFpZCI6IkEwOEgwQzI2QkVaIiwiY2lkIjoiQzA4SDU0TjZCNkcifQ'}\n",
      "Received Slack event: {'token': 'vcOktFRX27KKXwM6mDwo1R9u', 'team_id': 'T08GLQ3HC07', 'context_team_id': 'T08GLQ3HC07', 'context_enterprise_id': None, 'api_app_id': 'A08H0C26BEZ', 'event': {'user': 'U08GLQ3JKGX', 'type': 'message', 'ts': '1741724451.128869', 'client_msg_id': '0bc7e63a-08e2-42b2-954a-819c8487943f', 'text': 'getting customer opted out', 'team': 'T08GLQ3HC07', 'blocks': [{'type': 'rich_text', 'block_id': 'sgPEp', 'elements': [{'type': 'rich_text_section', 'elements': [{'type': 'text', 'text': 'getting customer opted out'}]}]}], 'channel': 'C08H54N6B6G', 'event_ts': '1741724451.128869', 'channel_type': 'channel'}, 'type': 'event_callback', 'event_id': 'Ev08H7KU10HK', 'event_time': 1741724451, 'authorizations': [{'enterprise_id': None, 'team_id': 'T08GLQ3HC07', 'user_id': 'U08H42J6JQ3', 'is_bot': True, 'is_enterprise_install': False}], 'is_ext_shared_channel': False, 'event_context': '4-eyJldCI6Im1lc3NhZ2UiLCJ0aWQiOiJUMDhHTFEzSEMwNyIsImFpZCI6IkEwOEgwQzI2QkVaIiwiY2lkIjoiQzA4SDU0TjZCNkcifQ'}\n",
      "Entities: [('out', 'SEVERITY')]\n"
     ]
    },
    {
     "name": "stderr",
     "output_type": "stream",
     "text": [
      "127.0.0.1 - - [11/Mar/2025 16:20:52] \"POST /slack/events HTTP/1.1\" 200 -\n",
      "127.0.0.1 - - [11/Mar/2025 16:20:53] \"POST /slack/events HTTP/1.1\" 200 -\n"
     ]
    },
    {
     "name": "stdout",
     "output_type": "stream",
     "text": [
      "Received Slack event: {'token': 'vcOktFRX27KKXwM6mDwo1R9u', 'team_id': 'T08GLQ3HC07', 'context_team_id': 'T08GLQ3HC07', 'context_enterprise_id': None, 'api_app_id': 'A08H0C26BEZ', 'event': {'user': 'U08H42J6JQ3', 'type': 'message', 'ts': '1741724452.189469', 'bot_id': 'B08H42J4LGK', 'app_id': 'A08H0C26BEZ', 'text': '*Offer Not Displayed:* The offer is not displayed because the customer has opted out of solicitation, making them ineligible for any offers. :x: However, if you are not satisfied with this response, I can escalate the issue by raising an incident so a support representative can review it further. Would you like me to raise it? :raised_hands:', 'team': 'T08GLQ3HC07', 'bot_profile': {'id': 'B08H42J4LGK', 'deleted': False, 'name': 'ResolveBotAI', 'updated': 1741724274, 'app_id': 'A08H0C26BEZ', 'icons': {'image_36': 'https://avatars.slack-edge.com/2025-03-11/8598251960609_3c2d1ae37c97719d8575_36.webp', 'image_48': 'https://avatars.slack-edge.com/2025-03-11/8598251960609_3c2d1ae37c97719d8575_48.webp', 'image_72': 'https://avatars.slack-edge.com/2025-03-11/8598251960609_3c2d1ae37c97719d8575_72.webp'}, 'team_id': 'T08GLQ3HC07'}, 'thread_ts': '1741724451.128869', 'parent_user_id': 'U08GLQ3JKGX', 'blocks': [{'type': 'rich_text', 'block_id': 'c0h', 'elements': [{'type': 'rich_text_section', 'elements': [{'type': 'text', 'text': 'Offer Not Displayed:', 'style': {'bold': True}}, {'type': 'text', 'text': ' The offer is not displayed because the customer has opted out of solicitation, making them ineligible for any offers. '}, {'type': 'emoji', 'name': 'x', 'unicode': '274c'}, {'type': 'text', 'text': ' However, if you are not satisfied with this response, I can escalate the issue by raising an incident so a support representative can review it further. Would you like me to raise it? '}, {'type': 'emoji', 'name': 'raised_hands', 'unicode': '1f64c'}]}]}], 'channel': 'C08H54N6B6G', 'event_ts': '1741724452.189469', 'channel_type': 'channel'}, 'type': 'event_callback', 'event_id': 'Ev08GU939GS3', 'event_time': 1741724452, 'authorizations': [{'enterprise_id': None, 'team_id': 'T08GLQ3HC07', 'user_id': 'U08H42J6JQ3', 'is_bot': True, 'is_enterprise_install': False}], 'is_ext_shared_channel': False, 'event_context': '4-eyJldCI6Im1lc3NhZ2UiLCJ0aWQiOiJUMDhHTFEzSEMwNyIsImFpZCI6IkEwOEgwQzI2QkVaIiwiY2lkIjoiQzA4SDU0TjZCNkcifQ'}\n",
      "Received Slack event: {'token': 'vcOktFRX27KKXwM6mDwo1R9u', 'team_id': 'T08GLQ3HC07', 'context_team_id': 'T08GLQ3HC07', 'context_enterprise_id': None, 'api_app_id': 'A08H0C26BEZ', 'event': {'user': 'U08GLQ3JKGX', 'type': 'message', 'ts': '1741724480.677379', 'client_msg_id': '12c37b38-1dda-49c0-85d2-a4ba9328ce54', 'text': 'Raise an incident with high serverity', 'team': 'T08GLQ3HC07', 'thread_ts': '1741724451.128869', 'parent_user_id': 'U08GLQ3JKGX', 'blocks': [{'type': 'rich_text', 'block_id': 'YPMOe', 'elements': [{'type': 'rich_text_section', 'elements': [{'type': 'text', 'text': 'Raise an incident with high serverity'}]}]}], 'channel': 'C08H54N6B6G', 'event_ts': '1741724480.677379', 'channel_type': 'channel'}, 'type': 'event_callback', 'event_id': 'Ev08HCU1N3RA', 'event_time': 1741724480, 'authorizations': [{'enterprise_id': None, 'team_id': 'T08GLQ3HC07', 'user_id': 'U08H42J6JQ3', 'is_bot': True, 'is_enterprise_install': False}], 'is_ext_shared_channel': False, 'event_context': '4-eyJldCI6Im1lc3NhZ2UiLCJ0aWQiOiJUMDhHTFEzSEMwNyIsImFpZCI6IkEwOEgwQzI2QkVaIiwiY2lkIjoiQzA4SDU0TjZCNkcifQ'}\n",
      "Entities: [('Raise', 'RAISE_INCIDENT'), ('high', 'SEVERITY')]\n"
     ]
    },
    {
     "name": "stderr",
     "output_type": "stream",
     "text": [
      "127.0.0.1 - - [11/Mar/2025 16:21:22] \"POST /slack/events HTTP/1.1\" 200 -\n",
      "127.0.0.1 - - [11/Mar/2025 16:21:23] \"POST /slack/events HTTP/1.1\" 200 -\n"
     ]
    },
    {
     "name": "stdout",
     "output_type": "stream",
     "text": [
      "Received Slack event: {'token': 'vcOktFRX27KKXwM6mDwo1R9u', 'team_id': 'T08GLQ3HC07', 'context_team_id': 'T08GLQ3HC07', 'context_enterprise_id': None, 'api_app_id': 'A08H0C26BEZ', 'event': {'user': 'U08H42J6JQ3', 'type': 'message', 'ts': '1741724481.968989', 'bot_id': 'B08H42J4LGK', 'app_id': 'A08H0C26BEZ', 'text': '*Incident Raised:* Your incident has been successfully raised and marked as *high* priority. :warning: \\n\\nThe *Site Reliability Engineering (SRE)* team will address it as soon as possible to ensure a swift resolution. :rocket:\\n\\nThank you for your patience!', 'team': 'T08GLQ3HC07', 'bot_profile': {'id': 'B08H42J4LGK', 'deleted': False, 'name': 'ResolveBotAI', 'updated': 1741724274, 'app_id': 'A08H0C26BEZ', 'icons': {'image_36': 'https://avatars.slack-edge.com/2025-03-11/8598251960609_3c2d1ae37c97719d8575_36.webp', 'image_48': 'https://avatars.slack-edge.com/2025-03-11/8598251960609_3c2d1ae37c97719d8575_48.webp', 'image_72': 'https://avatars.slack-edge.com/2025-03-11/8598251960609_3c2d1ae37c97719d8575_72.webp'}, 'team_id': 'T08GLQ3HC07'}, 'thread_ts': '1741724451.128869', 'parent_user_id': 'U08GLQ3JKGX', 'blocks': [{'type': 'rich_text', 'block_id': '95Ukx', 'elements': [{'type': 'rich_text_section', 'elements': [{'type': 'text', 'text': 'Incident Raised:', 'style': {'bold': True}}, {'type': 'text', 'text': ' Your incident has been successfully raised and marked as '}, {'type': 'text', 'text': 'high', 'style': {'bold': True}}, {'type': 'text', 'text': ' priority. '}, {'type': 'emoji', 'name': 'warning', 'unicode': '26a0-fe0f'}, {'type': 'text', 'text': ' \\n\\nThe '}, {'type': 'text', 'text': 'Site Reliability Engineering (SRE)', 'style': {'bold': True}}, {'type': 'text', 'text': ' team will address it as soon as possible to ensure a swift resolution. '}, {'type': 'emoji', 'name': 'rocket', 'unicode': '1f680'}, {'type': 'text', 'text': '\\n\\nThank you for your patience!'}]}]}], 'channel': 'C08H54N6B6G', 'event_ts': '1741724481.968989', 'channel_type': 'channel'}, 'type': 'event_callback', 'event_id': 'Ev08H9VC8AE6', 'event_time': 1741724481, 'authorizations': [{'enterprise_id': None, 'team_id': 'T08GLQ3HC07', 'user_id': 'U08H42J6JQ3', 'is_bot': True, 'is_enterprise_install': False}], 'is_ext_shared_channel': False, 'event_context': '4-eyJldCI6Im1lc3NhZ2UiLCJ0aWQiOiJUMDhHTFEzSEMwNyIsImFpZCI6IkEwOEgwQzI2QkVaIiwiY2lkIjoiQzA4SDU0TjZCNkcifQ'}\n",
      "Received Slack event: {'token': 'vcOktFRX27KKXwM6mDwo1R9u', 'team_id': 'T08GLQ3HC07', 'context_team_id': 'T08GLQ3HC07', 'context_enterprise_id': None, 'api_app_id': 'A08H0C26BEZ', 'event': {'user': 'U08GLQ3JKGX', 'type': 'message', 'ts': '1741724626.012559', 'client_msg_id': '25fe622e-4c15-47cc-9c18-271cb9b33b76', 'text': 'I am getting customer opted out from offers message', 'team': 'T08GLQ3HC07', 'blocks': [{'type': 'rich_text', 'block_id': 'SGJR1', 'elements': [{'type': 'rich_text_section', 'elements': [{'type': 'text', 'text': 'I am getting customer opted out from offers message'}]}]}], 'channel': 'C08H54N6B6G', 'event_ts': '1741724626.012559', 'channel_type': 'channel'}, 'type': 'event_callback', 'event_id': 'Ev08H2JFP4BG', 'event_time': 1741724626, 'authorizations': [{'enterprise_id': None, 'team_id': 'T08GLQ3HC07', 'user_id': 'U08H42J6JQ3', 'is_bot': True, 'is_enterprise_install': False}], 'is_ext_shared_channel': False, 'event_context': '4-eyJldCI6Im1lc3NhZ2UiLCJ0aWQiOiJUMDhHTFEzSEMwNyIsImFpZCI6IkEwOEgwQzI2QkVaIiwiY2lkIjoiQzA4SDU0TjZCNkcifQ'}\n",
      "Entities: [('I', 'RAISE_INCIDENT'), ('offers', 'RAISE_INCIDENT')]\n"
     ]
    },
    {
     "name": "stderr",
     "output_type": "stream",
     "text": [
      "127.0.0.1 - - [11/Mar/2025 16:23:47] \"POST /slack/events HTTP/1.1\" 200 -\n",
      "127.0.0.1 - - [11/Mar/2025 16:23:48] \"POST /slack/events HTTP/1.1\" 200 -\n"
     ]
    },
    {
     "name": "stdout",
     "output_type": "stream",
     "text": [
      "Received Slack event: {'token': 'vcOktFRX27KKXwM6mDwo1R9u', 'team_id': 'T08GLQ3HC07', 'context_team_id': 'T08GLQ3HC07', 'context_enterprise_id': None, 'api_app_id': 'A08H0C26BEZ', 'event': {'user': 'U08H42J6JQ3', 'type': 'message', 'ts': '1741724627.369559', 'bot_id': 'B08H42J4LGK', 'app_id': 'A08H0C26BEZ', 'text': '*Offer Not Displayed:* The offer is not displayed because the customer has opted out of solicitation, making them ineligible for any offers. :x: However, if you are not satisfied with this response, I can escalate the issue by raising an incident so a support representative can review it further. Would you like me to raise it? :raised_hands:', 'team': 'T08GLQ3HC07', 'bot_profile': {'id': 'B08H42J4LGK', 'deleted': False, 'name': 'ResolveBotAI', 'updated': 1741724274, 'app_id': 'A08H0C26BEZ', 'icons': {'image_36': 'https://avatars.slack-edge.com/2025-03-11/8598251960609_3c2d1ae37c97719d8575_36.webp', 'image_48': 'https://avatars.slack-edge.com/2025-03-11/8598251960609_3c2d1ae37c97719d8575_48.webp', 'image_72': 'https://avatars.slack-edge.com/2025-03-11/8598251960609_3c2d1ae37c97719d8575_72.webp'}, 'team_id': 'T08GLQ3HC07'}, 'thread_ts': '1741724626.012559', 'parent_user_id': 'U08GLQ3JKGX', 'blocks': [{'type': 'rich_text', 'block_id': 'hEZu', 'elements': [{'type': 'rich_text_section', 'elements': [{'type': 'text', 'text': 'Offer Not Displayed:', 'style': {'bold': True}}, {'type': 'text', 'text': ' The offer is not displayed because the customer has opted out of solicitation, making them ineligible for any offers. '}, {'type': 'emoji', 'name': 'x', 'unicode': '274c'}, {'type': 'text', 'text': ' However, if you are not satisfied with this response, I can escalate the issue by raising an incident so a support representative can review it further. Would you like me to raise it? '}, {'type': 'emoji', 'name': 'raised_hands', 'unicode': '1f64c'}]}]}], 'channel': 'C08H54N6B6G', 'event_ts': '1741724627.369559', 'channel_type': 'channel'}, 'type': 'event_callback', 'event_id': 'Ev08HB31NHKM', 'event_time': 1741724627, 'authorizations': [{'enterprise_id': None, 'team_id': 'T08GLQ3HC07', 'user_id': 'U08H42J6JQ3', 'is_bot': True, 'is_enterprise_install': False}], 'is_ext_shared_channel': False, 'event_context': '4-eyJldCI6Im1lc3NhZ2UiLCJ0aWQiOiJUMDhHTFEzSEMwNyIsImFpZCI6IkEwOEgwQzI2QkVaIiwiY2lkIjoiQzA4SDU0TjZCNkcifQ'}\n",
      "Received Slack event: {'token': 'vcOktFRX27KKXwM6mDwo1R9u', 'team_id': 'T08GLQ3HC07', 'context_team_id': 'T08GLQ3HC07', 'context_enterprise_id': None, 'api_app_id': 'A08H0C26BEZ', 'event': {'user': 'U08GLQ3JKGX', 'type': 'message', 'ts': '1741724655.689279', 'client_msg_id': 'b760ce33-8cb6-49f1-bdd2-60bff11e960d', 'text': 'Raise a high priority incident', 'team': 'T08GLQ3HC07', 'thread_ts': '1741724626.012559', 'parent_user_id': 'U08GLQ3JKGX', 'blocks': [{'type': 'rich_text', 'block_id': 'C2PVZ', 'elements': [{'type': 'rich_text_section', 'elements': [{'type': 'text', 'text': 'Raise a high priority incident'}]}]}], 'channel': 'C08H54N6B6G', 'event_ts': '1741724655.689279', 'channel_type': 'channel'}, 'type': 'event_callback', 'event_id': 'Ev08HXLFJGTA', 'event_time': 1741724655, 'authorizations': [{'enterprise_id': None, 'team_id': 'T08GLQ3HC07', 'user_id': 'U08H42J6JQ3', 'is_bot': True, 'is_enterprise_install': False}], 'is_ext_shared_channel': False, 'event_context': '4-eyJldCI6Im1lc3NhZ2UiLCJ0aWQiOiJUMDhHTFEzSEMwNyIsImFpZCI6IkEwOEgwQzI2QkVaIiwiY2lkIjoiQzA4SDU0TjZCNkcifQ'}\n",
      "Entities: [('Raise', 'RAISE_INCIDENT')]\n"
     ]
    },
    {
     "name": "stderr",
     "output_type": "stream",
     "text": [
      "127.0.0.1 - - [11/Mar/2025 16:24:16] \"POST /slack/events HTTP/1.1\" 200 -\n",
      "127.0.0.1 - - [11/Mar/2025 16:24:17] \"POST /slack/events HTTP/1.1\" 200 -\n"
     ]
    },
    {
     "name": "stdout",
     "output_type": "stream",
     "text": [
      "Received Slack event: {'token': 'vcOktFRX27KKXwM6mDwo1R9u', 'team_id': 'T08GLQ3HC07', 'context_team_id': 'T08GLQ3HC07', 'context_enterprise_id': None, 'api_app_id': 'A08H0C26BEZ', 'event': {'user': 'U08H42J6JQ3', 'type': 'message', 'ts': '1741724656.527389', 'bot_id': 'B08H42J4LGK', 'app_id': 'A08H0C26BEZ', 'text': '*Offer Not Displayed:* The offer is not displayed because the customer has opted out of solicitation, making them ineligible for any offers. :x: However, if you are not satisfied with this response, I can escalate the issue by raising an incident so a support representative can review it further. Would you like me to raise it? :raised_hands:', 'team': 'T08GLQ3HC07', 'bot_profile': {'id': 'B08H42J4LGK', 'deleted': False, 'name': 'ResolveBotAI', 'updated': 1741724274, 'app_id': 'A08H0C26BEZ', 'icons': {'image_36': 'https://avatars.slack-edge.com/2025-03-11/8598251960609_3c2d1ae37c97719d8575_36.webp', 'image_48': 'https://avatars.slack-edge.com/2025-03-11/8598251960609_3c2d1ae37c97719d8575_48.webp', 'image_72': 'https://avatars.slack-edge.com/2025-03-11/8598251960609_3c2d1ae37c97719d8575_72.webp'}, 'team_id': 'T08GLQ3HC07'}, 'thread_ts': '1741724626.012559', 'parent_user_id': 'U08GLQ3JKGX', 'blocks': [{'type': 'rich_text', 'block_id': 'dXl', 'elements': [{'type': 'rich_text_section', 'elements': [{'type': 'text', 'text': 'Offer Not Displayed:', 'style': {'bold': True}}, {'type': 'text', 'text': ' The offer is not displayed because the customer has opted out of solicitation, making them ineligible for any offers. '}, {'type': 'emoji', 'name': 'x', 'unicode': '274c'}, {'type': 'text', 'text': ' However, if you are not satisfied with this response, I can escalate the issue by raising an incident so a support representative can review it further. Would you like me to raise it? '}, {'type': 'emoji', 'name': 'raised_hands', 'unicode': '1f64c'}]}]}], 'channel': 'C08H54N6B6G', 'event_ts': '1741724656.527389', 'channel_type': 'channel'}, 'type': 'event_callback', 'event_id': 'Ev08HA0CAXNW', 'event_time': 1741724656, 'authorizations': [{'enterprise_id': None, 'team_id': 'T08GLQ3HC07', 'user_id': 'U08H42J6JQ3', 'is_bot': True, 'is_enterprise_install': False}], 'is_ext_shared_channel': False, 'event_context': '4-eyJldCI6Im1lc3NhZ2UiLCJ0aWQiOiJUMDhHTFEzSEMwNyIsImFpZCI6IkEwOEgwQzI2QkVaIiwiY2lkIjoiQzA4SDU0TjZCNkcifQ'}\n",
      "Received Slack event: {'token': 'vcOktFRX27KKXwM6mDwo1R9u', 'team_id': 'T08GLQ3HC07', 'context_team_id': 'T08GLQ3HC07', 'context_enterprise_id': None, 'api_app_id': 'A08H0C26BEZ', 'event': {'user': 'U08GLQ3JKGX', 'type': 'message', 'ts': '1741724676.020499', 'client_msg_id': '36b7800b-3faf-4a23-ac4b-7fae7d68ce8c', 'text': 'Raise an incident with high priority', 'team': 'T08GLQ3HC07', 'thread_ts': '1741724626.012559', 'parent_user_id': 'U08GLQ3JKGX', 'blocks': [{'type': 'rich_text', 'block_id': 'v1USE', 'elements': [{'type': 'rich_text_section', 'elements': [{'type': 'text', 'text': 'Raise an incident with high priority'}]}]}], 'channel': 'C08H54N6B6G', 'event_ts': '1741724676.020499', 'channel_type': 'channel'}, 'type': 'event_callback', 'event_id': 'Ev08H7LCT1NZ', 'event_time': 1741724676, 'authorizations': [{'enterprise_id': None, 'team_id': 'T08GLQ3HC07', 'user_id': 'U08H42J6JQ3', 'is_bot': True, 'is_enterprise_install': False}], 'is_ext_shared_channel': False, 'event_context': '4-eyJldCI6Im1lc3NhZ2UiLCJ0aWQiOiJUMDhHTFEzSEMwNyIsImFpZCI6IkEwOEgwQzI2QkVaIiwiY2lkIjoiQzA4SDU0TjZCNkcifQ'}\n",
      "Entities: [('Raise', 'RAISE_INCIDENT'), ('high', 'SEVERITY')]\n"
     ]
    },
    {
     "name": "stderr",
     "output_type": "stream",
     "text": [
      "127.0.0.1 - - [11/Mar/2025 16:24:37] \"POST /slack/events HTTP/1.1\" 200 -\n",
      "127.0.0.1 - - [11/Mar/2025 16:24:37] \"POST /slack/events HTTP/1.1\" 200 -\n"
     ]
    },
    {
     "name": "stdout",
     "output_type": "stream",
     "text": [
      "Received Slack event: {'token': 'vcOktFRX27KKXwM6mDwo1R9u', 'team_id': 'T08GLQ3HC07', 'context_team_id': 'T08GLQ3HC07', 'context_enterprise_id': None, 'api_app_id': 'A08H0C26BEZ', 'event': {'user': 'U08H42J6JQ3', 'type': 'message', 'ts': '1741724677.055439', 'bot_id': 'B08H42J4LGK', 'app_id': 'A08H0C26BEZ', 'text': '*Incident Raised:* Your incident has been successfully raised and marked as *high* priority. :warning: \\n\\nThe *Site Reliability Engineering (SRE)* team will address it as soon as possible to ensure a swift resolution. :rocket:\\n\\nThank you for your patience!', 'team': 'T08GLQ3HC07', 'bot_profile': {'id': 'B08H42J4LGK', 'deleted': False, 'name': 'ResolveBotAI', 'updated': 1741724274, 'app_id': 'A08H0C26BEZ', 'icons': {'image_36': 'https://avatars.slack-edge.com/2025-03-11/8598251960609_3c2d1ae37c97719d8575_36.webp', 'image_48': 'https://avatars.slack-edge.com/2025-03-11/8598251960609_3c2d1ae37c97719d8575_48.webp', 'image_72': 'https://avatars.slack-edge.com/2025-03-11/8598251960609_3c2d1ae37c97719d8575_72.webp'}, 'team_id': 'T08GLQ3HC07'}, 'thread_ts': '1741724626.012559', 'parent_user_id': 'U08GLQ3JKGX', 'blocks': [{'type': 'rich_text', 'block_id': 'Upke', 'elements': [{'type': 'rich_text_section', 'elements': [{'type': 'text', 'text': 'Incident Raised:', 'style': {'bold': True}}, {'type': 'text', 'text': ' Your incident has been successfully raised and marked as '}, {'type': 'text', 'text': 'high', 'style': {'bold': True}}, {'type': 'text', 'text': ' priority. '}, {'type': 'emoji', 'name': 'warning', 'unicode': '26a0-fe0f'}, {'type': 'text', 'text': ' \\n\\nThe '}, {'type': 'text', 'text': 'Site Reliability Engineering (SRE)', 'style': {'bold': True}}, {'type': 'text', 'text': ' team will address it as soon as possible to ensure a swift resolution. '}, {'type': 'emoji', 'name': 'rocket', 'unicode': '1f680'}, {'type': 'text', 'text': '\\n\\nThank you for your patience!'}]}]}], 'channel': 'C08H54N6B6G', 'event_ts': '1741724677.055439', 'channel_type': 'channel'}, 'type': 'event_callback', 'event_id': 'Ev08H2JKBD1C', 'event_time': 1741724677, 'authorizations': [{'enterprise_id': None, 'team_id': 'T08GLQ3HC07', 'user_id': 'U08H42J6JQ3', 'is_bot': True, 'is_enterprise_install': False}], 'is_ext_shared_channel': False, 'event_context': '4-eyJldCI6Im1lc3NhZ2UiLCJ0aWQiOiJUMDhHTFEzSEMwNyIsImFpZCI6IkEwOEgwQzI2QkVaIiwiY2lkIjoiQzA4SDU0TjZCNkcifQ'}\n",
      "Received Slack event: {'token': 'vcOktFRX27KKXwM6mDwo1R9u', 'team_id': 'T08GLQ3HC07', 'context_team_id': 'T08GLQ3HC07', 'context_enterprise_id': None, 'api_app_id': 'A08H0C26BEZ', 'event': {'user': 'U08GLQ3JKGX', 'type': 'message', 'ts': '1741724699.759999', 'client_msg_id': '1132a574-ef48-452a-86d4-6995734d057e', 'text': 'Portal shows customer opted out message', 'team': 'T08GLQ3HC07', 'blocks': [{'type': 'rich_text', 'block_id': 'wuaeq', 'elements': [{'type': 'rich_text_section', 'elements': [{'type': 'text', 'text': 'Portal shows customer opted out message'}]}]}], 'channel': 'C08H54N6B6G', 'event_ts': '1741724699.759999', 'channel_type': 'channel'}, 'type': 'event_callback', 'event_id': 'Ev08HL8F67RP', 'event_time': 1741724699, 'authorizations': [{'enterprise_id': None, 'team_id': 'T08GLQ3HC07', 'user_id': 'U08H42J6JQ3', 'is_bot': True, 'is_enterprise_install': False}], 'is_ext_shared_channel': False, 'event_context': '4-eyJldCI6Im1lc3NhZ2UiLCJ0aWQiOiJUMDhHTFEzSEMwNyIsImFpZCI6IkEwOEgwQzI2QkVaIiwiY2lkIjoiQzA4SDU0TjZCNkcifQ'}\n",
      "Entities: [('out', 'SEVERITY')]\n"
     ]
    },
    {
     "name": "stderr",
     "output_type": "stream",
     "text": [
      "127.0.0.1 - - [11/Mar/2025 16:25:01] \"POST /slack/events HTTP/1.1\" 200 -\n",
      "127.0.0.1 - - [11/Mar/2025 16:25:03] \"POST /slack/events HTTP/1.1\" 200 -\n"
     ]
    },
    {
     "name": "stdout",
     "output_type": "stream",
     "text": [
      "Received Slack event: {'token': 'vcOktFRX27KKXwM6mDwo1R9u', 'team_id': 'T08GLQ3HC07', 'context_team_id': 'T08GLQ3HC07', 'context_enterprise_id': None, 'api_app_id': 'A08H0C26BEZ', 'event': {'user': 'U08H42J6JQ3', 'type': 'message', 'ts': '1741724701.422119', 'bot_id': 'B08H42J4LGK', 'app_id': 'A08H0C26BEZ', 'text': '*Offer Not Displayed:* The offer is not displayed because the customer has opted out of solicitation, making them ineligible for any offers. :x: However, if you are not satisfied with this response, I can escalate the issue by raising an incident so a support representative can review it further. Would you like me to raise it? :raised_hands:', 'team': 'T08GLQ3HC07', 'bot_profile': {'id': 'B08H42J4LGK', 'deleted': False, 'name': 'ResolveBotAI', 'updated': 1741724274, 'app_id': 'A08H0C26BEZ', 'icons': {'image_36': 'https://avatars.slack-edge.com/2025-03-11/8598251960609_3c2d1ae37c97719d8575_36.webp', 'image_48': 'https://avatars.slack-edge.com/2025-03-11/8598251960609_3c2d1ae37c97719d8575_48.webp', 'image_72': 'https://avatars.slack-edge.com/2025-03-11/8598251960609_3c2d1ae37c97719d8575_72.webp'}, 'team_id': 'T08GLQ3HC07'}, 'thread_ts': '1741724699.759999', 'parent_user_id': 'U08GLQ3JKGX', 'blocks': [{'type': 'rich_text', 'block_id': 'v8FRH', 'elements': [{'type': 'rich_text_section', 'elements': [{'type': 'text', 'text': 'Offer Not Displayed:', 'style': {'bold': True}}, {'type': 'text', 'text': ' The offer is not displayed because the customer has opted out of solicitation, making them ineligible for any offers. '}, {'type': 'emoji', 'name': 'x', 'unicode': '274c'}, {'type': 'text', 'text': ' However, if you are not satisfied with this response, I can escalate the issue by raising an incident so a support representative can review it further. Would you like me to raise it? '}, {'type': 'emoji', 'name': 'raised_hands', 'unicode': '1f64c'}]}]}], 'channel': 'C08H54N6B6G', 'event_ts': '1741724701.422119', 'channel_type': 'channel'}, 'type': 'event_callback', 'event_id': 'Ev08HCUK5S2Y', 'event_time': 1741724701, 'authorizations': [{'enterprise_id': None, 'team_id': 'T08GLQ3HC07', 'user_id': 'U08H42J6JQ3', 'is_bot': True, 'is_enterprise_install': False}], 'is_ext_shared_channel': False, 'event_context': '4-eyJldCI6Im1lc3NhZ2UiLCJ0aWQiOiJUMDhHTFEzSEMwNyIsImFpZCI6IkEwOEgwQzI2QkVaIiwiY2lkIjoiQzA4SDU0TjZCNkcifQ'}\n",
      "Received Slack event: {'token': 'vcOktFRX27KKXwM6mDwo1R9u', 'team_id': 'T08GLQ3HC07', 'context_team_id': 'T08GLQ3HC07', 'context_enterprise_id': None, 'api_app_id': 'A08H0C26BEZ', 'event': {'user': 'U08GLQ3JKGX', 'type': 'message', 'ts': '1741724732.471269', 'client_msg_id': '09cf8b78-8864-4261-8d38-4dde5cfd2bc0', 'text': 'I am getting ID access issues in the portal', 'team': 'T08GLQ3HC07', 'blocks': [{'type': 'rich_text', 'block_id': '6CVFi', 'elements': [{'type': 'rich_text_section', 'elements': [{'type': 'text', 'text': 'I am getting ID access issues in the portal'}]}]}], 'channel': 'C08H54N6B6G', 'event_ts': '1741724732.471269', 'channel_type': 'channel'}, 'type': 'event_callback', 'event_id': 'Ev08HXLLHV16', 'event_time': 1741724732, 'authorizations': [{'enterprise_id': None, 'team_id': 'T08GLQ3HC07', 'user_id': 'U08H42J6JQ3', 'is_bot': True, 'is_enterprise_install': False}], 'is_ext_shared_channel': False, 'event_context': '4-eyJldCI6Im1lc3NhZ2UiLCJ0aWQiOiJUMDhHTFEzSEMwNyIsImFpZCI6IkEwOEgwQzI2QkVaIiwiY2lkIjoiQzA4SDU0TjZCNkcifQ'}\n",
      "Entities: [('I', 'RAISE_INCIDENT')]\n"
     ]
    },
    {
     "name": "stderr",
     "output_type": "stream",
     "text": [
      "127.0.0.1 - - [11/Mar/2025 16:25:34] \"POST /slack/events HTTP/1.1\" 200 -\n",
      "127.0.0.1 - - [11/Mar/2025 16:25:35] \"POST /slack/events HTTP/1.1\" 200 -\n"
     ]
    },
    {
     "name": "stdout",
     "output_type": "stream",
     "text": [
      "Received Slack event: {'token': 'vcOktFRX27KKXwM6mDwo1R9u', 'team_id': 'T08GLQ3HC07', 'context_team_id': 'T08GLQ3HC07', 'context_enterprise_id': None, 'api_app_id': 'A08H0C26BEZ', 'event': {'user': 'U08H42J6JQ3', 'type': 'message', 'ts': '1741724734.424309', 'bot_id': 'B08H42J4LGK', 'app_id': 'A08H0C26BEZ', 'text': '*Offer Not Displayed:* The offer is not displayed because the customer has opted out of solicitation, making them ineligible for any offers. :x: However, if you are not satisfied with this response, I can escalate the issue by raising an incident so a support representative can review it further. Would you like me to raise it? :raised_hands:', 'team': 'T08GLQ3HC07', 'bot_profile': {'id': 'B08H42J4LGK', 'deleted': False, 'name': 'ResolveBotAI', 'updated': 1741724274, 'app_id': 'A08H0C26BEZ', 'icons': {'image_36': 'https://avatars.slack-edge.com/2025-03-11/8598251960609_3c2d1ae37c97719d8575_36.webp', 'image_48': 'https://avatars.slack-edge.com/2025-03-11/8598251960609_3c2d1ae37c97719d8575_48.webp', 'image_72': 'https://avatars.slack-edge.com/2025-03-11/8598251960609_3c2d1ae37c97719d8575_72.webp'}, 'team_id': 'T08GLQ3HC07'}, 'thread_ts': '1741724732.471269', 'parent_user_id': 'U08GLQ3JKGX', 'blocks': [{'type': 'rich_text', 'block_id': 'KudnN', 'elements': [{'type': 'rich_text_section', 'elements': [{'type': 'text', 'text': 'Offer Not Displayed:', 'style': {'bold': True}}, {'type': 'text', 'text': ' The offer is not displayed because the customer has opted out of solicitation, making them ineligible for any offers. '}, {'type': 'emoji', 'name': 'x', 'unicode': '274c'}, {'type': 'text', 'text': ' However, if you are not satisfied with this response, I can escalate the issue by raising an incident so a support representative can review it further. Would you like me to raise it? '}, {'type': 'emoji', 'name': 'raised_hands', 'unicode': '1f64c'}]}]}], 'channel': 'C08H54N6B6G', 'event_ts': '1741724734.424309', 'channel_type': 'channel'}, 'type': 'event_callback', 'event_id': 'Ev08H7LH2HTP', 'event_time': 1741724734, 'authorizations': [{'enterprise_id': None, 'team_id': 'T08GLQ3HC07', 'user_id': 'U08H42J6JQ3', 'is_bot': True, 'is_enterprise_install': False}], 'is_ext_shared_channel': False, 'event_context': '4-eyJldCI6Im1lc3NhZ2UiLCJ0aWQiOiJUMDhHTFEzSEMwNyIsImFpZCI6IkEwOEgwQzI2QkVaIiwiY2lkIjoiQzA4SDU0TjZCNkcifQ'}\n",
      "Received Slack event: {'token': 'vcOktFRX27KKXwM6mDwo1R9u', 'team_id': 'T08GLQ3HC07', 'context_team_id': 'T08GLQ3HC07', 'context_enterprise_id': None, 'api_app_id': 'A08H0C26BEZ', 'event': {'user': 'U08GLQ3JKGX', 'type': 'message', 'ts': '1741724747.244169', 'client_msg_id': '735079b7-1a92-4d2e-bee7-388e29fbcc79', 'text': 'I am getting ID access issue', 'team': 'T08GLQ3HC07', 'blocks': [{'type': 'rich_text', 'block_id': 'Nnbjo', 'elements': [{'type': 'rich_text_section', 'elements': [{'type': 'text', 'text': 'I am getting ID access issue'}]}]}], 'channel': 'C08H54N6B6G', 'event_ts': '1741724747.244169', 'channel_type': 'channel'}, 'type': 'event_callback', 'event_id': 'Ev08H2JRMY4E', 'event_time': 1741724747, 'authorizations': [{'enterprise_id': None, 'team_id': 'T08GLQ3HC07', 'user_id': 'U08H42J6JQ3', 'is_bot': True, 'is_enterprise_install': False}], 'is_ext_shared_channel': False, 'event_context': '4-eyJldCI6Im1lc3NhZ2UiLCJ0aWQiOiJUMDhHTFEzSEMwNyIsImFpZCI6IkEwOEgwQzI2QkVaIiwiY2lkIjoiQzA4SDU0TjZCNkcifQ'}\n",
      "Entities: [('I', 'RAISE_INCIDENT')]\n"
     ]
    },
    {
     "name": "stderr",
     "output_type": "stream",
     "text": [
      "127.0.0.1 - - [11/Mar/2025 16:25:48] \"POST /slack/events HTTP/1.1\" 200 -\n",
      "127.0.0.1 - - [11/Mar/2025 16:25:50] \"POST /slack/events HTTP/1.1\" 200 -\n"
     ]
    },
    {
     "name": "stdout",
     "output_type": "stream",
     "text": [
      "Received Slack event: {'token': 'vcOktFRX27KKXwM6mDwo1R9u', 'team_id': 'T08GLQ3HC07', 'context_team_id': 'T08GLQ3HC07', 'context_enterprise_id': None, 'api_app_id': 'A08H0C26BEZ', 'event': {'user': 'U08H42J6JQ3', 'type': 'message', 'ts': '1741724748.503439', 'bot_id': 'B08H42J4LGK', 'app_id': 'A08H0C26BEZ', 'text': \"*Access Issue:* The Customer Care Professional doesn't have the required access to manage the offer. To enable the user to service the offer, an access request needs to be raised. :lock: Would you like me to initiate the request for you? :bar_chart:\", 'team': 'T08GLQ3HC07', 'bot_profile': {'id': 'B08H42J4LGK', 'deleted': False, 'name': 'ResolveBotAI', 'updated': 1741724274, 'app_id': 'A08H0C26BEZ', 'icons': {'image_36': 'https://avatars.slack-edge.com/2025-03-11/8598251960609_3c2d1ae37c97719d8575_36.webp', 'image_48': 'https://avatars.slack-edge.com/2025-03-11/8598251960609_3c2d1ae37c97719d8575_48.webp', 'image_72': 'https://avatars.slack-edge.com/2025-03-11/8598251960609_3c2d1ae37c97719d8575_72.webp'}, 'team_id': 'T08GLQ3HC07'}, 'thread_ts': '1741724747.244169', 'parent_user_id': 'U08GLQ3JKGX', 'blocks': [{'type': 'rich_text', 'block_id': 'HfCD', 'elements': [{'type': 'rich_text_section', 'elements': [{'type': 'text', 'text': 'Access Issue:', 'style': {'bold': True}}, {'type': 'text', 'text': \" The Customer Care Professional doesn't have the required access to manage the offer. To enable the user to service the offer, an access request needs to be raised. \"}, {'type': 'emoji', 'name': 'lock', 'unicode': '1f512'}, {'type': 'text', 'text': ' Would you like me to initiate the request for you? '}, {'type': 'emoji', 'name': 'bar_chart', 'unicode': '1f4ca'}]}]}], 'channel': 'C08H54N6B6G', 'event_ts': '1741724748.503439', 'channel_type': 'channel'}, 'type': 'event_callback', 'event_id': 'Ev08H2JRJ4MC', 'event_time': 1741724748, 'authorizations': [{'enterprise_id': None, 'team_id': 'T08GLQ3HC07', 'user_id': 'U08H42J6JQ3', 'is_bot': True, 'is_enterprise_install': False}], 'is_ext_shared_channel': False, 'event_context': '4-eyJldCI6Im1lc3NhZ2UiLCJ0aWQiOiJUMDhHTFEzSEMwNyIsImFpZCI6IkEwOEgwQzI2QkVaIiwiY2lkIjoiQzA4SDU0TjZCNkcifQ'}\n",
      "Received Slack event: {'token': 'vcOktFRX27KKXwM6mDwo1R9u', 'team_id': 'T08GLQ3HC07', 'context_team_id': 'T08GLQ3HC07', 'context_enterprise_id': None, 'api_app_id': 'A08H0C26BEZ', 'event': {'user': 'U08GLQ3JKGX', 'type': 'message', 'ts': '1741724769.437169', 'client_msg_id': '3b43cdc6-5e0e-4e2d-9f4e-417316417f50', 'text': 'Portal not working', 'team': 'T08GLQ3HC07', 'blocks': [{'type': 'rich_text', 'block_id': 'Ae/Lo', 'elements': [{'type': 'rich_text_section', 'elements': [{'type': 'text', 'text': 'Portal not working'}]}]}], 'channel': 'C08H54N6B6G', 'event_ts': '1741724769.437169', 'channel_type': 'channel'}, 'type': 'event_callback', 'event_id': 'Ev08H2JSRAES', 'event_time': 1741724769, 'authorizations': [{'enterprise_id': None, 'team_id': 'T08GLQ3HC07', 'user_id': 'U08H42J6JQ3', 'is_bot': True, 'is_enterprise_install': False}], 'is_ext_shared_channel': False, 'event_context': '4-eyJldCI6Im1lc3NhZ2UiLCJ0aWQiOiJUMDhHTFEzSEMwNyIsImFpZCI6IkEwOEgwQzI2QkVaIiwiY2lkIjoiQzA4SDU0TjZCNkcifQ'}\n",
      "Entities: [('not', 'SEVERITY')]\n"
     ]
    },
    {
     "name": "stderr",
     "output_type": "stream",
     "text": [
      "127.0.0.1 - - [11/Mar/2025 16:26:11] \"POST /slack/events HTTP/1.1\" 200 -\n",
      "127.0.0.1 - - [11/Mar/2025 16:26:12] \"POST /slack/events HTTP/1.1\" 200 -\n"
     ]
    },
    {
     "name": "stdout",
     "output_type": "stream",
     "text": [
      "Received Slack event: {'token': 'vcOktFRX27KKXwM6mDwo1R9u', 'team_id': 'T08GLQ3HC07', 'context_team_id': 'T08GLQ3HC07', 'context_enterprise_id': None, 'api_app_id': 'A08H0C26BEZ', 'event': {'user': 'U08H42J6JQ3', 'type': 'message', 'ts': '1741724770.634369', 'bot_id': 'B08H42J4LGK', 'app_id': 'A08H0C26BEZ', 'text': \"*Sorry, I couldn't determine the issue:* I'm unable to determine the issue from your message. Could you please provide more details or clarify the problem? :thinking_face: If needed, I can escalate this to a support team member for further assistance. :telephone_receiver:\", 'team': 'T08GLQ3HC07', 'bot_profile': {'id': 'B08H42J4LGK', 'deleted': False, 'name': 'ResolveBotAI', 'updated': 1741724274, 'app_id': 'A08H0C26BEZ', 'icons': {'image_36': 'https://avatars.slack-edge.com/2025-03-11/8598251960609_3c2d1ae37c97719d8575_36.webp', 'image_48': 'https://avatars.slack-edge.com/2025-03-11/8598251960609_3c2d1ae37c97719d8575_48.webp', 'image_72': 'https://avatars.slack-edge.com/2025-03-11/8598251960609_3c2d1ae37c97719d8575_72.webp'}, 'team_id': 'T08GLQ3HC07'}, 'thread_ts': '1741724769.437169', 'parent_user_id': 'U08GLQ3JKGX', 'blocks': [{'type': 'rich_text', 'block_id': 'F=FT', 'elements': [{'type': 'rich_text_section', 'elements': [{'type': 'text', 'text': \"Sorry, I couldn't determine the issue:\", 'style': {'bold': True}}, {'type': 'text', 'text': \" I'm unable to determine the issue from your message. Could you please provide more details or clarify the problem? \"}, {'type': 'emoji', 'name': 'thinking_face', 'unicode': '1f914'}, {'type': 'text', 'text': ' If needed, I can escalate this to a support team member for further assistance. '}, {'type': 'emoji', 'name': 'telephone_receiver', 'unicode': '1f4de'}]}]}], 'channel': 'C08H54N6B6G', 'event_ts': '1741724770.634369', 'channel_type': 'channel'}, 'type': 'event_callback', 'event_id': 'Ev08HA0M7YSW', 'event_time': 1741724770, 'authorizations': [{'enterprise_id': None, 'team_id': 'T08GLQ3HC07', 'user_id': 'U08H42J6JQ3', 'is_bot': True, 'is_enterprise_install': False}], 'is_ext_shared_channel': False, 'event_context': '4-eyJldCI6Im1lc3NhZ2UiLCJ0aWQiOiJUMDhHTFEzSEMwNyIsImFpZCI6IkEwOEgwQzI2QkVaIiwiY2lkIjoiQzA4SDU0TjZCNkcifQ'}\n",
      "Received Slack event: {'token': 'vcOktFRX27KKXwM6mDwo1R9u', 'team_id': 'T08GLQ3HC07', 'context_team_id': 'T08GLQ3HC07', 'context_enterprise_id': None, 'api_app_id': 'A08H0C26BEZ', 'event': {'subtype': 'channel_join', 'user': 'U08H42J6JQ3', 'text': '<@U08H42J6JQ3> has joined the channel', 'inviter': 'U08GLQ3JKGX', 'type': 'message', 'ts': '1741725026.901359', 'channel': 'C08HL984BEV', 'event_ts': '1741725026.901359', 'channel_type': 'channel'}, 'type': 'event_callback', 'event_id': 'Ev08H2KFKV1C', 'event_time': 1741725026, 'authorizations': [{'enterprise_id': None, 'team_id': 'T08GLQ3HC07', 'user_id': 'U08H42J6JQ3', 'is_bot': True, 'is_enterprise_install': False}], 'is_ext_shared_channel': False, 'event_context': '4-eyJldCI6Im1lc3NhZ2UiLCJ0aWQiOiJUMDhHTFEzSEMwNyIsImFpZCI6IkEwOEgwQzI2QkVaIiwiY2lkIjoiQzA4SEw5ODRCRVYifQ'}\n",
      "Entities: [('has', 'SEVERITY'), ('the', 'SEVERITY')]\n"
     ]
    },
    {
     "name": "stderr",
     "output_type": "stream",
     "text": [
      "127.0.0.1 - - [11/Mar/2025 16:30:28] \"POST /slack/events HTTP/1.1\" 200 -\n"
     ]
    },
    {
     "name": "stdout",
     "output_type": "stream",
     "text": [
      "Received Slack event: {'token': 'vcOktFRX27KKXwM6mDwo1R9u', 'team_id': 'T08GLQ3HC07', 'context_team_id': 'T08GLQ3HC07', 'context_enterprise_id': None, 'api_app_id': 'A08H0C26BEZ', 'event': {'user': 'U08GLQ3JKGX', 'type': 'message', 'ts': '1741725126.051509', 'client_msg_id': '8d89c6d3-ae7a-4beb-8212-c4bb9edcfae3', 'text': 'I am getting customer opted out message', 'team': 'T08GLQ3HC07', 'blocks': [{'type': 'rich_text', 'block_id': 'A05hm', 'elements': [{'type': 'rich_text_section', 'elements': [{'type': 'text', 'text': 'I am getting customer opted out message'}]}]}], 'channel': 'C08HL984BEV', 'event_ts': '1741725126.051509', 'channel_type': 'channel'}, 'type': 'event_callback', 'event_id': 'Ev08H7ML0MPX', 'event_time': 1741725126, 'authorizations': [{'enterprise_id': None, 'team_id': 'T08GLQ3HC07', 'user_id': 'U08H42J6JQ3', 'is_bot': True, 'is_enterprise_install': False}], 'is_ext_shared_channel': False, 'event_context': '4-eyJldCI6Im1lc3NhZ2UiLCJ0aWQiOiJUMDhHTFEzSEMwNyIsImFpZCI6IkEwOEgwQzI2QkVaIiwiY2lkIjoiQzA4SEw5ODRCRVYifQ'}\n",
      "Entities: [('I', 'RAISE_INCIDENT'), ('out', 'SEVERITY')]\n"
     ]
    },
    {
     "name": "stderr",
     "output_type": "stream",
     "text": [
      "127.0.0.1 - - [11/Mar/2025 16:32:08] \"POST /slack/events HTTP/1.1\" 200 -\n",
      "127.0.0.1 - - [11/Mar/2025 16:32:08] \"POST /slack/events HTTP/1.1\" 200 -\n"
     ]
    },
    {
     "name": "stdout",
     "output_type": "stream",
     "text": [
      "Received Slack event: {'token': 'vcOktFRX27KKXwM6mDwo1R9u', 'team_id': 'T08GLQ3HC07', 'context_team_id': 'T08GLQ3HC07', 'context_enterprise_id': None, 'api_app_id': 'A08H0C26BEZ', 'event': {'user': 'U08H42J6JQ3', 'type': 'message', 'ts': '1741725127.646199', 'bot_id': 'B08H42J4LGK', 'app_id': 'A08H0C26BEZ', 'text': '*Incident Raised:* Your incident has been successfully raised and marked as *out* priority. :warning: \\n\\nThe *Site Reliability Engineering (SRE)* team will address it as soon as possible to ensure a swift resolution. :rocket:\\n\\nThank you for your patience!', 'team': 'T08GLQ3HC07', 'bot_profile': {'id': 'B08H42J4LGK', 'deleted': False, 'name': 'ResolveBotAI', 'updated': 1741724274, 'app_id': 'A08H0C26BEZ', 'icons': {'image_36': 'https://avatars.slack-edge.com/2025-03-11/8598251960609_3c2d1ae37c97719d8575_36.webp', 'image_48': 'https://avatars.slack-edge.com/2025-03-11/8598251960609_3c2d1ae37c97719d8575_48.webp', 'image_72': 'https://avatars.slack-edge.com/2025-03-11/8598251960609_3c2d1ae37c97719d8575_72.webp'}, 'team_id': 'T08GLQ3HC07'}, 'thread_ts': '1741725126.051509', 'parent_user_id': 'U08GLQ3JKGX', 'blocks': [{'type': 'rich_text', 'block_id': 'LeaF', 'elements': [{'type': 'rich_text_section', 'elements': [{'type': 'text', 'text': 'Incident Raised:', 'style': {'bold': True}}, {'type': 'text', 'text': ' Your incident has been successfully raised and marked as '}, {'type': 'text', 'text': 'out', 'style': {'bold': True}}, {'type': 'text', 'text': ' priority. '}, {'type': 'emoji', 'name': 'warning', 'unicode': '26a0-fe0f'}, {'type': 'text', 'text': ' \\n\\nThe '}, {'type': 'text', 'text': 'Site Reliability Engineering (SRE)', 'style': {'bold': True}}, {'type': 'text', 'text': ' team will address it as soon as possible to ensure a swift resolution. '}, {'type': 'emoji', 'name': 'rocket', 'unicode': '1f680'}, {'type': 'text', 'text': '\\n\\nThank you for your patience!'}]}]}], 'channel': 'C08HL984BEV', 'event_ts': '1741725127.646199', 'channel_type': 'channel'}, 'type': 'event_callback', 'event_id': 'Ev08H7ML9GPP', 'event_time': 1741725127, 'authorizations': [{'enterprise_id': None, 'team_id': 'T08GLQ3HC07', 'user_id': 'U08H42J6JQ3', 'is_bot': True, 'is_enterprise_install': False}], 'is_ext_shared_channel': False, 'event_context': '4-eyJldCI6Im1lc3NhZ2UiLCJ0aWQiOiJUMDhHTFEzSEMwNyIsImFpZCI6IkEwOEgwQzI2QkVaIiwiY2lkIjoiQzA4SEw5ODRCRVYifQ'}\n",
      "Received Slack event: {'token': 'vcOktFRX27KKXwM6mDwo1R9u', 'team_id': 'T08GLQ3HC07', 'context_team_id': 'T08GLQ3HC07', 'context_enterprise_id': None, 'api_app_id': 'A08H0C26BEZ', 'event': {'user': 'U08GLQ3JKGX', 'type': 'message', 'ts': '1741725147.751589', 'client_msg_id': 'd426f512-e8d2-4265-aa14-8966d05373b6', 'text': 'I am getting customer opted out from offers', 'team': 'T08GLQ3HC07', 'blocks': [{'type': 'rich_text', 'block_id': '737Xb', 'elements': [{'type': 'rich_text_section', 'elements': [{'type': 'text', 'text': 'I am getting customer opted out from offers'}]}]}], 'channel': 'C08HL984BEV', 'event_ts': '1741725147.751589', 'channel_type': 'channel'}, 'type': 'event_callback', 'event_id': 'Ev08H7MMRSF7', 'event_time': 1741725147, 'authorizations': [{'enterprise_id': None, 'team_id': 'T08GLQ3HC07', 'user_id': 'U08H42J6JQ3', 'is_bot': True, 'is_enterprise_install': False}], 'is_ext_shared_channel': False, 'event_context': '4-eyJldCI6Im1lc3NhZ2UiLCJ0aWQiOiJUMDhHTFEzSEMwNyIsImFpZCI6IkEwOEgwQzI2QkVaIiwiY2lkIjoiQzA4SEw5ODRCRVYifQ'}\n",
      "Entities: [('I', 'RAISE_INCIDENT')]\n"
     ]
    },
    {
     "name": "stderr",
     "output_type": "stream",
     "text": [
      "127.0.0.1 - - [11/Mar/2025 16:32:29] \"POST /slack/events HTTP/1.1\" 200 -\n",
      "127.0.0.1 - - [11/Mar/2025 16:32:30] \"POST /slack/events HTTP/1.1\" 200 -\n"
     ]
    },
    {
     "name": "stdout",
     "output_type": "stream",
     "text": [
      "Received Slack event: {'token': 'vcOktFRX27KKXwM6mDwo1R9u', 'team_id': 'T08GLQ3HC07', 'context_team_id': 'T08GLQ3HC07', 'context_enterprise_id': None, 'api_app_id': 'A08H0C26BEZ', 'event': {'user': 'U08H42J6JQ3', 'type': 'message', 'ts': '1741725148.672239', 'bot_id': 'B08H42J4LGK', 'app_id': 'A08H0C26BEZ', 'text': '*Offer Not Displayed:* The offer is not displayed because the customer has opted out of solicitation, making them ineligible for any offers. :x: However, if you are not satisfied with this response, I can escalate the issue by raising an incident so a support representative can review it further. Would you like me to raise it? :raised_hands:', 'team': 'T08GLQ3HC07', 'bot_profile': {'id': 'B08H42J4LGK', 'deleted': False, 'name': 'ResolveBotAI', 'updated': 1741724274, 'app_id': 'A08H0C26BEZ', 'icons': {'image_36': 'https://avatars.slack-edge.com/2025-03-11/8598251960609_3c2d1ae37c97719d8575_36.webp', 'image_48': 'https://avatars.slack-edge.com/2025-03-11/8598251960609_3c2d1ae37c97719d8575_48.webp', 'image_72': 'https://avatars.slack-edge.com/2025-03-11/8598251960609_3c2d1ae37c97719d8575_72.webp'}, 'team_id': 'T08GLQ3HC07'}, 'thread_ts': '1741725147.751589', 'parent_user_id': 'U08GLQ3JKGX', 'blocks': [{'type': 'rich_text', 'block_id': '9lF', 'elements': [{'type': 'rich_text_section', 'elements': [{'type': 'text', 'text': 'Offer Not Displayed:', 'style': {'bold': True}}, {'type': 'text', 'text': ' The offer is not displayed because the customer has opted out of solicitation, making them ineligible for any offers. '}, {'type': 'emoji', 'name': 'x', 'unicode': '274c'}, {'type': 'text', 'text': ' However, if you are not satisfied with this response, I can escalate the issue by raising an incident so a support representative can review it further. Would you like me to raise it? '}, {'type': 'emoji', 'name': 'raised_hands', 'unicode': '1f64c'}]}]}], 'channel': 'C08HL984BEV', 'event_ts': '1741725148.672239', 'channel_type': 'channel'}, 'type': 'event_callback', 'event_id': 'Ev08HXMP0VPA', 'event_time': 1741725148, 'authorizations': [{'enterprise_id': None, 'team_id': 'T08GLQ3HC07', 'user_id': 'U08H42J6JQ3', 'is_bot': True, 'is_enterprise_install': False}], 'is_ext_shared_channel': False, 'event_context': '4-eyJldCI6Im1lc3NhZ2UiLCJ0aWQiOiJUMDhHTFEzSEMwNyIsImFpZCI6IkEwOEgwQzI2QkVaIiwiY2lkIjoiQzA4SEw5ODRCRVYifQ'}\n"
     ]
    },
    {
     "name": "stderr",
     "output_type": "stream",
     "text": [
      "127.0.0.1 - - [11/Mar/2025 16:32:48] \"POST /slack/events HTTP/1.1\" 200 -\n"
     ]
    },
    {
     "name": "stdout",
     "output_type": "stream",
     "text": [
      "Received Slack event: {'token': 'vcOktFRX27KKXwM6mDwo1R9u', 'team_id': 'T08GLQ3HC07', 'context_team_id': 'T08GLQ3HC07', 'context_enterprise_id': None, 'api_app_id': 'A08H0C26BEZ', 'event': {'type': 'message', 'subtype': 'message_changed', 'message': {'subtype': 'tombstone', 'text': 'This message was deleted.', 'user': 'USLACKBOT', 'hidden': True, 'type': 'message', 'thread_ts': '1741725126.051509', 'reply_count': 1, 'reply_users_count': 1, 'latest_reply': '1741725127.646199', 'reply_users': ['U08H42J6JQ3'], 'is_locked': False, 'ts': '1741725126.051509'}, 'previous_message': {'user': 'U08GLQ3JKGX', 'type': 'message', 'ts': '1741725126.051509', 'client_msg_id': '8d89c6d3-ae7a-4beb-8212-c4bb9edcfae3', 'text': 'I am getting customer opted out message', 'team': 'T08GLQ3HC07', 'thread_ts': '1741725126.051509', 'reply_count': 1, 'reply_users_count': 1, 'latest_reply': '1741725127.646199', 'reply_users': ['U08H42J6JQ3'], 'is_locked': False, 'subscribed': True, 'last_read': '1741725127.646199', 'blocks': [{'type': 'rich_text', 'block_id': 'A05hm', 'elements': [{'type': 'rich_text_section', 'elements': [{'type': 'text', 'text': 'I am getting customer opted out message'}]}]}]}, 'channel': 'C08HL984BEV', 'hidden': True, 'ts': '1741725166.000500', 'event_ts': '1741725166.000500', 'channel_type': 'channel'}, 'type': 'event_callback', 'event_id': 'Ev08H7MP5A77', 'event_time': 1741725166, 'authorizations': [{'enterprise_id': None, 'team_id': 'T08GLQ3HC07', 'user_id': 'U08H42J6JQ3', 'is_bot': True, 'is_enterprise_install': False}], 'is_ext_shared_channel': False, 'event_context': '4-eyJldCI6Im1lc3NhZ2UiLCJ0aWQiOiJUMDhHTFEzSEMwNyIsImFpZCI6IkEwOEgwQzI2QkVaIiwiY2lkIjoiQzA4SEw5ODRCRVYifQ'}\n"
     ]
    },
    {
     "name": "stderr",
     "output_type": "stream",
     "text": [
      "127.0.0.1 - - [11/Mar/2025 16:32:52] \"POST /slack/events HTTP/1.1\" 200 -\n"
     ]
    },
    {
     "name": "stdout",
     "output_type": "stream",
     "text": [
      "Received Slack event: {'token': 'vcOktFRX27KKXwM6mDwo1R9u', 'team_id': 'T08GLQ3HC07', 'context_team_id': 'T08GLQ3HC07', 'context_enterprise_id': None, 'api_app_id': 'A08H0C26BEZ', 'event': {'type': 'message', 'subtype': 'message_changed', 'message': {'subtype': 'tombstone', 'text': 'This message was deleted.', 'user': 'USLACKBOT', 'hidden': True, 'type': 'message', 'thread_ts': '1741725147.751589', 'reply_count': 1, 'reply_users_count': 1, 'latest_reply': '1741725148.672239', 'reply_users': ['U08H42J6JQ3'], 'is_locked': False, 'ts': '1741725147.751589'}, 'previous_message': {'user': 'U08GLQ3JKGX', 'type': 'message', 'ts': '1741725147.751589', 'client_msg_id': 'd426f512-e8d2-4265-aa14-8966d05373b6', 'text': 'I am getting customer opted out from offers', 'team': 'T08GLQ3HC07', 'thread_ts': '1741725147.751589', 'reply_count': 1, 'reply_users_count': 1, 'latest_reply': '1741725148.672239', 'reply_users': ['U08H42J6JQ3'], 'is_locked': False, 'subscribed': True, 'last_read': '1741725148.672239', 'blocks': [{'type': 'rich_text', 'block_id': '737Xb', 'elements': [{'type': 'rich_text_section', 'elements': [{'type': 'text', 'text': 'I am getting customer opted out from offers'}]}]}]}, 'channel': 'C08HL984BEV', 'hidden': True, 'ts': '1741725171.000600', 'event_ts': '1741725171.000600', 'channel_type': 'channel'}, 'type': 'event_callback', 'event_id': 'Ev08HXMQL9SL', 'event_time': 1741725171, 'authorizations': [{'enterprise_id': None, 'team_id': 'T08GLQ3HC07', 'user_id': 'U08H42J6JQ3', 'is_bot': True, 'is_enterprise_install': False}], 'is_ext_shared_channel': False, 'event_context': '4-eyJldCI6Im1lc3NhZ2UiLCJ0aWQiOiJUMDhHTFEzSEMwNyIsImFpZCI6IkEwOEgwQzI2QkVaIiwiY2lkIjoiQzA4SEw5ODRCRVYifQ'}\n"
     ]
    },
    {
     "name": "stderr",
     "output_type": "stream",
     "text": [
      "127.0.0.1 - - [11/Mar/2025 16:33:05] \"POST /slack/events HTTP/1.1\" 200 -\n",
      "127.0.0.1 - - [11/Mar/2025 16:33:05] \"POST /slack/events HTTP/1.1\" 200 -\n"
     ]
    },
    {
     "name": "stdout",
     "output_type": "stream",
     "text": [
      "Received Slack event: {'token': 'vcOktFRX27KKXwM6mDwo1R9u', 'team_id': 'T08GLQ3HC07', 'context_team_id': 'T08GLQ3HC07', 'context_enterprise_id': None, 'api_app_id': 'A08H0C26BEZ', 'event': {'type': 'message', 'subtype': 'message_deleted', 'previous_message': {'user': 'U08H42J6JQ3', 'type': 'message', 'ts': '1741725127.646199', 'bot_id': 'B08H42J4LGK', 'app_id': 'A08H0C26BEZ', 'text': '*Incident Raised:* Your incident has been successfully raised and marked as *out* priority. :warning: \\n\\nThe *Site Reliability Engineering (SRE)* team will address it as soon as possible to ensure a swift resolution. :rocket:\\n\\nThank you for your patience!', 'team': 'T08GLQ3HC07', 'bot_profile': {'id': 'B08H42J4LGK', 'deleted': False, 'name': 'ResolveBotAI', 'updated': 1741724274, 'app_id': 'A08H0C26BEZ', 'icons': {'image_36': 'https://avatars.slack-edge.com/2025-03-11/8598251960609_3c2d1ae37c97719d8575_36.webp', 'image_48': 'https://avatars.slack-edge.com/2025-03-11/8598251960609_3c2d1ae37c97719d8575_48.webp', 'image_72': 'https://avatars.slack-edge.com/2025-03-11/8598251960609_3c2d1ae37c97719d8575_72.webp'}, 'team_id': 'T08GLQ3HC07'}, 'thread_ts': '1741725126.051509', 'parent_user_id': 'USLACKBOT', 'blocks': [{'type': 'rich_text', 'block_id': 'wWK', 'elements': [{'type': 'rich_text_section', 'elements': [{'type': 'text', 'text': 'Incident Raised:', 'style': {'bold': True}}, {'type': 'text', 'text': ' Your incident has been successfully raised and marked as '}, {'type': 'text', 'text': 'out', 'style': {'bold': True}}, {'type': 'text', 'text': ' priority. '}, {'type': 'emoji', 'name': 'warning', 'unicode': '26a0-fe0f'}, {'type': 'text', 'text': ' \\n\\nThe '}, {'type': 'text', 'text': 'Site Reliability Engineering (SRE)', 'style': {'bold': True}}, {'type': 'text', 'text': ' team will address it as soon as possible to ensure a swift resolution. '}, {'type': 'emoji', 'name': 'rocket', 'unicode': '1f680'}, {'type': 'text', 'text': '\\n\\nThank you for your patience!'}]}]}]}, 'channel': 'C08HL984BEV', 'hidden': True, 'deleted_ts': '1741725127.646199', 'event_ts': '1741725184.000700', 'ts': '1741725184.000700', 'channel_type': 'channel'}, 'type': 'event_callback', 'event_id': 'Ev08HL9PMTED', 'event_time': 1741725184, 'authorizations': [{'enterprise_id': None, 'team_id': 'T08GLQ3HC07', 'user_id': 'U08H42J6JQ3', 'is_bot': True, 'is_enterprise_install': False}], 'is_ext_shared_channel': False, 'event_context': '4-eyJldCI6Im1lc3NhZ2UiLCJ0aWQiOiJUMDhHTFEzSEMwNyIsImFpZCI6IkEwOEgwQzI2QkVaIiwiY2lkIjoiQzA4SEw5ODRCRVYifQ'}\n",
      "Received Slack event: {'token': 'vcOktFRX27KKXwM6mDwo1R9u', 'team_id': 'T08GLQ3HC07', 'context_team_id': 'T08GLQ3HC07', 'context_enterprise_id': None, 'api_app_id': 'A08H0C26BEZ', 'event': {'type': 'message', 'subtype': 'message_deleted', 'previous_message': {'subtype': 'tombstone', 'text': 'This message was deleted.', 'user': 'USLACKBOT', 'hidden': True, 'type': 'message', 'ts': '1741725126.051509', 'thread_ts': '1741725126.051509', 'parent_user_id': 'USLACKBOT', 'reply_count': 0, 'reply_users_count': 0, 'latest_reply': '0000000000.000000', 'reply_users': [], 'is_locked': False, 'subscribed': True, 'last_read': '1741725127.646199'}, 'channel': 'C08HL984BEV', 'hidden': True, 'deleted_ts': '1741725126.051509', 'event_ts': '1741725185.000800', 'ts': '1741725185.000800', 'channel_type': 'channel'}, 'type': 'event_callback', 'event_id': 'Ev08H7MR07CM', 'event_time': 1741725185, 'authorizations': [{'enterprise_id': None, 'team_id': 'T08GLQ3HC07', 'user_id': 'U08H42J6JQ3', 'is_bot': True, 'is_enterprise_install': False}], 'is_ext_shared_channel': False, 'event_context': '4-eyJldCI6Im1lc3NhZ2UiLCJ0aWQiOiJUMDhHTFEzSEMwNyIsImFpZCI6IkEwOEgwQzI2QkVaIiwiY2lkIjoiQzA4SEw5ODRCRVYifQ'}\n"
     ]
    },
    {
     "name": "stderr",
     "output_type": "stream",
     "text": [
      "127.0.0.1 - - [11/Mar/2025 16:33:12] \"POST /slack/events HTTP/1.1\" 200 -\n"
     ]
    },
    {
     "name": "stdout",
     "output_type": "stream",
     "text": [
      "Received Slack event: {'token': 'vcOktFRX27KKXwM6mDwo1R9u', 'team_id': 'T08GLQ3HC07', 'context_team_id': 'T08GLQ3HC07', 'context_enterprise_id': None, 'api_app_id': 'A08H0C26BEZ', 'event': {'type': 'message', 'subtype': 'message_deleted', 'previous_message': {'user': 'U08H42J6JQ3', 'type': 'message', 'ts': '1741725148.672239', 'bot_id': 'B08H42J4LGK', 'app_id': 'A08H0C26BEZ', 'text': '*Offer Not Displayed:* The offer is not displayed because the customer has opted out of solicitation, making them ineligible for any offers. :x: However, if you are not satisfied with this response, I can escalate the issue by raising an incident so a support representative can review it further. Would you like me to raise it? :raised_hands:', 'team': 'T08GLQ3HC07', 'bot_profile': {'id': 'B08H42J4LGK', 'deleted': False, 'name': 'ResolveBotAI', 'updated': 1741724274, 'app_id': 'A08H0C26BEZ', 'icons': {'image_36': 'https://avatars.slack-edge.com/2025-03-11/8598251960609_3c2d1ae37c97719d8575_36.webp', 'image_48': 'https://avatars.slack-edge.com/2025-03-11/8598251960609_3c2d1ae37c97719d8575_48.webp', 'image_72': 'https://avatars.slack-edge.com/2025-03-11/8598251960609_3c2d1ae37c97719d8575_72.webp'}, 'team_id': 'T08GLQ3HC07'}, 'thread_ts': '1741725147.751589', 'parent_user_id': 'USLACKBOT', 'blocks': [{'type': 'rich_text', 'block_id': 'rmW6V', 'elements': [{'type': 'rich_text_section', 'elements': [{'type': 'text', 'text': 'Offer Not Displayed:', 'style': {'bold': True}}, {'type': 'text', 'text': ' The offer is not displayed because the customer has opted out of solicitation, making them ineligible for any offers. '}, {'type': 'emoji', 'name': 'x', 'unicode': '274c'}, {'type': 'text', 'text': ' However, if you are not satisfied with this response, I can escalate the issue by raising an incident so a support representative can review it further. Would you like me to raise it? '}, {'type': 'emoji', 'name': 'raised_hands', 'unicode': '1f64c'}]}]}]}, 'channel': 'C08HL984BEV', 'hidden': True, 'deleted_ts': '1741725148.672239', 'event_ts': '1741725191.000900', 'ts': '1741725191.000900', 'channel_type': 'channel'}, 'type': 'event_callback', 'event_id': 'Ev08HD0F8BHA', 'event_time': 1741725191, 'authorizations': [{'enterprise_id': None, 'team_id': 'T08GLQ3HC07', 'user_id': 'U08H42J6JQ3', 'is_bot': True, 'is_enterprise_install': False}], 'is_ext_shared_channel': False, 'event_context': '4-eyJldCI6Im1lc3NhZ2UiLCJ0aWQiOiJUMDhHTFEzSEMwNyIsImFpZCI6IkEwOEgwQzI2QkVaIiwiY2lkIjoiQzA4SEw5ODRCRVYifQ'}\n"
     ]
    },
    {
     "name": "stderr",
     "output_type": "stream",
     "text": [
      "127.0.0.1 - - [11/Mar/2025 16:33:13] \"POST /slack/events HTTP/1.1\" 200 -\n"
     ]
    },
    {
     "name": "stdout",
     "output_type": "stream",
     "text": [
      "Received Slack event: {'token': 'vcOktFRX27KKXwM6mDwo1R9u', 'team_id': 'T08GLQ3HC07', 'context_team_id': 'T08GLQ3HC07', 'context_enterprise_id': None, 'api_app_id': 'A08H0C26BEZ', 'event': {'type': 'message', 'subtype': 'message_deleted', 'previous_message': {'subtype': 'tombstone', 'text': 'This message was deleted.', 'user': 'USLACKBOT', 'hidden': True, 'type': 'message', 'ts': '1741725147.751589', 'thread_ts': '1741725147.751589', 'parent_user_id': 'USLACKBOT', 'reply_count': 0, 'reply_users_count': 0, 'latest_reply': '0000000000.000000', 'reply_users': [], 'is_locked': False, 'subscribed': True, 'last_read': '1741725148.672239'}, 'channel': 'C08HL984BEV', 'hidden': True, 'deleted_ts': '1741725147.751589', 'event_ts': '1741725191.001000', 'ts': '1741725191.001000', 'channel_type': 'channel'}, 'type': 'event_callback', 'event_id': 'Ev08HD0FCD8C', 'event_time': 1741725191, 'authorizations': [{'enterprise_id': None, 'team_id': 'T08GLQ3HC07', 'user_id': 'U08H42J6JQ3', 'is_bot': True, 'is_enterprise_install': False}], 'is_ext_shared_channel': False, 'event_context': '4-eyJldCI6Im1lc3NhZ2UiLCJ0aWQiOiJUMDhHTFEzSEMwNyIsImFpZCI6IkEwOEgwQzI2QkVaIiwiY2lkIjoiQzA4SEw5ODRCRVYifQ'}\n",
      "Received Slack event: {'token': 'vcOktFRX27KKXwM6mDwo1R9u', 'team_id': 'T08GLQ3HC07', 'context_team_id': 'T08GLQ3HC07', 'context_enterprise_id': None, 'api_app_id': 'A08H0C26BEZ', 'event': {'user': 'U08GLQ3JKGX', 'type': 'message', 'ts': '1741725212.285399', 'client_msg_id': 'ecb13d87-c46c-4d33-affc-d3c0962b1245', 'text': 'I am getting customer opted out error', 'team': 'T08GLQ3HC07', 'blocks': [{'type': 'rich_text', 'block_id': 'TzfRw', 'elements': [{'type': 'rich_text_section', 'elements': [{'type': 'text', 'text': 'I am getting customer opted out error'}]}]}], 'channel': 'C08HL984BEV', 'event_ts': '1741725212.285399', 'channel_type': 'channel'}, 'type': 'event_callback', 'event_id': 'Ev08HXMTVA0G', 'event_time': 1741725212, 'authorizations': [{'enterprise_id': None, 'team_id': 'T08GLQ3HC07', 'user_id': 'U08H42J6JQ3', 'is_bot': True, 'is_enterprise_install': False}], 'is_ext_shared_channel': False, 'event_context': '4-eyJldCI6Im1lc3NhZ2UiLCJ0aWQiOiJUMDhHTFEzSEMwNyIsImFpZCI6IkEwOEgwQzI2QkVaIiwiY2lkIjoiQzA4SEw5ODRCRVYifQ'}\n",
      "Entities: [('I', 'RAISE_INCIDENT'), ('out', 'SEVERITY')]\n"
     ]
    },
    {
     "name": "stderr",
     "output_type": "stream",
     "text": [
      "127.0.0.1 - - [11/Mar/2025 16:33:33] \"POST /slack/events HTTP/1.1\" 200 -\n",
      "127.0.0.1 - - [11/Mar/2025 16:33:34] \"POST /slack/events HTTP/1.1\" 200 -\n"
     ]
    },
    {
     "name": "stdout",
     "output_type": "stream",
     "text": [
      "Received Slack event: {'token': 'vcOktFRX27KKXwM6mDwo1R9u', 'team_id': 'T08GLQ3HC07', 'context_team_id': 'T08GLQ3HC07', 'context_enterprise_id': None, 'api_app_id': 'A08H0C26BEZ', 'event': {'user': 'U08H42J6JQ3', 'type': 'message', 'ts': '1741725212.866599', 'bot_id': 'B08H42J4LGK', 'app_id': 'A08H0C26BEZ', 'text': '*Incident Raised:* Your incident has been successfully raised and marked as *out* priority. :warning: \\n\\nThe *Site Reliability Engineering (SRE)* team will address it as soon as possible to ensure a swift resolution. :rocket:\\n\\nThank you for your patience!', 'team': 'T08GLQ3HC07', 'bot_profile': {'id': 'B08H42J4LGK', 'deleted': False, 'name': 'ResolveBotAI', 'updated': 1741724274, 'app_id': 'A08H0C26BEZ', 'icons': {'image_36': 'https://avatars.slack-edge.com/2025-03-11/8598251960609_3c2d1ae37c97719d8575_36.webp', 'image_48': 'https://avatars.slack-edge.com/2025-03-11/8598251960609_3c2d1ae37c97719d8575_48.webp', 'image_72': 'https://avatars.slack-edge.com/2025-03-11/8598251960609_3c2d1ae37c97719d8575_72.webp'}, 'team_id': 'T08GLQ3HC07'}, 'thread_ts': '1741725212.285399', 'parent_user_id': 'U08GLQ3JKGX', 'blocks': [{'type': 'rich_text', 'block_id': '=+1', 'elements': [{'type': 'rich_text_section', 'elements': [{'type': 'text', 'text': 'Incident Raised:', 'style': {'bold': True}}, {'type': 'text', 'text': ' Your incident has been successfully raised and marked as '}, {'type': 'text', 'text': 'out', 'style': {'bold': True}}, {'type': 'text', 'text': ' priority. '}, {'type': 'emoji', 'name': 'warning', 'unicode': '26a0-fe0f'}, {'type': 'text', 'text': ' \\n\\nThe '}, {'type': 'text', 'text': 'Site Reliability Engineering (SRE)', 'style': {'bold': True}}, {'type': 'text', 'text': ' team will address it as soon as possible to ensure a swift resolution. '}, {'type': 'emoji', 'name': 'rocket', 'unicode': '1f680'}, {'type': 'text', 'text': '\\n\\nThank you for your patience!'}]}]}], 'channel': 'C08HL984BEV', 'event_ts': '1741725212.866599', 'channel_type': 'channel'}, 'type': 'event_callback', 'event_id': 'Ev08H2KYPVP0', 'event_time': 1741725212, 'authorizations': [{'enterprise_id': None, 'team_id': 'T08GLQ3HC07', 'user_id': 'U08H42J6JQ3', 'is_bot': True, 'is_enterprise_install': False}], 'is_ext_shared_channel': False, 'event_context': '4-eyJldCI6Im1lc3NhZ2UiLCJ0aWQiOiJUMDhHTFEzSEMwNyIsImFpZCI6IkEwOEgwQzI2QkVaIiwiY2lkIjoiQzA4SEw5ODRCRVYifQ'}\n",
      "Received Slack event: {'token': 'vcOktFRX27KKXwM6mDwo1R9u', 'team_id': 'T08GLQ3HC07', 'context_team_id': 'T08GLQ3HC07', 'context_enterprise_id': None, 'api_app_id': 'A08H0C26BEZ', 'event': {'user': 'U08GLQ3JKGX', 'type': 'message', 'ts': '1741725226.248579', 'client_msg_id': 'a0778a52-e9be-4786-ae6b-5291e1dfa95c', 'text': 'I am getting customer opted out message', 'team': 'T08GLQ3HC07', 'blocks': [{'type': 'rich_text', 'block_id': 'A05hm', 'elements': [{'type': 'rich_text_section', 'elements': [{'type': 'text', 'text': 'I am getting customer opted out message'}]}]}], 'channel': 'C08HL984BEV', 'event_ts': '1741725226.248579', 'channel_type': 'channel'}, 'type': 'event_callback', 'event_id': 'Ev08HL9TN6GH', 'event_time': 1741725226, 'authorizations': [{'enterprise_id': None, 'team_id': 'T08GLQ3HC07', 'user_id': 'U08H42J6JQ3', 'is_bot': True, 'is_enterprise_install': False}], 'is_ext_shared_channel': False, 'event_context': '4-eyJldCI6Im1lc3NhZ2UiLCJ0aWQiOiJUMDhHTFEzSEMwNyIsImFpZCI6IkEwOEgwQzI2QkVaIiwiY2lkIjoiQzA4SEw5ODRCRVYifQ'}\n",
      "Entities: [('I', 'RAISE_INCIDENT'), ('out', 'SEVERITY')]\n"
     ]
    },
    {
     "name": "stderr",
     "output_type": "stream",
     "text": [
      "127.0.0.1 - - [11/Mar/2025 16:33:47] \"POST /slack/events HTTP/1.1\" 200 -\n",
      "127.0.0.1 - - [11/Mar/2025 16:33:48] \"POST /slack/events HTTP/1.1\" 200 -\n"
     ]
    },
    {
     "name": "stdout",
     "output_type": "stream",
     "text": [
      "Received Slack event: {'token': 'vcOktFRX27KKXwM6mDwo1R9u', 'team_id': 'T08GLQ3HC07', 'context_team_id': 'T08GLQ3HC07', 'context_enterprise_id': None, 'api_app_id': 'A08H0C26BEZ', 'event': {'user': 'U08H42J6JQ3', 'type': 'message', 'ts': '1741725227.345389', 'bot_id': 'B08H42J4LGK', 'app_id': 'A08H0C26BEZ', 'text': '*Incident Raised:* Your incident has been successfully raised and marked as *out* priority. :warning: \\n\\nThe *Site Reliability Engineering (SRE)* team will address it as soon as possible to ensure a swift resolution. :rocket:\\n\\nThank you for your patience!', 'team': 'T08GLQ3HC07', 'bot_profile': {'id': 'B08H42J4LGK', 'deleted': False, 'name': 'ResolveBotAI', 'updated': 1741724274, 'app_id': 'A08H0C26BEZ', 'icons': {'image_36': 'https://avatars.slack-edge.com/2025-03-11/8598251960609_3c2d1ae37c97719d8575_36.webp', 'image_48': 'https://avatars.slack-edge.com/2025-03-11/8598251960609_3c2d1ae37c97719d8575_48.webp', 'image_72': 'https://avatars.slack-edge.com/2025-03-11/8598251960609_3c2d1ae37c97719d8575_72.webp'}, 'team_id': 'T08GLQ3HC07'}, 'thread_ts': '1741725226.248579', 'parent_user_id': 'U08GLQ3JKGX', 'blocks': [{'type': 'rich_text', 'block_id': 'HMbAX', 'elements': [{'type': 'rich_text_section', 'elements': [{'type': 'text', 'text': 'Incident Raised:', 'style': {'bold': True}}, {'type': 'text', 'text': ' Your incident has been successfully raised and marked as '}, {'type': 'text', 'text': 'out', 'style': {'bold': True}}, {'type': 'text', 'text': ' priority. '}, {'type': 'emoji', 'name': 'warning', 'unicode': '26a0-fe0f'}, {'type': 'text', 'text': ' \\n\\nThe '}, {'type': 'text', 'text': 'Site Reliability Engineering (SRE)', 'style': {'bold': True}}, {'type': 'text', 'text': ' team will address it as soon as possible to ensure a swift resolution. '}, {'type': 'emoji', 'name': 'rocket', 'unicode': '1f680'}, {'type': 'text', 'text': '\\n\\nThank you for your patience!'}]}]}], 'channel': 'C08HL984BEV', 'event_ts': '1741725227.345389', 'channel_type': 'channel'}, 'type': 'event_callback', 'event_id': 'Ev08GUAY1WT1', 'event_time': 1741725227, 'authorizations': [{'enterprise_id': None, 'team_id': 'T08GLQ3HC07', 'user_id': 'U08H42J6JQ3', 'is_bot': True, 'is_enterprise_install': False}], 'is_ext_shared_channel': False, 'event_context': '4-eyJldCI6Im1lc3NhZ2UiLCJ0aWQiOiJUMDhHTFEzSEMwNyIsImFpZCI6IkEwOEgwQzI2QkVaIiwiY2lkIjoiQzA4SEw5ODRCRVYifQ'}\n",
      "Received Slack event: {'token': 'vcOktFRX27KKXwM6mDwo1R9u', 'team_id': 'T08GLQ3HC07', 'context_team_id': 'T08GLQ3HC07', 'context_enterprise_id': None, 'api_app_id': 'A08H0C26BEZ', 'event': {'user': 'U08GLQ3JKGX', 'type': 'message', 'ts': '1741725240.888639', 'client_msg_id': 'e577a0ce-9df2-4489-8961-48b4eefe4446', 'text': 'I am getting customer opted out from offers', 'team': 'T08GLQ3HC07', 'blocks': [{'type': 'rich_text', 'block_id': '737Xb', 'elements': [{'type': 'rich_text_section', 'elements': [{'type': 'text', 'text': 'I am getting customer opted out from offers'}]}]}], 'channel': 'C08HL984BEV', 'event_ts': '1741725240.888639', 'channel_type': 'channel'}, 'type': 'event_callback', 'event_id': 'Ev08HB4MRQ2F', 'event_time': 1741725240, 'authorizations': [{'enterprise_id': None, 'team_id': 'T08GLQ3HC07', 'user_id': 'U08H42J6JQ3', 'is_bot': True, 'is_enterprise_install': False}], 'is_ext_shared_channel': False, 'event_context': '4-eyJldCI6Im1lc3NhZ2UiLCJ0aWQiOiJUMDhHTFEzSEMwNyIsImFpZCI6IkEwOEgwQzI2QkVaIiwiY2lkIjoiQzA4SEw5ODRCRVYifQ'}\n",
      "Entities: [('I', 'RAISE_INCIDENT')]\n"
     ]
    },
    {
     "name": "stderr",
     "output_type": "stream",
     "text": [
      "127.0.0.1 - - [11/Mar/2025 16:34:02] \"POST /slack/events HTTP/1.1\" 200 -\n",
      "127.0.0.1 - - [11/Mar/2025 16:34:03] \"POST /slack/events HTTP/1.1\" 200 -\n"
     ]
    },
    {
     "name": "stdout",
     "output_type": "stream",
     "text": [
      "Received Slack event: {'token': 'vcOktFRX27KKXwM6mDwo1R9u', 'team_id': 'T08GLQ3HC07', 'context_team_id': 'T08GLQ3HC07', 'context_enterprise_id': None, 'api_app_id': 'A08H0C26BEZ', 'event': {'user': 'U08H42J6JQ3', 'type': 'message', 'ts': '1741725242.243209', 'bot_id': 'B08H42J4LGK', 'app_id': 'A08H0C26BEZ', 'text': '*Offer Not Displayed:* The offer is not displayed because the customer has opted out of solicitation, making them ineligible for any offers. :x: However, if you are not satisfied with this response, I can escalate the issue by raising an incident so a support representative can review it further. Would you like me to raise it? :raised_hands:', 'team': 'T08GLQ3HC07', 'bot_profile': {'id': 'B08H42J4LGK', 'deleted': False, 'name': 'ResolveBotAI', 'updated': 1741724274, 'app_id': 'A08H0C26BEZ', 'icons': {'image_36': 'https://avatars.slack-edge.com/2025-03-11/8598251960609_3c2d1ae37c97719d8575_36.webp', 'image_48': 'https://avatars.slack-edge.com/2025-03-11/8598251960609_3c2d1ae37c97719d8575_48.webp', 'image_72': 'https://avatars.slack-edge.com/2025-03-11/8598251960609_3c2d1ae37c97719d8575_72.webp'}, 'team_id': 'T08GLQ3HC07'}, 'thread_ts': '1741725240.888639', 'parent_user_id': 'U08GLQ3JKGX', 'blocks': [{'type': 'rich_text', 'block_id': 'zol', 'elements': [{'type': 'rich_text_section', 'elements': [{'type': 'text', 'text': 'Offer Not Displayed:', 'style': {'bold': True}}, {'type': 'text', 'text': ' The offer is not displayed because the customer has opted out of solicitation, making them ineligible for any offers. '}, {'type': 'emoji', 'name': 'x', 'unicode': '274c'}, {'type': 'text', 'text': ' However, if you are not satisfied with this response, I can escalate the issue by raising an incident so a support representative can review it further. Would you like me to raise it? '}, {'type': 'emoji', 'name': 'raised_hands', 'unicode': '1f64c'}]}]}], 'channel': 'C08HL984BEV', 'event_ts': '1741725242.243209', 'channel_type': 'channel'}, 'type': 'event_callback', 'event_id': 'Ev08HA1VS7SN', 'event_time': 1741725242, 'authorizations': [{'enterprise_id': None, 'team_id': 'T08GLQ3HC07', 'user_id': 'U08H42J6JQ3', 'is_bot': True, 'is_enterprise_install': False}], 'is_ext_shared_channel': False, 'event_context': '4-eyJldCI6Im1lc3NhZ2UiLCJ0aWQiOiJUMDhHTFEzSEMwNyIsImFpZCI6IkEwOEgwQzI2QkVaIiwiY2lkIjoiQzA4SEw5ODRCRVYifQ'}\n",
      "Received Slack event: {'token': 'vcOktFRX27KKXwM6mDwo1R9u', 'team_id': 'T08GLQ3HC07', 'context_team_id': 'T08GLQ3HC07', 'context_enterprise_id': None, 'api_app_id': 'A08H0C26BEZ', 'event': {'user': 'U08GLQ3JKGX', 'type': 'message', 'ts': '1741725312.690459', 'client_msg_id': '7db556ac-95ee-4f49-b55a-4c901668816d', 'text': 'customer opted out for being solicited message', 'team': 'T08GLQ3HC07', 'blocks': [{'type': 'rich_text', 'block_id': '5JIOV', 'elements': [{'type': 'rich_text_section', 'elements': [{'type': 'text', 'text': 'customer opted out for being solicited message'}]}]}], 'channel': 'C08HL984BEV', 'event_ts': '1741725312.690459', 'channel_type': 'channel'}, 'type': 'event_callback', 'event_id': 'Ev08H2L71FQE', 'event_time': 1741725312, 'authorizations': [{'enterprise_id': None, 'team_id': 'T08GLQ3HC07', 'user_id': 'U08H42J6JQ3', 'is_bot': True, 'is_enterprise_install': False}], 'is_ext_shared_channel': False, 'event_context': '4-eyJldCI6Im1lc3NhZ2UiLCJ0aWQiOiJUMDhHTFEzSEMwNyIsImFpZCI6IkEwOEgwQzI2QkVaIiwiY2lkIjoiQzA4SEw5ODRCRVYifQ'}\n",
      "Entities: [('for', 'SEVERITY'), ('being', 'RAISE_INCIDENT')]\n"
     ]
    },
    {
     "name": "stderr",
     "output_type": "stream",
     "text": [
      "127.0.0.1 - - [11/Mar/2025 16:35:14] \"POST /slack/events HTTP/1.1\" 200 -\n",
      "127.0.0.1 - - [11/Mar/2025 16:35:15] \"POST /slack/events HTTP/1.1\" 200 -\n"
     ]
    },
    {
     "name": "stdout",
     "output_type": "stream",
     "text": [
      "Received Slack event: {'token': 'vcOktFRX27KKXwM6mDwo1R9u', 'team_id': 'T08GLQ3HC07', 'context_team_id': 'T08GLQ3HC07', 'context_enterprise_id': None, 'api_app_id': 'A08H0C26BEZ', 'event': {'user': 'U08H42J6JQ3', 'type': 'message', 'ts': '1741725313.933929', 'bot_id': 'B08H42J4LGK', 'app_id': 'A08H0C26BEZ', 'text': '*Incident Raised:* Your incident has been successfully raised and marked as *for* priority. :warning: \\n\\nThe *Site Reliability Engineering (SRE)* team will address it as soon as possible to ensure a swift resolution. :rocket:\\n\\nThank you for your patience!', 'team': 'T08GLQ3HC07', 'bot_profile': {'id': 'B08H42J4LGK', 'deleted': False, 'name': 'ResolveBotAI', 'updated': 1741724274, 'app_id': 'A08H0C26BEZ', 'icons': {'image_36': 'https://avatars.slack-edge.com/2025-03-11/8598251960609_3c2d1ae37c97719d8575_36.webp', 'image_48': 'https://avatars.slack-edge.com/2025-03-11/8598251960609_3c2d1ae37c97719d8575_48.webp', 'image_72': 'https://avatars.slack-edge.com/2025-03-11/8598251960609_3c2d1ae37c97719d8575_72.webp'}, 'team_id': 'T08GLQ3HC07'}, 'thread_ts': '1741725312.690459', 'parent_user_id': 'U08GLQ3JKGX', 'blocks': [{'type': 'rich_text', 'block_id': 'QGBk', 'elements': [{'type': 'rich_text_section', 'elements': [{'type': 'text', 'text': 'Incident Raised:', 'style': {'bold': True}}, {'type': 'text', 'text': ' Your incident has been successfully raised and marked as '}, {'type': 'text', 'text': 'for', 'style': {'bold': True}}, {'type': 'text', 'text': ' priority. '}, {'type': 'emoji', 'name': 'warning', 'unicode': '26a0-fe0f'}, {'type': 'text', 'text': ' \\n\\nThe '}, {'type': 'text', 'text': 'Site Reliability Engineering (SRE)', 'style': {'bold': True}}, {'type': 'text', 'text': ' team will address it as soon as possible to ensure a swift resolution. '}, {'type': 'emoji', 'name': 'rocket', 'unicode': '1f680'}, {'type': 'text', 'text': '\\n\\nThank you for your patience!'}]}]}], 'channel': 'C08HL984BEV', 'event_ts': '1741725313.933929', 'channel_type': 'channel'}, 'type': 'event_callback', 'event_id': 'Ev08H7N1V9D3', 'event_time': 1741725313, 'authorizations': [{'enterprise_id': None, 'team_id': 'T08GLQ3HC07', 'user_id': 'U08H42J6JQ3', 'is_bot': True, 'is_enterprise_install': False}], 'is_ext_shared_channel': False, 'event_context': '4-eyJldCI6Im1lc3NhZ2UiLCJ0aWQiOiJUMDhHTFEzSEMwNyIsImFpZCI6IkEwOEgwQzI2QkVaIiwiY2lkIjoiQzA4SEw5ODRCRVYifQ'}\n",
      "Received Slack event: {'token': 'vcOktFRX27KKXwM6mDwo1R9u', 'team_id': 'T08GLQ3HC07', 'context_team_id': 'T08GLQ3HC07', 'context_enterprise_id': None, 'api_app_id': 'A08H0C26BEZ', 'event': {'user': 'U08GLQ3JKGX', 'type': 'message', 'ts': '1741725329.932649', 'client_msg_id': '924812b6-82c7-4dd5-a357-6d01f58c5387', 'text': 'customer being opted out', 'team': 'T08GLQ3HC07', 'blocks': [{'type': 'rich_text', 'block_id': '2z4Mu', 'elements': [{'type': 'rich_text_section', 'elements': [{'type': 'text', 'text': 'customer being opted out'}]}]}], 'channel': 'C08HL984BEV', 'event_ts': '1741725329.932649', 'channel_type': 'channel'}, 'type': 'event_callback', 'event_id': 'Ev08H7N31Q0M', 'event_time': 1741725329, 'authorizations': [{'enterprise_id': None, 'team_id': 'T08GLQ3HC07', 'user_id': 'U08H42J6JQ3', 'is_bot': True, 'is_enterprise_install': False}], 'is_ext_shared_channel': False, 'event_context': '4-eyJldCI6Im1lc3NhZ2UiLCJ0aWQiOiJUMDhHTFEzSEMwNyIsImFpZCI6IkEwOEgwQzI2QkVaIiwiY2lkIjoiQzA4SEw5ODRCRVYifQ'}\n",
      "Entities: [('out', 'SEVERITY')]\n"
     ]
    },
    {
     "name": "stderr",
     "output_type": "stream",
     "text": [
      "127.0.0.1 - - [11/Mar/2025 16:35:31] \"POST /slack/events HTTP/1.1\" 200 -\n",
      "127.0.0.1 - - [11/Mar/2025 16:35:32] \"POST /slack/events HTTP/1.1\" 200 -\n"
     ]
    },
    {
     "name": "stdout",
     "output_type": "stream",
     "text": [
      "Received Slack event: {'token': 'vcOktFRX27KKXwM6mDwo1R9u', 'team_id': 'T08GLQ3HC07', 'context_team_id': 'T08GLQ3HC07', 'context_enterprise_id': None, 'api_app_id': 'A08H0C26BEZ', 'event': {'user': 'U08H42J6JQ3', 'type': 'message', 'ts': '1741725331.229429', 'bot_id': 'B08H42J4LGK', 'app_id': 'A08H0C26BEZ', 'text': '*Offer Not Displayed:* The offer is not displayed because the customer has opted out of solicitation, making them ineligible for any offers. :x: However, if you are not satisfied with this response, I can escalate the issue by raising an incident so a support representative can review it further. Would you like me to raise it? :raised_hands:', 'team': 'T08GLQ3HC07', 'bot_profile': {'id': 'B08H42J4LGK', 'deleted': False, 'name': 'ResolveBotAI', 'updated': 1741724274, 'app_id': 'A08H0C26BEZ', 'icons': {'image_36': 'https://avatars.slack-edge.com/2025-03-11/8598251960609_3c2d1ae37c97719d8575_36.webp', 'image_48': 'https://avatars.slack-edge.com/2025-03-11/8598251960609_3c2d1ae37c97719d8575_48.webp', 'image_72': 'https://avatars.slack-edge.com/2025-03-11/8598251960609_3c2d1ae37c97719d8575_72.webp'}, 'team_id': 'T08GLQ3HC07'}, 'thread_ts': '1741725329.932649', 'parent_user_id': 'U08GLQ3JKGX', 'blocks': [{'type': 'rich_text', 'block_id': 'ja6a', 'elements': [{'type': 'rich_text_section', 'elements': [{'type': 'text', 'text': 'Offer Not Displayed:', 'style': {'bold': True}}, {'type': 'text', 'text': ' The offer is not displayed because the customer has opted out of solicitation, making them ineligible for any offers. '}, {'type': 'emoji', 'name': 'x', 'unicode': '274c'}, {'type': 'text', 'text': ' However, if you are not satisfied with this response, I can escalate the issue by raising an incident so a support representative can review it further. Would you like me to raise it? '}, {'type': 'emoji', 'name': 'raised_hands', 'unicode': '1f64c'}]}]}], 'channel': 'C08HL984BEV', 'event_ts': '1741725331.229429', 'channel_type': 'channel'}, 'type': 'event_callback', 'event_id': 'Ev08GUB6JKF1', 'event_time': 1741725331, 'authorizations': [{'enterprise_id': None, 'team_id': 'T08GLQ3HC07', 'user_id': 'U08H42J6JQ3', 'is_bot': True, 'is_enterprise_install': False}], 'is_ext_shared_channel': False, 'event_context': '4-eyJldCI6Im1lc3NhZ2UiLCJ0aWQiOiJUMDhHTFEzSEMwNyIsImFpZCI6IkEwOEgwQzI2QkVaIiwiY2lkIjoiQzA4SEw5ODRCRVYifQ'}\n",
      "Received Slack event: {'token': 'vcOktFRX27KKXwM6mDwo1R9u', 'team_id': 'T08GLQ3HC07', 'context_team_id': 'T08GLQ3HC07', 'context_enterprise_id': None, 'api_app_id': 'A08H0C26BEZ', 'event': {'user': 'U08GLQ3JKGX', 'type': 'message', 'ts': '1741725357.975599', 'client_msg_id': '762d32eb-4bcc-404a-9ea1-8a63d984cc94', 'text': 'Portal shows customer being opted out', 'team': 'T08GLQ3HC07', 'blocks': [{'type': 'rich_text', 'block_id': '9U2zA', 'elements': [{'type': 'rich_text_section', 'elements': [{'type': 'text', 'text': 'Portal shows customer being opted out'}]}]}], 'channel': 'C08HL984BEV', 'event_ts': '1741725357.975599', 'channel_type': 'channel'}, 'type': 'event_callback', 'event_id': 'Ev08H2L9RCCE', 'event_time': 1741725357, 'authorizations': [{'enterprise_id': None, 'team_id': 'T08GLQ3HC07', 'user_id': 'U08H42J6JQ3', 'is_bot': True, 'is_enterprise_install': False}], 'is_ext_shared_channel': False, 'event_context': '4-eyJldCI6Im1lc3NhZ2UiLCJ0aWQiOiJUMDhHTFEzSEMwNyIsImFpZCI6IkEwOEgwQzI2QkVaIiwiY2lkIjoiQzA4SEw5ODRCRVYifQ'}\n",
      "Entities: [('shows', 'RAISE_INCIDENT'), ('out', 'SEVERITY')]\n"
     ]
    },
    {
     "name": "stderr",
     "output_type": "stream",
     "text": [
      "127.0.0.1 - - [11/Mar/2025 16:35:59] \"POST /slack/events HTTP/1.1\" 200 -\n",
      "127.0.0.1 - - [11/Mar/2025 16:36:00] \"POST /slack/events HTTP/1.1\" 200 -\n"
     ]
    },
    {
     "name": "stdout",
     "output_type": "stream",
     "text": [
      "Received Slack event: {'token': 'vcOktFRX27KKXwM6mDwo1R9u', 'team_id': 'T08GLQ3HC07', 'context_team_id': 'T08GLQ3HC07', 'context_enterprise_id': None, 'api_app_id': 'A08H0C26BEZ', 'event': {'user': 'U08H42J6JQ3', 'type': 'message', 'ts': '1741725359.222309', 'bot_id': 'B08H42J4LGK', 'app_id': 'A08H0C26BEZ', 'text': '*Incident Raised:* Your incident has been successfully raised and marked as *out* priority. :warning: \\n\\nThe *Site Reliability Engineering (SRE)* team will address it as soon as possible to ensure a swift resolution. :rocket:\\n\\nThank you for your patience!', 'team': 'T08GLQ3HC07', 'bot_profile': {'id': 'B08H42J4LGK', 'deleted': False, 'name': 'ResolveBotAI', 'updated': 1741724274, 'app_id': 'A08H0C26BEZ', 'icons': {'image_36': 'https://avatars.slack-edge.com/2025-03-11/8598251960609_3c2d1ae37c97719d8575_36.webp', 'image_48': 'https://avatars.slack-edge.com/2025-03-11/8598251960609_3c2d1ae37c97719d8575_48.webp', 'image_72': 'https://avatars.slack-edge.com/2025-03-11/8598251960609_3c2d1ae37c97719d8575_72.webp'}, 'team_id': 'T08GLQ3HC07'}, 'thread_ts': '1741725357.975599', 'parent_user_id': 'U08GLQ3JKGX', 'blocks': [{'type': 'rich_text', 'block_id': 'PLf', 'elements': [{'type': 'rich_text_section', 'elements': [{'type': 'text', 'text': 'Incident Raised:', 'style': {'bold': True}}, {'type': 'text', 'text': ' Your incident has been successfully raised and marked as '}, {'type': 'text', 'text': 'out', 'style': {'bold': True}}, {'type': 'text', 'text': ' priority. '}, {'type': 'emoji', 'name': 'warning', 'unicode': '26a0-fe0f'}, {'type': 'text', 'text': ' \\n\\nThe '}, {'type': 'text', 'text': 'Site Reliability Engineering (SRE)', 'style': {'bold': True}}, {'type': 'text', 'text': ' team will address it as soon as possible to ensure a swift resolution. '}, {'type': 'emoji', 'name': 'rocket', 'unicode': '1f680'}, {'type': 'text', 'text': '\\n\\nThank you for your patience!'}]}]}], 'channel': 'C08HL984BEV', 'event_ts': '1741725359.222309', 'channel_type': 'channel'}, 'type': 'event_callback', 'event_id': 'Ev08HXN5JZSL', 'event_time': 1741725359, 'authorizations': [{'enterprise_id': None, 'team_id': 'T08GLQ3HC07', 'user_id': 'U08H42J6JQ3', 'is_bot': True, 'is_enterprise_install': False}], 'is_ext_shared_channel': False, 'event_context': '4-eyJldCI6Im1lc3NhZ2UiLCJ0aWQiOiJUMDhHTFEzSEMwNyIsImFpZCI6IkEwOEgwQzI2QkVaIiwiY2lkIjoiQzA4SEw5ODRCRVYifQ'}\n",
      "Received Slack event: {'token': 'vcOktFRX27KKXwM6mDwo1R9u', 'team_id': 'T08GLQ3HC07', 'context_team_id': 'T08GLQ3HC07', 'context_enterprise_id': None, 'api_app_id': 'A08H0C26BEZ', 'event': {'user': 'U08GLQ3JKGX', 'type': 'message', 'ts': '1741725374.966839', 'client_msg_id': '12b7536f-669f-4f29-b3dc-bf21d40d1878', 'text': 'Portal shows customer being opted out from offers', 'team': 'T08GLQ3HC07', 'blocks': [{'type': 'rich_text', 'block_id': '4gbIQ', 'elements': [{'type': 'rich_text_section', 'elements': [{'type': 'text', 'text': 'Portal shows customer being opted out from offers'}]}]}], 'channel': 'C08HL984BEV', 'event_ts': '1741725374.966839', 'channel_type': 'channel'}, 'type': 'event_callback', 'event_id': 'Ev08HB4ZPE0K', 'event_time': 1741725374, 'authorizations': [{'enterprise_id': None, 'team_id': 'T08GLQ3HC07', 'user_id': 'U08H42J6JQ3', 'is_bot': True, 'is_enterprise_install': False}], 'is_ext_shared_channel': False, 'event_context': '4-eyJldCI6Im1lc3NhZ2UiLCJ0aWQiOiJUMDhHTFEzSEMwNyIsImFpZCI6IkEwOEgwQzI2QkVaIiwiY2lkIjoiQzA4SEw5ODRCRVYifQ'}\n",
      "Entities: [('shows', 'RAISE_INCIDENT')]\n"
     ]
    },
    {
     "name": "stderr",
     "output_type": "stream",
     "text": [
      "127.0.0.1 - - [11/Mar/2025 16:36:17] \"POST /slack/events HTTP/1.1\" 200 -\n",
      "127.0.0.1 - - [11/Mar/2025 16:36:19] \"POST /slack/events HTTP/1.1\" 200 -\n"
     ]
    },
    {
     "name": "stdout",
     "output_type": "stream",
     "text": [
      "Received Slack event: {'token': 'vcOktFRX27KKXwM6mDwo1R9u', 'team_id': 'T08GLQ3HC07', 'context_team_id': 'T08GLQ3HC07', 'context_enterprise_id': None, 'api_app_id': 'A08H0C26BEZ', 'event': {'user': 'U08H42J6JQ3', 'type': 'message', 'ts': '1741725377.192159', 'bot_id': 'B08H42J4LGK', 'app_id': 'A08H0C26BEZ', 'text': '*Offer Not Displayed:* The offer is not displayed because the customer has opted out of solicitation, making them ineligible for any offers. :x: However, if you are not satisfied with this response, I can escalate the issue by raising an incident so a support representative can review it further. Would you like me to raise it? :raised_hands:', 'team': 'T08GLQ3HC07', 'bot_profile': {'id': 'B08H42J4LGK', 'deleted': False, 'name': 'ResolveBotAI', 'updated': 1741724274, 'app_id': 'A08H0C26BEZ', 'icons': {'image_36': 'https://avatars.slack-edge.com/2025-03-11/8598251960609_3c2d1ae37c97719d8575_36.webp', 'image_48': 'https://avatars.slack-edge.com/2025-03-11/8598251960609_3c2d1ae37c97719d8575_48.webp', 'image_72': 'https://avatars.slack-edge.com/2025-03-11/8598251960609_3c2d1ae37c97719d8575_72.webp'}, 'team_id': 'T08GLQ3HC07'}, 'thread_ts': '1741725374.966839', 'parent_user_id': 'U08GLQ3JKGX', 'blocks': [{'type': 'rich_text', 'block_id': 'JJWW', 'elements': [{'type': 'rich_text_section', 'elements': [{'type': 'text', 'text': 'Offer Not Displayed:', 'style': {'bold': True}}, {'type': 'text', 'text': ' The offer is not displayed because the customer has opted out of solicitation, making them ineligible for any offers. '}, {'type': 'emoji', 'name': 'x', 'unicode': '274c'}, {'type': 'text', 'text': ' However, if you are not satisfied with this response, I can escalate the issue by raising an incident so a support representative can review it further. Would you like me to raise it? '}, {'type': 'emoji', 'name': 'raised_hands', 'unicode': '1f64c'}]}]}], 'channel': 'C08HL984BEV', 'event_ts': '1741725377.192159', 'channel_type': 'channel'}, 'type': 'event_callback', 'event_id': 'Ev08H7N7MNN9', 'event_time': 1741725377, 'authorizations': [{'enterprise_id': None, 'team_id': 'T08GLQ3HC07', 'user_id': 'U08H42J6JQ3', 'is_bot': True, 'is_enterprise_install': False}], 'is_ext_shared_channel': False, 'event_context': '4-eyJldCI6Im1lc3NhZ2UiLCJ0aWQiOiJUMDhHTFEzSEMwNyIsImFpZCI6IkEwOEgwQzI2QkVaIiwiY2lkIjoiQzA4SEw5ODRCRVYifQ'}\n"
     ]
    },
    {
     "name": "stderr",
     "output_type": "stream",
     "text": [
      "127.0.0.1 - - [11/Mar/2025 16:36:36] \"POST /slack/events HTTP/1.1\" 200 -\n"
     ]
    },
    {
     "name": "stdout",
     "output_type": "stream",
     "text": [
      "Received Slack event: {'token': 'vcOktFRX27KKXwM6mDwo1R9u', 'team_id': 'T08GLQ3HC07', 'context_team_id': 'T08GLQ3HC07', 'context_enterprise_id': None, 'api_app_id': 'A08H0C26BEZ', 'event': {'type': 'message', 'subtype': 'message_changed', 'message': {'subtype': 'tombstone', 'text': 'This message was deleted.', 'user': 'USLACKBOT', 'hidden': True, 'type': 'message', 'thread_ts': '1741725374.966839', 'reply_count': 1, 'reply_users_count': 1, 'latest_reply': '1741725377.192159', 'reply_users': ['U08H42J6JQ3'], 'is_locked': False, 'ts': '1741725374.966839'}, 'previous_message': {'user': 'U08GLQ3JKGX', 'type': 'message', 'ts': '1741725374.966839', 'client_msg_id': '12b7536f-669f-4f29-b3dc-bf21d40d1878', 'text': 'Portal shows customer being opted out from offers', 'team': 'T08GLQ3HC07', 'thread_ts': '1741725374.966839', 'reply_count': 1, 'reply_users_count': 1, 'latest_reply': '1741725377.192159', 'reply_users': ['U08H42J6JQ3'], 'is_locked': False, 'subscribed': True, 'last_read': '1741725377.192159', 'blocks': [{'type': 'rich_text', 'block_id': '4gbIQ', 'elements': [{'type': 'rich_text_section', 'elements': [{'type': 'text', 'text': 'Portal shows customer being opted out from offers'}]}]}]}, 'channel': 'C08HL984BEV', 'hidden': True, 'ts': '1741725394.001800', 'event_ts': '1741725394.001800', 'channel_type': 'channel'}, 'type': 'event_callback', 'event_id': 'Ev08HD0XRSDA', 'event_time': 1741725394, 'authorizations': [{'enterprise_id': None, 'team_id': 'T08GLQ3HC07', 'user_id': 'U08H42J6JQ3', 'is_bot': True, 'is_enterprise_install': False}], 'is_ext_shared_channel': False, 'event_context': '4-eyJldCI6Im1lc3NhZ2UiLCJ0aWQiOiJUMDhHTFEzSEMwNyIsImFpZCI6IkEwOEgwQzI2QkVaIiwiY2lkIjoiQzA4SEw5ODRCRVYifQ'}\n"
     ]
    },
    {
     "name": "stderr",
     "output_type": "stream",
     "text": [
      "127.0.0.1 - - [11/Mar/2025 16:36:39] \"POST /slack/events HTTP/1.1\" 200 -\n"
     ]
    },
    {
     "name": "stdout",
     "output_type": "stream",
     "text": [
      "Received Slack event: {'token': 'vcOktFRX27KKXwM6mDwo1R9u', 'team_id': 'T08GLQ3HC07', 'context_team_id': 'T08GLQ3HC07', 'context_enterprise_id': None, 'api_app_id': 'A08H0C26BEZ', 'event': {'type': 'message', 'subtype': 'message_deleted', 'previous_message': {'user': 'U08H42J6JQ3', 'type': 'message', 'ts': '1741725377.192159', 'bot_id': 'B08H42J4LGK', 'app_id': 'A08H0C26BEZ', 'text': '*Offer Not Displayed:* The offer is not displayed because the customer has opted out of solicitation, making them ineligible for any offers. :x: However, if you are not satisfied with this response, I can escalate the issue by raising an incident so a support representative can review it further. Would you like me to raise it? :raised_hands:', 'team': 'T08GLQ3HC07', 'bot_profile': {'id': 'B08H42J4LGK', 'deleted': False, 'name': 'ResolveBotAI', 'updated': 1741724274, 'app_id': 'A08H0C26BEZ', 'icons': {'image_36': 'https://avatars.slack-edge.com/2025-03-11/8598251960609_3c2d1ae37c97719d8575_36.webp', 'image_48': 'https://avatars.slack-edge.com/2025-03-11/8598251960609_3c2d1ae37c97719d8575_48.webp', 'image_72': 'https://avatars.slack-edge.com/2025-03-11/8598251960609_3c2d1ae37c97719d8575_72.webp'}, 'team_id': 'T08GLQ3HC07'}, 'thread_ts': '1741725374.966839', 'parent_user_id': 'USLACKBOT', 'blocks': [{'type': 'rich_text', 'block_id': 'qa=', 'elements': [{'type': 'rich_text_section', 'elements': [{'type': 'text', 'text': 'Offer Not Displayed:', 'style': {'bold': True}}, {'type': 'text', 'text': ' The offer is not displayed because the customer has opted out of solicitation, making them ineligible for any offers. '}, {'type': 'emoji', 'name': 'x', 'unicode': '274c'}, {'type': 'text', 'text': ' However, if you are not satisfied with this response, I can escalate the issue by raising an incident so a support representative can review it further. Would you like me to raise it? '}, {'type': 'emoji', 'name': 'raised_hands', 'unicode': '1f64c'}]}]}]}, 'channel': 'C08HL984BEV', 'hidden': True, 'deleted_ts': '1741725377.192159', 'event_ts': '1741725399.001900', 'ts': '1741725399.001900', 'channel_type': 'channel'}, 'type': 'event_callback', 'event_id': 'Ev08HD0Y26EQ', 'event_time': 1741725399, 'authorizations': [{'enterprise_id': None, 'team_id': 'T08GLQ3HC07', 'user_id': 'U08H42J6JQ3', 'is_bot': True, 'is_enterprise_install': False}], 'is_ext_shared_channel': False, 'event_context': '4-eyJldCI6Im1lc3NhZ2UiLCJ0aWQiOiJUMDhHTFEzSEMwNyIsImFpZCI6IkEwOEgwQzI2QkVaIiwiY2lkIjoiQzA4SEw5ODRCRVYifQ'}\n"
     ]
    },
    {
     "name": "stderr",
     "output_type": "stream",
     "text": [
      "127.0.0.1 - - [11/Mar/2025 16:36:40] \"POST /slack/events HTTP/1.1\" 200 -\n"
     ]
    },
    {
     "name": "stdout",
     "output_type": "stream",
     "text": [
      "Received Slack event: {'token': 'vcOktFRX27KKXwM6mDwo1R9u', 'team_id': 'T08GLQ3HC07', 'context_team_id': 'T08GLQ3HC07', 'context_enterprise_id': None, 'api_app_id': 'A08H0C26BEZ', 'event': {'type': 'message', 'subtype': 'message_deleted', 'previous_message': {'subtype': 'tombstone', 'text': 'This message was deleted.', 'user': 'USLACKBOT', 'hidden': True, 'type': 'message', 'ts': '1741725374.966839', 'thread_ts': '1741725374.966839', 'parent_user_id': 'USLACKBOT', 'reply_count': 0, 'reply_users_count': 0, 'latest_reply': '0000000000.000000', 'reply_users': [], 'is_locked': False, 'subscribed': True, 'last_read': '1741725377.192159'}, 'channel': 'C08HL984BEV', 'hidden': True, 'deleted_ts': '1741725374.966839', 'event_ts': '1741725399.002000', 'ts': '1741725399.002000', 'channel_type': 'channel'}, 'type': 'event_callback', 'event_id': 'Ev08HA284L6N', 'event_time': 1741725399, 'authorizations': [{'enterprise_id': None, 'team_id': 'T08GLQ3HC07', 'user_id': 'U08H42J6JQ3', 'is_bot': True, 'is_enterprise_install': False}], 'is_ext_shared_channel': False, 'event_context': '4-eyJldCI6Im1lc3NhZ2UiLCJ0aWQiOiJUMDhHTFEzSEMwNyIsImFpZCI6IkEwOEgwQzI2QkVaIiwiY2lkIjoiQzA4SEw5ODRCRVYifQ'}\n"
     ]
    },
    {
     "name": "stderr",
     "output_type": "stream",
     "text": [
      "127.0.0.1 - - [11/Mar/2025 16:36:43] \"POST /slack/events HTTP/1.1\" 200 -\n"
     ]
    },
    {
     "name": "stdout",
     "output_type": "stream",
     "text": [
      "Received Slack event: {'token': 'vcOktFRX27KKXwM6mDwo1R9u', 'team_id': 'T08GLQ3HC07', 'context_team_id': 'T08GLQ3HC07', 'context_enterprise_id': None, 'api_app_id': 'A08H0C26BEZ', 'event': {'type': 'message', 'subtype': 'message_changed', 'message': {'subtype': 'tombstone', 'text': 'This message was deleted.', 'user': 'USLACKBOT', 'hidden': True, 'type': 'message', 'thread_ts': '1741725329.932649', 'reply_count': 1, 'reply_users_count': 1, 'latest_reply': '1741725331.229429', 'reply_users': ['U08H42J6JQ3'], 'is_locked': False, 'ts': '1741725329.932649'}, 'previous_message': {'user': 'U08GLQ3JKGX', 'type': 'message', 'ts': '1741725329.932649', 'client_msg_id': '924812b6-82c7-4dd5-a357-6d01f58c5387', 'text': 'customer being opted out', 'team': 'T08GLQ3HC07', 'thread_ts': '1741725329.932649', 'reply_count': 1, 'reply_users_count': 1, 'latest_reply': '1741725331.229429', 'reply_users': ['U08H42J6JQ3'], 'is_locked': False, 'subscribed': True, 'last_read': '1741725331.229429', 'blocks': [{'type': 'rich_text', 'block_id': '2z4Mu', 'elements': [{'type': 'rich_text_section', 'elements': [{'type': 'text', 'text': 'customer being opted out'}]}]}]}, 'channel': 'C08HL984BEV', 'hidden': True, 'ts': '1741725402.002100', 'event_ts': '1741725402.002100', 'channel_type': 'channel'}, 'type': 'event_callback', 'event_id': 'Ev08HLA7HH5X', 'event_time': 1741725402, 'authorizations': [{'enterprise_id': None, 'team_id': 'T08GLQ3HC07', 'user_id': 'U08H42J6JQ3', 'is_bot': True, 'is_enterprise_install': False}], 'is_ext_shared_channel': False, 'event_context': '4-eyJldCI6Im1lc3NhZ2UiLCJ0aWQiOiJUMDhHTFEzSEMwNyIsImFpZCI6IkEwOEgwQzI2QkVaIiwiY2lkIjoiQzA4SEw5ODRCRVYifQ'}\n"
     ]
    },
    {
     "name": "stderr",
     "output_type": "stream",
     "text": [
      "127.0.0.1 - - [11/Mar/2025 16:36:48] \"POST /slack/events HTTP/1.1\" 200 -\n"
     ]
    },
    {
     "name": "stdout",
     "output_type": "stream",
     "text": [
      "Received Slack event: {'token': 'vcOktFRX27KKXwM6mDwo1R9u', 'team_id': 'T08GLQ3HC07', 'context_team_id': 'T08GLQ3HC07', 'context_enterprise_id': None, 'api_app_id': 'A08H0C26BEZ', 'event': {'type': 'message', 'subtype': 'message_changed', 'message': {'subtype': 'tombstone', 'text': 'This message was deleted.', 'user': 'USLACKBOT', 'hidden': True, 'type': 'message', 'thread_ts': '1741725357.975599', 'reply_count': 1, 'reply_users_count': 1, 'latest_reply': '1741725359.222309', 'reply_users': ['U08H42J6JQ3'], 'is_locked': False, 'ts': '1741725357.975599'}, 'previous_message': {'user': 'U08GLQ3JKGX', 'type': 'message', 'ts': '1741725357.975599', 'client_msg_id': '762d32eb-4bcc-404a-9ea1-8a63d984cc94', 'text': 'Portal shows customer being opted out', 'team': 'T08GLQ3HC07', 'thread_ts': '1741725357.975599', 'reply_count': 1, 'reply_users_count': 1, 'latest_reply': '1741725359.222309', 'reply_users': ['U08H42J6JQ3'], 'is_locked': False, 'subscribed': True, 'last_read': '1741725359.222309', 'blocks': [{'type': 'rich_text', 'block_id': '9U2zA', 'elements': [{'type': 'rich_text_section', 'elements': [{'type': 'text', 'text': 'Portal shows customer being opted out'}]}]}]}, 'channel': 'C08HL984BEV', 'hidden': True, 'ts': '1741725406.002200', 'event_ts': '1741725406.002200', 'channel_type': 'channel'}, 'type': 'event_callback', 'event_id': 'Ev08HB52HA59', 'event_time': 1741725406, 'authorizations': [{'enterprise_id': None, 'team_id': 'T08GLQ3HC07', 'user_id': 'U08H42J6JQ3', 'is_bot': True, 'is_enterprise_install': False}], 'is_ext_shared_channel': False, 'event_context': '4-eyJldCI6Im1lc3NhZ2UiLCJ0aWQiOiJUMDhHTFEzSEMwNyIsImFpZCI6IkEwOEgwQzI2QkVaIiwiY2lkIjoiQzA4SEw5ODRCRVYifQ'}\n"
     ]
    },
    {
     "name": "stderr",
     "output_type": "stream",
     "text": [
      "127.0.0.1 - - [11/Mar/2025 16:36:52] \"POST /slack/events HTTP/1.1\" 200 -\n",
      "127.0.0.1 - - [11/Mar/2025 16:36:52] \"POST /slack/events HTTP/1.1\" 200 -\n"
     ]
    },
    {
     "name": "stdout",
     "output_type": "stream",
     "text": [
      "Received Slack event: {'token': 'vcOktFRX27KKXwM6mDwo1R9u', 'team_id': 'T08GLQ3HC07', 'context_team_id': 'T08GLQ3HC07', 'context_enterprise_id': None, 'api_app_id': 'A08H0C26BEZ', 'event': {'type': 'message', 'subtype': 'message_deleted', 'previous_message': {'user': 'U08H42J6JQ3', 'type': 'message', 'ts': '1741725359.222309', 'bot_id': 'B08H42J4LGK', 'app_id': 'A08H0C26BEZ', 'text': '*Incident Raised:* Your incident has been successfully raised and marked as *out* priority. :warning: \\n\\nThe *Site Reliability Engineering (SRE)* team will address it as soon as possible to ensure a swift resolution. :rocket:\\n\\nThank you for your patience!', 'team': 'T08GLQ3HC07', 'bot_profile': {'id': 'B08H42J4LGK', 'deleted': False, 'name': 'ResolveBotAI', 'updated': 1741724274, 'app_id': 'A08H0C26BEZ', 'icons': {'image_36': 'https://avatars.slack-edge.com/2025-03-11/8598251960609_3c2d1ae37c97719d8575_36.webp', 'image_48': 'https://avatars.slack-edge.com/2025-03-11/8598251960609_3c2d1ae37c97719d8575_48.webp', 'image_72': 'https://avatars.slack-edge.com/2025-03-11/8598251960609_3c2d1ae37c97719d8575_72.webp'}, 'team_id': 'T08GLQ3HC07'}, 'thread_ts': '1741725357.975599', 'parent_user_id': 'USLACKBOT', 'blocks': [{'type': 'rich_text', 'block_id': '/yEYZ', 'elements': [{'type': 'rich_text_section', 'elements': [{'type': 'text', 'text': 'Incident Raised:', 'style': {'bold': True}}, {'type': 'text', 'text': ' Your incident has been successfully raised and marked as '}, {'type': 'text', 'text': 'out', 'style': {'bold': True}}, {'type': 'text', 'text': ' priority. '}, {'type': 'emoji', 'name': 'warning', 'unicode': '26a0-fe0f'}, {'type': 'text', 'text': ' \\n\\nThe '}, {'type': 'text', 'text': 'Site Reliability Engineering (SRE)', 'style': {'bold': True}}, {'type': 'text', 'text': ' team will address it as soon as possible to ensure a swift resolution. '}, {'type': 'emoji', 'name': 'rocket', 'unicode': '1f680'}, {'type': 'text', 'text': '\\n\\nThank you for your patience!'}]}]}]}, 'channel': 'C08HL984BEV', 'hidden': True, 'deleted_ts': '1741725359.222309', 'event_ts': '1741725411.002300', 'ts': '1741725411.002300', 'channel_type': 'channel'}, 'type': 'event_callback', 'event_id': 'Ev08HA295JR0', 'event_time': 1741725411, 'authorizations': [{'enterprise_id': None, 'team_id': 'T08GLQ3HC07', 'user_id': 'U08H42J6JQ3', 'is_bot': True, 'is_enterprise_install': False}], 'is_ext_shared_channel': False, 'event_context': '4-eyJldCI6Im1lc3NhZ2UiLCJ0aWQiOiJUMDhHTFEzSEMwNyIsImFpZCI6IkEwOEgwQzI2QkVaIiwiY2lkIjoiQzA4SEw5ODRCRVYifQ'}\n",
      "Received Slack event: {'token': 'vcOktFRX27KKXwM6mDwo1R9u', 'team_id': 'T08GLQ3HC07', 'context_team_id': 'T08GLQ3HC07', 'context_enterprise_id': None, 'api_app_id': 'A08H0C26BEZ', 'event': {'type': 'message', 'subtype': 'message_deleted', 'previous_message': {'subtype': 'tombstone', 'text': 'This message was deleted.', 'user': 'USLACKBOT', 'hidden': True, 'type': 'message', 'ts': '1741725357.975599', 'thread_ts': '1741725357.975599', 'parent_user_id': 'USLACKBOT', 'reply_count': 0, 'reply_users_count': 0, 'latest_reply': '0000000000.000000', 'reply_users': [], 'is_locked': False, 'subscribed': True, 'last_read': '1741725359.222309'}, 'channel': 'C08HL984BEV', 'hidden': True, 'deleted_ts': '1741725357.975599', 'event_ts': '1741725411.002400', 'ts': '1741725411.002400', 'channel_type': 'channel'}, 'type': 'event_callback', 'event_id': 'Ev08GUBBMR39', 'event_time': 1741725411, 'authorizations': [{'enterprise_id': None, 'team_id': 'T08GLQ3HC07', 'user_id': 'U08H42J6JQ3', 'is_bot': True, 'is_enterprise_install': False}], 'is_ext_shared_channel': False, 'event_context': '4-eyJldCI6Im1lc3NhZ2UiLCJ0aWQiOiJUMDhHTFEzSEMwNyIsImFpZCI6IkEwOEgwQzI2QkVaIiwiY2lkIjoiQzA4SEw5ODRCRVYifQ'}\n"
     ]
    },
    {
     "name": "stderr",
     "output_type": "stream",
     "text": [
      "127.0.0.1 - - [11/Mar/2025 16:36:56] \"POST /slack/events HTTP/1.1\" 200 -\n"
     ]
    },
    {
     "name": "stdout",
     "output_type": "stream",
     "text": [
      "Received Slack event: {'token': 'vcOktFRX27KKXwM6mDwo1R9u', 'team_id': 'T08GLQ3HC07', 'context_team_id': 'T08GLQ3HC07', 'context_enterprise_id': None, 'api_app_id': 'A08H0C26BEZ', 'event': {'type': 'message', 'subtype': 'message_changed', 'message': {'subtype': 'tombstone', 'text': 'This message was deleted.', 'user': 'USLACKBOT', 'hidden': True, 'type': 'message', 'thread_ts': '1741725312.690459', 'reply_count': 1, 'reply_users_count': 1, 'latest_reply': '1741725313.933929', 'reply_users': ['U08H42J6JQ3'], 'is_locked': False, 'ts': '1741725312.690459'}, 'previous_message': {'user': 'U08GLQ3JKGX', 'type': 'message', 'ts': '1741725312.690459', 'client_msg_id': '7db556ac-95ee-4f49-b55a-4c901668816d', 'text': 'customer opted out for being solicited message', 'team': 'T08GLQ3HC07', 'thread_ts': '1741725312.690459', 'reply_count': 1, 'reply_users_count': 1, 'latest_reply': '1741725313.933929', 'reply_users': ['U08H42J6JQ3'], 'is_locked': False, 'subscribed': True, 'last_read': '1741725313.933929', 'blocks': [{'type': 'rich_text', 'block_id': '5JIOV', 'elements': [{'type': 'rich_text_section', 'elements': [{'type': 'text', 'text': 'customer opted out for being solicited message'}]}]}]}, 'channel': 'C08HL984BEV', 'hidden': True, 'ts': '1741725416.002500', 'event_ts': '1741725416.002500', 'channel_type': 'channel'}, 'type': 'event_callback', 'event_id': 'Ev08H7NALKL5', 'event_time': 1741725416, 'authorizations': [{'enterprise_id': None, 'team_id': 'T08GLQ3HC07', 'user_id': 'U08H42J6JQ3', 'is_bot': True, 'is_enterprise_install': False}], 'is_ext_shared_channel': False, 'event_context': '4-eyJldCI6Im1lc3NhZ2UiLCJ0aWQiOiJUMDhHTFEzSEMwNyIsImFpZCI6IkEwOEgwQzI2QkVaIiwiY2lkIjoiQzA4SEw5ODRCRVYifQ'}\n"
     ]
    },
    {
     "name": "stderr",
     "output_type": "stream",
     "text": [
      "127.0.0.1 - - [11/Mar/2025 16:37:02] \"POST /slack/events HTTP/1.1\" 200 -\n",
      "127.0.0.1 - - [11/Mar/2025 16:37:02] \"POST /slack/events HTTP/1.1\" 200 -\n"
     ]
    },
    {
     "name": "stdout",
     "output_type": "stream",
     "text": [
      "Received Slack event: {'token': 'vcOktFRX27KKXwM6mDwo1R9u', 'team_id': 'T08GLQ3HC07', 'context_team_id': 'T08GLQ3HC07', 'context_enterprise_id': None, 'api_app_id': 'A08H0C26BEZ', 'event': {'type': 'message', 'subtype': 'message_deleted', 'previous_message': {'user': 'U08H42J6JQ3', 'type': 'message', 'ts': '1741725313.933929', 'bot_id': 'B08H42J4LGK', 'app_id': 'A08H0C26BEZ', 'text': '*Incident Raised:* Your incident has been successfully raised and marked as *for* priority. :warning: \\n\\nThe *Site Reliability Engineering (SRE)* team will address it as soon as possible to ensure a swift resolution. :rocket:\\n\\nThank you for your patience!', 'team': 'T08GLQ3HC07', 'bot_profile': {'id': 'B08H42J4LGK', 'deleted': False, 'name': 'ResolveBotAI', 'updated': 1741724274, 'app_id': 'A08H0C26BEZ', 'icons': {'image_36': 'https://avatars.slack-edge.com/2025-03-11/8598251960609_3c2d1ae37c97719d8575_36.webp', 'image_48': 'https://avatars.slack-edge.com/2025-03-11/8598251960609_3c2d1ae37c97719d8575_48.webp', 'image_72': 'https://avatars.slack-edge.com/2025-03-11/8598251960609_3c2d1ae37c97719d8575_72.webp'}, 'team_id': 'T08GLQ3HC07'}, 'thread_ts': '1741725312.690459', 'parent_user_id': 'USLACKBOT', 'blocks': [{'type': 'rich_text', 'block_id': 'V4gJj', 'elements': [{'type': 'rich_text_section', 'elements': [{'type': 'text', 'text': 'Incident Raised:', 'style': {'bold': True}}, {'type': 'text', 'text': ' Your incident has been successfully raised and marked as '}, {'type': 'text', 'text': 'for', 'style': {'bold': True}}, {'type': 'text', 'text': ' priority. '}, {'type': 'emoji', 'name': 'warning', 'unicode': '26a0-fe0f'}, {'type': 'text', 'text': ' \\n\\nThe '}, {'type': 'text', 'text': 'Site Reliability Engineering (SRE)', 'style': {'bold': True}}, {'type': 'text', 'text': ' team will address it as soon as possible to ensure a swift resolution. '}, {'type': 'emoji', 'name': 'rocket', 'unicode': '1f680'}, {'type': 'text', 'text': '\\n\\nThank you for your patience!'}]}]}]}, 'channel': 'C08HL984BEV', 'hidden': True, 'deleted_ts': '1741725313.933929', 'event_ts': '1741725421.002600', 'ts': '1741725421.002600', 'channel_type': 'channel'}, 'type': 'event_callback', 'event_id': 'Ev08HD102SJG', 'event_time': 1741725421, 'authorizations': [{'enterprise_id': None, 'team_id': 'T08GLQ3HC07', 'user_id': 'U08H42J6JQ3', 'is_bot': True, 'is_enterprise_install': False}], 'is_ext_shared_channel': False, 'event_context': '4-eyJldCI6Im1lc3NhZ2UiLCJ0aWQiOiJUMDhHTFEzSEMwNyIsImFpZCI6IkEwOEgwQzI2QkVaIiwiY2lkIjoiQzA4SEw5ODRCRVYifQ'}\n",
      "Received Slack event: {'token': 'vcOktFRX27KKXwM6mDwo1R9u', 'team_id': 'T08GLQ3HC07', 'context_team_id': 'T08GLQ3HC07', 'context_enterprise_id': None, 'api_app_id': 'A08H0C26BEZ', 'event': {'type': 'message', 'subtype': 'message_deleted', 'previous_message': {'subtype': 'tombstone', 'text': 'This message was deleted.', 'user': 'USLACKBOT', 'hidden': True, 'type': 'message', 'ts': '1741725312.690459', 'thread_ts': '1741725312.690459', 'parent_user_id': 'USLACKBOT', 'reply_count': 0, 'reply_users_count': 0, 'latest_reply': '0000000000.000000', 'reply_users': [], 'is_locked': False, 'subscribed': True, 'last_read': '1741725313.933929'}, 'channel': 'C08HL984BEV', 'hidden': True, 'deleted_ts': '1741725312.690459', 'event_ts': '1741725421.002700', 'ts': '1741725421.002700', 'channel_type': 'channel'}, 'type': 'event_callback', 'event_id': 'Ev08HD0ZUKFE', 'event_time': 1741725421, 'authorizations': [{'enterprise_id': None, 'team_id': 'T08GLQ3HC07', 'user_id': 'U08H42J6JQ3', 'is_bot': True, 'is_enterprise_install': False}], 'is_ext_shared_channel': False, 'event_context': '4-eyJldCI6Im1lc3NhZ2UiLCJ0aWQiOiJUMDhHTFEzSEMwNyIsImFpZCI6IkEwOEgwQzI2QkVaIiwiY2lkIjoiQzA4SEw5ODRCRVYifQ'}\n"
     ]
    },
    {
     "name": "stderr",
     "output_type": "stream",
     "text": [
      "127.0.0.1 - - [11/Mar/2025 16:37:06] \"POST /slack/events HTTP/1.1\" 200 -\n"
     ]
    },
    {
     "name": "stdout",
     "output_type": "stream",
     "text": [
      "Received Slack event: {'token': 'vcOktFRX27KKXwM6mDwo1R9u', 'team_id': 'T08GLQ3HC07', 'context_team_id': 'T08GLQ3HC07', 'context_enterprise_id': None, 'api_app_id': 'A08H0C26BEZ', 'event': {'type': 'message', 'subtype': 'message_deleted', 'previous_message': {'user': 'U08H42J6JQ3', 'type': 'message', 'ts': '1741725331.229429', 'bot_id': 'B08H42J4LGK', 'app_id': 'A08H0C26BEZ', 'text': '*Offer Not Displayed:* The offer is not displayed because the customer has opted out of solicitation, making them ineligible for any offers. :x: However, if you are not satisfied with this response, I can escalate the issue by raising an incident so a support representative can review it further. Would you like me to raise it? :raised_hands:', 'team': 'T08GLQ3HC07', 'bot_profile': {'id': 'B08H42J4LGK', 'deleted': False, 'name': 'ResolveBotAI', 'updated': 1741724274, 'app_id': 'A08H0C26BEZ', 'icons': {'image_36': 'https://avatars.slack-edge.com/2025-03-11/8598251960609_3c2d1ae37c97719d8575_36.webp', 'image_48': 'https://avatars.slack-edge.com/2025-03-11/8598251960609_3c2d1ae37c97719d8575_48.webp', 'image_72': 'https://avatars.slack-edge.com/2025-03-11/8598251960609_3c2d1ae37c97719d8575_72.webp'}, 'team_id': 'T08GLQ3HC07'}, 'thread_ts': '1741725329.932649', 'parent_user_id': 'USLACKBOT', 'blocks': [{'type': 'rich_text', 'block_id': 'Wsfm', 'elements': [{'type': 'rich_text_section', 'elements': [{'type': 'text', 'text': 'Offer Not Displayed:', 'style': {'bold': True}}, {'type': 'text', 'text': ' The offer is not displayed because the customer has opted out of solicitation, making them ineligible for any offers. '}, {'type': 'emoji', 'name': 'x', 'unicode': '274c'}, {'type': 'text', 'text': ' However, if you are not satisfied with this response, I can escalate the issue by raising an incident so a support representative can review it further. Would you like me to raise it? '}, {'type': 'emoji', 'name': 'raised_hands', 'unicode': '1f64c'}]}]}]}, 'channel': 'C08HL984BEV', 'hidden': True, 'deleted_ts': '1741725331.229429', 'event_ts': '1741725425.002800', 'ts': '1741725425.002800', 'channel_type': 'channel'}, 'type': 'event_callback', 'event_id': 'Ev08HA2AF04A', 'event_time': 1741725425, 'authorizations': [{'enterprise_id': None, 'team_id': 'T08GLQ3HC07', 'user_id': 'U08H42J6JQ3', 'is_bot': True, 'is_enterprise_install': False}], 'is_ext_shared_channel': False, 'event_context': '4-eyJldCI6Im1lc3NhZ2UiLCJ0aWQiOiJUMDhHTFEzSEMwNyIsImFpZCI6IkEwOEgwQzI2QkVaIiwiY2lkIjoiQzA4SEw5ODRCRVYifQ'}\n"
     ]
    },
    {
     "name": "stderr",
     "output_type": "stream",
     "text": [
      "127.0.0.1 - - [11/Mar/2025 16:37:06] \"POST /slack/events HTTP/1.1\" 200 -\n"
     ]
    },
    {
     "name": "stdout",
     "output_type": "stream",
     "text": [
      "Received Slack event: {'token': 'vcOktFRX27KKXwM6mDwo1R9u', 'team_id': 'T08GLQ3HC07', 'context_team_id': 'T08GLQ3HC07', 'context_enterprise_id': None, 'api_app_id': 'A08H0C26BEZ', 'event': {'type': 'message', 'subtype': 'message_deleted', 'previous_message': {'subtype': 'tombstone', 'text': 'This message was deleted.', 'user': 'USLACKBOT', 'hidden': True, 'type': 'message', 'ts': '1741725329.932649', 'thread_ts': '1741725329.932649', 'parent_user_id': 'USLACKBOT', 'reply_count': 0, 'reply_users_count': 0, 'latest_reply': '0000000000.000000', 'reply_users': [], 'is_locked': False, 'subscribed': True, 'last_read': '1741725331.229429'}, 'channel': 'C08HL984BEV', 'hidden': True, 'deleted_ts': '1741725329.932649', 'event_ts': '1741725425.002900', 'ts': '1741725425.002900', 'channel_type': 'channel'}, 'type': 'event_callback', 'event_id': 'Ev08HB55F2RH', 'event_time': 1741725425, 'authorizations': [{'enterprise_id': None, 'team_id': 'T08GLQ3HC07', 'user_id': 'U08H42J6JQ3', 'is_bot': True, 'is_enterprise_install': False}], 'is_ext_shared_channel': False, 'event_context': '4-eyJldCI6Im1lc3NhZ2UiLCJ0aWQiOiJUMDhHTFEzSEMwNyIsImFpZCI6IkEwOEgwQzI2QkVaIiwiY2lkIjoiQzA4SEw5ODRCRVYifQ'}\n"
     ]
    },
    {
     "name": "stderr",
     "output_type": "stream",
     "text": [
      "127.0.0.1 - - [11/Mar/2025 16:37:13] \"POST /slack/events HTTP/1.1\" 200 -\n"
     ]
    },
    {
     "name": "stdout",
     "output_type": "stream",
     "text": [
      "Received Slack event: {'token': 'vcOktFRX27KKXwM6mDwo1R9u', 'team_id': 'T08GLQ3HC07', 'context_team_id': 'T08GLQ3HC07', 'context_enterprise_id': None, 'api_app_id': 'A08H0C26BEZ', 'event': {'type': 'message', 'subtype': 'message_changed', 'message': {'subtype': 'tombstone', 'text': 'This message was deleted.', 'user': 'USLACKBOT', 'hidden': True, 'type': 'message', 'thread_ts': '1741725240.888639', 'reply_count': 1, 'reply_users_count': 1, 'latest_reply': '1741725242.243209', 'reply_users': ['U08H42J6JQ3'], 'is_locked': False, 'ts': '1741725240.888639'}, 'previous_message': {'user': 'U08GLQ3JKGX', 'type': 'message', 'ts': '1741725240.888639', 'client_msg_id': 'e577a0ce-9df2-4489-8961-48b4eefe4446', 'text': 'I am getting customer opted out from offers', 'team': 'T08GLQ3HC07', 'thread_ts': '1741725240.888639', 'reply_count': 1, 'reply_users_count': 1, 'latest_reply': '1741725242.243209', 'reply_users': ['U08H42J6JQ3'], 'is_locked': False, 'subscribed': True, 'last_read': '1741725242.243209', 'blocks': [{'type': 'rich_text', 'block_id': '737Xb', 'elements': [{'type': 'rich_text_section', 'elements': [{'type': 'text', 'text': 'I am getting customer opted out from offers'}]}]}]}, 'channel': 'C08HL984BEV', 'hidden': True, 'ts': '1741725432.003000', 'event_ts': '1741725432.003000', 'channel_type': 'channel'}, 'type': 'event_callback', 'event_id': 'Ev08HB54ERT5', 'event_time': 1741725432, 'authorizations': [{'enterprise_id': None, 'team_id': 'T08GLQ3HC07', 'user_id': 'U08H42J6JQ3', 'is_bot': True, 'is_enterprise_install': False}], 'is_ext_shared_channel': False, 'event_context': '4-eyJldCI6Im1lc3NhZ2UiLCJ0aWQiOiJUMDhHTFEzSEMwNyIsImFpZCI6IkEwOEgwQzI2QkVaIiwiY2lkIjoiQzA4SEw5ODRCRVYifQ'}\n"
     ]
    },
    {
     "name": "stderr",
     "output_type": "stream",
     "text": [
      "127.0.0.1 - - [11/Mar/2025 16:37:18] \"POST /slack/events HTTP/1.1\" 200 -\n",
      "127.0.0.1 - - [11/Mar/2025 16:37:18] \"POST /slack/events HTTP/1.1\" 200 -\n"
     ]
    },
    {
     "name": "stdout",
     "output_type": "stream",
     "text": [
      "Received Slack event: {'token': 'vcOktFRX27KKXwM6mDwo1R9u', 'team_id': 'T08GLQ3HC07', 'context_team_id': 'T08GLQ3HC07', 'context_enterprise_id': None, 'api_app_id': 'A08H0C26BEZ', 'event': {'type': 'message', 'subtype': 'message_deleted', 'previous_message': {'subtype': 'tombstone', 'text': 'This message was deleted.', 'user': 'USLACKBOT', 'hidden': True, 'type': 'message', 'ts': '1741725240.888639', 'thread_ts': '1741725240.888639', 'parent_user_id': 'USLACKBOT', 'reply_count': 0, 'reply_users_count': 0, 'latest_reply': '0000000000.000000', 'reply_users': [], 'is_locked': False, 'subscribed': True, 'last_read': '1741725242.243209'}, 'channel': 'C08HL984BEV', 'hidden': True, 'deleted_ts': '1741725240.888639', 'event_ts': '1741725437.003200', 'ts': '1741725437.003200', 'channel_type': 'channel'}, 'type': 'event_callback', 'event_id': 'Ev08HA2CD2KU', 'event_time': 1741725437, 'authorizations': [{'enterprise_id': None, 'team_id': 'T08GLQ3HC07', 'user_id': 'U08H42J6JQ3', 'is_bot': True, 'is_enterprise_install': False}], 'is_ext_shared_channel': False, 'event_context': '4-eyJldCI6Im1lc3NhZ2UiLCJ0aWQiOiJUMDhHTFEzSEMwNyIsImFpZCI6IkEwOEgwQzI2QkVaIiwiY2lkIjoiQzA4SEw5ODRCRVYifQ'}\n",
      "Received Slack event: {'token': 'vcOktFRX27KKXwM6mDwo1R9u', 'team_id': 'T08GLQ3HC07', 'context_team_id': 'T08GLQ3HC07', 'context_enterprise_id': None, 'api_app_id': 'A08H0C26BEZ', 'event': {'type': 'message', 'subtype': 'message_deleted', 'previous_message': {'user': 'U08H42J6JQ3', 'type': 'message', 'ts': '1741725242.243209', 'bot_id': 'B08H42J4LGK', 'app_id': 'A08H0C26BEZ', 'text': '*Offer Not Displayed:* The offer is not displayed because the customer has opted out of solicitation, making them ineligible for any offers. :x: However, if you are not satisfied with this response, I can escalate the issue by raising an incident so a support representative can review it further. Would you like me to raise it? :raised_hands:', 'team': 'T08GLQ3HC07', 'bot_profile': {'id': 'B08H42J4LGK', 'deleted': False, 'name': 'ResolveBotAI', 'updated': 1741724274, 'app_id': 'A08H0C26BEZ', 'icons': {'image_36': 'https://avatars.slack-edge.com/2025-03-11/8598251960609_3c2d1ae37c97719d8575_36.webp', 'image_48': 'https://avatars.slack-edge.com/2025-03-11/8598251960609_3c2d1ae37c97719d8575_48.webp', 'image_72': 'https://avatars.slack-edge.com/2025-03-11/8598251960609_3c2d1ae37c97719d8575_72.webp'}, 'team_id': 'T08GLQ3HC07'}, 'thread_ts': '1741725240.888639', 'parent_user_id': 'USLACKBOT', 'blocks': [{'type': 'rich_text', 'block_id': 'k4z', 'elements': [{'type': 'rich_text_section', 'elements': [{'type': 'text', 'text': 'Offer Not Displayed:', 'style': {'bold': True}}, {'type': 'text', 'text': ' The offer is not displayed because the customer has opted out of solicitation, making them ineligible for any offers. '}, {'type': 'emoji', 'name': 'x', 'unicode': '274c'}, {'type': 'text', 'text': ' However, if you are not satisfied with this response, I can escalate the issue by raising an incident so a support representative can review it further. Would you like me to raise it? '}, {'type': 'emoji', 'name': 'raised_hands', 'unicode': '1f64c'}]}]}]}, 'channel': 'C08HL984BEV', 'hidden': True, 'deleted_ts': '1741725242.243209', 'event_ts': '1741725437.003100', 'ts': '1741725437.003100', 'channel_type': 'channel'}, 'type': 'event_callback', 'event_id': 'Ev08H2LFTX7Y', 'event_time': 1741725437, 'authorizations': [{'enterprise_id': None, 'team_id': 'T08GLQ3HC07', 'user_id': 'U08H42J6JQ3', 'is_bot': True, 'is_enterprise_install': False}], 'is_ext_shared_channel': False, 'event_context': '4-eyJldCI6Im1lc3NhZ2UiLCJ0aWQiOiJUMDhHTFEzSEMwNyIsImFpZCI6IkEwOEgwQzI2QkVaIiwiY2lkIjoiQzA4SEw5ODRCRVYifQ'}\n"
     ]
    },
    {
     "name": "stderr",
     "output_type": "stream",
     "text": [
      "127.0.0.1 - - [11/Mar/2025 16:37:22] \"POST /slack/events HTTP/1.1\" 200 -\n"
     ]
    },
    {
     "name": "stdout",
     "output_type": "stream",
     "text": [
      "Received Slack event: {'token': 'vcOktFRX27KKXwM6mDwo1R9u', 'team_id': 'T08GLQ3HC07', 'context_team_id': 'T08GLQ3HC07', 'context_enterprise_id': None, 'api_app_id': 'A08H0C26BEZ', 'event': {'type': 'message', 'subtype': 'message_changed', 'message': {'subtype': 'tombstone', 'text': 'This message was deleted.', 'user': 'USLACKBOT', 'hidden': True, 'type': 'message', 'thread_ts': '1741725226.248579', 'reply_count': 1, 'reply_users_count': 1, 'latest_reply': '1741725227.345389', 'reply_users': ['U08H42J6JQ3'], 'is_locked': False, 'ts': '1741725226.248579'}, 'previous_message': {'user': 'U08GLQ3JKGX', 'type': 'message', 'ts': '1741725226.248579', 'client_msg_id': 'a0778a52-e9be-4786-ae6b-5291e1dfa95c', 'text': 'I am getting customer opted out message', 'team': 'T08GLQ3HC07', 'thread_ts': '1741725226.248579', 'reply_count': 1, 'reply_users_count': 1, 'latest_reply': '1741725227.345389', 'reply_users': ['U08H42J6JQ3'], 'is_locked': False, 'subscribed': True, 'last_read': '1741725227.345389', 'blocks': [{'type': 'rich_text', 'block_id': 'A05hm', 'elements': [{'type': 'rich_text_section', 'elements': [{'type': 'text', 'text': 'I am getting customer opted out message'}]}]}]}, 'channel': 'C08HL984BEV', 'hidden': True, 'ts': '1741725441.003300', 'event_ts': '1741725441.003300', 'channel_type': 'channel'}, 'type': 'event_callback', 'event_id': 'Ev08H2LH3T3Q', 'event_time': 1741725441, 'authorizations': [{'enterprise_id': None, 'team_id': 'T08GLQ3HC07', 'user_id': 'U08H42J6JQ3', 'is_bot': True, 'is_enterprise_install': False}], 'is_ext_shared_channel': False, 'event_context': '4-eyJldCI6Im1lc3NhZ2UiLCJ0aWQiOiJUMDhHTFEzSEMwNyIsImFpZCI6IkEwOEgwQzI2QkVaIiwiY2lkIjoiQzA4SEw5ODRCRVYifQ'}\n"
     ]
    },
    {
     "name": "stderr",
     "output_type": "stream",
     "text": [
      "127.0.0.1 - - [11/Mar/2025 16:37:26] \"POST /slack/events HTTP/1.1\" 200 -\n",
      "127.0.0.1 - - [11/Mar/2025 16:37:26] \"POST /slack/events HTTP/1.1\" 200 -\n"
     ]
    },
    {
     "name": "stdout",
     "output_type": "stream",
     "text": [
      "Received Slack event: {'token': 'vcOktFRX27KKXwM6mDwo1R9u', 'team_id': 'T08GLQ3HC07', 'context_team_id': 'T08GLQ3HC07', 'context_enterprise_id': None, 'api_app_id': 'A08H0C26BEZ', 'event': {'type': 'message', 'subtype': 'message_deleted', 'previous_message': {'user': 'U08H42J6JQ3', 'type': 'message', 'ts': '1741725227.345389', 'bot_id': 'B08H42J4LGK', 'app_id': 'A08H0C26BEZ', 'text': '*Incident Raised:* Your incident has been successfully raised and marked as *out* priority. :warning: \\n\\nThe *Site Reliability Engineering (SRE)* team will address it as soon as possible to ensure a swift resolution. :rocket:\\n\\nThank you for your patience!', 'team': 'T08GLQ3HC07', 'bot_profile': {'id': 'B08H42J4LGK', 'deleted': False, 'name': 'ResolveBotAI', 'updated': 1741724274, 'app_id': 'A08H0C26BEZ', 'icons': {'image_36': 'https://avatars.slack-edge.com/2025-03-11/8598251960609_3c2d1ae37c97719d8575_36.webp', 'image_48': 'https://avatars.slack-edge.com/2025-03-11/8598251960609_3c2d1ae37c97719d8575_48.webp', 'image_72': 'https://avatars.slack-edge.com/2025-03-11/8598251960609_3c2d1ae37c97719d8575_72.webp'}, 'team_id': 'T08GLQ3HC07'}, 'thread_ts': '1741725226.248579', 'parent_user_id': 'USLACKBOT', 'blocks': [{'type': 'rich_text', 'block_id': 'bAU', 'elements': [{'type': 'rich_text_section', 'elements': [{'type': 'text', 'text': 'Incident Raised:', 'style': {'bold': True}}, {'type': 'text', 'text': ' Your incident has been successfully raised and marked as '}, {'type': 'text', 'text': 'out', 'style': {'bold': True}}, {'type': 'text', 'text': ' priority. '}, {'type': 'emoji', 'name': 'warning', 'unicode': '26a0-fe0f'}, {'type': 'text', 'text': ' \\n\\nThe '}, {'type': 'text', 'text': 'Site Reliability Engineering (SRE)', 'style': {'bold': True}}, {'type': 'text', 'text': ' team will address it as soon as possible to ensure a swift resolution. '}, {'type': 'emoji', 'name': 'rocket', 'unicode': '1f680'}, {'type': 'text', 'text': '\\n\\nThank you for your patience!'}]}]}]}, 'channel': 'C08HL984BEV', 'hidden': True, 'deleted_ts': '1741725227.345389', 'event_ts': '1741725445.003400', 'ts': '1741725445.003400', 'channel_type': 'channel'}, 'type': 'event_callback', 'event_id': 'Ev08GUBEA9HD', 'event_time': 1741725445, 'authorizations': [{'enterprise_id': None, 'team_id': 'T08GLQ3HC07', 'user_id': 'U08H42J6JQ3', 'is_bot': True, 'is_enterprise_install': False}], 'is_ext_shared_channel': False, 'event_context': '4-eyJldCI6Im1lc3NhZ2UiLCJ0aWQiOiJUMDhHTFEzSEMwNyIsImFpZCI6IkEwOEgwQzI2QkVaIiwiY2lkIjoiQzA4SEw5ODRCRVYifQ'}\n",
      "Received Slack event: {'token': 'vcOktFRX27KKXwM6mDwo1R9u', 'team_id': 'T08GLQ3HC07', 'context_team_id': 'T08GLQ3HC07', 'context_enterprise_id': None, 'api_app_id': 'A08H0C26BEZ', 'event': {'type': 'message', 'subtype': 'message_deleted', 'previous_message': {'subtype': 'tombstone', 'text': 'This message was deleted.', 'user': 'USLACKBOT', 'hidden': True, 'type': 'message', 'ts': '1741725226.248579', 'thread_ts': '1741725226.248579', 'parent_user_id': 'USLACKBOT', 'reply_count': 0, 'reply_users_count': 0, 'latest_reply': '0000000000.000000', 'reply_users': [], 'is_locked': False, 'subscribed': True, 'last_read': '1741725227.345389'}, 'channel': 'C08HL984BEV', 'hidden': True, 'deleted_ts': '1741725226.248579', 'event_ts': '1741725445.003500', 'ts': '1741725445.003500', 'channel_type': 'channel'}, 'type': 'event_callback', 'event_id': 'Ev08HXNBPRDW', 'event_time': 1741725445, 'authorizations': [{'enterprise_id': None, 'team_id': 'T08GLQ3HC07', 'user_id': 'U08H42J6JQ3', 'is_bot': True, 'is_enterprise_install': False}], 'is_ext_shared_channel': False, 'event_context': '4-eyJldCI6Im1lc3NhZ2UiLCJ0aWQiOiJUMDhHTFEzSEMwNyIsImFpZCI6IkEwOEgwQzI2QkVaIiwiY2lkIjoiQzA4SEw5ODRCRVYifQ'}\n"
     ]
    },
    {
     "name": "stderr",
     "output_type": "stream",
     "text": [
      "127.0.0.1 - - [11/Mar/2025 16:37:36] \"POST /slack/events HTTP/1.1\" 200 -\n"
     ]
    },
    {
     "name": "stdout",
     "output_type": "stream",
     "text": [
      "Received Slack event: {'token': 'vcOktFRX27KKXwM6mDwo1R9u', 'team_id': 'T08GLQ3HC07', 'context_team_id': 'T08GLQ3HC07', 'context_enterprise_id': None, 'api_app_id': 'A08H0C26BEZ', 'event': {'type': 'message', 'subtype': 'message_changed', 'message': {'subtype': 'tombstone', 'text': 'This message was deleted.', 'user': 'USLACKBOT', 'hidden': True, 'type': 'message', 'thread_ts': '1741725212.285399', 'reply_count': 1, 'reply_users_count': 1, 'latest_reply': '1741725212.866599', 'reply_users': ['U08H42J6JQ3'], 'is_locked': False, 'ts': '1741725212.285399'}, 'previous_message': {'user': 'U08GLQ3JKGX', 'type': 'message', 'ts': '1741725212.285399', 'client_msg_id': 'ecb13d87-c46c-4d33-affc-d3c0962b1245', 'text': 'I am getting customer opted out error', 'team': 'T08GLQ3HC07', 'thread_ts': '1741725212.285399', 'reply_count': 1, 'reply_users_count': 1, 'latest_reply': '1741725212.866599', 'reply_users': ['U08H42J6JQ3'], 'is_locked': False, 'subscribed': True, 'last_read': '1741725212.866599', 'blocks': [{'type': 'rich_text', 'block_id': 'TzfRw', 'elements': [{'type': 'rich_text_section', 'elements': [{'type': 'text', 'text': 'I am getting customer opted out error'}]}]}]}, 'channel': 'C08HL984BEV', 'hidden': True, 'ts': '1741725455.003600', 'event_ts': '1741725455.003600', 'channel_type': 'channel'}, 'type': 'event_callback', 'event_id': 'Ev08HB55HENP', 'event_time': 1741725455, 'authorizations': [{'enterprise_id': None, 'team_id': 'T08GLQ3HC07', 'user_id': 'U08H42J6JQ3', 'is_bot': True, 'is_enterprise_install': False}], 'is_ext_shared_channel': False, 'event_context': '4-eyJldCI6Im1lc3NhZ2UiLCJ0aWQiOiJUMDhHTFEzSEMwNyIsImFpZCI6IkEwOEgwQzI2QkVaIiwiY2lkIjoiQzA4SEw5ODRCRVYifQ'}\n"
     ]
    },
    {
     "name": "stderr",
     "output_type": "stream",
     "text": [
      "127.0.0.1 - - [11/Mar/2025 16:37:39] \"POST /slack/events HTTP/1.1\" 200 -\n"
     ]
    },
    {
     "name": "stdout",
     "output_type": "stream",
     "text": [
      "Received Slack event: {'token': 'vcOktFRX27KKXwM6mDwo1R9u', 'team_id': 'T08GLQ3HC07', 'context_team_id': 'T08GLQ3HC07', 'context_enterprise_id': None, 'api_app_id': 'A08H0C26BEZ', 'event': {'type': 'message', 'subtype': 'message_deleted', 'previous_message': {'user': 'U08H42J6JQ3', 'type': 'message', 'ts': '1741725212.866599', 'bot_id': 'B08H42J4LGK', 'app_id': 'A08H0C26BEZ', 'text': '*Incident Raised:* Your incident has been successfully raised and marked as *out* priority. :warning: \\n\\nThe *Site Reliability Engineering (SRE)* team will address it as soon as possible to ensure a swift resolution. :rocket:\\n\\nThank you for your patience!', 'team': 'T08GLQ3HC07', 'bot_profile': {'id': 'B08H42J4LGK', 'deleted': False, 'name': 'ResolveBotAI', 'updated': 1741724274, 'app_id': 'A08H0C26BEZ', 'icons': {'image_36': 'https://avatars.slack-edge.com/2025-03-11/8598251960609_3c2d1ae37c97719d8575_36.webp', 'image_48': 'https://avatars.slack-edge.com/2025-03-11/8598251960609_3c2d1ae37c97719d8575_48.webp', 'image_72': 'https://avatars.slack-edge.com/2025-03-11/8598251960609_3c2d1ae37c97719d8575_72.webp'}, 'team_id': 'T08GLQ3HC07'}, 'thread_ts': '1741725212.285399', 'parent_user_id': 'USLACKBOT', 'blocks': [{'type': 'rich_text', 'block_id': 'T14y', 'elements': [{'type': 'rich_text_section', 'elements': [{'type': 'text', 'text': 'Incident Raised:', 'style': {'bold': True}}, {'type': 'text', 'text': ' Your incident has been successfully raised and marked as '}, {'type': 'text', 'text': 'out', 'style': {'bold': True}}, {'type': 'text', 'text': ' priority. '}, {'type': 'emoji', 'name': 'warning', 'unicode': '26a0-fe0f'}, {'type': 'text', 'text': ' \\n\\nThe '}, {'type': 'text', 'text': 'Site Reliability Engineering (SRE)', 'style': {'bold': True}}, {'type': 'text', 'text': ' team will address it as soon as possible to ensure a swift resolution. '}, {'type': 'emoji', 'name': 'rocket', 'unicode': '1f680'}, {'type': 'text', 'text': '\\n\\nThank you for your patience!'}]}]}]}, 'channel': 'C08HL984BEV', 'hidden': True, 'deleted_ts': '1741725212.866599', 'event_ts': '1741725458.003700', 'ts': '1741725458.003700', 'channel_type': 'channel'}, 'type': 'event_callback', 'event_id': 'Ev08HXNC9L3S', 'event_time': 1741725458, 'authorizations': [{'enterprise_id': None, 'team_id': 'T08GLQ3HC07', 'user_id': 'U08H42J6JQ3', 'is_bot': True, 'is_enterprise_install': False}], 'is_ext_shared_channel': False, 'event_context': '4-eyJldCI6Im1lc3NhZ2UiLCJ0aWQiOiJUMDhHTFEzSEMwNyIsImFpZCI6IkEwOEgwQzI2QkVaIiwiY2lkIjoiQzA4SEw5ODRCRVYifQ'}\n"
     ]
    },
    {
     "name": "stderr",
     "output_type": "stream",
     "text": [
      "127.0.0.1 - - [11/Mar/2025 16:37:39] \"POST /slack/events HTTP/1.1\" 200 -\n"
     ]
    },
    {
     "name": "stdout",
     "output_type": "stream",
     "text": [
      "Received Slack event: {'token': 'vcOktFRX27KKXwM6mDwo1R9u', 'team_id': 'T08GLQ3HC07', 'context_team_id': 'T08GLQ3HC07', 'context_enterprise_id': None, 'api_app_id': 'A08H0C26BEZ', 'event': {'type': 'message', 'subtype': 'message_deleted', 'previous_message': {'subtype': 'tombstone', 'text': 'This message was deleted.', 'user': 'USLACKBOT', 'hidden': True, 'type': 'message', 'ts': '1741725212.285399', 'thread_ts': '1741725212.285399', 'parent_user_id': 'USLACKBOT', 'reply_count': 0, 'reply_users_count': 0, 'latest_reply': '0000000000.000000', 'reply_users': [], 'is_locked': False, 'subscribed': True, 'last_read': '1741725212.866599'}, 'channel': 'C08HL984BEV', 'hidden': True, 'deleted_ts': '1741725212.285399', 'event_ts': '1741725458.003800', 'ts': '1741725458.003800', 'channel_type': 'channel'}, 'type': 'event_callback', 'event_id': 'Ev08GUBF26DD', 'event_time': 1741725458, 'authorizations': [{'enterprise_id': None, 'team_id': 'T08GLQ3HC07', 'user_id': 'U08H42J6JQ3', 'is_bot': True, 'is_enterprise_install': False}], 'is_ext_shared_channel': False, 'event_context': '4-eyJldCI6Im1lc3NhZ2UiLCJ0aWQiOiJUMDhHTFEzSEMwNyIsImFpZCI6IkEwOEgwQzI2QkVaIiwiY2lkIjoiQzA4SEw5ODRCRVYifQ'}\n",
      "Received Slack event: {'token': 'vcOktFRX27KKXwM6mDwo1R9u', 'team_id': 'T08GLQ3HC07', 'context_team_id': 'T08GLQ3HC07', 'context_enterprise_id': None, 'api_app_id': 'A08H0C26BEZ', 'event': {'user': 'U08GLQ3JKGX', 'type': 'message', 'ts': '1741725510.003519', 'client_msg_id': 'a9e7a1d0-3175-47fb-9180-aba8af3d11f0', 'text': 'I am getting customer opted out from offers', 'team': 'T08GLQ3HC07', 'blocks': [{'type': 'rich_text', 'block_id': '737Xb', 'elements': [{'type': 'rich_text_section', 'elements': [{'type': 'text', 'text': 'I am getting customer opted out from offers'}]}]}], 'channel': 'C08HL984BEV', 'event_ts': '1741725510.003519', 'channel_type': 'channel'}, 'type': 'event_callback', 'event_id': 'Ev08H7NH2X7X', 'event_time': 1741725510, 'authorizations': [{'enterprise_id': None, 'team_id': 'T08GLQ3HC07', 'user_id': 'U08H42J6JQ3', 'is_bot': True, 'is_enterprise_install': False}], 'is_ext_shared_channel': False, 'event_context': '4-eyJldCI6Im1lc3NhZ2UiLCJ0aWQiOiJUMDhHTFEzSEMwNyIsImFpZCI6IkEwOEgwQzI2QkVaIiwiY2lkIjoiQzA4SEw5ODRCRVYifQ'}\n",
      "Entities: [('I', 'RAISE_INCIDENT')]\n"
     ]
    },
    {
     "name": "stderr",
     "output_type": "stream",
     "text": [
      "127.0.0.1 - - [11/Mar/2025 16:38:31] \"POST /slack/events HTTP/1.1\" 200 -\n",
      "127.0.0.1 - - [11/Mar/2025 16:38:32] \"POST /slack/events HTTP/1.1\" 200 -\n"
     ]
    },
    {
     "name": "stdout",
     "output_type": "stream",
     "text": [
      "Received Slack event: {'token': 'vcOktFRX27KKXwM6mDwo1R9u', 'team_id': 'T08GLQ3HC07', 'context_team_id': 'T08GLQ3HC07', 'context_enterprise_id': None, 'api_app_id': 'A08H0C26BEZ', 'event': {'user': 'U08H42J6JQ3', 'type': 'message', 'ts': '1741725511.368869', 'bot_id': 'B08H42J4LGK', 'app_id': 'A08H0C26BEZ', 'text': '*Offer Not Displayed:* The offer is not displayed because the customer has opted out of solicitation, making them ineligible for any offers. :x: However, if you are not satisfied with this response, I can escalate the issue by raising an incident so a support representative can review it further. Would you like me to raise it? :raised_hands:', 'team': 'T08GLQ3HC07', 'bot_profile': {'id': 'B08H42J4LGK', 'deleted': False, 'name': 'ResolveBotAI', 'updated': 1741724274, 'app_id': 'A08H0C26BEZ', 'icons': {'image_36': 'https://avatars.slack-edge.com/2025-03-11/8598251960609_3c2d1ae37c97719d8575_36.webp', 'image_48': 'https://avatars.slack-edge.com/2025-03-11/8598251960609_3c2d1ae37c97719d8575_48.webp', 'image_72': 'https://avatars.slack-edge.com/2025-03-11/8598251960609_3c2d1ae37c97719d8575_72.webp'}, 'team_id': 'T08GLQ3HC07'}, 'thread_ts': '1741725510.003519', 'parent_user_id': 'U08GLQ3JKGX', 'blocks': [{'type': 'rich_text', 'block_id': 'wK3', 'elements': [{'type': 'rich_text_section', 'elements': [{'type': 'text', 'text': 'Offer Not Displayed:', 'style': {'bold': True}}, {'type': 'text', 'text': ' The offer is not displayed because the customer has opted out of solicitation, making them ineligible for any offers. '}, {'type': 'emoji', 'name': 'x', 'unicode': '274c'}, {'type': 'text', 'text': ' However, if you are not satisfied with this response, I can escalate the issue by raising an incident so a support representative can review it further. Would you like me to raise it? '}, {'type': 'emoji', 'name': 'raised_hands', 'unicode': '1f64c'}]}]}], 'channel': 'C08HL984BEV', 'event_ts': '1741725511.368869', 'channel_type': 'channel'}, 'type': 'event_callback', 'event_id': 'Ev08HXNGQ4RE', 'event_time': 1741725511, 'authorizations': [{'enterprise_id': None, 'team_id': 'T08GLQ3HC07', 'user_id': 'U08H42J6JQ3', 'is_bot': True, 'is_enterprise_install': False}], 'is_ext_shared_channel': False, 'event_context': '4-eyJldCI6Im1lc3NhZ2UiLCJ0aWQiOiJUMDhHTFEzSEMwNyIsImFpZCI6IkEwOEgwQzI2QkVaIiwiY2lkIjoiQzA4SEw5ODRCRVYifQ'}\n",
      "Received Slack event: {'token': 'vcOktFRX27KKXwM6mDwo1R9u', 'team_id': 'T08GLQ3HC07', 'context_team_id': 'T08GLQ3HC07', 'context_enterprise_id': None, 'api_app_id': 'A08H0C26BEZ', 'event': {'user': 'U08GLQ3JKGX', 'type': 'message', 'ts': '1741725533.498519', 'client_msg_id': 'a296f6a6-c821-4586-ac2f-2d5c2e807158', 'text': 'Raise an incident with high priority', 'team': 'T08GLQ3HC07', 'thread_ts': '1741725510.003519', 'parent_user_id': 'U08GLQ3JKGX', 'blocks': [{'type': 'rich_text', 'block_id': 'v1USE', 'elements': [{'type': 'rich_text_section', 'elements': [{'type': 'text', 'text': 'Raise an incident with high priority'}]}]}], 'channel': 'C08HL984BEV', 'event_ts': '1741725533.498519', 'channel_type': 'channel'}, 'type': 'event_callback', 'event_id': 'Ev08HB5BU5QB', 'event_time': 1741725533, 'authorizations': [{'enterprise_id': None, 'team_id': 'T08GLQ3HC07', 'user_id': 'U08H42J6JQ3', 'is_bot': True, 'is_enterprise_install': False}], 'is_ext_shared_channel': False, 'event_context': '4-eyJldCI6Im1lc3NhZ2UiLCJ0aWQiOiJUMDhHTFEzSEMwNyIsImFpZCI6IkEwOEgwQzI2QkVaIiwiY2lkIjoiQzA4SEw5ODRCRVYifQ'}\n",
      "Entities: [('Raise', 'RAISE_INCIDENT'), ('high', 'SEVERITY')]\n"
     ]
    },
    {
     "name": "stderr",
     "output_type": "stream",
     "text": [
      "127.0.0.1 - - [11/Mar/2025 16:38:54] \"POST /slack/events HTTP/1.1\" 200 -\n",
      "127.0.0.1 - - [11/Mar/2025 16:38:56] \"POST /slack/events HTTP/1.1\" 200 -\n"
     ]
    },
    {
     "name": "stdout",
     "output_type": "stream",
     "text": [
      "Received Slack event: {'token': 'vcOktFRX27KKXwM6mDwo1R9u', 'team_id': 'T08GLQ3HC07', 'context_team_id': 'T08GLQ3HC07', 'context_enterprise_id': None, 'api_app_id': 'A08H0C26BEZ', 'event': {'user': 'U08H42J6JQ3', 'type': 'message', 'ts': '1741725534.435659', 'bot_id': 'B08H42J4LGK', 'app_id': 'A08H0C26BEZ', 'text': '*Incident Raised:* Your incident has been successfully raised and marked as *high* priority. :warning: \\n\\nThe *Site Reliability Engineering (SRE)* team will address it as soon as possible to ensure a swift resolution. :rocket:\\n\\nThank you for your patience!', 'team': 'T08GLQ3HC07', 'bot_profile': {'id': 'B08H42J4LGK', 'deleted': False, 'name': 'ResolveBotAI', 'updated': 1741724274, 'app_id': 'A08H0C26BEZ', 'icons': {'image_36': 'https://avatars.slack-edge.com/2025-03-11/8598251960609_3c2d1ae37c97719d8575_36.webp', 'image_48': 'https://avatars.slack-edge.com/2025-03-11/8598251960609_3c2d1ae37c97719d8575_48.webp', 'image_72': 'https://avatars.slack-edge.com/2025-03-11/8598251960609_3c2d1ae37c97719d8575_72.webp'}, 'team_id': 'T08GLQ3HC07'}, 'thread_ts': '1741725510.003519', 'parent_user_id': 'U08GLQ3JKGX', 'blocks': [{'type': 'rich_text', 'block_id': 'vx+', 'elements': [{'type': 'rich_text_section', 'elements': [{'type': 'text', 'text': 'Incident Raised:', 'style': {'bold': True}}, {'type': 'text', 'text': ' Your incident has been successfully raised and marked as '}, {'type': 'text', 'text': 'high', 'style': {'bold': True}}, {'type': 'text', 'text': ' priority. '}, {'type': 'emoji', 'name': 'warning', 'unicode': '26a0-fe0f'}, {'type': 'text', 'text': ' \\n\\nThe '}, {'type': 'text', 'text': 'Site Reliability Engineering (SRE)', 'style': {'bold': True}}, {'type': 'text', 'text': ' team will address it as soon as possible to ensure a swift resolution. '}, {'type': 'emoji', 'name': 'rocket', 'unicode': '1f680'}, {'type': 'text', 'text': '\\n\\nThank you for your patience!'}]}]}], 'channel': 'C08HL984BEV', 'event_ts': '1741725534.435659', 'channel_type': 'channel'}, 'type': 'event_callback', 'event_id': 'Ev08H7NJA6CV', 'event_time': 1741725534, 'authorizations': [{'enterprise_id': None, 'team_id': 'T08GLQ3HC07', 'user_id': 'U08H42J6JQ3', 'is_bot': True, 'is_enterprise_install': False}], 'is_ext_shared_channel': False, 'event_context': '4-eyJldCI6Im1lc3NhZ2UiLCJ0aWQiOiJUMDhHTFEzSEMwNyIsImFpZCI6IkEwOEgwQzI2QkVaIiwiY2lkIjoiQzA4SEw5ODRCRVYifQ'}\n",
      "Received Slack event: {'token': 'vcOktFRX27KKXwM6mDwo1R9u', 'team_id': 'T08GLQ3HC07', 'context_team_id': 'T08GLQ3HC07', 'context_enterprise_id': None, 'api_app_id': 'A08H0C26BEZ', 'event': {'user': 'U08GLQ3JKGX', 'type': 'message', 'ts': '1741725553.636449', 'client_msg_id': 'eb83e069-f690-47fa-adec-d39239ea2712', 'text': 'Portal shows customer opted out', 'team': 'T08GLQ3HC07', 'blocks': [{'type': 'rich_text', 'block_id': '+JTTR', 'elements': [{'type': 'rich_text_section', 'elements': [{'type': 'text', 'text': 'Portal shows customer opted out'}]}]}], 'channel': 'C08HL984BEV', 'event_ts': '1741725553.636449', 'channel_type': 'channel'}, 'type': 'event_callback', 'event_id': 'Ev08H2LRK55L', 'event_time': 1741725553, 'authorizations': [{'enterprise_id': None, 'team_id': 'T08GLQ3HC07', 'user_id': 'U08H42J6JQ3', 'is_bot': True, 'is_enterprise_install': False}], 'is_ext_shared_channel': False, 'event_context': '4-eyJldCI6Im1lc3NhZ2UiLCJ0aWQiOiJUMDhHTFEzSEMwNyIsImFpZCI6IkEwOEgwQzI2QkVaIiwiY2lkIjoiQzA4SEw5ODRCRVYifQ'}\n",
      "Entities: [('out', 'SEVERITY')]\n"
     ]
    },
    {
     "name": "stderr",
     "output_type": "stream",
     "text": [
      "127.0.0.1 - - [11/Mar/2025 16:39:15] \"POST /slack/events HTTP/1.1\" 200 -\n",
      "127.0.0.1 - - [11/Mar/2025 16:39:16] \"POST /slack/events HTTP/1.1\" 200 -\n"
     ]
    },
    {
     "name": "stdout",
     "output_type": "stream",
     "text": [
      "Received Slack event: {'token': 'vcOktFRX27KKXwM6mDwo1R9u', 'team_id': 'T08GLQ3HC07', 'context_team_id': 'T08GLQ3HC07', 'context_enterprise_id': None, 'api_app_id': 'A08H0C26BEZ', 'event': {'user': 'U08H42J6JQ3', 'type': 'message', 'ts': '1741725555.056509', 'bot_id': 'B08H42J4LGK', 'app_id': 'A08H0C26BEZ', 'text': '*Offer Not Displayed:* The offer is not displayed because the customer has opted out of solicitation, making them ineligible for any offers. :x: However, if you are not satisfied with this response, I can escalate the issue by raising an incident so a support representative can review it further. Would you like me to raise it? :raised_hands:', 'team': 'T08GLQ3HC07', 'bot_profile': {'id': 'B08H42J4LGK', 'deleted': False, 'name': 'ResolveBotAI', 'updated': 1741724274, 'app_id': 'A08H0C26BEZ', 'icons': {'image_36': 'https://avatars.slack-edge.com/2025-03-11/8598251960609_3c2d1ae37c97719d8575_36.webp', 'image_48': 'https://avatars.slack-edge.com/2025-03-11/8598251960609_3c2d1ae37c97719d8575_48.webp', 'image_72': 'https://avatars.slack-edge.com/2025-03-11/8598251960609_3c2d1ae37c97719d8575_72.webp'}, 'team_id': 'T08GLQ3HC07'}, 'thread_ts': '1741725553.636449', 'parent_user_id': 'U08GLQ3JKGX', 'blocks': [{'type': 'rich_text', 'block_id': '=r7', 'elements': [{'type': 'rich_text_section', 'elements': [{'type': 'text', 'text': 'Offer Not Displayed:', 'style': {'bold': True}}, {'type': 'text', 'text': ' The offer is not displayed because the customer has opted out of solicitation, making them ineligible for any offers. '}, {'type': 'emoji', 'name': 'x', 'unicode': '274c'}, {'type': 'text', 'text': ' However, if you are not satisfied with this response, I can escalate the issue by raising an incident so a support representative can review it further. Would you like me to raise it? '}, {'type': 'emoji', 'name': 'raised_hands', 'unicode': '1f64c'}]}]}], 'channel': 'C08HL984BEV', 'event_ts': '1741725555.056509', 'channel_type': 'channel'}, 'type': 'event_callback', 'event_id': 'Ev08GUBNQB7H', 'event_time': 1741725555, 'authorizations': [{'enterprise_id': None, 'team_id': 'T08GLQ3HC07', 'user_id': 'U08H42J6JQ3', 'is_bot': True, 'is_enterprise_install': False}], 'is_ext_shared_channel': False, 'event_context': '4-eyJldCI6Im1lc3NhZ2UiLCJ0aWQiOiJUMDhHTFEzSEMwNyIsImFpZCI6IkEwOEgwQzI2QkVaIiwiY2lkIjoiQzA4SEw5ODRCRVYifQ'}\n",
      "Received Slack event: {'token': 'vcOktFRX27KKXwM6mDwo1R9u', 'team_id': 'T08GLQ3HC07', 'context_team_id': 'T08GLQ3HC07', 'context_enterprise_id': None, 'api_app_id': 'A08H0C26BEZ', 'event': {'user': 'U08GLQ3JKGX', 'type': 'message', 'ts': '1741725568.306109', 'client_msg_id': '2fdd99c1-b034-4b64-9192-679e0c9e5e2a', 'text': 'I am getting ID access issue', 'team': 'T08GLQ3HC07', 'blocks': [{'type': 'rich_text', 'block_id': 'Nnbjo', 'elements': [{'type': 'rich_text_section', 'elements': [{'type': 'text', 'text': 'I am getting ID access issue'}]}]}], 'channel': 'C08HL984BEV', 'event_ts': '1741725568.306109', 'channel_type': 'channel'}, 'type': 'event_callback', 'event_id': 'Ev08HD1BGBK6', 'event_time': 1741725568, 'authorizations': [{'enterprise_id': None, 'team_id': 'T08GLQ3HC07', 'user_id': 'U08H42J6JQ3', 'is_bot': True, 'is_enterprise_install': False}], 'is_ext_shared_channel': False, 'event_context': '4-eyJldCI6Im1lc3NhZ2UiLCJ0aWQiOiJUMDhHTFEzSEMwNyIsImFpZCI6IkEwOEgwQzI2QkVaIiwiY2lkIjoiQzA4SEw5ODRCRVYifQ'}\n",
      "Entities: [('I', 'RAISE_INCIDENT')]\n"
     ]
    },
    {
     "name": "stderr",
     "output_type": "stream",
     "text": [
      "127.0.0.1 - - [11/Mar/2025 16:39:29] \"POST /slack/events HTTP/1.1\" 200 -\n",
      "127.0.0.1 - - [11/Mar/2025 16:39:31] \"POST /slack/events HTTP/1.1\" 200 -\n"
     ]
    },
    {
     "name": "stdout",
     "output_type": "stream",
     "text": [
      "Received Slack event: {'token': 'vcOktFRX27KKXwM6mDwo1R9u', 'team_id': 'T08GLQ3HC07', 'context_team_id': 'T08GLQ3HC07', 'context_enterprise_id': None, 'api_app_id': 'A08H0C26BEZ', 'event': {'user': 'U08H42J6JQ3', 'type': 'message', 'ts': '1741725569.414409', 'bot_id': 'B08H42J4LGK', 'app_id': 'A08H0C26BEZ', 'text': \"*Access Issue:* The Customer Care Professional doesn't have the required access to manage the offer. To enable the user to service the offer, an access request needs to be raised. :lock: Would you like me to initiate the request for you? :bar_chart:\", 'team': 'T08GLQ3HC07', 'bot_profile': {'id': 'B08H42J4LGK', 'deleted': False, 'name': 'ResolveBotAI', 'updated': 1741724274, 'app_id': 'A08H0C26BEZ', 'icons': {'image_36': 'https://avatars.slack-edge.com/2025-03-11/8598251960609_3c2d1ae37c97719d8575_36.webp', 'image_48': 'https://avatars.slack-edge.com/2025-03-11/8598251960609_3c2d1ae37c97719d8575_48.webp', 'image_72': 'https://avatars.slack-edge.com/2025-03-11/8598251960609_3c2d1ae37c97719d8575_72.webp'}, 'team_id': 'T08GLQ3HC07'}, 'thread_ts': '1741725568.306109', 'parent_user_id': 'U08GLQ3JKGX', 'blocks': [{'type': 'rich_text', 'block_id': 'gJeLs', 'elements': [{'type': 'rich_text_section', 'elements': [{'type': 'text', 'text': 'Access Issue:', 'style': {'bold': True}}, {'type': 'text', 'text': \" The Customer Care Professional doesn't have the required access to manage the offer. To enable the user to service the offer, an access request needs to be raised. \"}, {'type': 'emoji', 'name': 'lock', 'unicode': '1f512'}, {'type': 'text', 'text': ' Would you like me to initiate the request for you? '}, {'type': 'emoji', 'name': 'bar_chart', 'unicode': '1f4ca'}]}]}], 'channel': 'C08HL984BEV', 'event_ts': '1741725569.414409', 'channel_type': 'channel'}, 'type': 'event_callback', 'event_id': 'Ev08GUBP2RV5', 'event_time': 1741725569, 'authorizations': [{'enterprise_id': None, 'team_id': 'T08GLQ3HC07', 'user_id': 'U08H42J6JQ3', 'is_bot': True, 'is_enterprise_install': False}], 'is_ext_shared_channel': False, 'event_context': '4-eyJldCI6Im1lc3NhZ2UiLCJ0aWQiOiJUMDhHTFEzSEMwNyIsImFpZCI6IkEwOEgwQzI2QkVaIiwiY2lkIjoiQzA4SEw5ODRCRVYifQ'}\n",
      "Received Slack event: {'token': 'vcOktFRX27KKXwM6mDwo1R9u', 'team_id': 'T08GLQ3HC07', 'context_team_id': 'T08GLQ3HC07', 'context_enterprise_id': None, 'api_app_id': 'A08H0C26BEZ', 'event': {'user': 'U08GLQ3JKGX', 'type': 'message', 'ts': '1741725584.279299', 'client_msg_id': '5217c2de-c4d6-45aa-827b-579a430a9d58', 'text': 'Portal is not working', 'team': 'T08GLQ3HC07', 'blocks': [{'type': 'rich_text', 'block_id': 'l3ayx', 'elements': [{'type': 'rich_text_section', 'elements': [{'type': 'text', 'text': 'Portal is not working'}]}]}], 'channel': 'C08HL984BEV', 'event_ts': '1741725584.279299', 'channel_type': 'channel'}, 'type': 'event_callback', 'event_id': 'Ev08HB5G0E9Z', 'event_time': 1741725584, 'authorizations': [{'enterprise_id': None, 'team_id': 'T08GLQ3HC07', 'user_id': 'U08H42J6JQ3', 'is_bot': True, 'is_enterprise_install': False}], 'is_ext_shared_channel': False, 'event_context': '4-eyJldCI6Im1lc3NhZ2UiLCJ0aWQiOiJUMDhHTFEzSEMwNyIsImFpZCI6IkEwOEgwQzI2QkVaIiwiY2lkIjoiQzA4SEw5ODRCRVYifQ'}\n",
      "Entities: [('is', 'RAISE_INCIDENT')]\n"
     ]
    },
    {
     "name": "stderr",
     "output_type": "stream",
     "text": [
      "127.0.0.1 - - [11/Mar/2025 16:39:46] \"POST /slack/events HTTP/1.1\" 200 -\n",
      "127.0.0.1 - - [11/Mar/2025 16:39:47] \"POST /slack/events HTTP/1.1\" 200 -\n"
     ]
    },
    {
     "name": "stdout",
     "output_type": "stream",
     "text": [
      "Received Slack event: {'token': 'vcOktFRX27KKXwM6mDwo1R9u', 'team_id': 'T08GLQ3HC07', 'context_team_id': 'T08GLQ3HC07', 'context_enterprise_id': None, 'api_app_id': 'A08H0C26BEZ', 'event': {'user': 'U08H42J6JQ3', 'type': 'message', 'ts': '1741725585.898959', 'bot_id': 'B08H42J4LGK', 'app_id': 'A08H0C26BEZ', 'text': \"*Sorry, I couldn't determine the issue:* I'm unable to determine the issue from your message. Could you please provide more details or clarify the problem? :thinking_face: If needed, I can escalate this to a support team member for further assistance. :telephone_receiver:\", 'team': 'T08GLQ3HC07', 'bot_profile': {'id': 'B08H42J4LGK', 'deleted': False, 'name': 'ResolveBotAI', 'updated': 1741724274, 'app_id': 'A08H0C26BEZ', 'icons': {'image_36': 'https://avatars.slack-edge.com/2025-03-11/8598251960609_3c2d1ae37c97719d8575_36.webp', 'image_48': 'https://avatars.slack-edge.com/2025-03-11/8598251960609_3c2d1ae37c97719d8575_48.webp', 'image_72': 'https://avatars.slack-edge.com/2025-03-11/8598251960609_3c2d1ae37c97719d8575_72.webp'}, 'team_id': 'T08GLQ3HC07'}, 'thread_ts': '1741725584.279299', 'parent_user_id': 'U08GLQ3JKGX', 'blocks': [{'type': 'rich_text', 'block_id': 'oIyh', 'elements': [{'type': 'rich_text_section', 'elements': [{'type': 'text', 'text': \"Sorry, I couldn't determine the issue:\", 'style': {'bold': True}}, {'type': 'text', 'text': \" I'm unable to determine the issue from your message. Could you please provide more details or clarify the problem? \"}, {'type': 'emoji', 'name': 'thinking_face', 'unicode': '1f914'}, {'type': 'text', 'text': ' If needed, I can escalate this to a support team member for further assistance. '}, {'type': 'emoji', 'name': 'telephone_receiver', 'unicode': '1f4de'}]}]}], 'channel': 'C08HL984BEV', 'event_ts': '1741725585.898959', 'channel_type': 'channel'}, 'type': 'event_callback', 'event_id': 'Ev08H7NPCLUD', 'event_time': 1741725585, 'authorizations': [{'enterprise_id': None, 'team_id': 'T08GLQ3HC07', 'user_id': 'U08H42J6JQ3', 'is_bot': True, 'is_enterprise_install': False}], 'is_ext_shared_channel': False, 'event_context': '4-eyJldCI6Im1lc3NhZ2UiLCJ0aWQiOiJUMDhHTFEzSEMwNyIsImFpZCI6IkEwOEgwQzI2QkVaIiwiY2lkIjoiQzA4SEw5ODRCRVYifQ'}\n",
      "Received Slack event: {'token': 'vcOktFRX27KKXwM6mDwo1R9u', 'team_id': 'T08GLQ3HC07', 'context_team_id': 'T08GLQ3HC07', 'context_enterprise_id': None, 'api_app_id': 'A08H0C26BEZ', 'event': {'user': 'U08GLQ3JKGX', 'type': 'message', 'ts': '1741727906.840079', 'client_msg_id': 'fe18d611-9627-43d6-be12-beb7b52bd77b', 'text': 'not working', 'team': 'T08GLQ3HC07', 'blocks': [{'type': 'rich_text', 'block_id': 'zme/y', 'elements': [{'type': 'rich_text_section', 'elements': [{'type': 'text', 'text': 'not working'}]}]}], 'channel': 'C08HL984BEV', 'event_ts': '1741727906.840079', 'channel_type': 'channel'}, 'type': 'event_callback', 'event_id': 'Ev08HXTWRPU0', 'event_time': 1741727906, 'authorizations': [{'enterprise_id': None, 'team_id': 'T08GLQ3HC07', 'user_id': 'U08H42J6JQ3', 'is_bot': True, 'is_enterprise_install': False}], 'is_ext_shared_channel': False, 'event_context': '4-eyJldCI6Im1lc3NhZ2UiLCJ0aWQiOiJUMDhHTFEzSEMwNyIsImFpZCI6IkEwOEgwQzI2QkVaIiwiY2lkIjoiQzA4SEw5ODRCRVYifQ'}\n",
      "Entities: []\n"
     ]
    },
    {
     "name": "stderr",
     "output_type": "stream",
     "text": [
      "127.0.0.1 - - [11/Mar/2025 17:18:28] \"POST /slack/events HTTP/1.1\" 200 -\n",
      "127.0.0.1 - - [11/Mar/2025 17:18:30] \"POST /slack/events HTTP/1.1\" 200 -\n"
     ]
    },
    {
     "name": "stdout",
     "output_type": "stream",
     "text": [
      "Received Slack event: {'token': 'vcOktFRX27KKXwM6mDwo1R9u', 'team_id': 'T08GLQ3HC07', 'context_team_id': 'T08GLQ3HC07', 'context_enterprise_id': None, 'api_app_id': 'A08H0C26BEZ', 'event': {'user': 'U08H42J6JQ3', 'type': 'message', 'ts': '1741727908.412969', 'bot_id': 'B08H42J4LGK', 'app_id': 'A08H0C26BEZ', 'text': \"*Sorry, I couldn't determine the issue:* I'm unable to determine the issue from your message. Could you please provide more details or clarify the problem? :thinking_face: If needed, I can escalate this to a support team member for further assistance. :telephone_receiver:\", 'team': 'T08GLQ3HC07', 'bot_profile': {'id': 'B08H42J4LGK', 'deleted': False, 'name': 'ResolveBotAI', 'updated': 1741727901, 'app_id': 'A08H0C26BEZ', 'icons': {'image_36': 'https://avatars.slack-edge.com/2025-03-11/8589372074499_9c606919fdf38cbda995_36.png', 'image_48': 'https://avatars.slack-edge.com/2025-03-11/8589372074499_9c606919fdf38cbda995_48.png', 'image_72': 'https://avatars.slack-edge.com/2025-03-11/8589372074499_9c606919fdf38cbda995_72.png'}, 'team_id': 'T08GLQ3HC07'}, 'thread_ts': '1741727906.840079', 'parent_user_id': 'U08GLQ3JKGX', 'blocks': [{'type': 'rich_text', 'block_id': 'w4gNX', 'elements': [{'type': 'rich_text_section', 'elements': [{'type': 'text', 'text': \"Sorry, I couldn't determine the issue:\", 'style': {'bold': True}}, {'type': 'text', 'text': \" I'm unable to determine the issue from your message. Could you please provide more details or clarify the problem? \"}, {'type': 'emoji', 'name': 'thinking_face', 'unicode': '1f914'}, {'type': 'text', 'text': ' If needed, I can escalate this to a support team member for further assistance. '}, {'type': 'emoji', 'name': 'telephone_receiver', 'unicode': '1f4de'}]}]}], 'channel': 'C08HL984BEV', 'event_ts': '1741727908.412969', 'channel_type': 'channel'}, 'type': 'event_callback', 'event_id': 'Ev08HLG4K9C1', 'event_time': 1741727908, 'authorizations': [{'enterprise_id': None, 'team_id': 'T08GLQ3HC07', 'user_id': 'U08H42J6JQ3', 'is_bot': True, 'is_enterprise_install': False}], 'is_ext_shared_channel': False, 'event_context': '4-eyJldCI6Im1lc3NhZ2UiLCJ0aWQiOiJUMDhHTFEzSEMwNyIsImFpZCI6IkEwOEgwQzI2QkVaIiwiY2lkIjoiQzA4SEw5ODRCRVYifQ'}\n"
     ]
    },
    {
     "name": "stderr",
     "output_type": "stream",
     "text": [
      "127.0.0.1 - - [11/Mar/2025 17:19:46] \"POST /slack/events HTTP/1.1\" 200 -\n"
     ]
    },
    {
     "name": "stdout",
     "output_type": "stream",
     "text": [
      "Received Slack event: {'token': 'vcOktFRX27KKXwM6mDwo1R9u', 'team_id': 'T08GLQ3HC07', 'context_team_id': 'T08GLQ3HC07', 'context_enterprise_id': None, 'api_app_id': 'A08H0C26BEZ', 'event': {'type': 'message', 'subtype': 'message_changed', 'message': {'subtype': 'tombstone', 'text': 'This message was deleted.', 'user': 'USLACKBOT', 'hidden': True, 'type': 'message', 'thread_ts': '1741727906.840079', 'reply_count': 1, 'reply_users_count': 1, 'latest_reply': '1741727908.412969', 'reply_users': ['U08H42J6JQ3'], 'is_locked': False, 'ts': '1741727906.840079'}, 'previous_message': {'user': 'U08GLQ3JKGX', 'type': 'message', 'ts': '1741727906.840079', 'client_msg_id': 'fe18d611-9627-43d6-be12-beb7b52bd77b', 'text': 'not working', 'team': 'T08GLQ3HC07', 'thread_ts': '1741727906.840079', 'reply_count': 1, 'reply_users_count': 1, 'latest_reply': '1741727908.412969', 'reply_users': ['U08H42J6JQ3'], 'is_locked': False, 'subscribed': True, 'last_read': '1741727908.412969', 'blocks': [{'type': 'rich_text', 'block_id': 'zme/y', 'elements': [{'type': 'rich_text_section', 'elements': [{'type': 'text', 'text': 'not working'}]}]}]}, 'channel': 'C08HL984BEV', 'hidden': True, 'ts': '1741727986.004600', 'event_ts': '1741727986.004600', 'channel_type': 'channel'}, 'type': 'event_callback', 'event_id': 'Ev08HBB5ELGK', 'event_time': 1741727986, 'authorizations': [{'enterprise_id': None, 'team_id': 'T08GLQ3HC07', 'user_id': 'U08H42J6JQ3', 'is_bot': True, 'is_enterprise_install': False}], 'is_ext_shared_channel': False, 'event_context': '4-eyJldCI6Im1lc3NhZ2UiLCJ0aWQiOiJUMDhHTFEzSEMwNyIsImFpZCI6IkEwOEgwQzI2QkVaIiwiY2lkIjoiQzA4SEw5ODRCRVYifQ'}\n"
     ]
    },
    {
     "name": "stderr",
     "output_type": "stream",
     "text": [
      "127.0.0.1 - - [11/Mar/2025 17:19:55] \"POST /slack/events HTTP/1.1\" 200 -\n"
     ]
    },
    {
     "name": "stdout",
     "output_type": "stream",
     "text": [
      "Received Slack event: {'token': 'vcOktFRX27KKXwM6mDwo1R9u', 'team_id': 'T08GLQ3HC07', 'context_team_id': 'T08GLQ3HC07', 'context_enterprise_id': None, 'api_app_id': 'A08H0C26BEZ', 'event': {'type': 'message', 'subtype': 'message_deleted', 'previous_message': {'user': 'U08H42J6JQ3', 'type': 'message', 'ts': '1741727908.412969', 'bot_id': 'B08H42J4LGK', 'app_id': 'A08H0C26BEZ', 'text': \"*Sorry, I couldn't determine the issue:* I'm unable to determine the issue from your message. Could you please provide more details or clarify the problem? :thinking_face: If needed, I can escalate this to a support team member for further assistance. :telephone_receiver:\", 'team': 'T08GLQ3HC07', 'bot_profile': {'id': 'B08H42J4LGK', 'deleted': False, 'name': 'ResolveBotAI', 'updated': 1741727901, 'app_id': 'A08H0C26BEZ', 'icons': {'image_36': 'https://avatars.slack-edge.com/2025-03-11/8589372074499_9c606919fdf38cbda995_36.png', 'image_48': 'https://avatars.slack-edge.com/2025-03-11/8589372074499_9c606919fdf38cbda995_48.png', 'image_72': 'https://avatars.slack-edge.com/2025-03-11/8589372074499_9c606919fdf38cbda995_72.png'}, 'team_id': 'T08GLQ3HC07'}, 'thread_ts': '1741727906.840079', 'parent_user_id': 'USLACKBOT', 'blocks': [{'type': 'rich_text', 'block_id': 'l29', 'elements': [{'type': 'rich_text_section', 'elements': [{'type': 'text', 'text': \"Sorry, I couldn't determine the issue:\", 'style': {'bold': True}}, {'type': 'text', 'text': \" I'm unable to determine the issue from your message. Could you please provide more details or clarify the problem? \"}, {'type': 'emoji', 'name': 'thinking_face', 'unicode': '1f914'}, {'type': 'text', 'text': ' If needed, I can escalate this to a support team member for further assistance. '}, {'type': 'emoji', 'name': 'telephone_receiver', 'unicode': '1f4de'}]}]}]}, 'channel': 'C08HL984BEV', 'hidden': True, 'deleted_ts': '1741727908.412969', 'event_ts': '1741727995.004700', 'ts': '1741727995.004700', 'channel_type': 'channel'}, 'type': 'event_callback', 'event_id': 'Ev08HD72TQ5S', 'event_time': 1741727995, 'authorizations': [{'enterprise_id': None, 'team_id': 'T08GLQ3HC07', 'user_id': 'U08H42J6JQ3', 'is_bot': True, 'is_enterprise_install': False}], 'is_ext_shared_channel': False, 'event_context': '4-eyJldCI6Im1lc3NhZ2UiLCJ0aWQiOiJUMDhHTFEzSEMwNyIsImFpZCI6IkEwOEgwQzI2QkVaIiwiY2lkIjoiQzA4SEw5ODRCRVYifQ'}\n"
     ]
    },
    {
     "name": "stderr",
     "output_type": "stream",
     "text": [
      "127.0.0.1 - - [11/Mar/2025 17:19:56] \"POST /slack/events HTTP/1.1\" 200 -\n"
     ]
    },
    {
     "name": "stdout",
     "output_type": "stream",
     "text": [
      "Received Slack event: {'token': 'vcOktFRX27KKXwM6mDwo1R9u', 'team_id': 'T08GLQ3HC07', 'context_team_id': 'T08GLQ3HC07', 'context_enterprise_id': None, 'api_app_id': 'A08H0C26BEZ', 'event': {'type': 'message', 'subtype': 'message_deleted', 'previous_message': {'subtype': 'tombstone', 'text': 'This message was deleted.', 'user': 'USLACKBOT', 'hidden': True, 'type': 'message', 'ts': '1741727906.840079', 'thread_ts': '1741727906.840079', 'parent_user_id': 'USLACKBOT', 'reply_count': 0, 'reply_users_count': 0, 'latest_reply': '0000000000.000000', 'reply_users': [], 'is_locked': False, 'subscribed': True, 'last_read': '1741727908.412969'}, 'channel': 'C08HL984BEV', 'hidden': True, 'deleted_ts': '1741727906.840079', 'event_ts': '1741727995.004800', 'ts': '1741727995.004800', 'channel_type': 'channel'}, 'type': 'event_callback', 'event_id': 'Ev08HBB68VRR', 'event_time': 1741727995, 'authorizations': [{'enterprise_id': None, 'team_id': 'T08GLQ3HC07', 'user_id': 'U08H42J6JQ3', 'is_bot': True, 'is_enterprise_install': False}], 'is_ext_shared_channel': False, 'event_context': '4-eyJldCI6Im1lc3NhZ2UiLCJ0aWQiOiJUMDhHTFEzSEMwNyIsImFpZCI6IkEwOEgwQzI2QkVaIiwiY2lkIjoiQzA4SEw5ODRCRVYifQ'}\n"
     ]
    },
    {
     "name": "stderr",
     "output_type": "stream",
     "text": [
      "127.0.0.1 - - [11/Mar/2025 17:20:01] \"POST /slack/events HTTP/1.1\" 200 -\n"
     ]
    },
    {
     "name": "stdout",
     "output_type": "stream",
     "text": [
      "Received Slack event: {'token': 'vcOktFRX27KKXwM6mDwo1R9u', 'team_id': 'T08GLQ3HC07', 'context_team_id': 'T08GLQ3HC07', 'context_enterprise_id': None, 'api_app_id': 'A08H0C26BEZ', 'event': {'type': 'message', 'subtype': 'message_changed', 'message': {'subtype': 'tombstone', 'text': 'This message was deleted.', 'user': 'USLACKBOT', 'hidden': True, 'type': 'message', 'thread_ts': '1741725584.279299', 'reply_count': 1, 'reply_users_count': 1, 'latest_reply': '1741725585.898959', 'reply_users': ['U08H42J6JQ3'], 'is_locked': False, 'ts': '1741725584.279299'}, 'previous_message': {'user': 'U08GLQ3JKGX', 'type': 'message', 'ts': '1741725584.279299', 'client_msg_id': '5217c2de-c4d6-45aa-827b-579a430a9d58', 'text': 'Portal is not working', 'team': 'T08GLQ3HC07', 'thread_ts': '1741725584.279299', 'reply_count': 1, 'reply_users_count': 1, 'latest_reply': '1741725585.898959', 'reply_users': ['U08H42J6JQ3'], 'is_locked': False, 'subscribed': True, 'last_read': '1741725585.898959', 'blocks': [{'type': 'rich_text', 'block_id': 'l3ayx', 'elements': [{'type': 'rich_text_section', 'elements': [{'type': 'text', 'text': 'Portal is not working'}]}]}]}, 'channel': 'C08HL984BEV', 'hidden': True, 'ts': '1741728000.004900', 'event_ts': '1741728000.004900', 'channel_type': 'channel'}, 'type': 'event_callback', 'event_id': 'Ev08HXU3DRK2', 'event_time': 1741728000, 'authorizations': [{'enterprise_id': None, 'team_id': 'T08GLQ3HC07', 'user_id': 'U08H42J6JQ3', 'is_bot': True, 'is_enterprise_install': False}], 'is_ext_shared_channel': False, 'event_context': '4-eyJldCI6Im1lc3NhZ2UiLCJ0aWQiOiJUMDhHTFEzSEMwNyIsImFpZCI6IkEwOEgwQzI2QkVaIiwiY2lkIjoiQzA4SEw5ODRCRVYifQ'}\n"
     ]
    },
    {
     "name": "stderr",
     "output_type": "stream",
     "text": [
      "127.0.0.1 - - [11/Mar/2025 17:20:06] \"POST /slack/events HTTP/1.1\" 200 -\n"
     ]
    },
    {
     "name": "stdout",
     "output_type": "stream",
     "text": [
      "Received Slack event: {'token': 'vcOktFRX27KKXwM6mDwo1R9u', 'team_id': 'T08GLQ3HC07', 'context_team_id': 'T08GLQ3HC07', 'context_enterprise_id': None, 'api_app_id': 'A08H0C26BEZ', 'event': {'type': 'message', 'subtype': 'message_deleted', 'previous_message': {'user': 'U08H42J6JQ3', 'type': 'message', 'ts': '1741725585.898959', 'bot_id': 'B08H42J4LGK', 'app_id': 'A08H0C26BEZ', 'text': \"*Sorry, I couldn't determine the issue:* I'm unable to determine the issue from your message. Could you please provide more details or clarify the problem? :thinking_face: If needed, I can escalate this to a support team member for further assistance. :telephone_receiver:\", 'team': 'T08GLQ3HC07', 'bot_profile': {'id': 'B08H42J4LGK', 'deleted': False, 'name': 'ResolveBotAI', 'updated': 1741727901, 'app_id': 'A08H0C26BEZ', 'icons': {'image_36': 'https://avatars.slack-edge.com/2025-03-11/8589372074499_9c606919fdf38cbda995_36.png', 'image_48': 'https://avatars.slack-edge.com/2025-03-11/8589372074499_9c606919fdf38cbda995_48.png', 'image_72': 'https://avatars.slack-edge.com/2025-03-11/8589372074499_9c606919fdf38cbda995_72.png'}, 'team_id': 'T08GLQ3HC07'}, 'thread_ts': '1741725584.279299', 'parent_user_id': 'USLACKBOT', 'blocks': [{'type': 'rich_text', 'block_id': 'LQSr', 'elements': [{'type': 'rich_text_section', 'elements': [{'type': 'text', 'text': \"Sorry, I couldn't determine the issue:\", 'style': {'bold': True}}, {'type': 'text', 'text': \" I'm unable to determine the issue from your message. Could you please provide more details or clarify the problem? \"}, {'type': 'emoji', 'name': 'thinking_face', 'unicode': '1f914'}, {'type': 'text', 'text': ' If needed, I can escalate this to a support team member for further assistance. '}, {'type': 'emoji', 'name': 'telephone_receiver', 'unicode': '1f4de'}]}]}]}, 'channel': 'C08HL984BEV', 'hidden': True, 'deleted_ts': '1741725585.898959', 'event_ts': '1741728005.005000', 'ts': '1741728005.005000', 'channel_type': 'channel'}, 'type': 'event_callback', 'event_id': 'Ev08H2SEEK1C', 'event_time': 1741728005, 'authorizations': [{'enterprise_id': None, 'team_id': 'T08GLQ3HC07', 'user_id': 'U08H42J6JQ3', 'is_bot': True, 'is_enterprise_install': False}], 'is_ext_shared_channel': False, 'event_context': '4-eyJldCI6Im1lc3NhZ2UiLCJ0aWQiOiJUMDhHTFEzSEMwNyIsImFpZCI6IkEwOEgwQzI2QkVaIiwiY2lkIjoiQzA4SEw5ODRCRVYifQ'}\n"
     ]
    },
    {
     "name": "stderr",
     "output_type": "stream",
     "text": [
      "127.0.0.1 - - [11/Mar/2025 17:20:07] \"POST /slack/events HTTP/1.1\" 200 -\n"
     ]
    },
    {
     "name": "stdout",
     "output_type": "stream",
     "text": [
      "Received Slack event: {'token': 'vcOktFRX27KKXwM6mDwo1R9u', 'team_id': 'T08GLQ3HC07', 'context_team_id': 'T08GLQ3HC07', 'context_enterprise_id': None, 'api_app_id': 'A08H0C26BEZ', 'event': {'type': 'message', 'subtype': 'message_deleted', 'previous_message': {'subtype': 'tombstone', 'text': 'This message was deleted.', 'user': 'USLACKBOT', 'hidden': True, 'type': 'message', 'ts': '1741725584.279299', 'thread_ts': '1741725584.279299', 'parent_user_id': 'USLACKBOT', 'reply_count': 0, 'reply_users_count': 0, 'latest_reply': '0000000000.000000', 'reply_users': [], 'is_locked': False, 'subscribed': True, 'last_read': '1741725585.898959'}, 'channel': 'C08HL984BEV', 'hidden': True, 'deleted_ts': '1741725584.279299', 'event_ts': '1741728005.005100', 'ts': '1741728005.005100', 'channel_type': 'channel'}, 'type': 'event_callback', 'event_id': 'Ev08HXU3MHFA', 'event_time': 1741728005, 'authorizations': [{'enterprise_id': None, 'team_id': 'T08GLQ3HC07', 'user_id': 'U08H42J6JQ3', 'is_bot': True, 'is_enterprise_install': False}], 'is_ext_shared_channel': False, 'event_context': '4-eyJldCI6Im1lc3NhZ2UiLCJ0aWQiOiJUMDhHTFEzSEMwNyIsImFpZCI6IkEwOEgwQzI2QkVaIiwiY2lkIjoiQzA4SEw5ODRCRVYifQ'}\n"
     ]
    },
    {
     "name": "stderr",
     "output_type": "stream",
     "text": [
      "127.0.0.1 - - [11/Mar/2025 17:20:10] \"POST /slack/events HTTP/1.1\" 200 -\n"
     ]
    },
    {
     "name": "stdout",
     "output_type": "stream",
     "text": [
      "Received Slack event: {'token': 'vcOktFRX27KKXwM6mDwo1R9u', 'team_id': 'T08GLQ3HC07', 'context_team_id': 'T08GLQ3HC07', 'context_enterprise_id': None, 'api_app_id': 'A08H0C26BEZ', 'event': {'type': 'message', 'subtype': 'message_changed', 'message': {'subtype': 'tombstone', 'text': 'This message was deleted.', 'user': 'USLACKBOT', 'hidden': True, 'type': 'message', 'thread_ts': '1741725568.306109', 'reply_count': 1, 'reply_users_count': 1, 'latest_reply': '1741725569.414409', 'reply_users': ['U08H42J6JQ3'], 'is_locked': False, 'ts': '1741725568.306109'}, 'previous_message': {'user': 'U08GLQ3JKGX', 'type': 'message', 'ts': '1741725568.306109', 'client_msg_id': '2fdd99c1-b034-4b64-9192-679e0c9e5e2a', 'text': 'I am getting ID access issue', 'team': 'T08GLQ3HC07', 'thread_ts': '1741725568.306109', 'reply_count': 1, 'reply_users_count': 1, 'latest_reply': '1741725569.414409', 'reply_users': ['U08H42J6JQ3'], 'is_locked': False, 'subscribed': True, 'last_read': '1741725569.414409', 'blocks': [{'type': 'rich_text', 'block_id': 'Nnbjo', 'elements': [{'type': 'rich_text_section', 'elements': [{'type': 'text', 'text': 'I am getting ID access issue'}]}]}]}, 'channel': 'C08HL984BEV', 'hidden': True, 'ts': '1741728009.005200', 'event_ts': '1741728009.005200', 'channel_type': 'channel'}, 'type': 'event_callback', 'event_id': 'Ev08HXU48E0G', 'event_time': 1741728009, 'authorizations': [{'enterprise_id': None, 'team_id': 'T08GLQ3HC07', 'user_id': 'U08H42J6JQ3', 'is_bot': True, 'is_enterprise_install': False}], 'is_ext_shared_channel': False, 'event_context': '4-eyJldCI6Im1lc3NhZ2UiLCJ0aWQiOiJUMDhHTFEzSEMwNyIsImFpZCI6IkEwOEgwQzI2QkVaIiwiY2lkIjoiQzA4SEw5ODRCRVYifQ'}\n"
     ]
    },
    {
     "name": "stderr",
     "output_type": "stream",
     "text": [
      "127.0.0.1 - - [11/Mar/2025 17:20:14] \"POST /slack/events HTTP/1.1\" 200 -\n"
     ]
    },
    {
     "name": "stdout",
     "output_type": "stream",
     "text": [
      "Received Slack event: {'token': 'vcOktFRX27KKXwM6mDwo1R9u', 'team_id': 'T08GLQ3HC07', 'context_team_id': 'T08GLQ3HC07', 'context_enterprise_id': None, 'api_app_id': 'A08H0C26BEZ', 'event': {'type': 'message', 'subtype': 'message_deleted', 'previous_message': {'user': 'U08H42J6JQ3', 'type': 'message', 'ts': '1741725569.414409', 'bot_id': 'B08H42J4LGK', 'app_id': 'A08H0C26BEZ', 'text': \"*Access Issue:* The Customer Care Professional doesn't have the required access to manage the offer. To enable the user to service the offer, an access request needs to be raised. :lock: Would you like me to initiate the request for you? :bar_chart:\", 'team': 'T08GLQ3HC07', 'bot_profile': {'id': 'B08H42J4LGK', 'deleted': False, 'name': 'ResolveBotAI', 'updated': 1741727901, 'app_id': 'A08H0C26BEZ', 'icons': {'image_36': 'https://avatars.slack-edge.com/2025-03-11/8589372074499_9c606919fdf38cbda995_36.png', 'image_48': 'https://avatars.slack-edge.com/2025-03-11/8589372074499_9c606919fdf38cbda995_48.png', 'image_72': 'https://avatars.slack-edge.com/2025-03-11/8589372074499_9c606919fdf38cbda995_72.png'}, 'team_id': 'T08GLQ3HC07'}, 'thread_ts': '1741725568.306109', 'parent_user_id': 'USLACKBOT', 'blocks': [{'type': 'rich_text', 'block_id': 'e9cFZ', 'elements': [{'type': 'rich_text_section', 'elements': [{'type': 'text', 'text': 'Access Issue:', 'style': {'bold': True}}, {'type': 'text', 'text': \" The Customer Care Professional doesn't have the required access to manage the offer. To enable the user to service the offer, an access request needs to be raised. \"}, {'type': 'emoji', 'name': 'lock', 'unicode': '1f512'}, {'type': 'text', 'text': ' Would you like me to initiate the request for you? '}, {'type': 'emoji', 'name': 'bar_chart', 'unicode': '1f4ca'}]}]}]}, 'channel': 'C08HL984BEV', 'hidden': True, 'deleted_ts': '1741725569.414409', 'event_ts': '1741728014.005300', 'ts': '1741728014.005300', 'channel_type': 'channel'}, 'type': 'event_callback', 'event_id': 'Ev08HBB87UKD', 'event_time': 1741728014, 'authorizations': [{'enterprise_id': None, 'team_id': 'T08GLQ3HC07', 'user_id': 'U08H42J6JQ3', 'is_bot': True, 'is_enterprise_install': False}], 'is_ext_shared_channel': False, 'event_context': '4-eyJldCI6Im1lc3NhZ2UiLCJ0aWQiOiJUMDhHTFEzSEMwNyIsImFpZCI6IkEwOEgwQzI2QkVaIiwiY2lkIjoiQzA4SEw5ODRCRVYifQ'}\n"
     ]
    },
    {
     "name": "stderr",
     "output_type": "stream",
     "text": [
      "127.0.0.1 - - [11/Mar/2025 17:20:15] \"POST /slack/events HTTP/1.1\" 200 -\n"
     ]
    },
    {
     "name": "stdout",
     "output_type": "stream",
     "text": [
      "Received Slack event: {'token': 'vcOktFRX27KKXwM6mDwo1R9u', 'team_id': 'T08GLQ3HC07', 'context_team_id': 'T08GLQ3HC07', 'context_enterprise_id': None, 'api_app_id': 'A08H0C26BEZ', 'event': {'type': 'message', 'subtype': 'message_deleted', 'previous_message': {'subtype': 'tombstone', 'text': 'This message was deleted.', 'user': 'USLACKBOT', 'hidden': True, 'type': 'message', 'ts': '1741725568.306109', 'thread_ts': '1741725568.306109', 'parent_user_id': 'USLACKBOT', 'reply_count': 0, 'reply_users_count': 0, 'latest_reply': '0000000000.000000', 'reply_users': [], 'is_locked': False, 'subscribed': True, 'last_read': '1741725569.414409'}, 'channel': 'C08HL984BEV', 'hidden': True, 'deleted_ts': '1741725568.306109', 'event_ts': '1741728014.005400', 'ts': '1741728014.005400', 'channel_type': 'channel'}, 'type': 'event_callback', 'event_id': 'Ev08H2SFUDV4', 'event_time': 1741728014, 'authorizations': [{'enterprise_id': None, 'team_id': 'T08GLQ3HC07', 'user_id': 'U08H42J6JQ3', 'is_bot': True, 'is_enterprise_install': False}], 'is_ext_shared_channel': False, 'event_context': '4-eyJldCI6Im1lc3NhZ2UiLCJ0aWQiOiJUMDhHTFEzSEMwNyIsImFpZCI6IkEwOEgwQzI2QkVaIiwiY2lkIjoiQzA4SEw5ODRCRVYifQ'}\n"
     ]
    },
    {
     "name": "stderr",
     "output_type": "stream",
     "text": [
      "127.0.0.1 - - [11/Mar/2025 17:20:19] \"POST /slack/events HTTP/1.1\" 200 -\n"
     ]
    },
    {
     "name": "stdout",
     "output_type": "stream",
     "text": [
      "Received Slack event: {'token': 'vcOktFRX27KKXwM6mDwo1R9u', 'team_id': 'T08GLQ3HC07', 'context_team_id': 'T08GLQ3HC07', 'context_enterprise_id': None, 'api_app_id': 'A08H0C26BEZ', 'event': {'type': 'message', 'subtype': 'message_changed', 'message': {'subtype': 'tombstone', 'text': 'This message was deleted.', 'user': 'USLACKBOT', 'hidden': True, 'type': 'message', 'thread_ts': '1741725553.636449', 'reply_count': 1, 'reply_users_count': 1, 'latest_reply': '1741725555.056509', 'reply_users': ['U08H42J6JQ3'], 'is_locked': False, 'ts': '1741725553.636449'}, 'previous_message': {'user': 'U08GLQ3JKGX', 'type': 'message', 'ts': '1741725553.636449', 'client_msg_id': 'eb83e069-f690-47fa-adec-d39239ea2712', 'text': 'Portal shows customer opted out', 'team': 'T08GLQ3HC07', 'thread_ts': '1741725553.636449', 'reply_count': 1, 'reply_users_count': 1, 'latest_reply': '1741725555.056509', 'reply_users': ['U08H42J6JQ3'], 'is_locked': False, 'subscribed': True, 'last_read': '1741725555.056509', 'blocks': [{'type': 'rich_text', 'block_id': '+JTTR', 'elements': [{'type': 'rich_text_section', 'elements': [{'type': 'text', 'text': 'Portal shows customer opted out'}]}]}]}, 'channel': 'C08HL984BEV', 'hidden': True, 'ts': '1741728018.005500', 'event_ts': '1741728018.005500', 'channel_type': 'channel'}, 'type': 'event_callback', 'event_id': 'Ev08HXU49GKS', 'event_time': 1741728018, 'authorizations': [{'enterprise_id': None, 'team_id': 'T08GLQ3HC07', 'user_id': 'U08H42J6JQ3', 'is_bot': True, 'is_enterprise_install': False}], 'is_ext_shared_channel': False, 'event_context': '4-eyJldCI6Im1lc3NhZ2UiLCJ0aWQiOiJUMDhHTFEzSEMwNyIsImFpZCI6IkEwOEgwQzI2QkVaIiwiY2lkIjoiQzA4SEw5ODRCRVYifQ'}\n"
     ]
    },
    {
     "name": "stderr",
     "output_type": "stream",
     "text": [
      "127.0.0.1 - - [11/Mar/2025 17:20:23] \"POST /slack/events HTTP/1.1\" 200 -\n",
      "127.0.0.1 - - [11/Mar/2025 17:20:23] \"POST /slack/events HTTP/1.1\" 200 -\n"
     ]
    },
    {
     "name": "stdout",
     "output_type": "stream",
     "text": [
      "Received Slack event: {'token': 'vcOktFRX27KKXwM6mDwo1R9u', 'team_id': 'T08GLQ3HC07', 'context_team_id': 'T08GLQ3HC07', 'context_enterprise_id': None, 'api_app_id': 'A08H0C26BEZ', 'event': {'type': 'message', 'subtype': 'message_deleted', 'previous_message': {'user': 'U08H42J6JQ3', 'type': 'message', 'ts': '1741725555.056509', 'bot_id': 'B08H42J4LGK', 'app_id': 'A08H0C26BEZ', 'text': '*Offer Not Displayed:* The offer is not displayed because the customer has opted out of solicitation, making them ineligible for any offers. :x: However, if you are not satisfied with this response, I can escalate the issue by raising an incident so a support representative can review it further. Would you like me to raise it? :raised_hands:', 'team': 'T08GLQ3HC07', 'bot_profile': {'id': 'B08H42J4LGK', 'deleted': False, 'name': 'ResolveBotAI', 'updated': 1741727901, 'app_id': 'A08H0C26BEZ', 'icons': {'image_36': 'https://avatars.slack-edge.com/2025-03-11/8589372074499_9c606919fdf38cbda995_36.png', 'image_48': 'https://avatars.slack-edge.com/2025-03-11/8589372074499_9c606919fdf38cbda995_48.png', 'image_72': 'https://avatars.slack-edge.com/2025-03-11/8589372074499_9c606919fdf38cbda995_72.png'}, 'team_id': 'T08GLQ3HC07'}, 'thread_ts': '1741725553.636449', 'parent_user_id': 'USLACKBOT', 'blocks': [{'type': 'rich_text', 'block_id': 'NhyyM', 'elements': [{'type': 'rich_text_section', 'elements': [{'type': 'text', 'text': 'Offer Not Displayed:', 'style': {'bold': True}}, {'type': 'text', 'text': ' The offer is not displayed because the customer has opted out of solicitation, making them ineligible for any offers. '}, {'type': 'emoji', 'name': 'x', 'unicode': '274c'}, {'type': 'text', 'text': ' However, if you are not satisfied with this response, I can escalate the issue by raising an incident so a support representative can review it further. Would you like me to raise it? '}, {'type': 'emoji', 'name': 'raised_hands', 'unicode': '1f64c'}]}]}]}, 'channel': 'C08HL984BEV', 'hidden': True, 'deleted_ts': '1741725555.056509', 'event_ts': '1741728022.005600', 'ts': '1741728022.005600', 'channel_type': 'channel'}, 'type': 'event_callback', 'event_id': 'Ev08HD75A66Q', 'event_time': 1741728022, 'authorizations': [{'enterprise_id': None, 'team_id': 'T08GLQ3HC07', 'user_id': 'U08H42J6JQ3', 'is_bot': True, 'is_enterprise_install': False}], 'is_ext_shared_channel': False, 'event_context': '4-eyJldCI6Im1lc3NhZ2UiLCJ0aWQiOiJUMDhHTFEzSEMwNyIsImFpZCI6IkEwOEgwQzI2QkVaIiwiY2lkIjoiQzA4SEw5ODRCRVYifQ'}\n",
      "Received Slack event: {'token': 'vcOktFRX27KKXwM6mDwo1R9u', 'team_id': 'T08GLQ3HC07', 'context_team_id': 'T08GLQ3HC07', 'context_enterprise_id': None, 'api_app_id': 'A08H0C26BEZ', 'event': {'type': 'message', 'subtype': 'message_deleted', 'previous_message': {'subtype': 'tombstone', 'text': 'This message was deleted.', 'user': 'USLACKBOT', 'hidden': True, 'type': 'message', 'ts': '1741725553.636449', 'thread_ts': '1741725553.636449', 'parent_user_id': 'USLACKBOT', 'reply_count': 0, 'reply_users_count': 0, 'latest_reply': '0000000000.000000', 'reply_users': [], 'is_locked': False, 'subscribed': True, 'last_read': '1741725555.056509'}, 'channel': 'C08HL984BEV', 'hidden': True, 'deleted_ts': '1741725553.636449', 'event_ts': '1741728022.005700', 'ts': '1741728022.005700', 'channel_type': 'channel'}, 'type': 'event_callback', 'event_id': 'Ev08HBB8JSSX', 'event_time': 1741728022, 'authorizations': [{'enterprise_id': None, 'team_id': 'T08GLQ3HC07', 'user_id': 'U08H42J6JQ3', 'is_bot': True, 'is_enterprise_install': False}], 'is_ext_shared_channel': False, 'event_context': '4-eyJldCI6Im1lc3NhZ2UiLCJ0aWQiOiJUMDhHTFEzSEMwNyIsImFpZCI6IkEwOEgwQzI2QkVaIiwiY2lkIjoiQzA4SEw5ODRCRVYifQ'}\n"
     ]
    },
    {
     "name": "stderr",
     "output_type": "stream",
     "text": [
      "127.0.0.1 - - [11/Mar/2025 17:20:28] \"POST /slack/events HTTP/1.1\" 200 -\n"
     ]
    },
    {
     "name": "stdout",
     "output_type": "stream",
     "text": [
      "Received Slack event: {'token': 'vcOktFRX27KKXwM6mDwo1R9u', 'team_id': 'T08GLQ3HC07', 'context_team_id': 'T08GLQ3HC07', 'context_enterprise_id': None, 'api_app_id': 'A08H0C26BEZ', 'event': {'type': 'message', 'subtype': 'message_changed', 'message': {'subtype': 'tombstone', 'text': 'This message was deleted.', 'user': 'USLACKBOT', 'hidden': True, 'type': 'message', 'thread_ts': '1741725510.003519', 'reply_count': 3, 'reply_users_count': 2, 'latest_reply': '1741725534.435659', 'reply_users': ['U08H42J6JQ3', 'U08GLQ3JKGX'], 'is_locked': False, 'ts': '1741725510.003519'}, 'previous_message': {'user': 'U08GLQ3JKGX', 'type': 'message', 'ts': '1741725510.003519', 'client_msg_id': 'a9e7a1d0-3175-47fb-9180-aba8af3d11f0', 'text': 'I am getting customer opted out from offers', 'team': 'T08GLQ3HC07', 'thread_ts': '1741725510.003519', 'reply_count': 3, 'reply_users_count': 2, 'latest_reply': '1741725534.435659', 'reply_users': ['U08H42J6JQ3', 'U08GLQ3JKGX'], 'is_locked': False, 'subscribed': True, 'last_read': '1741725534.435659', 'blocks': [{'type': 'rich_text', 'block_id': '737Xb', 'elements': [{'type': 'rich_text_section', 'elements': [{'type': 'text', 'text': 'I am getting customer opted out from offers'}]}]}]}, 'channel': 'C08HL984BEV', 'hidden': True, 'ts': '1741728027.005800', 'event_ts': '1741728027.005800', 'channel_type': 'channel'}, 'type': 'event_callback', 'event_id': 'Ev08GUH4GB2B', 'event_time': 1741728027, 'authorizations': [{'enterprise_id': None, 'team_id': 'T08GLQ3HC07', 'user_id': 'U08H42J6JQ3', 'is_bot': True, 'is_enterprise_install': False}], 'is_ext_shared_channel': False, 'event_context': '4-eyJldCI6Im1lc3NhZ2UiLCJ0aWQiOiJUMDhHTFEzSEMwNyIsImFpZCI6IkEwOEgwQzI2QkVaIiwiY2lkIjoiQzA4SEw5ODRCRVYifQ'}\n"
     ]
    },
    {
     "name": "stderr",
     "output_type": "stream",
     "text": [
      "127.0.0.1 - - [11/Mar/2025 17:20:32] \"POST /slack/events HTTP/1.1\" 200 -\n"
     ]
    },
    {
     "name": "stdout",
     "output_type": "stream",
     "text": [
      "Received Slack event: {'token': 'vcOktFRX27KKXwM6mDwo1R9u', 'team_id': 'T08GLQ3HC07', 'context_team_id': 'T08GLQ3HC07', 'context_enterprise_id': None, 'api_app_id': 'A08H0C26BEZ', 'event': {'type': 'message', 'subtype': 'message_deleted', 'previous_message': {'user': 'U08H42J6JQ3', 'type': 'message', 'ts': '1741725534.435659', 'bot_id': 'B08H42J4LGK', 'app_id': 'A08H0C26BEZ', 'text': '*Incident Raised:* Your incident has been successfully raised and marked as *high* priority. :warning: \\n\\nThe *Site Reliability Engineering (SRE)* team will address it as soon as possible to ensure a swift resolution. :rocket:\\n\\nThank you for your patience!', 'team': 'T08GLQ3HC07', 'bot_profile': {'id': 'B08H42J4LGK', 'deleted': False, 'name': 'ResolveBotAI', 'updated': 1741727901, 'app_id': 'A08H0C26BEZ', 'icons': {'image_36': 'https://avatars.slack-edge.com/2025-03-11/8589372074499_9c606919fdf38cbda995_36.png', 'image_48': 'https://avatars.slack-edge.com/2025-03-11/8589372074499_9c606919fdf38cbda995_48.png', 'image_72': 'https://avatars.slack-edge.com/2025-03-11/8589372074499_9c606919fdf38cbda995_72.png'}, 'team_id': 'T08GLQ3HC07'}, 'thread_ts': '1741725510.003519', 'parent_user_id': 'USLACKBOT', 'blocks': [{'type': 'rich_text', 'block_id': 'CHCGO', 'elements': [{'type': 'rich_text_section', 'elements': [{'type': 'text', 'text': 'Incident Raised:', 'style': {'bold': True}}, {'type': 'text', 'text': ' Your incident has been successfully raised and marked as '}, {'type': 'text', 'text': 'high', 'style': {'bold': True}}, {'type': 'text', 'text': ' priority. '}, {'type': 'emoji', 'name': 'warning', 'unicode': '26a0-fe0f'}, {'type': 'text', 'text': ' \\n\\nThe '}, {'type': 'text', 'text': 'Site Reliability Engineering (SRE)', 'style': {'bold': True}}, {'type': 'text', 'text': ' team will address it as soon as possible to ensure a swift resolution. '}, {'type': 'emoji', 'name': 'rocket', 'unicode': '1f680'}, {'type': 'text', 'text': '\\n\\nThank you for your patience!'}]}]}]}, 'channel': 'C08HL984BEV', 'hidden': True, 'deleted_ts': '1741725534.435659', 'event_ts': '1741728032.005900', 'ts': '1741728032.005900', 'channel_type': 'channel'}, 'type': 'event_callback', 'event_id': 'Ev08HD75T38C', 'event_time': 1741728032, 'authorizations': [{'enterprise_id': None, 'team_id': 'T08GLQ3HC07', 'user_id': 'U08H42J6JQ3', 'is_bot': True, 'is_enterprise_install': False}], 'is_ext_shared_channel': False, 'event_context': '4-eyJldCI6Im1lc3NhZ2UiLCJ0aWQiOiJUMDhHTFEzSEMwNyIsImFpZCI6IkEwOEgwQzI2QkVaIiwiY2lkIjoiQzA4SEw5ODRCRVYifQ'}\n"
     ]
    },
    {
     "name": "stderr",
     "output_type": "stream",
     "text": [
      "127.0.0.1 - - [11/Mar/2025 17:20:33] \"POST /slack/events HTTP/1.1\" 200 -\n"
     ]
    },
    {
     "name": "stdout",
     "output_type": "stream",
     "text": [
      "Received Slack event: {'token': 'vcOktFRX27KKXwM6mDwo1R9u', 'team_id': 'T08GLQ3HC07', 'context_team_id': 'T08GLQ3HC07', 'context_enterprise_id': None, 'api_app_id': 'A08H0C26BEZ', 'event': {'type': 'message', 'subtype': 'message_changed', 'message': {'subtype': 'tombstone', 'text': 'This message was deleted.', 'user': 'USLACKBOT', 'hidden': True, 'type': 'message', 'thread_ts': '1741725510.003519', 'parent_user_id': 'USLACKBOT', 'reply_count': 2, 'reply_users_count': 2, 'latest_reply': '1741725533.498519', 'reply_users': ['U08H42J6JQ3', 'U08GLQ3JKGX'], 'is_locked': False, 'ts': '1741725510.003519'}, 'previous_message': {'subtype': 'tombstone', 'text': 'This message was deleted.', 'user': 'USLACKBOT', 'hidden': True, 'type': 'message', 'ts': '1741725510.003519', 'thread_ts': '1741725510.003519', 'parent_user_id': 'USLACKBOT', 'reply_count': 2, 'reply_users_count': 2, 'latest_reply': '1741725533.498519', 'reply_users': ['U08H42J6JQ3', 'U08GLQ3JKGX'], 'is_locked': False, 'subscribed': True, 'last_read': '1741725534.435659'}, 'channel': 'C08HL984BEV', 'hidden': True, 'ts': '1741728032.006000', 'event_ts': '1741728032.006000', 'channel_type': 'channel'}, 'type': 'event_callback', 'event_id': 'Ev08GUH4HT55', 'event_time': 1741728032, 'authorizations': [{'enterprise_id': None, 'team_id': 'T08GLQ3HC07', 'user_id': 'U08H42J6JQ3', 'is_bot': True, 'is_enterprise_install': False}], 'is_ext_shared_channel': False, 'event_context': '4-eyJldCI6Im1lc3NhZ2UiLCJ0aWQiOiJUMDhHTFEzSEMwNyIsImFpZCI6IkEwOEgwQzI2QkVaIiwiY2lkIjoiQzA4SEw5ODRCRVYifQ'}\n"
     ]
    },
    {
     "name": "stderr",
     "output_type": "stream",
     "text": [
      "127.0.0.1 - - [11/Mar/2025 17:20:36] \"POST /slack/events HTTP/1.1\" 200 -\n",
      "127.0.0.1 - - [11/Mar/2025 17:20:36] \"POST /slack/events HTTP/1.1\" 200 -\n"
     ]
    },
    {
     "name": "stdout",
     "output_type": "stream",
     "text": [
      "Received Slack event: {'token': 'vcOktFRX27KKXwM6mDwo1R9u', 'team_id': 'T08GLQ3HC07', 'context_team_id': 'T08GLQ3HC07', 'context_enterprise_id': None, 'api_app_id': 'A08H0C26BEZ', 'event': {'type': 'message', 'subtype': 'message_deleted', 'previous_message': {'user': 'U08GLQ3JKGX', 'type': 'message', 'ts': '1741725533.498519', 'client_msg_id': 'a296f6a6-c821-4586-ac2f-2d5c2e807158', 'text': 'Raise an incident with high priority', 'team': 'T08GLQ3HC07', 'thread_ts': '1741725510.003519', 'parent_user_id': 'USLACKBOT', 'blocks': [{'type': 'rich_text', 'block_id': 'v1USE', 'elements': [{'type': 'rich_text_section', 'elements': [{'type': 'text', 'text': 'Raise an incident with high priority'}]}]}]}, 'channel': 'C08HL984BEV', 'hidden': True, 'deleted_ts': '1741725533.498519', 'event_ts': '1741728035.006100', 'ts': '1741728035.006100', 'channel_type': 'channel'}, 'type': 'event_callback', 'event_id': 'Ev08HBB8Q58B', 'event_time': 1741728035, 'authorizations': [{'enterprise_id': None, 'team_id': 'T08GLQ3HC07', 'user_id': 'U08H42J6JQ3', 'is_bot': True, 'is_enterprise_install': False}], 'is_ext_shared_channel': False, 'event_context': '4-eyJldCI6Im1lc3NhZ2UiLCJ0aWQiOiJUMDhHTFEzSEMwNyIsImFpZCI6IkEwOEgwQzI2QkVaIiwiY2lkIjoiQzA4SEw5ODRCRVYifQ'}\n",
      "Received Slack event: {'token': 'vcOktFRX27KKXwM6mDwo1R9u', 'team_id': 'T08GLQ3HC07', 'context_team_id': 'T08GLQ3HC07', 'context_enterprise_id': None, 'api_app_id': 'A08H0C26BEZ', 'event': {'type': 'message', 'subtype': 'message_changed', 'message': {'subtype': 'tombstone', 'text': 'This message was deleted.', 'user': 'USLACKBOT', 'hidden': True, 'type': 'message', 'thread_ts': '1741725510.003519', 'parent_user_id': 'USLACKBOT', 'reply_count': 1, 'reply_users_count': 1, 'latest_reply': '1741725511.368869', 'reply_users': ['U08H42J6JQ3'], 'is_locked': False, 'ts': '1741725510.003519'}, 'previous_message': {'subtype': 'tombstone', 'text': 'This message was deleted.', 'user': 'USLACKBOT', 'hidden': True, 'type': 'message', 'ts': '1741725510.003519', 'thread_ts': '1741725510.003519', 'parent_user_id': 'USLACKBOT', 'reply_count': 1, 'reply_users_count': 1, 'latest_reply': '1741725511.368869', 'reply_users': ['U08H42J6JQ3'], 'is_locked': False, 'subscribed': True, 'last_read': '1741725534.435659'}, 'channel': 'C08HL984BEV', 'hidden': True, 'ts': '1741728035.006200', 'event_ts': '1741728035.006200', 'channel_type': 'channel'}, 'type': 'event_callback', 'event_id': 'Ev08HLGE925P', 'event_time': 1741728035, 'authorizations': [{'enterprise_id': None, 'team_id': 'T08GLQ3HC07', 'user_id': 'U08H42J6JQ3', 'is_bot': True, 'is_enterprise_install': False}], 'is_ext_shared_channel': False, 'event_context': '4-eyJldCI6Im1lc3NhZ2UiLCJ0aWQiOiJUMDhHTFEzSEMwNyIsImFpZCI6IkEwOEgwQzI2QkVaIiwiY2lkIjoiQzA4SEw5ODRCRVYifQ'}\n"
     ]
    },
    {
     "name": "stderr",
     "output_type": "stream",
     "text": [
      "127.0.0.1 - - [11/Mar/2025 17:20:39] \"POST /slack/events HTTP/1.1\" 200 -\n"
     ]
    },
    {
     "name": "stdout",
     "output_type": "stream",
     "text": [
      "Received Slack event: {'token': 'vcOktFRX27KKXwM6mDwo1R9u', 'team_id': 'T08GLQ3HC07', 'context_team_id': 'T08GLQ3HC07', 'context_enterprise_id': None, 'api_app_id': 'A08H0C26BEZ', 'event': {'type': 'message', 'subtype': 'message_deleted', 'previous_message': {'subtype': 'tombstone', 'text': 'This message was deleted.', 'user': 'USLACKBOT', 'hidden': True, 'type': 'message', 'ts': '1741725510.003519', 'thread_ts': '1741725510.003519', 'parent_user_id': 'USLACKBOT', 'reply_count': 0, 'reply_users_count': 0, 'latest_reply': '0000000000.000000', 'reply_users': [], 'is_locked': False, 'subscribed': True, 'last_read': '1741725534.435659'}, 'channel': 'C08HL984BEV', 'hidden': True, 'deleted_ts': '1741725510.003519', 'event_ts': '1741728039.006400', 'ts': '1741728039.006400', 'channel_type': 'channel'}, 'type': 'event_callback', 'event_id': 'Ev08H2SHQ6TY', 'event_time': 1741728039, 'authorizations': [{'enterprise_id': None, 'team_id': 'T08GLQ3HC07', 'user_id': 'U08H42J6JQ3', 'is_bot': True, 'is_enterprise_install': False}], 'is_ext_shared_channel': False, 'event_context': '4-eyJldCI6Im1lc3NhZ2UiLCJ0aWQiOiJUMDhHTFEzSEMwNyIsImFpZCI6IkEwOEgwQzI2QkVaIiwiY2lkIjoiQzA4SEw5ODRCRVYifQ'}\n"
     ]
    },
    {
     "name": "stderr",
     "output_type": "stream",
     "text": [
      "127.0.0.1 - - [11/Mar/2025 17:20:40] \"POST /slack/events HTTP/1.1\" 200 -\n"
     ]
    },
    {
     "name": "stdout",
     "output_type": "stream",
     "text": [
      "Received Slack event: {'token': 'vcOktFRX27KKXwM6mDwo1R9u', 'team_id': 'T08GLQ3HC07', 'context_team_id': 'T08GLQ3HC07', 'context_enterprise_id': None, 'api_app_id': 'A08H0C26BEZ', 'event': {'type': 'message', 'subtype': 'message_deleted', 'previous_message': {'user': 'U08H42J6JQ3', 'type': 'message', 'ts': '1741725511.368869', 'bot_id': 'B08H42J4LGK', 'app_id': 'A08H0C26BEZ', 'text': '*Offer Not Displayed:* The offer is not displayed because the customer has opted out of solicitation, making them ineligible for any offers. :x: However, if you are not satisfied with this response, I can escalate the issue by raising an incident so a support representative can review it further. Would you like me to raise it? :raised_hands:', 'team': 'T08GLQ3HC07', 'bot_profile': {'id': 'B08H42J4LGK', 'deleted': False, 'name': 'ResolveBotAI', 'updated': 1741727901, 'app_id': 'A08H0C26BEZ', 'icons': {'image_36': 'https://avatars.slack-edge.com/2025-03-11/8589372074499_9c606919fdf38cbda995_36.png', 'image_48': 'https://avatars.slack-edge.com/2025-03-11/8589372074499_9c606919fdf38cbda995_48.png', 'image_72': 'https://avatars.slack-edge.com/2025-03-11/8589372074499_9c606919fdf38cbda995_72.png'}, 'team_id': 'T08GLQ3HC07'}, 'thread_ts': '1741725510.003519', 'parent_user_id': 'USLACKBOT', 'blocks': [{'type': 'rich_text', 'block_id': 'HkL', 'elements': [{'type': 'rich_text_section', 'elements': [{'type': 'text', 'text': 'Offer Not Displayed:', 'style': {'bold': True}}, {'type': 'text', 'text': ' The offer is not displayed because the customer has opted out of solicitation, making them ineligible for any offers. '}, {'type': 'emoji', 'name': 'x', 'unicode': '274c'}, {'type': 'text', 'text': ' However, if you are not satisfied with this response, I can escalate the issue by raising an incident so a support representative can review it further. Would you like me to raise it? '}, {'type': 'emoji', 'name': 'raised_hands', 'unicode': '1f64c'}]}]}]}, 'channel': 'C08HL984BEV', 'hidden': True, 'deleted_ts': '1741725511.368869', 'event_ts': '1741728039.006300', 'ts': '1741728039.006300', 'channel_type': 'channel'}, 'type': 'event_callback', 'event_id': 'Ev08H2SHU4S2', 'event_time': 1741728039, 'authorizations': [{'enterprise_id': None, 'team_id': 'T08GLQ3HC07', 'user_id': 'U08H42J6JQ3', 'is_bot': True, 'is_enterprise_install': False}], 'is_ext_shared_channel': False, 'event_context': '4-eyJldCI6Im1lc3NhZ2UiLCJ0aWQiOiJUMDhHTFEzSEMwNyIsImFpZCI6IkEwOEgwQzI2QkVaIiwiY2lkIjoiQzA4SEw5ODRCRVYifQ'}\n",
      "Received Slack event: {'token': 'vcOktFRX27KKXwM6mDwo1R9u', 'team_id': 'T08GLQ3HC07', 'context_team_id': 'T08GLQ3HC07', 'context_enterprise_id': None, 'api_app_id': 'A08H0C26BEZ', 'event': {'user': 'U08GLQ3JKGX', 'type': 'message', 'ts': '1741728183.533409', 'client_msg_id': 'f9217be9-3879-4d4d-b0bc-d932ab0d31c1', 'text': 'I am getting customer opted out message', 'team': 'T08GLQ3HC07', 'blocks': [{'type': 'rich_text', 'block_id': 'A05hm', 'elements': [{'type': 'rich_text_section', 'elements': [{'type': 'text', 'text': 'I am getting customer opted out message'}]}]}], 'channel': 'C08HL984BEV', 'event_ts': '1741728183.533409', 'channel_type': 'channel'}, 'type': 'event_callback', 'event_id': 'Ev08HBBK77NX', 'event_time': 1741728183, 'authorizations': [{'enterprise_id': None, 'team_id': 'T08GLQ3HC07', 'user_id': 'U08H42J6JQ3', 'is_bot': True, 'is_enterprise_install': False}], 'is_ext_shared_channel': False, 'event_context': '4-eyJldCI6Im1lc3NhZ2UiLCJ0aWQiOiJUMDhHTFEzSEMwNyIsImFpZCI6IkEwOEgwQzI2QkVaIiwiY2lkIjoiQzA4SEw5ODRCRVYifQ'}\n",
      "Entities: [('I', 'RAISE_INCIDENT'), ('out', 'SEVERITY')]\n"
     ]
    },
    {
     "name": "stderr",
     "output_type": "stream",
     "text": [
      "127.0.0.1 - - [11/Mar/2025 17:23:05] \"POST /slack/events HTTP/1.1\" 200 -\n",
      "127.0.0.1 - - [11/Mar/2025 17:23:06] \"POST /slack/events HTTP/1.1\" 200 -\n"
     ]
    },
    {
     "name": "stdout",
     "output_type": "stream",
     "text": [
      "Received Slack event: {'token': 'vcOktFRX27KKXwM6mDwo1R9u', 'team_id': 'T08GLQ3HC07', 'context_team_id': 'T08GLQ3HC07', 'context_enterprise_id': None, 'api_app_id': 'A08H0C26BEZ', 'event': {'user': 'U08H42J6JQ3', 'type': 'message', 'ts': '1741728184.991489', 'bot_id': 'B08H42J4LGK', 'app_id': 'A08H0C26BEZ', 'text': '*Incident Raised:* Your incident has been successfully raised and marked as *out* priority. :warning: \\n\\nThe *Site Reliability Engineering (SRE)* team will address it as soon as possible to ensure a swift resolution. :rocket:\\n\\nThank you for your patience!', 'team': 'T08GLQ3HC07', 'bot_profile': {'id': 'B08H42J4LGK', 'deleted': False, 'name': 'ResolveBotAI', 'updated': 1741727901, 'app_id': 'A08H0C26BEZ', 'icons': {'image_36': 'https://avatars.slack-edge.com/2025-03-11/8589372074499_9c606919fdf38cbda995_36.png', 'image_48': 'https://avatars.slack-edge.com/2025-03-11/8589372074499_9c606919fdf38cbda995_48.png', 'image_72': 'https://avatars.slack-edge.com/2025-03-11/8589372074499_9c606919fdf38cbda995_72.png'}, 'team_id': 'T08GLQ3HC07'}, 'thread_ts': '1741728183.533409', 'parent_user_id': 'U08GLQ3JKGX', 'blocks': [{'type': 'rich_text', 'block_id': '8FQT', 'elements': [{'type': 'rich_text_section', 'elements': [{'type': 'text', 'text': 'Incident Raised:', 'style': {'bold': True}}, {'type': 'text', 'text': ' Your incident has been successfully raised and marked as '}, {'type': 'text', 'text': 'out', 'style': {'bold': True}}, {'type': 'text', 'text': ' priority. '}, {'type': 'emoji', 'name': 'warning', 'unicode': '26a0-fe0f'}, {'type': 'text', 'text': ' \\n\\nThe '}, {'type': 'text', 'text': 'Site Reliability Engineering (SRE)', 'style': {'bold': True}}, {'type': 'text', 'text': ' team will address it as soon as possible to ensure a swift resolution. '}, {'type': 'emoji', 'name': 'rocket', 'unicode': '1f680'}, {'type': 'text', 'text': '\\n\\nThank you for your patience!'}]}]}], 'channel': 'C08HL984BEV', 'event_ts': '1741728184.991489', 'channel_type': 'channel'}, 'type': 'event_callback', 'event_id': 'Ev08H2SSLZ9U', 'event_time': 1741728184, 'authorizations': [{'enterprise_id': None, 'team_id': 'T08GLQ3HC07', 'user_id': 'U08H42J6JQ3', 'is_bot': True, 'is_enterprise_install': False}], 'is_ext_shared_channel': False, 'event_context': '4-eyJldCI6Im1lc3NhZ2UiLCJ0aWQiOiJUMDhHTFEzSEMwNyIsImFpZCI6IkEwOEgwQzI2QkVaIiwiY2lkIjoiQzA4SEw5ODRCRVYifQ'}\n"
     ]
    },
    {
     "name": "stderr",
     "output_type": "stream",
     "text": [
      "127.0.0.1 - - [11/Mar/2025 17:23:17] \"POST /slack/events HTTP/1.1\" 200 -\n"
     ]
    },
    {
     "name": "stdout",
     "output_type": "stream",
     "text": [
      "Received Slack event: {'token': 'vcOktFRX27KKXwM6mDwo1R9u', 'team_id': 'T08GLQ3HC07', 'context_team_id': 'T08GLQ3HC07', 'context_enterprise_id': None, 'api_app_id': 'A08H0C26BEZ', 'event': {'type': 'message', 'subtype': 'message_changed', 'message': {'subtype': 'tombstone', 'text': 'This message was deleted.', 'user': 'USLACKBOT', 'hidden': True, 'type': 'message', 'thread_ts': '1741728183.533409', 'reply_count': 1, 'reply_users_count': 1, 'latest_reply': '1741728184.991489', 'reply_users': ['U08H42J6JQ3'], 'is_locked': False, 'ts': '1741728183.533409'}, 'previous_message': {'user': 'U08GLQ3JKGX', 'type': 'message', 'ts': '1741728183.533409', 'client_msg_id': 'f9217be9-3879-4d4d-b0bc-d932ab0d31c1', 'text': 'I am getting customer opted out message', 'team': 'T08GLQ3HC07', 'thread_ts': '1741728183.533409', 'reply_count': 1, 'reply_users_count': 1, 'latest_reply': '1741728184.991489', 'reply_users': ['U08H42J6JQ3'], 'is_locked': False, 'subscribed': True, 'last_read': '1741728184.991489', 'blocks': [{'type': 'rich_text', 'block_id': 'A05hm', 'elements': [{'type': 'rich_text_section', 'elements': [{'type': 'text', 'text': 'I am getting customer opted out message'}]}]}]}, 'channel': 'C08HL984BEV', 'hidden': True, 'ts': '1741728196.006600', 'event_ts': '1741728196.006600', 'channel_type': 'channel'}, 'type': 'event_callback', 'event_id': 'Ev08H7UXJ2HK', 'event_time': 1741728196, 'authorizations': [{'enterprise_id': None, 'team_id': 'T08GLQ3HC07', 'user_id': 'U08H42J6JQ3', 'is_bot': True, 'is_enterprise_install': False}], 'is_ext_shared_channel': False, 'event_context': '4-eyJldCI6Im1lc3NhZ2UiLCJ0aWQiOiJUMDhHTFEzSEMwNyIsImFpZCI6IkEwOEgwQzI2QkVaIiwiY2lkIjoiQzA4SEw5ODRCRVYifQ'}\n"
     ]
    },
    {
     "name": "stderr",
     "output_type": "stream",
     "text": [
      "127.0.0.1 - - [11/Mar/2025 17:23:23] \"POST /slack/events HTTP/1.1\" 200 -\n",
      "127.0.0.1 - - [11/Mar/2025 17:23:23] \"POST /slack/events HTTP/1.1\" 200 -\n"
     ]
    },
    {
     "name": "stdout",
     "output_type": "stream",
     "text": [
      "Received Slack event: {'token': 'vcOktFRX27KKXwM6mDwo1R9u', 'team_id': 'T08GLQ3HC07', 'context_team_id': 'T08GLQ3HC07', 'context_enterprise_id': None, 'api_app_id': 'A08H0C26BEZ', 'event': {'type': 'message', 'subtype': 'message_deleted', 'previous_message': {'subtype': 'tombstone', 'text': 'This message was deleted.', 'user': 'USLACKBOT', 'hidden': True, 'type': 'message', 'ts': '1741728183.533409', 'thread_ts': '1741728183.533409', 'parent_user_id': 'USLACKBOT', 'reply_count': 0, 'reply_users_count': 0, 'latest_reply': '0000000000.000000', 'reply_users': [], 'is_locked': False, 'subscribed': True, 'last_read': '1741728184.991489'}, 'channel': 'C08HL984BEV', 'hidden': True, 'deleted_ts': '1741728183.533409', 'event_ts': '1741728202.006800', 'ts': '1741728202.006800', 'channel_type': 'channel'}, 'type': 'event_callback', 'event_id': 'Ev08H7UX6GH3', 'event_time': 1741728202, 'authorizations': [{'enterprise_id': None, 'team_id': 'T08GLQ3HC07', 'user_id': 'U08H42J6JQ3', 'is_bot': True, 'is_enterprise_install': False}], 'is_ext_shared_channel': False, 'event_context': '4-eyJldCI6Im1lc3NhZ2UiLCJ0aWQiOiJUMDhHTFEzSEMwNyIsImFpZCI6IkEwOEgwQzI2QkVaIiwiY2lkIjoiQzA4SEw5ODRCRVYifQ'}\n",
      "Received Slack event: {'token': 'vcOktFRX27KKXwM6mDwo1R9u', 'team_id': 'T08GLQ3HC07', 'context_team_id': 'T08GLQ3HC07', 'context_enterprise_id': None, 'api_app_id': 'A08H0C26BEZ', 'event': {'type': 'message', 'subtype': 'message_deleted', 'previous_message': {'user': 'U08H42J6JQ3', 'type': 'message', 'ts': '1741728184.991489', 'bot_id': 'B08H42J4LGK', 'app_id': 'A08H0C26BEZ', 'text': '*Incident Raised:* Your incident has been successfully raised and marked as *out* priority. :warning: \\n\\nThe *Site Reliability Engineering (SRE)* team will address it as soon as possible to ensure a swift resolution. :rocket:\\n\\nThank you for your patience!', 'team': 'T08GLQ3HC07', 'bot_profile': {'id': 'B08H42J4LGK', 'deleted': False, 'name': 'ResolveBotAI', 'updated': 1741727901, 'app_id': 'A08H0C26BEZ', 'icons': {'image_36': 'https://avatars.slack-edge.com/2025-03-11/8589372074499_9c606919fdf38cbda995_36.png', 'image_48': 'https://avatars.slack-edge.com/2025-03-11/8589372074499_9c606919fdf38cbda995_48.png', 'image_72': 'https://avatars.slack-edge.com/2025-03-11/8589372074499_9c606919fdf38cbda995_72.png'}, 'team_id': 'T08GLQ3HC07'}, 'thread_ts': '1741728183.533409', 'parent_user_id': 'USLACKBOT', 'blocks': [{'type': 'rich_text', 'block_id': 'IiI=', 'elements': [{'type': 'rich_text_section', 'elements': [{'type': 'text', 'text': 'Incident Raised:', 'style': {'bold': True}}, {'type': 'text', 'text': ' Your incident has been successfully raised and marked as '}, {'type': 'text', 'text': 'out', 'style': {'bold': True}}, {'type': 'text', 'text': ' priority. '}, {'type': 'emoji', 'name': 'warning', 'unicode': '26a0-fe0f'}, {'type': 'text', 'text': ' \\n\\nThe '}, {'type': 'text', 'text': 'Site Reliability Engineering (SRE)', 'style': {'bold': True}}, {'type': 'text', 'text': ' team will address it as soon as possible to ensure a swift resolution. '}, {'type': 'emoji', 'name': 'rocket', 'unicode': '1f680'}, {'type': 'text', 'text': '\\n\\nThank you for your patience!'}]}]}]}, 'channel': 'C08HL984BEV', 'hidden': True, 'deleted_ts': '1741728184.991489', 'event_ts': '1741728202.006700', 'ts': '1741728202.006700', 'channel_type': 'channel'}, 'type': 'event_callback', 'event_id': 'Ev08H7UY2AJ1', 'event_time': 1741728202, 'authorizations': [{'enterprise_id': None, 'team_id': 'T08GLQ3HC07', 'user_id': 'U08H42J6JQ3', 'is_bot': True, 'is_enterprise_install': False}], 'is_ext_shared_channel': False, 'event_context': '4-eyJldCI6Im1lc3NhZ2UiLCJ0aWQiOiJUMDhHTFEzSEMwNyIsImFpZCI6IkEwOEgwQzI2QkVaIiwiY2lkIjoiQzA4SEw5ODRCRVYifQ'}\n",
      "Received Slack event: {'token': 'vcOktFRX27KKXwM6mDwo1R9u', 'team_id': 'T08GLQ3HC07', 'context_team_id': 'T08GLQ3HC07', 'context_enterprise_id': None, 'api_app_id': 'A08H0C26BEZ', 'event': {'user': 'U08GLQ3JKGX', 'type': 'message', 'ts': '1741728291.595949', 'client_msg_id': '19245c55-46b7-4a63-b471-d7435e81313d', 'text': 'I am getting customer opted out offers', 'team': 'T08GLQ3HC07', 'blocks': [{'type': 'rich_text', 'block_id': 'afAEk', 'elements': [{'type': 'rich_text_section', 'elements': [{'type': 'text', 'text': 'I am getting customer opted out offers'}]}]}], 'channel': 'C08HL984BEV', 'event_ts': '1741728291.595949', 'channel_type': 'channel'}, 'type': 'event_callback', 'event_id': 'Ev08HA9405HQ', 'event_time': 1741728291, 'authorizations': [{'enterprise_id': None, 'team_id': 'T08GLQ3HC07', 'user_id': 'U08H42J6JQ3', 'is_bot': True, 'is_enterprise_install': False}], 'is_ext_shared_channel': False, 'event_context': '4-eyJldCI6Im1lc3NhZ2UiLCJ0aWQiOiJUMDhHTFEzSEMwNyIsImFpZCI6IkEwOEgwQzI2QkVaIiwiY2lkIjoiQzA4SEw5ODRCRVYifQ'}\n",
      "Entities: [('I', 'RAISE_INCIDENT'), ('out', 'SEVERITY')]\n"
     ]
    },
    {
     "name": "stderr",
     "output_type": "stream",
     "text": [
      "127.0.0.1 - - [11/Mar/2025 17:24:53] \"POST /slack/events HTTP/1.1\" 200 -\n",
      "127.0.0.1 - - [11/Mar/2025 17:24:55] \"POST /slack/events HTTP/1.1\" 200 -\n"
     ]
    },
    {
     "name": "stdout",
     "output_type": "stream",
     "text": [
      "Received Slack event: {'token': 'vcOktFRX27KKXwM6mDwo1R9u', 'team_id': 'T08GLQ3HC07', 'context_team_id': 'T08GLQ3HC07', 'context_enterprise_id': None, 'api_app_id': 'A08H0C26BEZ', 'event': {'user': 'U08H42J6JQ3', 'type': 'message', 'ts': '1741728292.868589', 'bot_id': 'B08H42J4LGK', 'app_id': 'A08H0C26BEZ', 'text': '*Incident Raised:* Your incident has been successfully raised and marked as *out* priority. :warning: \\n\\nThe *Site Reliability Engineering (SRE)* team will address it as soon as possible to ensure a swift resolution. :rocket:\\n\\nThank you for your patience!', 'team': 'T08GLQ3HC07', 'bot_profile': {'id': 'B08H42J4LGK', 'deleted': False, 'name': 'ResolveBotAI', 'updated': 1741727901, 'app_id': 'A08H0C26BEZ', 'icons': {'image_36': 'https://avatars.slack-edge.com/2025-03-11/8589372074499_9c606919fdf38cbda995_36.png', 'image_48': 'https://avatars.slack-edge.com/2025-03-11/8589372074499_9c606919fdf38cbda995_48.png', 'image_72': 'https://avatars.slack-edge.com/2025-03-11/8589372074499_9c606919fdf38cbda995_72.png'}, 'team_id': 'T08GLQ3HC07'}, 'thread_ts': '1741728291.595949', 'parent_user_id': 'U08GLQ3JKGX', 'blocks': [{'type': 'rich_text', 'block_id': '7reYV', 'elements': [{'type': 'rich_text_section', 'elements': [{'type': 'text', 'text': 'Incident Raised:', 'style': {'bold': True}}, {'type': 'text', 'text': ' Your incident has been successfully raised and marked as '}, {'type': 'text', 'text': 'out', 'style': {'bold': True}}, {'type': 'text', 'text': ' priority. '}, {'type': 'emoji', 'name': 'warning', 'unicode': '26a0-fe0f'}, {'type': 'text', 'text': ' \\n\\nThe '}, {'type': 'text', 'text': 'Site Reliability Engineering (SRE)', 'style': {'bold': True}}, {'type': 'text', 'text': ' team will address it as soon as possible to ensure a swift resolution. '}, {'type': 'emoji', 'name': 'rocket', 'unicode': '1f680'}, {'type': 'text', 'text': '\\n\\nThank you for your patience!'}]}]}], 'channel': 'C08HL984BEV', 'event_ts': '1741728292.868589', 'channel_type': 'channel'}, 'type': 'event_callback', 'event_id': 'Ev08HLGX7589', 'event_time': 1741728292, 'authorizations': [{'enterprise_id': None, 'team_id': 'T08GLQ3HC07', 'user_id': 'U08H42J6JQ3', 'is_bot': True, 'is_enterprise_install': False}], 'is_ext_shared_channel': False, 'event_context': '4-eyJldCI6Im1lc3NhZ2UiLCJ0aWQiOiJUMDhHTFEzSEMwNyIsImFpZCI6IkEwOEgwQzI2QkVaIiwiY2lkIjoiQzA4SEw5ODRCRVYifQ'}\n",
      "Received Slack event: {'token': 'vcOktFRX27KKXwM6mDwo1R9u', 'team_id': 'T08GLQ3HC07', 'context_team_id': 'T08GLQ3HC07', 'context_enterprise_id': None, 'api_app_id': 'A08H0C26BEZ', 'event': {'user': 'U08GLQ3JKGX', 'type': 'message', 'ts': '1741728310.667769', 'client_msg_id': '1f2cba69-ca7f-41ed-a36e-44448ddba7e9', 'text': 'I am getting customer opted out from offers', 'team': 'T08GLQ3HC07', 'blocks': [{'type': 'rich_text', 'block_id': '737Xb', 'elements': [{'type': 'rich_text_section', 'elements': [{'type': 'text', 'text': 'I am getting customer opted out from offers'}]}]}], 'channel': 'C08HL984BEV', 'event_ts': '1741728310.667769', 'channel_type': 'channel'}, 'type': 'event_callback', 'event_id': 'Ev08HXUPJVA4', 'event_time': 1741728310, 'authorizations': [{'enterprise_id': None, 'team_id': 'T08GLQ3HC07', 'user_id': 'U08H42J6JQ3', 'is_bot': True, 'is_enterprise_install': False}], 'is_ext_shared_channel': False, 'event_context': '4-eyJldCI6Im1lc3NhZ2UiLCJ0aWQiOiJUMDhHTFEzSEMwNyIsImFpZCI6IkEwOEgwQzI2QkVaIiwiY2lkIjoiQzA4SEw5ODRCRVYifQ'}\n",
      "Entities: [('I', 'RAISE_INCIDENT')]\n"
     ]
    },
    {
     "name": "stderr",
     "output_type": "stream",
     "text": [
      "127.0.0.1 - - [11/Mar/2025 17:25:11] \"POST /slack/events HTTP/1.1\" 200 -\n",
      "127.0.0.1 - - [11/Mar/2025 17:25:13] \"POST /slack/events HTTP/1.1\" 200 -\n"
     ]
    },
    {
     "name": "stdout",
     "output_type": "stream",
     "text": [
      "Received Slack event: {'token': 'vcOktFRX27KKXwM6mDwo1R9u', 'team_id': 'T08GLQ3HC07', 'context_team_id': 'T08GLQ3HC07', 'context_enterprise_id': None, 'api_app_id': 'A08H0C26BEZ', 'event': {'user': 'U08H42J6JQ3', 'type': 'message', 'ts': '1741728311.532259', 'bot_id': 'B08H42J4LGK', 'app_id': 'A08H0C26BEZ', 'text': '*Offer Not Displayed:* The offer is not displayed because the customer has opted out of solicitation, making them ineligible for any offers. :x: However, if you are not satisfied with this response, I can escalate the issue by raising an incident so a support representative can review it further. Would you like me to raise it? :raised_hands:', 'team': 'T08GLQ3HC07', 'bot_profile': {'id': 'B08H42J4LGK', 'deleted': False, 'name': 'ResolveBotAI', 'updated': 1741727901, 'app_id': 'A08H0C26BEZ', 'icons': {'image_36': 'https://avatars.slack-edge.com/2025-03-11/8589372074499_9c606919fdf38cbda995_36.png', 'image_48': 'https://avatars.slack-edge.com/2025-03-11/8589372074499_9c606919fdf38cbda995_48.png', 'image_72': 'https://avatars.slack-edge.com/2025-03-11/8589372074499_9c606919fdf38cbda995_72.png'}, 'team_id': 'T08GLQ3HC07'}, 'thread_ts': '1741728310.667769', 'parent_user_id': 'U08GLQ3JKGX', 'blocks': [{'type': 'rich_text', 'block_id': '/2whT', 'elements': [{'type': 'rich_text_section', 'elements': [{'type': 'text', 'text': 'Offer Not Displayed:', 'style': {'bold': True}}, {'type': 'text', 'text': ' The offer is not displayed because the customer has opted out of solicitation, making them ineligible for any offers. '}, {'type': 'emoji', 'name': 'x', 'unicode': '274c'}, {'type': 'text', 'text': ' However, if you are not satisfied with this response, I can escalate the issue by raising an incident so a support representative can review it further. Would you like me to raise it? '}, {'type': 'emoji', 'name': 'raised_hands', 'unicode': '1f64c'}]}]}], 'channel': 'C08HL984BEV', 'event_ts': '1741728311.532259', 'channel_type': 'channel'}, 'type': 'event_callback', 'event_id': 'Ev08GUHMVDBR', 'event_time': 1741728311, 'authorizations': [{'enterprise_id': None, 'team_id': 'T08GLQ3HC07', 'user_id': 'U08H42J6JQ3', 'is_bot': True, 'is_enterprise_install': False}], 'is_ext_shared_channel': False, 'event_context': '4-eyJldCI6Im1lc3NhZ2UiLCJ0aWQiOiJUMDhHTFEzSEMwNyIsImFpZCI6IkEwOEgwQzI2QkVaIiwiY2lkIjoiQzA4SEw5ODRCRVYifQ'}\n"
     ]
    },
    {
     "name": "stderr",
     "output_type": "stream",
     "text": [
      "127.0.0.1 - - [11/Mar/2025 17:25:20] \"POST /slack/events HTTP/1.1\" 200 -\n"
     ]
    },
    {
     "name": "stdout",
     "output_type": "stream",
     "text": [
      "Received Slack event: {'token': 'vcOktFRX27KKXwM6mDwo1R9u', 'team_id': 'T08GLQ3HC07', 'context_team_id': 'T08GLQ3HC07', 'context_enterprise_id': None, 'api_app_id': 'A08H0C26BEZ', 'event': {'type': 'message', 'subtype': 'message_changed', 'message': {'subtype': 'tombstone', 'text': 'This message was deleted.', 'user': 'USLACKBOT', 'hidden': True, 'type': 'message', 'thread_ts': '1741728310.667769', 'reply_count': 1, 'reply_users_count': 1, 'latest_reply': '1741728311.532259', 'reply_users': ['U08H42J6JQ3'], 'is_locked': False, 'ts': '1741728310.667769'}, 'previous_message': {'user': 'U08GLQ3JKGX', 'type': 'message', 'ts': '1741728310.667769', 'client_msg_id': '1f2cba69-ca7f-41ed-a36e-44448ddba7e9', 'text': 'I am getting customer opted out from offers', 'team': 'T08GLQ3HC07', 'thread_ts': '1741728310.667769', 'reply_count': 1, 'reply_users_count': 1, 'latest_reply': '1741728311.532259', 'reply_users': ['U08H42J6JQ3'], 'is_locked': False, 'subscribed': True, 'last_read': '1741728311.532259', 'blocks': [{'type': 'rich_text', 'block_id': '737Xb', 'elements': [{'type': 'rich_text_section', 'elements': [{'type': 'text', 'text': 'I am getting customer opted out from offers'}]}]}]}, 'channel': 'C08HL984BEV', 'hidden': True, 'ts': '1741728318.007100', 'event_ts': '1741728318.007100', 'channel_type': 'channel'}, 'type': 'event_callback', 'event_id': 'Ev08HA95DA7L', 'event_time': 1741728318, 'authorizations': [{'enterprise_id': None, 'team_id': 'T08GLQ3HC07', 'user_id': 'U08H42J6JQ3', 'is_bot': True, 'is_enterprise_install': False}], 'is_ext_shared_channel': False, 'event_context': '4-eyJldCI6Im1lc3NhZ2UiLCJ0aWQiOiJUMDhHTFEzSEMwNyIsImFpZCI6IkEwOEgwQzI2QkVaIiwiY2lkIjoiQzA4SEw5ODRCRVYifQ'}\n"
     ]
    },
    {
     "name": "stderr",
     "output_type": "stream",
     "text": [
      "127.0.0.1 - - [11/Mar/2025 17:25:24] \"POST /slack/events HTTP/1.1\" 200 -\n"
     ]
    },
    {
     "name": "stdout",
     "output_type": "stream",
     "text": [
      "Received Slack event: {'token': 'vcOktFRX27KKXwM6mDwo1R9u', 'team_id': 'T08GLQ3HC07', 'context_team_id': 'T08GLQ3HC07', 'context_enterprise_id': None, 'api_app_id': 'A08H0C26BEZ', 'event': {'type': 'message', 'subtype': 'message_deleted', 'previous_message': {'user': 'U08H42J6JQ3', 'type': 'message', 'ts': '1741728311.532259', 'bot_id': 'B08H42J4LGK', 'app_id': 'A08H0C26BEZ', 'text': '*Offer Not Displayed:* The offer is not displayed because the customer has opted out of solicitation, making them ineligible for any offers. :x: However, if you are not satisfied with this response, I can escalate the issue by raising an incident so a support representative can review it further. Would you like me to raise it? :raised_hands:', 'team': 'T08GLQ3HC07', 'bot_profile': {'id': 'B08H42J4LGK', 'deleted': False, 'name': 'ResolveBotAI', 'updated': 1741727901, 'app_id': 'A08H0C26BEZ', 'icons': {'image_36': 'https://avatars.slack-edge.com/2025-03-11/8589372074499_9c606919fdf38cbda995_36.png', 'image_48': 'https://avatars.slack-edge.com/2025-03-11/8589372074499_9c606919fdf38cbda995_48.png', 'image_72': 'https://avatars.slack-edge.com/2025-03-11/8589372074499_9c606919fdf38cbda995_72.png'}, 'team_id': 'T08GLQ3HC07'}, 'thread_ts': '1741728310.667769', 'parent_user_id': 'USLACKBOT', 'blocks': [{'type': 'rich_text', 'block_id': 'k9j', 'elements': [{'type': 'rich_text_section', 'elements': [{'type': 'text', 'text': 'Offer Not Displayed:', 'style': {'bold': True}}, {'type': 'text', 'text': ' The offer is not displayed because the customer has opted out of solicitation, making them ineligible for any offers. '}, {'type': 'emoji', 'name': 'x', 'unicode': '274c'}, {'type': 'text', 'text': ' However, if you are not satisfied with this response, I can escalate the issue by raising an incident so a support representative can review it further. Would you like me to raise it? '}, {'type': 'emoji', 'name': 'raised_hands', 'unicode': '1f64c'}]}]}]}, 'channel': 'C08HL984BEV', 'hidden': True, 'deleted_ts': '1741728311.532259', 'event_ts': '1741728323.007200', 'ts': '1741728323.007200', 'channel_type': 'channel'}, 'type': 'event_callback', 'event_id': 'Ev08HXUQ6508', 'event_time': 1741728323, 'authorizations': [{'enterprise_id': None, 'team_id': 'T08GLQ3HC07', 'user_id': 'U08H42J6JQ3', 'is_bot': True, 'is_enterprise_install': False}], 'is_ext_shared_channel': False, 'event_context': '4-eyJldCI6Im1lc3NhZ2UiLCJ0aWQiOiJUMDhHTFEzSEMwNyIsImFpZCI6IkEwOEgwQzI2QkVaIiwiY2lkIjoiQzA4SEw5ODRCRVYifQ'}\n"
     ]
    },
    {
     "name": "stderr",
     "output_type": "stream",
     "text": [
      "127.0.0.1 - - [11/Mar/2025 17:25:25] \"POST /slack/events HTTP/1.1\" 200 -\n"
     ]
    },
    {
     "name": "stdout",
     "output_type": "stream",
     "text": [
      "Received Slack event: {'token': 'vcOktFRX27KKXwM6mDwo1R9u', 'team_id': 'T08GLQ3HC07', 'context_team_id': 'T08GLQ3HC07', 'context_enterprise_id': None, 'api_app_id': 'A08H0C26BEZ', 'event': {'type': 'message', 'subtype': 'message_deleted', 'previous_message': {'subtype': 'tombstone', 'text': 'This message was deleted.', 'user': 'USLACKBOT', 'hidden': True, 'type': 'message', 'ts': '1741728310.667769', 'thread_ts': '1741728310.667769', 'parent_user_id': 'USLACKBOT', 'reply_count': 0, 'reply_users_count': 0, 'latest_reply': '0000000000.000000', 'reply_users': [], 'is_locked': False, 'subscribed': True, 'last_read': '1741728311.532259'}, 'channel': 'C08HL984BEV', 'hidden': True, 'deleted_ts': '1741728310.667769', 'event_ts': '1741728323.007300', 'ts': '1741728323.007300', 'channel_type': 'channel'}, 'type': 'event_callback', 'event_id': 'Ev08HXUQJSG0', 'event_time': 1741728323, 'authorizations': [{'enterprise_id': None, 'team_id': 'T08GLQ3HC07', 'user_id': 'U08H42J6JQ3', 'is_bot': True, 'is_enterprise_install': False}], 'is_ext_shared_channel': False, 'event_context': '4-eyJldCI6Im1lc3NhZ2UiLCJ0aWQiOiJUMDhHTFEzSEMwNyIsImFpZCI6IkEwOEgwQzI2QkVaIiwiY2lkIjoiQzA4SEw5ODRCRVYifQ'}\n"
     ]
    },
    {
     "name": "stderr",
     "output_type": "stream",
     "text": [
      "127.0.0.1 - - [11/Mar/2025 17:25:28] \"POST /slack/events HTTP/1.1\" 200 -\n"
     ]
    },
    {
     "name": "stdout",
     "output_type": "stream",
     "text": [
      "Received Slack event: {'token': 'vcOktFRX27KKXwM6mDwo1R9u', 'team_id': 'T08GLQ3HC07', 'context_team_id': 'T08GLQ3HC07', 'context_enterprise_id': None, 'api_app_id': 'A08H0C26BEZ', 'event': {'type': 'message', 'subtype': 'message_changed', 'message': {'subtype': 'tombstone', 'text': 'This message was deleted.', 'user': 'USLACKBOT', 'hidden': True, 'type': 'message', 'thread_ts': '1741728291.595949', 'reply_count': 1, 'reply_users_count': 1, 'latest_reply': '1741728292.868589', 'reply_users': ['U08H42J6JQ3'], 'is_locked': False, 'ts': '1741728291.595949'}, 'previous_message': {'user': 'U08GLQ3JKGX', 'type': 'message', 'ts': '1741728291.595949', 'client_msg_id': '19245c55-46b7-4a63-b471-d7435e81313d', 'text': 'I am getting customer opted out offers', 'team': 'T08GLQ3HC07', 'thread_ts': '1741728291.595949', 'reply_count': 1, 'reply_users_count': 1, 'latest_reply': '1741728292.868589', 'reply_users': ['U08H42J6JQ3'], 'is_locked': False, 'subscribed': True, 'last_read': '1741728292.868589', 'blocks': [{'type': 'rich_text', 'block_id': 'afAEk', 'elements': [{'type': 'rich_text_section', 'elements': [{'type': 'text', 'text': 'I am getting customer opted out offers'}]}]}]}, 'channel': 'C08HL984BEV', 'hidden': True, 'ts': '1741728327.007400', 'event_ts': '1741728327.007400', 'channel_type': 'channel'}, 'type': 'event_callback', 'event_id': 'Ev08HXUQQF24', 'event_time': 1741728327, 'authorizations': [{'enterprise_id': None, 'team_id': 'T08GLQ3HC07', 'user_id': 'U08H42J6JQ3', 'is_bot': True, 'is_enterprise_install': False}], 'is_ext_shared_channel': False, 'event_context': '4-eyJldCI6Im1lc3NhZ2UiLCJ0aWQiOiJUMDhHTFEzSEMwNyIsImFpZCI6IkEwOEgwQzI2QkVaIiwiY2lkIjoiQzA4SEw5ODRCRVYifQ'}\n"
     ]
    },
    {
     "name": "stderr",
     "output_type": "stream",
     "text": [
      "127.0.0.1 - - [11/Mar/2025 17:25:33] \"POST /slack/events HTTP/1.1\" 200 -\n",
      "127.0.0.1 - - [11/Mar/2025 17:25:33] \"POST /slack/events HTTP/1.1\" 200 -\n"
     ]
    },
    {
     "name": "stdout",
     "output_type": "stream",
     "text": [
      "Received Slack event: {'token': 'vcOktFRX27KKXwM6mDwo1R9u', 'team_id': 'T08GLQ3HC07', 'context_team_id': 'T08GLQ3HC07', 'context_enterprise_id': None, 'api_app_id': 'A08H0C26BEZ', 'event': {'type': 'message', 'subtype': 'message_deleted', 'previous_message': {'user': 'U08H42J6JQ3', 'type': 'message', 'ts': '1741728292.868589', 'bot_id': 'B08H42J4LGK', 'app_id': 'A08H0C26BEZ', 'text': '*Incident Raised:* Your incident has been successfully raised and marked as *out* priority. :warning: \\n\\nThe *Site Reliability Engineering (SRE)* team will address it as soon as possible to ensure a swift resolution. :rocket:\\n\\nThank you for your patience!', 'team': 'T08GLQ3HC07', 'bot_profile': {'id': 'B08H42J4LGK', 'deleted': False, 'name': 'ResolveBotAI', 'updated': 1741727901, 'app_id': 'A08H0C26BEZ', 'icons': {'image_36': 'https://avatars.slack-edge.com/2025-03-11/8589372074499_9c606919fdf38cbda995_36.png', 'image_48': 'https://avatars.slack-edge.com/2025-03-11/8589372074499_9c606919fdf38cbda995_48.png', 'image_72': 'https://avatars.slack-edge.com/2025-03-11/8589372074499_9c606919fdf38cbda995_72.png'}, 'team_id': 'T08GLQ3HC07'}, 'thread_ts': '1741728291.595949', 'parent_user_id': 'USLACKBOT', 'blocks': [{'type': 'rich_text', 'block_id': 'NIP', 'elements': [{'type': 'rich_text_section', 'elements': [{'type': 'text', 'text': 'Incident Raised:', 'style': {'bold': True}}, {'type': 'text', 'text': ' Your incident has been successfully raised and marked as '}, {'type': 'text', 'text': 'out', 'style': {'bold': True}}, {'type': 'text', 'text': ' priority. '}, {'type': 'emoji', 'name': 'warning', 'unicode': '26a0-fe0f'}, {'type': 'text', 'text': ' \\n\\nThe '}, {'type': 'text', 'text': 'Site Reliability Engineering (SRE)', 'style': {'bold': True}}, {'type': 'text', 'text': ' team will address it as soon as possible to ensure a swift resolution. '}, {'type': 'emoji', 'name': 'rocket', 'unicode': '1f680'}, {'type': 'text', 'text': '\\n\\nThank you for your patience!'}]}]}]}, 'channel': 'C08HL984BEV', 'hidden': True, 'deleted_ts': '1741728292.868589', 'event_ts': '1741728332.007500', 'ts': '1741728332.007500', 'channel_type': 'channel'}, 'type': 'event_callback', 'event_id': 'Ev08HXUQUNKA', 'event_time': 1741728332, 'authorizations': [{'enterprise_id': None, 'team_id': 'T08GLQ3HC07', 'user_id': 'U08H42J6JQ3', 'is_bot': True, 'is_enterprise_install': False}], 'is_ext_shared_channel': False, 'event_context': '4-eyJldCI6Im1lc3NhZ2UiLCJ0aWQiOiJUMDhHTFEzSEMwNyIsImFpZCI6IkEwOEgwQzI2QkVaIiwiY2lkIjoiQzA4SEw5ODRCRVYifQ'}\n",
      "Received Slack event: {'token': 'vcOktFRX27KKXwM6mDwo1R9u', 'team_id': 'T08GLQ3HC07', 'context_team_id': 'T08GLQ3HC07', 'context_enterprise_id': None, 'api_app_id': 'A08H0C26BEZ', 'event': {'type': 'message', 'subtype': 'message_deleted', 'previous_message': {'subtype': 'tombstone', 'text': 'This message was deleted.', 'user': 'USLACKBOT', 'hidden': True, 'type': 'message', 'ts': '1741728291.595949', 'thread_ts': '1741728291.595949', 'parent_user_id': 'USLACKBOT', 'reply_count': 0, 'reply_users_count': 0, 'latest_reply': '0000000000.000000', 'reply_users': [], 'is_locked': False, 'subscribed': True, 'last_read': '1741728292.868589'}, 'channel': 'C08HL984BEV', 'hidden': True, 'deleted_ts': '1741728291.595949', 'event_ts': '1741728332.007600', 'ts': '1741728332.007600', 'channel_type': 'channel'}, 'type': 'event_callback', 'event_id': 'Ev08HA9708JW', 'event_time': 1741728332, 'authorizations': [{'enterprise_id': None, 'team_id': 'T08GLQ3HC07', 'user_id': 'U08H42J6JQ3', 'is_bot': True, 'is_enterprise_install': False}], 'is_ext_shared_channel': False, 'event_context': '4-eyJldCI6Im1lc3NhZ2UiLCJ0aWQiOiJUMDhHTFEzSEMwNyIsImFpZCI6IkEwOEgwQzI2QkVaIiwiY2lkIjoiQzA4SEw5ODRCRVYifQ'}\n",
      "Received Slack event: {'token': 'vcOktFRX27KKXwM6mDwo1R9u', 'team_id': 'T08GLQ3HC07', 'context_team_id': 'T08GLQ3HC07', 'context_enterprise_id': None, 'api_app_id': 'A08H0C26BEZ', 'event': {'user': 'U08GLQ3JKGX', 'type': 'message', 'ts': '1741728357.214629', 'client_msg_id': '47f276ab-7daf-4c8c-9f1a-ad12089f1241', 'text': 'I am getting customer opted out from offers', 'team': 'T08GLQ3HC07', 'blocks': [{'type': 'rich_text', 'block_id': '737Xb', 'elements': [{'type': 'rich_text_section', 'elements': [{'type': 'text', 'text': 'I am getting customer opted out from offers'}]}]}], 'channel': 'C08HL984BEV', 'event_ts': '1741728357.214629', 'channel_type': 'channel'}, 'type': 'event_callback', 'event_id': 'Ev08H2T4QSCW', 'event_time': 1741728357, 'authorizations': [{'enterprise_id': None, 'team_id': 'T08GLQ3HC07', 'user_id': 'U08H42J6JQ3', 'is_bot': True, 'is_enterprise_install': False}], 'is_ext_shared_channel': False, 'event_context': '4-eyJldCI6Im1lc3NhZ2UiLCJ0aWQiOiJUMDhHTFEzSEMwNyIsImFpZCI6IkEwOEgwQzI2QkVaIiwiY2lkIjoiQzA4SEw5ODRCRVYifQ'}\n",
      "Entities: [('I', 'RAISE_INCIDENT')]\n"
     ]
    },
    {
     "name": "stderr",
     "output_type": "stream",
     "text": [
      "127.0.0.1 - - [11/Mar/2025 17:25:59] \"POST /slack/events HTTP/1.1\" 200 -\n",
      "127.0.0.1 - - [11/Mar/2025 17:26:00] \"POST /slack/events HTTP/1.1\" 200 -\n"
     ]
    },
    {
     "name": "stdout",
     "output_type": "stream",
     "text": [
      "Received Slack event: {'token': 'vcOktFRX27KKXwM6mDwo1R9u', 'team_id': 'T08GLQ3HC07', 'context_team_id': 'T08GLQ3HC07', 'context_enterprise_id': None, 'api_app_id': 'A08H0C26BEZ', 'event': {'user': 'U08H42J6JQ3', 'type': 'message', 'ts': '1741728358.696829', 'bot_id': 'B08H42J4LGK', 'app_id': 'A08H0C26BEZ', 'text': '*Offer Not Displayed:* The offer is not displayed because the customer has opted out of solicitation, making them ineligible for any offers. :x: However, if you are not satisfied with this response, I can escalate the issue by raising an incident so a support representative can review it further. Would you like me to raise it? :raised_hands:', 'team': 'T08GLQ3HC07', 'bot_profile': {'id': 'B08H42J4LGK', 'deleted': False, 'name': 'ResolveBotAI', 'updated': 1741727901, 'app_id': 'A08H0C26BEZ', 'icons': {'image_36': 'https://avatars.slack-edge.com/2025-03-11/8589372074499_9c606919fdf38cbda995_36.png', 'image_48': 'https://avatars.slack-edge.com/2025-03-11/8589372074499_9c606919fdf38cbda995_48.png', 'image_72': 'https://avatars.slack-edge.com/2025-03-11/8589372074499_9c606919fdf38cbda995_72.png'}, 'team_id': 'T08GLQ3HC07'}, 'thread_ts': '1741728357.214629', 'parent_user_id': 'U08GLQ3JKGX', 'blocks': [{'type': 'rich_text', 'block_id': 'mh5cd', 'elements': [{'type': 'rich_text_section', 'elements': [{'type': 'text', 'text': 'Offer Not Displayed:', 'style': {'bold': True}}, {'type': 'text', 'text': ' The offer is not displayed because the customer has opted out of solicitation, making them ineligible for any offers. '}, {'type': 'emoji', 'name': 'x', 'unicode': '274c'}, {'type': 'text', 'text': ' However, if you are not satisfied with this response, I can escalate the issue by raising an incident so a support representative can review it further. Would you like me to raise it? '}, {'type': 'emoji', 'name': 'raised_hands', 'unicode': '1f64c'}]}]}], 'channel': 'C08HL984BEV', 'event_ts': '1741728358.696829', 'channel_type': 'channel'}, 'type': 'event_callback', 'event_id': 'Ev08HLH2FRDF', 'event_time': 1741728358, 'authorizations': [{'enterprise_id': None, 'team_id': 'T08GLQ3HC07', 'user_id': 'U08H42J6JQ3', 'is_bot': True, 'is_enterprise_install': False}], 'is_ext_shared_channel': False, 'event_context': '4-eyJldCI6Im1lc3NhZ2UiLCJ0aWQiOiJUMDhHTFEzSEMwNyIsImFpZCI6IkEwOEgwQzI2QkVaIiwiY2lkIjoiQzA4SEw5ODRCRVYifQ'}\n"
     ]
    },
    {
     "name": "stderr",
     "output_type": "stream",
     "text": [
      "127.0.0.1 - - [11/Mar/2025 17:26:40] \"POST /slack/events HTTP/1.1\" 200 -\n"
     ]
    },
    {
     "name": "stdout",
     "output_type": "stream",
     "text": [
      "Received Slack event: {'token': 'vcOktFRX27KKXwM6mDwo1R9u', 'team_id': 'T08GLQ3HC07', 'context_team_id': 'T08GLQ3HC07', 'context_enterprise_id': None, 'api_app_id': 'A08H0C26BEZ', 'event': {'type': 'message', 'subtype': 'message_deleted', 'previous_message': {'user': 'U08H42J6JQ3', 'type': 'message', 'ts': '1741728358.696829', 'bot_id': 'B08H42J4LGK', 'app_id': 'A08H0C26BEZ', 'text': '*Offer Not Displayed:* The offer is not displayed because the customer has opted out of solicitation, making them ineligible for any offers. :x: However, if you are not satisfied with this response, I can escalate the issue by raising an incident so a support representative can review it further. Would you like me to raise it? :raised_hands:', 'team': 'T08GLQ3HC07', 'bot_profile': {'id': 'B08H42J4LGK', 'deleted': False, 'name': 'ResolveBotAI', 'updated': 1741727901, 'app_id': 'A08H0C26BEZ', 'icons': {'image_36': 'https://avatars.slack-edge.com/2025-03-11/8589372074499_9c606919fdf38cbda995_36.png', 'image_48': 'https://avatars.slack-edge.com/2025-03-11/8589372074499_9c606919fdf38cbda995_48.png', 'image_72': 'https://avatars.slack-edge.com/2025-03-11/8589372074499_9c606919fdf38cbda995_72.png'}, 'team_id': 'T08GLQ3HC07'}, 'thread_ts': '1741728357.214629', 'parent_user_id': 'U08GLQ3JKGX', 'blocks': [{'type': 'rich_text', 'block_id': '85sm', 'elements': [{'type': 'rich_text_section', 'elements': [{'type': 'text', 'text': 'Offer Not Displayed:', 'style': {'bold': True}}, {'type': 'text', 'text': ' The offer is not displayed because the customer has opted out of solicitation, making them ineligible for any offers. '}, {'type': 'emoji', 'name': 'x', 'unicode': '274c'}, {'type': 'text', 'text': ' However, if you are not satisfied with this response, I can escalate the issue by raising an incident so a support representative can review it further. Would you like me to raise it? '}, {'type': 'emoji', 'name': 'raised_hands', 'unicode': '1f64c'}]}]}]}, 'channel': 'C08HL984BEV', 'hidden': True, 'deleted_ts': '1741728358.696829', 'event_ts': '1741728399.007800', 'ts': '1741728399.007800', 'channel_type': 'channel'}, 'type': 'event_callback', 'event_id': 'Ev08H7VB749K', 'event_time': 1741728399, 'authorizations': [{'enterprise_id': None, 'team_id': 'T08GLQ3HC07', 'user_id': 'U08H42J6JQ3', 'is_bot': True, 'is_enterprise_install': False}], 'is_ext_shared_channel': False, 'event_context': '4-eyJldCI6Im1lc3NhZ2UiLCJ0aWQiOiJUMDhHTFEzSEMwNyIsImFpZCI6IkEwOEgwQzI2QkVaIiwiY2lkIjoiQzA4SEw5ODRCRVYifQ'}\n"
     ]
    },
    {
     "name": "stderr",
     "output_type": "stream",
     "text": [
      "127.0.0.1 - - [11/Mar/2025 17:26:40] \"POST /slack/events HTTP/1.1\" 200 -\n"
     ]
    },
    {
     "name": "stdout",
     "output_type": "stream",
     "text": [
      "Received Slack event: {'token': 'vcOktFRX27KKXwM6mDwo1R9u', 'team_id': 'T08GLQ3HC07', 'context_team_id': 'T08GLQ3HC07', 'context_enterprise_id': None, 'api_app_id': 'A08H0C26BEZ', 'event': {'type': 'message', 'subtype': 'message_changed', 'message': {'user': 'U08GLQ3JKGX', 'type': 'message', 'client_msg_id': '47f276ab-7daf-4c8c-9f1a-ad12089f1241', 'text': 'I am getting customer opted out from offers', 'team': 'T08GLQ3HC07', 'blocks': [{'type': 'rich_text', 'block_id': '737Xb', 'elements': [{'type': 'rich_text_section', 'elements': [{'type': 'text', 'text': 'I am getting customer opted out from offers'}]}]}], 'ts': '1741728357.214629'}, 'previous_message': {'user': 'U08GLQ3JKGX', 'type': 'message', 'ts': '1741728357.214629', 'client_msg_id': '47f276ab-7daf-4c8c-9f1a-ad12089f1241', 'text': 'I am getting customer opted out from offers', 'team': 'T08GLQ3HC07', 'thread_ts': '1741728357.214629', 'reply_count': 0, 'reply_users_count': 0, 'latest_reply': '0000000000.000000', 'reply_users': [], 'is_locked': False, 'subscribed': True, 'last_read': '1741728358.696829', 'blocks': [{'type': 'rich_text', 'block_id': '737Xb', 'elements': [{'type': 'rich_text_section', 'elements': [{'type': 'text', 'text': 'I am getting customer opted out from offers'}]}]}]}, 'channel': 'C08HL984BEV', 'hidden': True, 'ts': '1741728399.007900', 'event_ts': '1741728399.007900', 'channel_type': 'channel'}, 'type': 'event_callback', 'event_id': 'Ev08GUHU3RM5', 'event_time': 1741728399, 'authorizations': [{'enterprise_id': None, 'team_id': 'T08GLQ3HC07', 'user_id': 'U08H42J6JQ3', 'is_bot': True, 'is_enterprise_install': False}], 'is_ext_shared_channel': False, 'event_context': '4-eyJldCI6Im1lc3NhZ2UiLCJ0aWQiOiJUMDhHTFEzSEMwNyIsImFpZCI6IkEwOEgwQzI2QkVaIiwiY2lkIjoiQzA4SEw5ODRCRVYifQ'}\n"
     ]
    },
    {
     "name": "stderr",
     "output_type": "stream",
     "text": [
      "127.0.0.1 - - [11/Mar/2025 17:26:48] \"POST /slack/events HTTP/1.1\" 200 -\n"
     ]
    },
    {
     "name": "stdout",
     "output_type": "stream",
     "text": [
      "Received Slack event: {'token': 'vcOktFRX27KKXwM6mDwo1R9u', 'team_id': 'T08GLQ3HC07', 'context_team_id': 'T08GLQ3HC07', 'context_enterprise_id': None, 'api_app_id': 'A08H0C26BEZ', 'event': {'type': 'message', 'subtype': 'message_deleted', 'previous_message': {'user': 'U08GLQ3JKGX', 'type': 'message', 'ts': '1741728357.214629', 'client_msg_id': '47f276ab-7daf-4c8c-9f1a-ad12089f1241', 'text': 'I am getting customer opted out from offers', 'team': 'T08GLQ3HC07', 'blocks': [{'type': 'rich_text', 'block_id': '737Xb', 'elements': [{'type': 'rich_text_section', 'elements': [{'type': 'text', 'text': 'I am getting customer opted out from offers'}]}]}]}, 'channel': 'C08HL984BEV', 'hidden': True, 'deleted_ts': '1741728357.214629', 'event_ts': '1741728407.008000', 'ts': '1741728407.008000', 'channel_type': 'channel'}, 'type': 'event_callback', 'event_id': 'Ev08HD7Y2BS8', 'event_time': 1741728407, 'authorizations': [{'enterprise_id': None, 'team_id': 'T08GLQ3HC07', 'user_id': 'U08H42J6JQ3', 'is_bot': True, 'is_enterprise_install': False}], 'is_ext_shared_channel': False, 'event_context': '4-eyJldCI6Im1lc3NhZ2UiLCJ0aWQiOiJUMDhHTFEzSEMwNyIsImFpZCI6IkEwOEgwQzI2QkVaIiwiY2lkIjoiQzA4SEw5ODRCRVYifQ'}\n",
      "Received Slack event: {'token': 'vcOktFRX27KKXwM6mDwo1R9u', 'team_id': 'T08GLQ3HC07', 'context_team_id': 'T08GLQ3HC07', 'context_enterprise_id': None, 'api_app_id': 'A08H0C26BEZ', 'event': {'user': 'U08GLQ3JKGX', 'type': 'message', 'ts': '1741728538.047439', 'client_msg_id': 'cb5b4ad8-c268-4008-9f60-a876ebdb6576', 'text': 'I am getting customer opted out from offers', 'team': 'T08GLQ3HC07', 'blocks': [{'type': 'rich_text', 'block_id': '737Xb', 'elements': [{'type': 'rich_text_section', 'elements': [{'type': 'text', 'text': 'I am getting customer opted out from offers'}]}]}], 'channel': 'C08HL984BEV', 'event_ts': '1741728538.047439', 'channel_type': 'channel'}, 'type': 'event_callback', 'event_id': 'Ev08HBC8H64B', 'event_time': 1741728538, 'authorizations': [{'enterprise_id': None, 'team_id': 'T08GLQ3HC07', 'user_id': 'U08H42J6JQ3', 'is_bot': True, 'is_enterprise_install': False}], 'is_ext_shared_channel': False, 'event_context': '4-eyJldCI6Im1lc3NhZ2UiLCJ0aWQiOiJUMDhHTFEzSEMwNyIsImFpZCI6IkEwOEgwQzI2QkVaIiwiY2lkIjoiQzA4SEw5ODRCRVYifQ'}\n",
      "Entities: [('I', 'RAISE_INCIDENT')]\n"
     ]
    },
    {
     "name": "stderr",
     "output_type": "stream",
     "text": [
      "127.0.0.1 - - [11/Mar/2025 17:28:59] \"POST /slack/events HTTP/1.1\" 200 -\n",
      "127.0.0.1 - - [11/Mar/2025 17:29:00] \"POST /slack/events HTTP/1.1\" 200 -\n"
     ]
    },
    {
     "name": "stdout",
     "output_type": "stream",
     "text": [
      "Received Slack event: {'token': 'vcOktFRX27KKXwM6mDwo1R9u', 'team_id': 'T08GLQ3HC07', 'context_team_id': 'T08GLQ3HC07', 'context_enterprise_id': None, 'api_app_id': 'A08H0C26BEZ', 'event': {'user': 'U08H42J6JQ3', 'type': 'message', 'ts': '1741728539.138769', 'bot_id': 'B08H42J4LGK', 'app_id': 'A08H0C26BEZ', 'text': '*Offer Not Displayed:* The offer is not displayed because the customer has opted out of solicitation, making them ineligible for any offers. :x: However, if you are not satisfied with this response, I can escalate the issue by raising an incident so a support representative can review it further. Would you like me to raise it? :raised_hands:', 'team': 'T08GLQ3HC07', 'bot_profile': {'id': 'B08H42J4LGK', 'deleted': False, 'name': 'ResolveBotAI', 'updated': 1741727901, 'app_id': 'A08H0C26BEZ', 'icons': {'image_36': 'https://avatars.slack-edge.com/2025-03-11/8589372074499_9c606919fdf38cbda995_36.png', 'image_48': 'https://avatars.slack-edge.com/2025-03-11/8589372074499_9c606919fdf38cbda995_48.png', 'image_72': 'https://avatars.slack-edge.com/2025-03-11/8589372074499_9c606919fdf38cbda995_72.png'}, 'team_id': 'T08GLQ3HC07'}, 'thread_ts': '1741728538.047439', 'parent_user_id': 'U08GLQ3JKGX', 'blocks': [{'type': 'rich_text', 'block_id': 'ctE9O', 'elements': [{'type': 'rich_text_section', 'elements': [{'type': 'text', 'text': 'Offer Not Displayed:', 'style': {'bold': True}}, {'type': 'text', 'text': ' The offer is not displayed because the customer has opted out of solicitation, making them ineligible for any offers. '}, {'type': 'emoji', 'name': 'x', 'unicode': '274c'}, {'type': 'text', 'text': ' However, if you are not satisfied with this response, I can escalate the issue by raising an incident so a support representative can review it further. Would you like me to raise it? '}, {'type': 'emoji', 'name': 'raised_hands', 'unicode': '1f64c'}]}]}], 'channel': 'C08HL984BEV', 'event_ts': '1741728539.138769', 'channel_type': 'channel'}, 'type': 'event_callback', 'event_id': 'Ev08HLHE61DF', 'event_time': 1741728539, 'authorizations': [{'enterprise_id': None, 'team_id': 'T08GLQ3HC07', 'user_id': 'U08H42J6JQ3', 'is_bot': True, 'is_enterprise_install': False}], 'is_ext_shared_channel': False, 'event_context': '4-eyJldCI6Im1lc3NhZ2UiLCJ0aWQiOiJUMDhHTFEzSEMwNyIsImFpZCI6IkEwOEgwQzI2QkVaIiwiY2lkIjoiQzA4SEw5ODRCRVYifQ'}\n",
      "Received Slack event: {'token': 'vcOktFRX27KKXwM6mDwo1R9u', 'team_id': 'T08GLQ3HC07', 'context_team_id': 'T08GLQ3HC07', 'context_enterprise_id': None, 'api_app_id': 'A08H0C26BEZ', 'event': {'user': 'U08GLQ3JKGX', 'type': 'message', 'ts': '1741728561.825649', 'client_msg_id': '2aab0709-9996-473e-9253-a614f3cb3960', 'text': 'Raise an incident with high serveriority', 'team': 'T08GLQ3HC07', 'thread_ts': '1741728538.047439', 'parent_user_id': 'U08GLQ3JKGX', 'blocks': [{'type': 'rich_text', 'block_id': 'iDNjO', 'elements': [{'type': 'rich_text_section', 'elements': [{'type': 'text', 'text': 'Raise an incident with high serveriority'}]}]}], 'channel': 'C08HL984BEV', 'event_ts': '1741728561.825649', 'channel_type': 'channel'}, 'type': 'event_callback', 'event_id': 'Ev08H809RHGD', 'event_time': 1741728561, 'authorizations': [{'enterprise_id': None, 'team_id': 'T08GLQ3HC07', 'user_id': 'U08H42J6JQ3', 'is_bot': True, 'is_enterprise_install': False}], 'is_ext_shared_channel': False, 'event_context': '4-eyJldCI6Im1lc3NhZ2UiLCJ0aWQiOiJUMDhHTFEzSEMwNyIsImFpZCI6IkEwOEgwQzI2QkVaIiwiY2lkIjoiQzA4SEw5ODRCRVYifQ'}\n",
      "Entities: [('Raise', 'RAISE_INCIDENT'), ('high', 'SEVERITY')]\n"
     ]
    },
    {
     "name": "stderr",
     "output_type": "stream",
     "text": [
      "127.0.0.1 - - [11/Mar/2025 17:29:23] \"POST /slack/events HTTP/1.1\" 200 -\n",
      "127.0.0.1 - - [11/Mar/2025 17:29:24] \"POST /slack/events HTTP/1.1\" 200 -\n"
     ]
    },
    {
     "name": "stdout",
     "output_type": "stream",
     "text": [
      "Received Slack event: {'token': 'vcOktFRX27KKXwM6mDwo1R9u', 'team_id': 'T08GLQ3HC07', 'context_team_id': 'T08GLQ3HC07', 'context_enterprise_id': None, 'api_app_id': 'A08H0C26BEZ', 'event': {'user': 'U08H42J6JQ3', 'type': 'message', 'ts': '1741728562.752859', 'bot_id': 'B08H42J4LGK', 'app_id': 'A08H0C26BEZ', 'text': '*Incident Raised:* Your incident has been successfully raised and marked as *high* priority. :warning: \\n\\nThe *Site Reliability Engineering (SRE)* team will address it as soon as possible to ensure a swift resolution. :rocket:\\n\\nThank you for your patience!', 'team': 'T08GLQ3HC07', 'bot_profile': {'id': 'B08H42J4LGK', 'deleted': False, 'name': 'ResolveBotAI', 'updated': 1741727901, 'app_id': 'A08H0C26BEZ', 'icons': {'image_36': 'https://avatars.slack-edge.com/2025-03-11/8589372074499_9c606919fdf38cbda995_36.png', 'image_48': 'https://avatars.slack-edge.com/2025-03-11/8589372074499_9c606919fdf38cbda995_48.png', 'image_72': 'https://avatars.slack-edge.com/2025-03-11/8589372074499_9c606919fdf38cbda995_72.png'}, 'team_id': 'T08GLQ3HC07'}, 'thread_ts': '1741728538.047439', 'parent_user_id': 'U08GLQ3JKGX', 'blocks': [{'type': 'rich_text', 'block_id': '0mVBs', 'elements': [{'type': 'rich_text_section', 'elements': [{'type': 'text', 'text': 'Incident Raised:', 'style': {'bold': True}}, {'type': 'text', 'text': ' Your incident has been successfully raised and marked as '}, {'type': 'text', 'text': 'high', 'style': {'bold': True}}, {'type': 'text', 'text': ' priority. '}, {'type': 'emoji', 'name': 'warning', 'unicode': '26a0-fe0f'}, {'type': 'text', 'text': ' \\n\\nThe '}, {'type': 'text', 'text': 'Site Reliability Engineering (SRE)', 'style': {'bold': True}}, {'type': 'text', 'text': ' team will address it as soon as possible to ensure a swift resolution. '}, {'type': 'emoji', 'name': 'rocket', 'unicode': '1f680'}, {'type': 'text', 'text': '\\n\\nThank you for your patience!'}]}]}], 'channel': 'C08HL984BEV', 'event_ts': '1741728562.752859', 'channel_type': 'channel'}, 'type': 'event_callback', 'event_id': 'Ev08HLHFQSQZ', 'event_time': 1741728562, 'authorizations': [{'enterprise_id': None, 'team_id': 'T08GLQ3HC07', 'user_id': 'U08H42J6JQ3', 'is_bot': True, 'is_enterprise_install': False}], 'is_ext_shared_channel': False, 'event_context': '4-eyJldCI6Im1lc3NhZ2UiLCJ0aWQiOiJUMDhHTFEzSEMwNyIsImFpZCI6IkEwOEgwQzI2QkVaIiwiY2lkIjoiQzA4SEw5ODRCRVYifQ'}\n",
      "Received Slack event: {'token': 'vcOktFRX27KKXwM6mDwo1R9u', 'team_id': 'T08GLQ3HC07', 'context_team_id': 'T08GLQ3HC07', 'context_enterprise_id': None, 'api_app_id': 'A08H0C26BEZ', 'event': {'user': 'U08GLQ3JKGX', 'type': 'message', 'ts': '1741728583.998499', 'client_msg_id': '2a2f428a-130b-416e-bfa8-5e8014c64032', 'text': 'Raise an incident with high priority', 'team': 'T08GLQ3HC07', 'thread_ts': '1741728538.047439', 'parent_user_id': 'U08GLQ3JKGX', 'blocks': [{'type': 'rich_text', 'block_id': 'v1USE', 'elements': [{'type': 'rich_text_section', 'elements': [{'type': 'text', 'text': 'Raise an incident with high priority'}]}]}], 'channel': 'C08HL984BEV', 'event_ts': '1741728583.998499', 'channel_type': 'channel'}, 'type': 'event_callback', 'event_id': 'Ev08HBCCUQBV', 'event_time': 1741728583, 'authorizations': [{'enterprise_id': None, 'team_id': 'T08GLQ3HC07', 'user_id': 'U08H42J6JQ3', 'is_bot': True, 'is_enterprise_install': False}], 'is_ext_shared_channel': False, 'event_context': '4-eyJldCI6Im1lc3NhZ2UiLCJ0aWQiOiJUMDhHTFEzSEMwNyIsImFpZCI6IkEwOEgwQzI2QkVaIiwiY2lkIjoiQzA4SEw5ODRCRVYifQ'}\n",
      "Entities: [('Raise', 'RAISE_INCIDENT'), ('high', 'SEVERITY')]\n"
     ]
    },
    {
     "name": "stderr",
     "output_type": "stream",
     "text": [
      "127.0.0.1 - - [11/Mar/2025 17:29:45] \"POST /slack/events HTTP/1.1\" 200 -\n",
      "127.0.0.1 - - [11/Mar/2025 17:29:46] \"POST /slack/events HTTP/1.1\" 200 -\n"
     ]
    },
    {
     "name": "stdout",
     "output_type": "stream",
     "text": [
      "Received Slack event: {'token': 'vcOktFRX27KKXwM6mDwo1R9u', 'team_id': 'T08GLQ3HC07', 'context_team_id': 'T08GLQ3HC07', 'context_enterprise_id': None, 'api_app_id': 'A08H0C26BEZ', 'event': {'user': 'U08H42J6JQ3', 'type': 'message', 'ts': '1741728584.815289', 'bot_id': 'B08H42J4LGK', 'app_id': 'A08H0C26BEZ', 'text': '*Incident Raised:* Your incident has been successfully raised and marked as *high* priority. :warning: \\n\\nThe *Site Reliability Engineering (SRE)* team will address it as soon as possible to ensure a swift resolution. :rocket:\\n\\nThank you for your patience!', 'team': 'T08GLQ3HC07', 'bot_profile': {'id': 'B08H42J4LGK', 'deleted': False, 'name': 'ResolveBotAI', 'updated': 1741727901, 'app_id': 'A08H0C26BEZ', 'icons': {'image_36': 'https://avatars.slack-edge.com/2025-03-11/8589372074499_9c606919fdf38cbda995_36.png', 'image_48': 'https://avatars.slack-edge.com/2025-03-11/8589372074499_9c606919fdf38cbda995_48.png', 'image_72': 'https://avatars.slack-edge.com/2025-03-11/8589372074499_9c606919fdf38cbda995_72.png'}, 'team_id': 'T08GLQ3HC07'}, 'thread_ts': '1741728538.047439', 'parent_user_id': 'U08GLQ3JKGX', 'blocks': [{'type': 'rich_text', 'block_id': 'd7Tt', 'elements': [{'type': 'rich_text_section', 'elements': [{'type': 'text', 'text': 'Incident Raised:', 'style': {'bold': True}}, {'type': 'text', 'text': ' Your incident has been successfully raised and marked as '}, {'type': 'text', 'text': 'high', 'style': {'bold': True}}, {'type': 'text', 'text': ' priority. '}, {'type': 'emoji', 'name': 'warning', 'unicode': '26a0-fe0f'}, {'type': 'text', 'text': ' \\n\\nThe '}, {'type': 'text', 'text': 'Site Reliability Engineering (SRE)', 'style': {'bold': True}}, {'type': 'text', 'text': ' team will address it as soon as possible to ensure a swift resolution. '}, {'type': 'emoji', 'name': 'rocket', 'unicode': '1f680'}, {'type': 'text', 'text': '\\n\\nThank you for your patience!'}]}]}], 'channel': 'C08HL984BEV', 'event_ts': '1741728584.815289', 'channel_type': 'channel'}, 'type': 'event_callback', 'event_id': 'Ev08H80AA9MK', 'event_time': 1741728584, 'authorizations': [{'enterprise_id': None, 'team_id': 'T08GLQ3HC07', 'user_id': 'U08H42J6JQ3', 'is_bot': True, 'is_enterprise_install': False}], 'is_ext_shared_channel': False, 'event_context': '4-eyJldCI6Im1lc3NhZ2UiLCJ0aWQiOiJUMDhHTFEzSEMwNyIsImFpZCI6IkEwOEgwQzI2QkVaIiwiY2lkIjoiQzA4SEw5ODRCRVYifQ'}\n"
     ]
    },
    {
     "name": "stderr",
     "output_type": "stream",
     "text": [
      "127.0.0.1 - - [11/Mar/2025 17:29:54] \"POST /slack/events HTTP/1.1\" 200 -\n",
      "127.0.0.1 - - [11/Mar/2025 17:29:54] \"POST /slack/events HTTP/1.1\" 200 -\n"
     ]
    },
    {
     "name": "stdout",
     "output_type": "stream",
     "text": [
      "Received Slack event: {'token': 'vcOktFRX27KKXwM6mDwo1R9u', 'team_id': 'T08GLQ3HC07', 'context_team_id': 'T08GLQ3HC07', 'context_enterprise_id': None, 'api_app_id': 'A08H0C26BEZ', 'event': {'type': 'message', 'subtype': 'message_deleted', 'previous_message': {'user': 'U08H42J6JQ3', 'type': 'message', 'ts': '1741728584.815289', 'bot_id': 'B08H42J4LGK', 'app_id': 'A08H0C26BEZ', 'text': '*Incident Raised:* Your incident has been successfully raised and marked as *high* priority. :warning: \\n\\nThe *Site Reliability Engineering (SRE)* team will address it as soon as possible to ensure a swift resolution. :rocket:\\n\\nThank you for your patience!', 'team': 'T08GLQ3HC07', 'bot_profile': {'id': 'B08H42J4LGK', 'deleted': False, 'name': 'ResolveBotAI', 'updated': 1741727901, 'app_id': 'A08H0C26BEZ', 'icons': {'image_36': 'https://avatars.slack-edge.com/2025-03-11/8589372074499_9c606919fdf38cbda995_36.png', 'image_48': 'https://avatars.slack-edge.com/2025-03-11/8589372074499_9c606919fdf38cbda995_48.png', 'image_72': 'https://avatars.slack-edge.com/2025-03-11/8589372074499_9c606919fdf38cbda995_72.png'}, 'team_id': 'T08GLQ3HC07'}, 'thread_ts': '1741728538.047439', 'parent_user_id': 'U08GLQ3JKGX', 'blocks': [{'type': 'rich_text', 'block_id': 'grt', 'elements': [{'type': 'rich_text_section', 'elements': [{'type': 'text', 'text': 'Incident Raised:', 'style': {'bold': True}}, {'type': 'text', 'text': ' Your incident has been successfully raised and marked as '}, {'type': 'text', 'text': 'high', 'style': {'bold': True}}, {'type': 'text', 'text': ' priority. '}, {'type': 'emoji', 'name': 'warning', 'unicode': '26a0-fe0f'}, {'type': 'text', 'text': ' \\n\\nThe '}, {'type': 'text', 'text': 'Site Reliability Engineering (SRE)', 'style': {'bold': True}}, {'type': 'text', 'text': ' team will address it as soon as possible to ensure a swift resolution. '}, {'type': 'emoji', 'name': 'rocket', 'unicode': '1f680'}, {'type': 'text', 'text': '\\n\\nThank you for your patience!'}]}]}]}, 'channel': 'C08HL984BEV', 'hidden': True, 'deleted_ts': '1741728584.815289', 'event_ts': '1741728593.008600', 'ts': '1741728593.008600', 'channel_type': 'channel'}, 'type': 'event_callback', 'event_id': 'Ev08HBCDF1B5', 'event_time': 1741728593, 'authorizations': [{'enterprise_id': None, 'team_id': 'T08GLQ3HC07', 'user_id': 'U08H42J6JQ3', 'is_bot': True, 'is_enterprise_install': False}], 'is_ext_shared_channel': False, 'event_context': '4-eyJldCI6Im1lc3NhZ2UiLCJ0aWQiOiJUMDhHTFEzSEMwNyIsImFpZCI6IkEwOEgwQzI2QkVaIiwiY2lkIjoiQzA4SEw5ODRCRVYifQ'}\n",
      "Received Slack event: {'token': 'vcOktFRX27KKXwM6mDwo1R9u', 'team_id': 'T08GLQ3HC07', 'context_team_id': 'T08GLQ3HC07', 'context_enterprise_id': None, 'api_app_id': 'A08H0C26BEZ', 'event': {'type': 'message', 'subtype': 'message_changed', 'message': {'user': 'U08GLQ3JKGX', 'type': 'message', 'client_msg_id': 'cb5b4ad8-c268-4008-9f60-a876ebdb6576', 'text': 'I am getting customer opted out from offers', 'team': 'T08GLQ3HC07', 'thread_ts': '1741728538.047439', 'reply_count': 4, 'reply_users_count': 2, 'latest_reply': '1741728583.998499', 'reply_users': ['U08H42J6JQ3', 'U08GLQ3JKGX'], 'is_locked': False, 'blocks': [{'type': 'rich_text', 'block_id': '737Xb', 'elements': [{'type': 'rich_text_section', 'elements': [{'type': 'text', 'text': 'I am getting customer opted out from offers'}]}]}], 'ts': '1741728538.047439'}, 'previous_message': {'user': 'U08GLQ3JKGX', 'type': 'message', 'ts': '1741728538.047439', 'client_msg_id': 'cb5b4ad8-c268-4008-9f60-a876ebdb6576', 'text': 'I am getting customer opted out from offers', 'team': 'T08GLQ3HC07', 'thread_ts': '1741728538.047439', 'reply_count': 4, 'reply_users_count': 2, 'latest_reply': '1741728583.998499', 'reply_users': ['U08H42J6JQ3', 'U08GLQ3JKGX'], 'is_locked': False, 'subscribed': True, 'last_read': '1741728584.815289', 'blocks': [{'type': 'rich_text', 'block_id': '737Xb', 'elements': [{'type': 'rich_text_section', 'elements': [{'type': 'text', 'text': 'I am getting customer opted out from offers'}]}]}]}, 'channel': 'C08HL984BEV', 'hidden': True, 'ts': '1741728593.008700', 'event_ts': '1741728593.008700', 'channel_type': 'channel'}, 'type': 'event_callback', 'event_id': 'Ev08H2TM0GDU', 'event_time': 1741728593, 'authorizations': [{'enterprise_id': None, 'team_id': 'T08GLQ3HC07', 'user_id': 'U08H42J6JQ3', 'is_bot': True, 'is_enterprise_install': False}], 'is_ext_shared_channel': False, 'event_context': '4-eyJldCI6Im1lc3NhZ2UiLCJ0aWQiOiJUMDhHTFEzSEMwNyIsImFpZCI6IkEwOEgwQzI2QkVaIiwiY2lkIjoiQzA4SEw5ODRCRVYifQ'}\n"
     ]
    },
    {
     "name": "stderr",
     "output_type": "stream",
     "text": [
      "127.0.0.1 - - [11/Mar/2025 17:29:59] \"POST /slack/events HTTP/1.1\" 200 -\n"
     ]
    },
    {
     "name": "stdout",
     "output_type": "stream",
     "text": [
      "Received Slack event: {'token': 'vcOktFRX27KKXwM6mDwo1R9u', 'team_id': 'T08GLQ3HC07', 'context_team_id': 'T08GLQ3HC07', 'context_enterprise_id': None, 'api_app_id': 'A08H0C26BEZ', 'event': {'type': 'message', 'subtype': 'message_deleted', 'previous_message': {'user': 'U08GLQ3JKGX', 'type': 'message', 'ts': '1741728583.998499', 'client_msg_id': '2a2f428a-130b-416e-bfa8-5e8014c64032', 'text': 'Raise an incident with high priority', 'team': 'T08GLQ3HC07', 'thread_ts': '1741728538.047439', 'parent_user_id': 'U08GLQ3JKGX', 'blocks': [{'type': 'rich_text', 'block_id': 'v1USE', 'elements': [{'type': 'rich_text_section', 'elements': [{'type': 'text', 'text': 'Raise an incident with high priority'}]}]}]}, 'channel': 'C08HL984BEV', 'hidden': True, 'deleted_ts': '1741728583.998499', 'event_ts': '1741728597.008800', 'ts': '1741728597.008800', 'channel_type': 'channel'}, 'type': 'event_callback', 'event_id': 'Ev08H2TLHQUW', 'event_time': 1741728597, 'authorizations': [{'enterprise_id': None, 'team_id': 'T08GLQ3HC07', 'user_id': 'U08H42J6JQ3', 'is_bot': True, 'is_enterprise_install': False}], 'is_ext_shared_channel': False, 'event_context': '4-eyJldCI6Im1lc3NhZ2UiLCJ0aWQiOiJUMDhHTFEzSEMwNyIsImFpZCI6IkEwOEgwQzI2QkVaIiwiY2lkIjoiQzA4SEw5ODRCRVYifQ'}\n"
     ]
    },
    {
     "name": "stderr",
     "output_type": "stream",
     "text": [
      "127.0.0.1 - - [11/Mar/2025 17:29:59] \"POST /slack/events HTTP/1.1\" 200 -\n"
     ]
    },
    {
     "name": "stdout",
     "output_type": "stream",
     "text": [
      "Received Slack event: {'token': 'vcOktFRX27KKXwM6mDwo1R9u', 'team_id': 'T08GLQ3HC07', 'context_team_id': 'T08GLQ3HC07', 'context_enterprise_id': None, 'api_app_id': 'A08H0C26BEZ', 'event': {'type': 'message', 'subtype': 'message_changed', 'message': {'user': 'U08GLQ3JKGX', 'type': 'message', 'client_msg_id': 'cb5b4ad8-c268-4008-9f60-a876ebdb6576', 'text': 'I am getting customer opted out from offers', 'team': 'T08GLQ3HC07', 'thread_ts': '1741728538.047439', 'reply_count': 3, 'reply_users_count': 2, 'latest_reply': '1741728562.752859', 'reply_users': ['U08H42J6JQ3', 'U08GLQ3JKGX'], 'is_locked': False, 'blocks': [{'type': 'rich_text', 'block_id': '737Xb', 'elements': [{'type': 'rich_text_section', 'elements': [{'type': 'text', 'text': 'I am getting customer opted out from offers'}]}]}], 'ts': '1741728538.047439'}, 'previous_message': {'user': 'U08GLQ3JKGX', 'type': 'message', 'ts': '1741728538.047439', 'client_msg_id': 'cb5b4ad8-c268-4008-9f60-a876ebdb6576', 'text': 'I am getting customer opted out from offers', 'team': 'T08GLQ3HC07', 'thread_ts': '1741728538.047439', 'reply_count': 3, 'reply_users_count': 2, 'latest_reply': '1741728562.752859', 'reply_users': ['U08H42J6JQ3', 'U08GLQ3JKGX'], 'is_locked': False, 'subscribed': True, 'last_read': '1741728584.815289', 'blocks': [{'type': 'rich_text', 'block_id': '737Xb', 'elements': [{'type': 'rich_text_section', 'elements': [{'type': 'text', 'text': 'I am getting customer opted out from offers'}]}]}]}, 'channel': 'C08HL984BEV', 'hidden': True, 'ts': '1741728597.008900', 'event_ts': '1741728597.008900', 'channel_type': 'channel'}, 'type': 'event_callback', 'event_id': 'Ev08HXV9B056', 'event_time': 1741728597, 'authorizations': [{'enterprise_id': None, 'team_id': 'T08GLQ3HC07', 'user_id': 'U08H42J6JQ3', 'is_bot': True, 'is_enterprise_install': False}], 'is_ext_shared_channel': False, 'event_context': '4-eyJldCI6Im1lc3NhZ2UiLCJ0aWQiOiJUMDhHTFEzSEMwNyIsImFpZCI6IkEwOEgwQzI2QkVaIiwiY2lkIjoiQzA4SEw5ODRCRVYifQ'}\n"
     ]
    },
    {
     "name": "stderr",
     "output_type": "stream",
     "text": [
      "127.0.0.1 - - [11/Mar/2025 17:30:03] \"POST /slack/events HTTP/1.1\" 200 -\n",
      "127.0.0.1 - - [11/Mar/2025 17:30:03] \"POST /slack/events HTTP/1.1\" 200 -\n"
     ]
    },
    {
     "name": "stdout",
     "output_type": "stream",
     "text": [
      "Received Slack event: {'token': 'vcOktFRX27KKXwM6mDwo1R9u', 'team_id': 'T08GLQ3HC07', 'context_team_id': 'T08GLQ3HC07', 'context_enterprise_id': None, 'api_app_id': 'A08H0C26BEZ', 'event': {'type': 'message', 'subtype': 'message_changed', 'message': {'user': 'U08GLQ3JKGX', 'type': 'message', 'client_msg_id': 'cb5b4ad8-c268-4008-9f60-a876ebdb6576', 'text': 'I am getting customer opted out from offers', 'team': 'T08GLQ3HC07', 'thread_ts': '1741728538.047439', 'reply_count': 2, 'reply_users_count': 2, 'latest_reply': '1741728561.825649', 'reply_users': ['U08H42J6JQ3', 'U08GLQ3JKGX'], 'is_locked': False, 'blocks': [{'type': 'rich_text', 'block_id': '737Xb', 'elements': [{'type': 'rich_text_section', 'elements': [{'type': 'text', 'text': 'I am getting customer opted out from offers'}]}]}], 'ts': '1741728538.047439'}, 'previous_message': {'user': 'U08GLQ3JKGX', 'type': 'message', 'ts': '1741728538.047439', 'client_msg_id': 'cb5b4ad8-c268-4008-9f60-a876ebdb6576', 'text': 'I am getting customer opted out from offers', 'team': 'T08GLQ3HC07', 'thread_ts': '1741728538.047439', 'reply_count': 2, 'reply_users_count': 2, 'latest_reply': '1741728561.825649', 'reply_users': ['U08H42J6JQ3', 'U08GLQ3JKGX'], 'is_locked': False, 'subscribed': True, 'last_read': '1741728584.815289', 'blocks': [{'type': 'rich_text', 'block_id': '737Xb', 'elements': [{'type': 'rich_text_section', 'elements': [{'type': 'text', 'text': 'I am getting customer opted out from offers'}]}]}]}, 'channel': 'C08HL984BEV', 'hidden': True, 'ts': '1741728602.009100', 'event_ts': '1741728602.009100', 'channel_type': 'channel'}, 'type': 'event_callback', 'event_id': 'Ev08HLHKDB8R', 'event_time': 1741728602, 'authorizations': [{'enterprise_id': None, 'team_id': 'T08GLQ3HC07', 'user_id': 'U08H42J6JQ3', 'is_bot': True, 'is_enterprise_install': False}], 'is_ext_shared_channel': False, 'event_context': '4-eyJldCI6Im1lc3NhZ2UiLCJ0aWQiOiJUMDhHTFEzSEMwNyIsImFpZCI6IkEwOEgwQzI2QkVaIiwiY2lkIjoiQzA4SEw5ODRCRVYifQ'}\n",
      "Received Slack event: {'token': 'vcOktFRX27KKXwM6mDwo1R9u', 'team_id': 'T08GLQ3HC07', 'context_team_id': 'T08GLQ3HC07', 'context_enterprise_id': None, 'api_app_id': 'A08H0C26BEZ', 'event': {'type': 'message', 'subtype': 'message_deleted', 'previous_message': {'user': 'U08H42J6JQ3', 'type': 'message', 'ts': '1741728562.752859', 'bot_id': 'B08H42J4LGK', 'app_id': 'A08H0C26BEZ', 'text': '*Incident Raised:* Your incident has been successfully raised and marked as *high* priority. :warning: \\n\\nThe *Site Reliability Engineering (SRE)* team will address it as soon as possible to ensure a swift resolution. :rocket:\\n\\nThank you for your patience!', 'team': 'T08GLQ3HC07', 'bot_profile': {'id': 'B08H42J4LGK', 'deleted': False, 'name': 'ResolveBotAI', 'updated': 1741727901, 'app_id': 'A08H0C26BEZ', 'icons': {'image_36': 'https://avatars.slack-edge.com/2025-03-11/8589372074499_9c606919fdf38cbda995_36.png', 'image_48': 'https://avatars.slack-edge.com/2025-03-11/8589372074499_9c606919fdf38cbda995_48.png', 'image_72': 'https://avatars.slack-edge.com/2025-03-11/8589372074499_9c606919fdf38cbda995_72.png'}, 'team_id': 'T08GLQ3HC07'}, 'thread_ts': '1741728538.047439', 'parent_user_id': 'U08GLQ3JKGX', 'blocks': [{'type': 'rich_text', 'block_id': 'b+K', 'elements': [{'type': 'rich_text_section', 'elements': [{'type': 'text', 'text': 'Incident Raised:', 'style': {'bold': True}}, {'type': 'text', 'text': ' Your incident has been successfully raised and marked as '}, {'type': 'text', 'text': 'high', 'style': {'bold': True}}, {'type': 'text', 'text': ' priority. '}, {'type': 'emoji', 'name': 'warning', 'unicode': '26a0-fe0f'}, {'type': 'text', 'text': ' \\n\\nThe '}, {'type': 'text', 'text': 'Site Reliability Engineering (SRE)', 'style': {'bold': True}}, {'type': 'text', 'text': ' team will address it as soon as possible to ensure a swift resolution. '}, {'type': 'emoji', 'name': 'rocket', 'unicode': '1f680'}, {'type': 'text', 'text': '\\n\\nThank you for your patience!'}]}]}]}, 'channel': 'C08HL984BEV', 'hidden': True, 'deleted_ts': '1741728562.752859', 'event_ts': '1741728601.009000', 'ts': '1741728601.009000', 'channel_type': 'channel'}, 'type': 'event_callback', 'event_id': 'Ev08HD8C8VM2', 'event_time': 1741728601, 'authorizations': [{'enterprise_id': None, 'team_id': 'T08GLQ3HC07', 'user_id': 'U08H42J6JQ3', 'is_bot': True, 'is_enterprise_install': False}], 'is_ext_shared_channel': False, 'event_context': '4-eyJldCI6Im1lc3NhZ2UiLCJ0aWQiOiJUMDhHTFEzSEMwNyIsImFpZCI6IkEwOEgwQzI2QkVaIiwiY2lkIjoiQzA4SEw5ODRCRVYifQ'}\n"
     ]
    },
    {
     "name": "stderr",
     "output_type": "stream",
     "text": [
      "127.0.0.1 - - [11/Mar/2025 17:30:06] \"POST /slack/events HTTP/1.1\" 200 -\n",
      "127.0.0.1 - - [11/Mar/2025 17:30:06] \"POST /slack/events HTTP/1.1\" 200 -\n"
     ]
    },
    {
     "name": "stdout",
     "output_type": "stream",
     "text": [
      "Received Slack event: {'token': 'vcOktFRX27KKXwM6mDwo1R9u', 'team_id': 'T08GLQ3HC07', 'context_team_id': 'T08GLQ3HC07', 'context_enterprise_id': None, 'api_app_id': 'A08H0C26BEZ', 'event': {'type': 'message', 'subtype': 'message_changed', 'message': {'user': 'U08GLQ3JKGX', 'type': 'message', 'client_msg_id': 'cb5b4ad8-c268-4008-9f60-a876ebdb6576', 'text': 'I am getting customer opted out from offers', 'team': 'T08GLQ3HC07', 'thread_ts': '1741728538.047439', 'reply_count': 1, 'reply_users_count': 1, 'latest_reply': '1741728561.825649', 'reply_users': ['U08GLQ3JKGX'], 'is_locked': False, 'blocks': [{'type': 'rich_text', 'block_id': '737Xb', 'elements': [{'type': 'rich_text_section', 'elements': [{'type': 'text', 'text': 'I am getting customer opted out from offers'}]}]}], 'ts': '1741728538.047439'}, 'previous_message': {'user': 'U08GLQ3JKGX', 'type': 'message', 'ts': '1741728538.047439', 'client_msg_id': 'cb5b4ad8-c268-4008-9f60-a876ebdb6576', 'text': 'I am getting customer opted out from offers', 'team': 'T08GLQ3HC07', 'thread_ts': '1741728538.047439', 'reply_count': 1, 'reply_users_count': 1, 'latest_reply': '1741728561.825649', 'reply_users': ['U08GLQ3JKGX'], 'is_locked': False, 'subscribed': True, 'last_read': '1741728584.815289', 'blocks': [{'type': 'rich_text', 'block_id': '737Xb', 'elements': [{'type': 'rich_text_section', 'elements': [{'type': 'text', 'text': 'I am getting customer opted out from offers'}]}]}]}, 'channel': 'C08HL984BEV', 'hidden': True, 'ts': '1741728606.009300', 'event_ts': '1741728606.009300', 'channel_type': 'channel'}, 'type': 'event_callback', 'event_id': 'Ev08H80DR4MB', 'event_time': 1741728606, 'authorizations': [{'enterprise_id': None, 'team_id': 'T08GLQ3HC07', 'user_id': 'U08H42J6JQ3', 'is_bot': True, 'is_enterprise_install': False}], 'is_ext_shared_channel': False, 'event_context': '4-eyJldCI6Im1lc3NhZ2UiLCJ0aWQiOiJUMDhHTFEzSEMwNyIsImFpZCI6IkEwOEgwQzI2QkVaIiwiY2lkIjoiQzA4SEw5ODRCRVYifQ'}\n",
      "Received Slack event: {'token': 'vcOktFRX27KKXwM6mDwo1R9u', 'team_id': 'T08GLQ3HC07', 'context_team_id': 'T08GLQ3HC07', 'context_enterprise_id': None, 'api_app_id': 'A08H0C26BEZ', 'event': {'type': 'message', 'subtype': 'message_deleted', 'previous_message': {'user': 'U08H42J6JQ3', 'type': 'message', 'ts': '1741728539.138769', 'bot_id': 'B08H42J4LGK', 'app_id': 'A08H0C26BEZ', 'text': '*Offer Not Displayed:* The offer is not displayed because the customer has opted out of solicitation, making them ineligible for any offers. :x: However, if you are not satisfied with this response, I can escalate the issue by raising an incident so a support representative can review it further. Would you like me to raise it? :raised_hands:', 'team': 'T08GLQ3HC07', 'bot_profile': {'id': 'B08H42J4LGK', 'deleted': False, 'name': 'ResolveBotAI', 'updated': 1741727901, 'app_id': 'A08H0C26BEZ', 'icons': {'image_36': 'https://avatars.slack-edge.com/2025-03-11/8589372074499_9c606919fdf38cbda995_36.png', 'image_48': 'https://avatars.slack-edge.com/2025-03-11/8589372074499_9c606919fdf38cbda995_48.png', 'image_72': 'https://avatars.slack-edge.com/2025-03-11/8589372074499_9c606919fdf38cbda995_72.png'}, 'team_id': 'T08GLQ3HC07'}, 'thread_ts': '1741728538.047439', 'parent_user_id': 'U08GLQ3JKGX', 'blocks': [{'type': 'rich_text', 'block_id': '00c7y', 'elements': [{'type': 'rich_text_section', 'elements': [{'type': 'text', 'text': 'Offer Not Displayed:', 'style': {'bold': True}}, {'type': 'text', 'text': ' The offer is not displayed because the customer has opted out of solicitation, making them ineligible for any offers. '}, {'type': 'emoji', 'name': 'x', 'unicode': '274c'}, {'type': 'text', 'text': ' However, if you are not satisfied with this response, I can escalate the issue by raising an incident so a support representative can review it further. Would you like me to raise it? '}, {'type': 'emoji', 'name': 'raised_hands', 'unicode': '1f64c'}]}]}]}, 'channel': 'C08HL984BEV', 'hidden': True, 'deleted_ts': '1741728539.138769', 'event_ts': '1741728606.009200', 'ts': '1741728606.009200', 'channel_type': 'channel'}, 'type': 'event_callback', 'event_id': 'Ev08HBCEBWLB', 'event_time': 1741728606, 'authorizations': [{'enterprise_id': None, 'team_id': 'T08GLQ3HC07', 'user_id': 'U08H42J6JQ3', 'is_bot': True, 'is_enterprise_install': False}], 'is_ext_shared_channel': False, 'event_context': '4-eyJldCI6Im1lc3NhZ2UiLCJ0aWQiOiJUMDhHTFEzSEMwNyIsImFpZCI6IkEwOEgwQzI2QkVaIiwiY2lkIjoiQzA4SEw5ODRCRVYifQ'}\n"
     ]
    },
    {
     "name": "stderr",
     "output_type": "stream",
     "text": [
      "127.0.0.1 - - [11/Mar/2025 17:30:10] \"POST /slack/events HTTP/1.1\" 200 -\n",
      "127.0.0.1 - - [11/Mar/2025 17:30:10] \"POST /slack/events HTTP/1.1\" 200 -\n"
     ]
    },
    {
     "name": "stdout",
     "output_type": "stream",
     "text": [
      "Received Slack event: {'token': 'vcOktFRX27KKXwM6mDwo1R9u', 'team_id': 'T08GLQ3HC07', 'context_team_id': 'T08GLQ3HC07', 'context_enterprise_id': None, 'api_app_id': 'A08H0C26BEZ', 'event': {'type': 'message', 'subtype': 'message_changed', 'message': {'user': 'U08GLQ3JKGX', 'type': 'message', 'client_msg_id': 'cb5b4ad8-c268-4008-9f60-a876ebdb6576', 'text': 'I am getting customer opted out from offers', 'team': 'T08GLQ3HC07', 'blocks': [{'type': 'rich_text', 'block_id': '737Xb', 'elements': [{'type': 'rich_text_section', 'elements': [{'type': 'text', 'text': 'I am getting customer opted out from offers'}]}]}], 'ts': '1741728538.047439'}, 'previous_message': {'user': 'U08GLQ3JKGX', 'type': 'message', 'ts': '1741728538.047439', 'client_msg_id': 'cb5b4ad8-c268-4008-9f60-a876ebdb6576', 'text': 'I am getting customer opted out from offers', 'team': 'T08GLQ3HC07', 'thread_ts': '1741728538.047439', 'reply_count': 0, 'reply_users_count': 0, 'latest_reply': '0000000000.000000', 'reply_users': [], 'is_locked': False, 'subscribed': True, 'last_read': '1741728584.815289', 'blocks': [{'type': 'rich_text', 'block_id': '737Xb', 'elements': [{'type': 'rich_text_section', 'elements': [{'type': 'text', 'text': 'I am getting customer opted out from offers'}]}]}]}, 'channel': 'C08HL984BEV', 'hidden': True, 'ts': '1741728610.009500', 'event_ts': '1741728610.009500', 'channel_type': 'channel'}, 'type': 'event_callback', 'event_id': 'Ev08H80D8ZE1', 'event_time': 1741728610, 'authorizations': [{'enterprise_id': None, 'team_id': 'T08GLQ3HC07', 'user_id': 'U08H42J6JQ3', 'is_bot': True, 'is_enterprise_install': False}], 'is_ext_shared_channel': False, 'event_context': '4-eyJldCI6Im1lc3NhZ2UiLCJ0aWQiOiJUMDhHTFEzSEMwNyIsImFpZCI6IkEwOEgwQzI2QkVaIiwiY2lkIjoiQzA4SEw5ODRCRVYifQ'}\n",
      "Received Slack event: {'token': 'vcOktFRX27KKXwM6mDwo1R9u', 'team_id': 'T08GLQ3HC07', 'context_team_id': 'T08GLQ3HC07', 'context_enterprise_id': None, 'api_app_id': 'A08H0C26BEZ', 'event': {'type': 'message', 'subtype': 'message_deleted', 'previous_message': {'user': 'U08GLQ3JKGX', 'type': 'message', 'ts': '1741728561.825649', 'client_msg_id': '2aab0709-9996-473e-9253-a614f3cb3960', 'text': 'Raise an incident with high serveriority', 'team': 'T08GLQ3HC07', 'thread_ts': '1741728538.047439', 'parent_user_id': 'U08GLQ3JKGX', 'blocks': [{'type': 'rich_text', 'block_id': 'iDNjO', 'elements': [{'type': 'rich_text_section', 'elements': [{'type': 'text', 'text': 'Raise an incident with high serveriority'}]}]}]}, 'channel': 'C08HL984BEV', 'hidden': True, 'deleted_ts': '1741728561.825649', 'event_ts': '1741728610.009400', 'ts': '1741728610.009400', 'channel_type': 'channel'}, 'type': 'event_callback', 'event_id': 'Ev08HD8DD536', 'event_time': 1741728610, 'authorizations': [{'enterprise_id': None, 'team_id': 'T08GLQ3HC07', 'user_id': 'U08H42J6JQ3', 'is_bot': True, 'is_enterprise_install': False}], 'is_ext_shared_channel': False, 'event_context': '4-eyJldCI6Im1lc3NhZ2UiLCJ0aWQiOiJUMDhHTFEzSEMwNyIsImFpZCI6IkEwOEgwQzI2QkVaIiwiY2lkIjoiQzA4SEw5ODRCRVYifQ'}\n"
     ]
    },
    {
     "name": "stderr",
     "output_type": "stream",
     "text": [
      "127.0.0.1 - - [11/Mar/2025 17:30:14] \"POST /slack/events HTTP/1.1\" 200 -\n"
     ]
    },
    {
     "name": "stdout",
     "output_type": "stream",
     "text": [
      "Received Slack event: {'token': 'vcOktFRX27KKXwM6mDwo1R9u', 'team_id': 'T08GLQ3HC07', 'context_team_id': 'T08GLQ3HC07', 'context_enterprise_id': None, 'api_app_id': 'A08H0C26BEZ', 'event': {'type': 'message', 'subtype': 'message_deleted', 'previous_message': {'user': 'U08GLQ3JKGX', 'type': 'message', 'ts': '1741728538.047439', 'client_msg_id': 'cb5b4ad8-c268-4008-9f60-a876ebdb6576', 'text': 'I am getting customer opted out from offers', 'team': 'T08GLQ3HC07', 'blocks': [{'type': 'rich_text', 'block_id': '737Xb', 'elements': [{'type': 'rich_text_section', 'elements': [{'type': 'text', 'text': 'I am getting customer opted out from offers'}]}]}]}, 'channel': 'C08HL984BEV', 'hidden': True, 'deleted_ts': '1741728538.047439', 'event_ts': '1741728613.009600', 'ts': '1741728613.009600', 'channel_type': 'channel'}, 'type': 'event_callback', 'event_id': 'Ev08HA9TTF18', 'event_time': 1741728613, 'authorizations': [{'enterprise_id': None, 'team_id': 'T08GLQ3HC07', 'user_id': 'U08H42J6JQ3', 'is_bot': True, 'is_enterprise_install': False}], 'is_ext_shared_channel': False, 'event_context': '4-eyJldCI6Im1lc3NhZ2UiLCJ0aWQiOiJUMDhHTFEzSEMwNyIsImFpZCI6IkEwOEgwQzI2QkVaIiwiY2lkIjoiQzA4SEw5ODRCRVYifQ'}\n",
      "Received Slack event: {'token': 'vcOktFRX27KKXwM6mDwo1R9u', 'team_id': 'T08GLQ3HC07', 'context_team_id': 'T08GLQ3HC07', 'context_enterprise_id': None, 'api_app_id': 'A08H0C26BEZ', 'event': {'user': 'U08GLQ3JKGX', 'type': 'message', 'ts': '1741728689.680939', 'client_msg_id': 'c124b760-dfe9-4b11-9b7e-337e1da255c6', 'text': 'I am getting customer opted out from offers', 'team': 'T08GLQ3HC07', 'blocks': [{'type': 'rich_text', 'block_id': '737Xb', 'elements': [{'type': 'rich_text_section', 'elements': [{'type': 'text', 'text': 'I am getting customer opted out from offers'}]}]}], 'channel': 'C08HL984BEV', 'event_ts': '1741728689.680939', 'channel_type': 'channel'}, 'type': 'event_callback', 'event_id': 'Ev08HBCMFV9R', 'event_time': 1741728689, 'authorizations': [{'enterprise_id': None, 'team_id': 'T08GLQ3HC07', 'user_id': 'U08H42J6JQ3', 'is_bot': True, 'is_enterprise_install': False}], 'is_ext_shared_channel': False, 'event_context': '4-eyJldCI6Im1lc3NhZ2UiLCJ0aWQiOiJUMDhHTFEzSEMwNyIsImFpZCI6IkEwOEgwQzI2QkVaIiwiY2lkIjoiQzA4SEw5ODRCRVYifQ'}\n",
      "Entities: [('I', 'RAISE_INCIDENT')]\n"
     ]
    },
    {
     "name": "stderr",
     "output_type": "stream",
     "text": [
      "127.0.0.1 - - [11/Mar/2025 17:31:31] \"POST /slack/events HTTP/1.1\" 200 -\n",
      "127.0.0.1 - - [11/Mar/2025 17:31:32] \"POST /slack/events HTTP/1.1\" 200 -\n"
     ]
    },
    {
     "name": "stdout",
     "output_type": "stream",
     "text": [
      "Received Slack event: {'token': 'vcOktFRX27KKXwM6mDwo1R9u', 'team_id': 'T08GLQ3HC07', 'context_team_id': 'T08GLQ3HC07', 'context_enterprise_id': None, 'api_app_id': 'A08H0C26BEZ', 'event': {'user': 'U08H42J6JQ3', 'type': 'message', 'ts': '1741728691.006589', 'bot_id': 'B08H42J4LGK', 'app_id': 'A08H0C26BEZ', 'text': '*Offer Not Displayed:* The offer is not displayed because the customer has opted out of solicitation, making them ineligible for any offers. :x: However, if you are not satisfied with this response, I can escalate the issue by raising an incident so a support representative can review it further. Would you like me to raise it? :raised_hands:', 'team': 'T08GLQ3HC07', 'bot_profile': {'id': 'B08H42J4LGK', 'deleted': False, 'name': 'ResolveBotAI', 'updated': 1741727901, 'app_id': 'A08H0C26BEZ', 'icons': {'image_36': 'https://avatars.slack-edge.com/2025-03-11/8589372074499_9c606919fdf38cbda995_36.png', 'image_48': 'https://avatars.slack-edge.com/2025-03-11/8589372074499_9c606919fdf38cbda995_48.png', 'image_72': 'https://avatars.slack-edge.com/2025-03-11/8589372074499_9c606919fdf38cbda995_72.png'}, 'team_id': 'T08GLQ3HC07'}, 'thread_ts': '1741728689.680939', 'parent_user_id': 'U08GLQ3JKGX', 'blocks': [{'type': 'rich_text', 'block_id': 'X04Yo', 'elements': [{'type': 'rich_text_section', 'elements': [{'type': 'text', 'text': 'Offer Not Displayed:', 'style': {'bold': True}}, {'type': 'text', 'text': ' The offer is not displayed because the customer has opted out of solicitation, making them ineligible for any offers. '}, {'type': 'emoji', 'name': 'x', 'unicode': '274c'}, {'type': 'text', 'text': ' However, if you are not satisfied with this response, I can escalate the issue by raising an incident so a support representative can review it further. Would you like me to raise it? '}, {'type': 'emoji', 'name': 'raised_hands', 'unicode': '1f64c'}]}]}], 'channel': 'C08HL984BEV', 'event_ts': '1741728691.006589', 'channel_type': 'channel'}, 'type': 'event_callback', 'event_id': 'Ev08GUJF92AK', 'event_time': 1741728691, 'authorizations': [{'enterprise_id': None, 'team_id': 'T08GLQ3HC07', 'user_id': 'U08H42J6JQ3', 'is_bot': True, 'is_enterprise_install': False}], 'is_ext_shared_channel': False, 'event_context': '4-eyJldCI6Im1lc3NhZ2UiLCJ0aWQiOiJUMDhHTFEzSEMwNyIsImFpZCI6IkEwOEgwQzI2QkVaIiwiY2lkIjoiQzA4SEw5ODRCRVYifQ'}\n",
      "Received Slack event: {'token': 'vcOktFRX27KKXwM6mDwo1R9u', 'team_id': 'T08GLQ3HC07', 'context_team_id': 'T08GLQ3HC07', 'context_enterprise_id': None, 'api_app_id': 'A08H0C26BEZ', 'event': {'user': 'U08GLQ3JKGX', 'type': 'message', 'ts': '1741728708.743579', 'client_msg_id': '89a6b357-1176-418f-a27a-2cd22b4a09b8', 'text': 'Raise an incident with high priority', 'team': 'T08GLQ3HC07', 'thread_ts': '1741728689.680939', 'parent_user_id': 'U08GLQ3JKGX', 'blocks': [{'type': 'rich_text', 'block_id': 'v1USE', 'elements': [{'type': 'rich_text_section', 'elements': [{'type': 'text', 'text': 'Raise an incident with high priority'}]}]}], 'channel': 'C08HL984BEV', 'event_ts': '1741728708.743579', 'channel_type': 'channel'}, 'type': 'event_callback', 'event_id': 'Ev08HBCNQS59', 'event_time': 1741728708, 'authorizations': [{'enterprise_id': None, 'team_id': 'T08GLQ3HC07', 'user_id': 'U08H42J6JQ3', 'is_bot': True, 'is_enterprise_install': False}], 'is_ext_shared_channel': False, 'event_context': '4-eyJldCI6Im1lc3NhZ2UiLCJ0aWQiOiJUMDhHTFEzSEMwNyIsImFpZCI6IkEwOEgwQzI2QkVaIiwiY2lkIjoiQzA4SEw5ODRCRVYifQ'}\n",
      "Entities: [('Raise', 'RAISE_INCIDENT'), ('high', 'SEVERITY')]\n"
     ]
    },
    {
     "name": "stderr",
     "output_type": "stream",
     "text": [
      "127.0.0.1 - - [11/Mar/2025 17:31:50] \"POST /slack/events HTTP/1.1\" 200 -\n",
      "127.0.0.1 - - [11/Mar/2025 17:31:50] \"POST /slack/events HTTP/1.1\" 200 -\n"
     ]
    },
    {
     "name": "stdout",
     "output_type": "stream",
     "text": [
      "Received Slack event: {'token': 'vcOktFRX27KKXwM6mDwo1R9u', 'team_id': 'T08GLQ3HC07', 'context_team_id': 'T08GLQ3HC07', 'context_enterprise_id': None, 'api_app_id': 'A08H0C26BEZ', 'event': {'user': 'U08H42J6JQ3', 'type': 'message', 'ts': '1741728709.985049', 'bot_id': 'B08H42J4LGK', 'app_id': 'A08H0C26BEZ', 'text': '*Incident Raised:* Your incident has been successfully raised and marked as *high* priority. :warning: \\n\\nThe *Site Reliability Engineering (SRE)* team will address it as soon as possible to ensure a swift resolution. :rocket:\\n\\nThank you for your patience!', 'team': 'T08GLQ3HC07', 'bot_profile': {'id': 'B08H42J4LGK', 'deleted': False, 'name': 'ResolveBotAI', 'updated': 1741727901, 'app_id': 'A08H0C26BEZ', 'icons': {'image_36': 'https://avatars.slack-edge.com/2025-03-11/8589372074499_9c606919fdf38cbda995_36.png', 'image_48': 'https://avatars.slack-edge.com/2025-03-11/8589372074499_9c606919fdf38cbda995_48.png', 'image_72': 'https://avatars.slack-edge.com/2025-03-11/8589372074499_9c606919fdf38cbda995_72.png'}, 'team_id': 'T08GLQ3HC07'}, 'thread_ts': '1741728689.680939', 'parent_user_id': 'U08GLQ3JKGX', 'blocks': [{'type': 'rich_text', 'block_id': 'PJI', 'elements': [{'type': 'rich_text_section', 'elements': [{'type': 'text', 'text': 'Incident Raised:', 'style': {'bold': True}}, {'type': 'text', 'text': ' Your incident has been successfully raised and marked as '}, {'type': 'text', 'text': 'high', 'style': {'bold': True}}, {'type': 'text', 'text': ' priority. '}, {'type': 'emoji', 'name': 'warning', 'unicode': '26a0-fe0f'}, {'type': 'text', 'text': ' \\n\\nThe '}, {'type': 'text', 'text': 'Site Reliability Engineering (SRE)', 'style': {'bold': True}}, {'type': 'text', 'text': ' team will address it as soon as possible to ensure a swift resolution. '}, {'type': 'emoji', 'name': 'rocket', 'unicode': '1f680'}, {'type': 'text', 'text': '\\n\\nThank you for your patience!'}]}]}], 'channel': 'C08HL984BEV', 'event_ts': '1741728709.985049', 'channel_type': 'channel'}, 'type': 'event_callback', 'event_id': 'Ev08GUJGARGX', 'event_time': 1741728709, 'authorizations': [{'enterprise_id': None, 'team_id': 'T08GLQ3HC07', 'user_id': 'U08H42J6JQ3', 'is_bot': True, 'is_enterprise_install': False}], 'is_ext_shared_channel': False, 'event_context': '4-eyJldCI6Im1lc3NhZ2UiLCJ0aWQiOiJUMDhHTFEzSEMwNyIsImFpZCI6IkEwOEgwQzI2QkVaIiwiY2lkIjoiQzA4SEw5ODRCRVYifQ'}\n",
      "Received Slack event: {'token': 'vcOktFRX27KKXwM6mDwo1R9u', 'team_id': 'T08GLQ3HC07', 'context_team_id': 'T08GLQ3HC07', 'context_enterprise_id': None, 'api_app_id': 'A08H0C26BEZ', 'event': {'user': 'U08GLQ3JKGX', 'type': 'message', 'ts': '1741728720.151979', 'client_msg_id': '4c17faf3-819a-44b5-b94f-df9542290675', 'text': 'Portal shows customer opted out', 'team': 'T08GLQ3HC07', 'blocks': [{'type': 'rich_text', 'block_id': '+JTTR', 'elements': [{'type': 'rich_text_section', 'elements': [{'type': 'text', 'text': 'Portal shows customer opted out'}]}]}], 'channel': 'C08HL984BEV', 'event_ts': '1741728720.151979', 'channel_type': 'channel'}, 'type': 'event_callback', 'event_id': 'Ev08HBCQC7EX', 'event_time': 1741728720, 'authorizations': [{'enterprise_id': None, 'team_id': 'T08GLQ3HC07', 'user_id': 'U08H42J6JQ3', 'is_bot': True, 'is_enterprise_install': False}], 'is_ext_shared_channel': False, 'event_context': '4-eyJldCI6Im1lc3NhZ2UiLCJ0aWQiOiJUMDhHTFEzSEMwNyIsImFpZCI6IkEwOEgwQzI2QkVaIiwiY2lkIjoiQzA4SEw5ODRCRVYifQ'}\n",
      "Entities: [('out', 'SEVERITY')]\n"
     ]
    },
    {
     "name": "stderr",
     "output_type": "stream",
     "text": [
      "127.0.0.1 - - [11/Mar/2025 17:32:01] \"POST /slack/events HTTP/1.1\" 200 -\n",
      "127.0.0.1 - - [11/Mar/2025 17:32:02] \"POST /slack/events HTTP/1.1\" 200 -\n"
     ]
    },
    {
     "name": "stdout",
     "output_type": "stream",
     "text": [
      "Received Slack event: {'token': 'vcOktFRX27KKXwM6mDwo1R9u', 'team_id': 'T08GLQ3HC07', 'context_team_id': 'T08GLQ3HC07', 'context_enterprise_id': None, 'api_app_id': 'A08H0C26BEZ', 'event': {'user': 'U08H42J6JQ3', 'type': 'message', 'ts': '1741728721.362319', 'bot_id': 'B08H42J4LGK', 'app_id': 'A08H0C26BEZ', 'text': '*Offer Not Displayed:* The offer is not displayed because the customer has opted out of solicitation, making them ineligible for any offers. :x: However, if you are not satisfied with this response, I can escalate the issue by raising an incident so a support representative can review it further. Would you like me to raise it? :raised_hands:', 'team': 'T08GLQ3HC07', 'bot_profile': {'id': 'B08H42J4LGK', 'deleted': False, 'name': 'ResolveBotAI', 'updated': 1741727901, 'app_id': 'A08H0C26BEZ', 'icons': {'image_36': 'https://avatars.slack-edge.com/2025-03-11/8589372074499_9c606919fdf38cbda995_36.png', 'image_48': 'https://avatars.slack-edge.com/2025-03-11/8589372074499_9c606919fdf38cbda995_48.png', 'image_72': 'https://avatars.slack-edge.com/2025-03-11/8589372074499_9c606919fdf38cbda995_72.png'}, 'team_id': 'T08GLQ3HC07'}, 'thread_ts': '1741728720.151979', 'parent_user_id': 'U08GLQ3JKGX', 'blocks': [{'type': 'rich_text', 'block_id': 'LDOte', 'elements': [{'type': 'rich_text_section', 'elements': [{'type': 'text', 'text': 'Offer Not Displayed:', 'style': {'bold': True}}, {'type': 'text', 'text': ' The offer is not displayed because the customer has opted out of solicitation, making them ineligible for any offers. '}, {'type': 'emoji', 'name': 'x', 'unicode': '274c'}, {'type': 'text', 'text': ' However, if you are not satisfied with this response, I can escalate the issue by raising an incident so a support representative can review it further. Would you like me to raise it? '}, {'type': 'emoji', 'name': 'raised_hands', 'unicode': '1f64c'}]}]}], 'channel': 'C08HL984BEV', 'event_ts': '1741728721.362319', 'channel_type': 'channel'}, 'type': 'event_callback', 'event_id': 'Ev08H80NQDUM', 'event_time': 1741728721, 'authorizations': [{'enterprise_id': None, 'team_id': 'T08GLQ3HC07', 'user_id': 'U08H42J6JQ3', 'is_bot': True, 'is_enterprise_install': False}], 'is_ext_shared_channel': False, 'event_context': '4-eyJldCI6Im1lc3NhZ2UiLCJ0aWQiOiJUMDhHTFEzSEMwNyIsImFpZCI6IkEwOEgwQzI2QkVaIiwiY2lkIjoiQzA4SEw5ODRCRVYifQ'}\n",
      "Received Slack event: {'token': 'vcOktFRX27KKXwM6mDwo1R9u', 'team_id': 'T08GLQ3HC07', 'context_team_id': 'T08GLQ3HC07', 'context_enterprise_id': None, 'api_app_id': 'A08H0C26BEZ', 'event': {'user': 'U08GLQ3JKGX', 'type': 'message', 'ts': '1741728736.733789', 'client_msg_id': 'b0cc3e6e-9003-47db-8f07-8bfd7477953e', 'text': 'I am getting ID access', 'team': 'T08GLQ3HC07', 'blocks': [{'type': 'rich_text', 'block_id': 'Qwfud', 'elements': [{'type': 'rich_text_section', 'elements': [{'type': 'text', 'text': 'I am getting ID access'}]}]}], 'channel': 'C08HL984BEV', 'event_ts': '1741728736.733789', 'channel_type': 'channel'}, 'type': 'event_callback', 'event_id': 'Ev08H80Q3JMT', 'event_time': 1741728736, 'authorizations': [{'enterprise_id': None, 'team_id': 'T08GLQ3HC07', 'user_id': 'U08H42J6JQ3', 'is_bot': True, 'is_enterprise_install': False}], 'is_ext_shared_channel': False, 'event_context': '4-eyJldCI6Im1lc3NhZ2UiLCJ0aWQiOiJUMDhHTFEzSEMwNyIsImFpZCI6IkEwOEgwQzI2QkVaIiwiY2lkIjoiQzA4SEw5ODRCRVYifQ'}\n",
      "Entities: [('I', 'RAISE_INCIDENT')]\n"
     ]
    },
    {
     "name": "stderr",
     "output_type": "stream",
     "text": [
      "127.0.0.1 - - [11/Mar/2025 17:32:18] \"POST /slack/events HTTP/1.1\" 200 -\n",
      "127.0.0.1 - - [11/Mar/2025 17:32:19] \"POST /slack/events HTTP/1.1\" 200 -\n"
     ]
    },
    {
     "name": "stdout",
     "output_type": "stream",
     "text": [
      "Received Slack event: {'token': 'vcOktFRX27KKXwM6mDwo1R9u', 'team_id': 'T08GLQ3HC07', 'context_team_id': 'T08GLQ3HC07', 'context_enterprise_id': None, 'api_app_id': 'A08H0C26BEZ', 'event': {'user': 'U08H42J6JQ3', 'type': 'message', 'ts': '1741728737.892799', 'bot_id': 'B08H42J4LGK', 'app_id': 'A08H0C26BEZ', 'text': \"*Access Issue:* The Customer Care Professional doesn't have the required access to manage the offer. To enable the user to service the offer, an access request needs to be raised. :lock: Would you like me to initiate the request for you? :bar_chart:\", 'team': 'T08GLQ3HC07', 'bot_profile': {'id': 'B08H42J4LGK', 'deleted': False, 'name': 'ResolveBotAI', 'updated': 1741727901, 'app_id': 'A08H0C26BEZ', 'icons': {'image_36': 'https://avatars.slack-edge.com/2025-03-11/8589372074499_9c606919fdf38cbda995_36.png', 'image_48': 'https://avatars.slack-edge.com/2025-03-11/8589372074499_9c606919fdf38cbda995_48.png', 'image_72': 'https://avatars.slack-edge.com/2025-03-11/8589372074499_9c606919fdf38cbda995_72.png'}, 'team_id': 'T08GLQ3HC07'}, 'thread_ts': '1741728736.733789', 'parent_user_id': 'U08GLQ3JKGX', 'blocks': [{'type': 'rich_text', 'block_id': 'UTz', 'elements': [{'type': 'rich_text_section', 'elements': [{'type': 'text', 'text': 'Access Issue:', 'style': {'bold': True}}, {'type': 'text', 'text': \" The Customer Care Professional doesn't have the required access to manage the offer. To enable the user to service the offer, an access request needs to be raised. \"}, {'type': 'emoji', 'name': 'lock', 'unicode': '1f512'}, {'type': 'text', 'text': ' Would you like me to initiate the request for you? '}, {'type': 'emoji', 'name': 'bar_chart', 'unicode': '1f4ca'}]}]}], 'channel': 'C08HL984BEV', 'event_ts': '1741728737.892799', 'channel_type': 'channel'}, 'type': 'event_callback', 'event_id': 'Ev08H2TZ0R1C', 'event_time': 1741728737, 'authorizations': [{'enterprise_id': None, 'team_id': 'T08GLQ3HC07', 'user_id': 'U08H42J6JQ3', 'is_bot': True, 'is_enterprise_install': False}], 'is_ext_shared_channel': False, 'event_context': '4-eyJldCI6Im1lc3NhZ2UiLCJ0aWQiOiJUMDhHTFEzSEMwNyIsImFpZCI6IkEwOEgwQzI2QkVaIiwiY2lkIjoiQzA4SEw5ODRCRVYifQ'}\n",
      "Received Slack event: {'token': 'vcOktFRX27KKXwM6mDwo1R9u', 'team_id': 'T08GLQ3HC07', 'context_team_id': 'T08GLQ3HC07', 'context_enterprise_id': None, 'api_app_id': 'A08H0C26BEZ', 'event': {'user': 'U08GLQ3JKGX', 'type': 'message', 'ts': '1741728752.769239', 'client_msg_id': '969554fd-df47-4949-918a-199dd944c752', 'text': 'Portal not working', 'team': 'T08GLQ3HC07', 'blocks': [{'type': 'rich_text', 'block_id': 'Ae/Lo', 'elements': [{'type': 'rich_text_section', 'elements': [{'type': 'text', 'text': 'Portal not working'}]}]}], 'channel': 'C08HL984BEV', 'event_ts': '1741728752.769239', 'channel_type': 'channel'}, 'type': 'event_callback', 'event_id': 'Ev08HD8QFNQL', 'event_time': 1741728752, 'authorizations': [{'enterprise_id': None, 'team_id': 'T08GLQ3HC07', 'user_id': 'U08H42J6JQ3', 'is_bot': True, 'is_enterprise_install': False}], 'is_ext_shared_channel': False, 'event_context': '4-eyJldCI6Im1lc3NhZ2UiLCJ0aWQiOiJUMDhHTFEzSEMwNyIsImFpZCI6IkEwOEgwQzI2QkVaIiwiY2lkIjoiQzA4SEw5ODRCRVYifQ'}\n",
      "Entities: [('not', 'SEVERITY')]\n"
     ]
    },
    {
     "name": "stderr",
     "output_type": "stream",
     "text": [
      "127.0.0.1 - - [11/Mar/2025 17:32:35] \"POST /slack/events HTTP/1.1\" 200 -\n",
      "127.0.0.1 - - [11/Mar/2025 17:32:36] \"POST /slack/events HTTP/1.1\" 200 -\n"
     ]
    },
    {
     "name": "stdout",
     "output_type": "stream",
     "text": [
      "Received Slack event: {'token': 'vcOktFRX27KKXwM6mDwo1R9u', 'team_id': 'T08GLQ3HC07', 'context_team_id': 'T08GLQ3HC07', 'context_enterprise_id': None, 'api_app_id': 'A08H0C26BEZ', 'event': {'user': 'U08H42J6JQ3', 'type': 'message', 'ts': '1741728754.702179', 'bot_id': 'B08H42J4LGK', 'app_id': 'A08H0C26BEZ', 'text': \"*Sorry, I couldn't determine the issue:* I'm unable to determine the issue from your message. Could you please provide more details or clarify the problem? :thinking_face: If needed, I can escalate this to a support team member for further assistance. :telephone_receiver:\", 'team': 'T08GLQ3HC07', 'bot_profile': {'id': 'B08H42J4LGK', 'deleted': False, 'name': 'ResolveBotAI', 'updated': 1741727901, 'app_id': 'A08H0C26BEZ', 'icons': {'image_36': 'https://avatars.slack-edge.com/2025-03-11/8589372074499_9c606919fdf38cbda995_36.png', 'image_48': 'https://avatars.slack-edge.com/2025-03-11/8589372074499_9c606919fdf38cbda995_48.png', 'image_72': 'https://avatars.slack-edge.com/2025-03-11/8589372074499_9c606919fdf38cbda995_72.png'}, 'team_id': 'T08GLQ3HC07'}, 'thread_ts': '1741728752.769239', 'parent_user_id': 'U08GLQ3JKGX', 'blocks': [{'type': 'rich_text', 'block_id': '6QWTh', 'elements': [{'type': 'rich_text_section', 'elements': [{'type': 'text', 'text': \"Sorry, I couldn't determine the issue:\", 'style': {'bold': True}}, {'type': 'text', 'text': \" I'm unable to determine the issue from your message. Could you please provide more details or clarify the problem? \"}, {'type': 'emoji', 'name': 'thinking_face', 'unicode': '1f914'}, {'type': 'text', 'text': ' If needed, I can escalate this to a support team member for further assistance. '}, {'type': 'emoji', 'name': 'telephone_receiver', 'unicode': '1f4de'}]}]}], 'channel': 'C08HL984BEV', 'event_ts': '1741728754.702179', 'channel_type': 'channel'}, 'type': 'event_callback', 'event_id': 'Ev08H80RK5U5', 'event_time': 1741728754, 'authorizations': [{'enterprise_id': None, 'team_id': 'T08GLQ3HC07', 'user_id': 'U08H42J6JQ3', 'is_bot': True, 'is_enterprise_install': False}], 'is_ext_shared_channel': False, 'event_context': '4-eyJldCI6Im1lc3NhZ2UiLCJ0aWQiOiJUMDhHTFEzSEMwNyIsImFpZCI6IkEwOEgwQzI2QkVaIiwiY2lkIjoiQzA4SEw5ODRCRVYifQ'}\n"
     ]
    }
   ],
   "source": [
    "from flask import Flask, request, jsonify\n",
    "from flask_cors import CORS  # Import CORS\n",
    "import joblib\n",
    "import spacy\n",
    "\n",
    "# Create your Flask app\n",
    "app = Flask(__name__)\n",
    "\n",
    "# Enable CORS for all routes in the app\n",
    "CORS(app)  # This will allow requests from any domain to interact with the Flask server\n",
    "\n",
    "slack_model = joblib.load('slack_issue_resolution_model.pkl')\n",
    "nlp = spacy.load(\"en_core_web_lg\")\n",
    "\n",
    "nlp_ner = spacy.load(\"custom_ner_model\")\n",
    "\n",
    "@app.route(\"/slack/events\", methods=[\"POST\"])\n",
    "def slack_events():\n",
    "    data = request.json\n",
    "    print(\"Received Slack event:\", data)\n",
    "\n",
    "        # Handle Slack URL verification\n",
    "    if \"type\" in data and data[\"type\"] == \"url_verification\":\n",
    "        return jsonify({\"challenge\": data[\"challenge\"]})\n",
    "\n",
    "      # Process incoming messages\n",
    "    if \"event\" in data:\n",
    "        event = data[\"event\"]\n",
    "        \n",
    "        # Ignore bot messages to prevent infinite loops\n",
    "        if event.get(\"bot_id\") is not None:\n",
    "            return jsonify({\"status\": \"ignored\", \"reason\": \"Bot message\"})\n",
    "        # Process incoming messages\n",
    "        \n",
    "        if \"type\" in event and event[\"type\"] == \"message\" and \"text\" in event:\n",
    "            user_message = event[\"text\"]\n",
    "            channel_id = event[\"channel\"]\n",
    "            thread_ts = event.get(\"thread_ts\", event[\"ts\"])  # Use the thread_ts if exists, else use the message's ts\n",
    "\n",
    "            # Process message with NER model\n",
    "            doc = nlp_ner(user_message)\n",
    "            entities = {ent.label_: ent.text for ent in doc.ents}\n",
    "            print(\"Entities:\", [(ent.text, ent.label_) for ent in doc.ents])\n",
    "\n",
    "            if \"RAISE_INCIDENT\" in entities and \"SEVERITY\" in entities:\n",
    "                response_text = f\"*Incident Raised:* Your incident has been successfully raised and marked as *{entities['SEVERITY']}* priority. :warning: \\n\\nThe *Site Reliability Engineering (SRE)* team will address it as soon as possible to ensure a swift resolution. :rocket:\\n\\nThank you for your patience!\"\n",
    "                send_message_to_slack(channel_id, response_text, thread_ts)\n",
    "            else:\n",
    "                # Preprocess message using SpaCy\n",
    "                vectorized_message = nlp(user_message).vector.reshape(1, -1)\n",
    "                # Predict issue category\n",
    "                predicted_category = slack_model.predict(vectorized_message)[0]\n",
    "                # Map category ID to resolution\n",
    "                category_resolutions = {\n",
    "                    0: \"*Sorry, I couldn't determine the issue:* I'm unable to determine the issue from your message. Could you please provide more details or clarify the problem? :thinking_face: If needed, I can escalate this to a support team member for further assistance. :telephone_receiver:\",\n",
    "                    1: \"*Offer Not Displayed:* The offer is not displayed because the customer has opted out of solicitation, making them ineligible for any offers. :x: However, if you are not satisfied with this response, I can escalate the issue by raising an incident so a support representative can review it further. Would you like me to raise it? :raised_hands:\",\n",
    "                    2: \"*Access Issue:* The Customer Care Professional doesn't have the required access to manage the offer. To enable the user to service the offer, an access request needs to be raised. :lock: Would you like me to initiate the request for you? :bar_chart:\"\n",
    "                }\n",
    "                resolution = category_resolutions.get(predicted_category, \"No resolution found.\")\n",
    "                # Send response back to Slack\n",
    "                send_message_to_slack(channel_id, resolution, thread_ts)\n",
    "        return jsonify({\"status\": \"error\", \"message\": \"Event processed\"})\n",
    "\n",
    "# Function to send message back to Slack\n",
    "def send_message_to_slack(channel, text, thread_ts):\n",
    "    import requests\n",
    "    SLACK_BOT_TOKEN = \"\"  # Replace with your bot token\n",
    "    url = \"https://slack.com/api/chat.postMessage\"\n",
    "    headers = {\"Authorization\": f\"Bearer {SLACK_BOT_TOKEN}\", \"Content-Type\": \"application/json\"}\n",
    "    data = {\"channel\": channel, \"text\": text, \"thread_ts\": thread_ts, \"username\": \"ResolveBotAI\", \"icon_emoji\": \":robot_face:\"}\n",
    "    requests.post(url, headers=headers, json=data)\n",
    "        \n",
    "\n",
    "if __name__ == \"__main__\":\n",
    "    app.run(port=5001)\n"
   ]
  },
  {
   "cell_type": "code",
   "execution_count": null,
   "id": "5ed71db6-5488-41ea-be15-8a93cd0aae52",
   "metadata": {},
   "outputs": [],
   "source": []
  }
 ],
 "metadata": {
  "kernelspec": {
   "display_name": "Python 3 (ipykernel)",
   "language": "python",
   "name": "python3"
  },
  "language_info": {
   "codemirror_mode": {
    "name": "ipython",
    "version": 3
   },
   "file_extension": ".py",
   "mimetype": "text/x-python",
   "name": "python",
   "nbconvert_exporter": "python",
   "pygments_lexer": "ipython3",
   "version": "3.10.11"
  }
 },
 "nbformat": 4,
 "nbformat_minor": 5
}
